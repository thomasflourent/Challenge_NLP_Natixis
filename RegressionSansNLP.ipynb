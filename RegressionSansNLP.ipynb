{
 "cells": [
  {
   "cell_type": "code",
   "execution_count": 57,
   "metadata": {},
   "outputs": [],
   "source": [
    "import pandas as pd\n",
    "import numpy as np\n",
    "from catboost import CatBoostRegressor\n",
    "from sklearn.model_selection import train_test_split"
   ]
  },
  {
   "cell_type": "code",
   "execution_count": 58,
   "metadata": {},
   "outputs": [
    {
     "data": {
      "text/plain": [
       "0      -0.000255\n",
       "1       0.002552\n",
       "2       0.000964\n",
       "3       0.000405\n",
       "4      -0.001619\n",
       "          ...   \n",
       "8941   -0.000073\n",
       "8942    0.002533\n",
       "8943    0.005476\n",
       "8944    0.004484\n",
       "8945   -0.001472\n",
       "Name: regression, Length: 8946, dtype: float64"
      ]
     },
     "execution_count": 58,
     "metadata": {},
     "output_type": "execute_result"
    }
   ],
   "source": [
    "ybas = pd.read_csv('./data/res_baseline.csv', sep=\",\", index_col=0)\n",
    "ybas = ybas['regression']\n",
    "ybas"
   ]
  },
  {
   "cell_type": "code",
   "execution_count": 59,
   "metadata": {},
   "outputs": [],
   "source": [
    "data = pd.read_csv('./data/train_series.csv', sep=\",\", index_col=0)"
   ]
  },
  {
   "cell_type": "code",
   "execution_count": 60,
   "metadata": {},
   "outputs": [
    {
     "data": {
      "text/html": [
       "<div>\n",
       "<style scoped>\n",
       "    .dataframe tbody tr th:only-of-type {\n",
       "        vertical-align: middle;\n",
       "    }\n",
       "\n",
       "    .dataframe tbody tr th {\n",
       "        vertical-align: top;\n",
       "    }\n",
       "\n",
       "    .dataframe thead th {\n",
       "        text-align: right;\n",
       "    }\n",
       "</style>\n",
       "<table border=\"1\" class=\"dataframe\">\n",
       "  <thead>\n",
       "    <tr style=\"text-align: right;\">\n",
       "      <th></th>\n",
       "      <th>Index Name</th>\n",
       "      <th>Index - 9</th>\n",
       "      <th>Index - 8</th>\n",
       "      <th>Index - 7</th>\n",
       "      <th>Index - 6</th>\n",
       "      <th>Index - 5</th>\n",
       "      <th>Index - 4</th>\n",
       "      <th>Index - 3</th>\n",
       "      <th>Index - 2</th>\n",
       "      <th>Index - 1</th>\n",
       "      <th>Index - 0</th>\n",
       "      <th>index ecb</th>\n",
       "      <th>index fed</th>\n",
       "      <th>Index + 1</th>\n",
       "    </tr>\n",
       "  </thead>\n",
       "  <tbody>\n",
       "    <tr>\n",
       "      <th>0</th>\n",
       "      <td>V2X Index</td>\n",
       "      <td>0.001045</td>\n",
       "      <td>0.005841</td>\n",
       "      <td>0.003832</td>\n",
       "      <td>-0.027519</td>\n",
       "      <td>-0.103565</td>\n",
       "      <td>-0.045086</td>\n",
       "      <td>-0.011265</td>\n",
       "      <td>0.005164</td>\n",
       "      <td>0.054050</td>\n",
       "      <td>0.015779</td>\n",
       "      <td>1126,1471</td>\n",
       "      <td>96</td>\n",
       "      <td>0.010597</td>\n",
       "    </tr>\n",
       "    <tr>\n",
       "      <th>1</th>\n",
       "      <td>MOVE Index</td>\n",
       "      <td>-0.021497</td>\n",
       "      <td>0.007891</td>\n",
       "      <td>-0.013175</td>\n",
       "      <td>-0.008436</td>\n",
       "      <td>0.000000</td>\n",
       "      <td>0.026303</td>\n",
       "      <td>0.000556</td>\n",
       "      <td>0.001455</td>\n",
       "      <td>0.007422</td>\n",
       "      <td>0.000000</td>\n",
       "      <td>975</td>\n",
       "      <td>568</td>\n",
       "      <td>0.014492</td>\n",
       "    </tr>\n",
       "    <tr>\n",
       "      <th>2</th>\n",
       "      <td>SPX Index</td>\n",
       "      <td>-0.001872</td>\n",
       "      <td>-0.008154</td>\n",
       "      <td>0.023588</td>\n",
       "      <td>0.004086</td>\n",
       "      <td>0.003493</td>\n",
       "      <td>0.003300</td>\n",
       "      <td>0.000885</td>\n",
       "      <td>-0.011304</td>\n",
       "      <td>0.005040</td>\n",
       "      <td>0.000156</td>\n",
       "      <td>78,806</td>\n",
       "      <td>328,695</td>\n",
       "      <td>0.016263</td>\n",
       "    </tr>\n",
       "    <tr>\n",
       "      <th>3</th>\n",
       "      <td>SPX Index</td>\n",
       "      <td>0.004980</td>\n",
       "      <td>-0.000864</td>\n",
       "      <td>0.001677</td>\n",
       "      <td>0.000000</td>\n",
       "      <td>0.006030</td>\n",
       "      <td>-0.001083</td>\n",
       "      <td>0.000419</td>\n",
       "      <td>0.001492</td>\n",
       "      <td>0.001018</td>\n",
       "      <td>-0.002582</td>\n",
       "      <td>560,1405</td>\n",
       "      <td>118</td>\n",
       "      <td>0.013581</td>\n",
       "    </tr>\n",
       "    <tr>\n",
       "      <th>4</th>\n",
       "      <td>EURUSD Curncy</td>\n",
       "      <td>0.000360</td>\n",
       "      <td>-0.001893</td>\n",
       "      <td>0.005579</td>\n",
       "      <td>-0.003056</td>\n",
       "      <td>-0.001171</td>\n",
       "      <td>-0.001623</td>\n",
       "      <td>-0.002350</td>\n",
       "      <td>-0.006444</td>\n",
       "      <td>-0.000729</td>\n",
       "      <td>-0.000365</td>\n",
       "      <td>404</td>\n",
       "      <td>261</td>\n",
       "      <td>0.005092</td>\n",
       "    </tr>\n",
       "    <tr>\n",
       "      <th>...</th>\n",
       "      <td>...</td>\n",
       "      <td>...</td>\n",
       "      <td>...</td>\n",
       "      <td>...</td>\n",
       "      <td>...</td>\n",
       "      <td>...</td>\n",
       "      <td>...</td>\n",
       "      <td>...</td>\n",
       "      <td>...</td>\n",
       "      <td>...</td>\n",
       "      <td>...</td>\n",
       "      <td>...</td>\n",
       "      <td>...</td>\n",
       "      <td>...</td>\n",
       "    </tr>\n",
       "    <tr>\n",
       "      <th>8941</th>\n",
       "      <td>SPX Index</td>\n",
       "      <td>-0.002045</td>\n",
       "      <td>-0.003642</td>\n",
       "      <td>0.008096</td>\n",
       "      <td>0.004949</td>\n",
       "      <td>-0.001264</td>\n",
       "      <td>0.000150</td>\n",
       "      <td>0.002482</td>\n",
       "      <td>0.000000</td>\n",
       "      <td>-0.000786</td>\n",
       "      <td>-0.002723</td>\n",
       "      <td>294</td>\n",
       "      <td>195</td>\n",
       "      <td>-0.003198</td>\n",
       "    </tr>\n",
       "    <tr>\n",
       "      <th>8942</th>\n",
       "      <td>SX5E Index</td>\n",
       "      <td>-0.027361</td>\n",
       "      <td>0.094386</td>\n",
       "      <td>0.002350</td>\n",
       "      <td>-0.005076</td>\n",
       "      <td>0.022555</td>\n",
       "      <td>0.000963</td>\n",
       "      <td>-0.060170</td>\n",
       "      <td>0.028323</td>\n",
       "      <td>0.006516</td>\n",
       "      <td>-0.000338</td>\n",
       "      <td>277</td>\n",
       "      <td>199,372</td>\n",
       "      <td>-0.050491</td>\n",
       "    </tr>\n",
       "    <tr>\n",
       "      <th>8943</th>\n",
       "      <td>SX5E Index</td>\n",
       "      <td>-0.008359</td>\n",
       "      <td>0.021658</td>\n",
       "      <td>-0.015986</td>\n",
       "      <td>-0.023528</td>\n",
       "      <td>0.020072</td>\n",
       "      <td>0.017822</td>\n",
       "      <td>0.005648</td>\n",
       "      <td>0.017045</td>\n",
       "      <td>0.008557</td>\n",
       "      <td>-0.003072</td>\n",
       "      <td>78,806</td>\n",
       "      <td>99,625</td>\n",
       "      <td>0.008092</td>\n",
       "    </tr>\n",
       "    <tr>\n",
       "      <th>8944</th>\n",
       "      <td>SRVIX Index</td>\n",
       "      <td>0.011945</td>\n",
       "      <td>0.002567</td>\n",
       "      <td>0.000000</td>\n",
       "      <td>0.005115</td>\n",
       "      <td>0.000364</td>\n",
       "      <td>0.003999</td>\n",
       "      <td>0.012978</td>\n",
       "      <td>0.012458</td>\n",
       "      <td>-0.006032</td>\n",
       "      <td>0.005088</td>\n",
       "      <td>1660,20</td>\n",
       "      <td>79</td>\n",
       "      <td>-0.003784</td>\n",
       "    </tr>\n",
       "    <tr>\n",
       "      <th>8945</th>\n",
       "      <td>EURUSD Curncy</td>\n",
       "      <td>-0.001393</td>\n",
       "      <td>-0.001085</td>\n",
       "      <td>0.002864</td>\n",
       "      <td>0.001853</td>\n",
       "      <td>-0.002394</td>\n",
       "      <td>0.002549</td>\n",
       "      <td>-0.001080</td>\n",
       "      <td>-0.002164</td>\n",
       "      <td>-0.007300</td>\n",
       "      <td>0.000234</td>\n",
       "      <td>755</td>\n",
       "      <td>255</td>\n",
       "      <td>0.001246</td>\n",
       "    </tr>\n",
       "  </tbody>\n",
       "</table>\n",
       "<p>8946 rows × 14 columns</p>\n",
       "</div>"
      ],
      "text/plain": [
       "         Index Name  Index - 9  Index - 8  Index - 7  Index - 6  Index - 5  \\\n",
       "0         V2X Index   0.001045   0.005841   0.003832  -0.027519  -0.103565   \n",
       "1        MOVE Index  -0.021497   0.007891  -0.013175  -0.008436   0.000000   \n",
       "2         SPX Index  -0.001872  -0.008154   0.023588   0.004086   0.003493   \n",
       "3         SPX Index   0.004980  -0.000864   0.001677   0.000000   0.006030   \n",
       "4     EURUSD Curncy   0.000360  -0.001893   0.005579  -0.003056  -0.001171   \n",
       "...             ...        ...        ...        ...        ...        ...   \n",
       "8941      SPX Index  -0.002045  -0.003642   0.008096   0.004949  -0.001264   \n",
       "8942     SX5E Index  -0.027361   0.094386   0.002350  -0.005076   0.022555   \n",
       "8943     SX5E Index  -0.008359   0.021658  -0.015986  -0.023528   0.020072   \n",
       "8944    SRVIX Index   0.011945   0.002567   0.000000   0.005115   0.000364   \n",
       "8945  EURUSD Curncy  -0.001393  -0.001085   0.002864   0.001853  -0.002394   \n",
       "\n",
       "      Index - 4  Index - 3  Index - 2  Index - 1  Index - 0  index ecb  \\\n",
       "0     -0.045086  -0.011265   0.005164   0.054050   0.015779  1126,1471   \n",
       "1      0.026303   0.000556   0.001455   0.007422   0.000000        975   \n",
       "2      0.003300   0.000885  -0.011304   0.005040   0.000156     78,806   \n",
       "3     -0.001083   0.000419   0.001492   0.001018  -0.002582   560,1405   \n",
       "4     -0.001623  -0.002350  -0.006444  -0.000729  -0.000365        404   \n",
       "...         ...        ...        ...        ...        ...        ...   \n",
       "8941   0.000150   0.002482   0.000000  -0.000786  -0.002723        294   \n",
       "8942   0.000963  -0.060170   0.028323   0.006516  -0.000338        277   \n",
       "8943   0.017822   0.005648   0.017045   0.008557  -0.003072     78,806   \n",
       "8944   0.003999   0.012978   0.012458  -0.006032   0.005088    1660,20   \n",
       "8945   0.002549  -0.001080  -0.002164  -0.007300   0.000234        755   \n",
       "\n",
       "     index fed  Index + 1  \n",
       "0           96   0.010597  \n",
       "1          568   0.014492  \n",
       "2      328,695   0.016263  \n",
       "3          118   0.013581  \n",
       "4          261   0.005092  \n",
       "...        ...        ...  \n",
       "8941       195  -0.003198  \n",
       "8942   199,372  -0.050491  \n",
       "8943    99,625   0.008092  \n",
       "8944        79  -0.003784  \n",
       "8945       255   0.001246  \n",
       "\n",
       "[8946 rows x 14 columns]"
      ]
     },
     "execution_count": 60,
     "metadata": {},
     "output_type": "execute_result"
    }
   ],
   "source": [
    "data"
   ]
  },
  {
   "cell_type": "code",
   "execution_count": 61,
   "metadata": {},
   "outputs": [
    {
     "data": {
      "text/plain": [
       "0       0.010597\n",
       "1       0.014492\n",
       "2       0.016263\n",
       "3       0.013581\n",
       "4       0.005092\n",
       "          ...   \n",
       "8941   -0.003198\n",
       "8942   -0.050491\n",
       "8943    0.008092\n",
       "8944   -0.003784\n",
       "8945    0.001246\n",
       "Name: Index + 1, Length: 8946, dtype: float64"
      ]
     },
     "execution_count": 61,
     "metadata": {},
     "output_type": "execute_result"
    }
   ],
   "source": [
    "X = data.drop(columns=['Index + 1', 'Index Name', 'index ecb', 'index fed'])\n",
    "y = data['Index + 1']\n",
    "y"
   ]
  },
  {
   "cell_type": "code",
   "execution_count": 62,
   "metadata": {},
   "outputs": [],
   "source": [
    "X_train, X_test, y_train, y_test = train_test_split(X, y, random_state=42)"
   ]
  },
  {
   "cell_type": "code",
   "execution_count": 63,
   "metadata": {},
   "outputs": [
    {
     "name": "stdout",
     "output_type": "stream",
     "text": [
      "<class 'pandas.core.frame.DataFrame'>\n",
      "Int64Index: 6709 entries, 8582 to 7270\n",
      "Data columns (total 10 columns):\n",
      " #   Column     Non-Null Count  Dtype  \n",
      "---  ------     --------------  -----  \n",
      " 0   Index - 9  6709 non-null   float64\n",
      " 1   Index - 8  6709 non-null   float64\n",
      " 2   Index - 7  6709 non-null   float64\n",
      " 3   Index - 6  6709 non-null   float64\n",
      " 4   Index - 5  6709 non-null   float64\n",
      " 5   Index - 4  6709 non-null   float64\n",
      " 6   Index - 3  6709 non-null   float64\n",
      " 7   Index - 2  6709 non-null   float64\n",
      " 8   Index - 1  6709 non-null   float64\n",
      " 9   Index - 0  6709 non-null   float64\n",
      "dtypes: float64(10)\n",
      "memory usage: 576.6 KB\n"
     ]
    }
   ],
   "source": [
    "X_train.info()"
   ]
  },
  {
   "cell_type": "code",
   "execution_count": 64,
   "metadata": {},
   "outputs": [
    {
     "name": "stdout",
     "output_type": "stream",
     "text": [
      "0:\tlearn: 0.0414281\ttest: 0.0386574\tbest: 0.0386574 (0)\ttotal: 10.5ms\tremaining: 5.22s\n",
      "50:\tlearn: 0.0408330\ttest: 0.0386281\tbest: 0.0386227 (46)\ttotal: 83.2ms\tremaining: 733ms\n",
      "100:\tlearn: 0.0403505\ttest: 0.0386388\tbest: 0.0386227 (46)\ttotal: 148ms\tremaining: 584ms\n",
      "150:\tlearn: 0.0398669\ttest: 0.0386326\tbest: 0.0386227 (46)\ttotal: 201ms\tremaining: 464ms\n",
      "200:\tlearn: 0.0393904\ttest: 0.0386306\tbest: 0.0386197 (181)\ttotal: 258ms\tremaining: 384ms\n",
      "250:\tlearn: 0.0389626\ttest: 0.0386437\tbest: 0.0386197 (181)\ttotal: 307ms\tremaining: 305ms\n",
      "300:\tlearn: 0.0385724\ttest: 0.0386604\tbest: 0.0386197 (181)\ttotal: 357ms\tremaining: 236ms\n",
      "350:\tlearn: 0.0381977\ttest: 0.0386909\tbest: 0.0386197 (181)\ttotal: 406ms\tremaining: 172ms\n",
      "400:\tlearn: 0.0378195\ttest: 0.0387043\tbest: 0.0386197 (181)\ttotal: 453ms\tremaining: 112ms\n",
      "450:\tlearn: 0.0374478\ttest: 0.0387071\tbest: 0.0386197 (181)\ttotal: 503ms\tremaining: 54.6ms\n",
      "499:\tlearn: 0.0371258\ttest: 0.0387000\tbest: 0.0386197 (181)\ttotal: 553ms\tremaining: 0us\n",
      "\n",
      "bestTest = 0.03861974672\n",
      "bestIteration = 181\n",
      "\n",
      "Shrink model to first 182 iterations.\n"
     ]
    },
    {
     "data": {
      "text/plain": [
       "<catboost.core.CatBoostRegressor at 0x2ac4a9b65b0>"
      ]
     },
     "execution_count": 64,
     "metadata": {},
     "output_type": "execute_result"
    }
   ],
   "source": [
    "cat = CatBoostRegressor(\n",
    "    iterations=500,\n",
    "    learning_rate=0.01,\n",
    "    loss_function='RMSE',\n",
    "    logging_level='Verbose',\n",
    "    allow_writing_files=False\n",
    ")\n",
    "cat.fit(\n",
    "    X=X_train,\n",
    "    y=y_train,\n",
    "    eval_set=(X_test,y_test),\n",
    "    verbose = 50\n",
    ")"
   ]
  },
  {
   "cell_type": "code",
   "execution_count": 65,
   "metadata": {},
   "outputs": [],
   "source": [
    "yp = cat.predict(X_test)"
   ]
  },
  {
   "cell_type": "code",
   "execution_count": 66,
   "metadata": {},
   "outputs": [
    {
     "data": {
      "text/plain": [
       "array([ 3.02089845e-04,  3.72885359e-04,  4.42466528e-03, ...,\n",
       "        2.14265736e-03, -6.37743022e-05,  3.95447003e-04])"
      ]
     },
     "execution_count": 66,
     "metadata": {},
     "output_type": "execute_result"
    }
   ],
   "source": [
    "test = pd.merge(y_test, ybas, left_index=True, right_index=True)\n",
    "yt = test['Index + 1'].to_numpy()\n",
    "yb = test['regression'].to_numpy()\n",
    "yp"
   ]
  },
  {
   "cell_type": "code",
   "execution_count": 68,
   "metadata": {},
   "outputs": [
    {
     "name": "stdout",
     "output_type": "stream",
     "text": [
      "0.0014914848303808216\n",
      "0.0017258538986436834\n",
      "0.021509464771847668\n",
      "0.02342915025726868\n"
     ]
    }
   ],
   "source": [
    "from sklearn.metrics import mean_squared_error, mean_absolute_error\n",
    "print(mean_squared_error(yp, yt))\n",
    "print(mean_squared_error(yb, yt))\n",
    "print(mean_absolute_error(yp, yt))\n",
    "print(mean_absolute_error(yb, yt))"
   ]
  },
  {
   "cell_type": "code",
   "execution_count": null,
   "metadata": {},
   "outputs": [],
   "source": [
    "print('MSE : ', mean_squared_error(yp, yt))\n",
    "print('MAE : ', mean_absolute_error(yb, yt))"
   ]
  }
 ],
 "metadata": {
  "kernelspec": {
   "display_name": "NDC39",
   "language": "python",
   "name": "python3"
  },
  "language_info": {
   "codemirror_mode": {
    "name": "ipython",
    "version": 3
   },
   "file_extension": ".py",
   "mimetype": "text/x-python",
   "name": "python",
   "nbconvert_exporter": "python",
   "pygments_lexer": "ipython3",
   "version": "3.9.16"
  },
  "orig_nbformat": 4
 },
 "nbformat": 4,
 "nbformat_minor": 2
}
