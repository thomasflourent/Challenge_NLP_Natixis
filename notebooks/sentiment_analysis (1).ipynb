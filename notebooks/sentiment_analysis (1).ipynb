{
  "cells": [
    {
      "cell_type": "code",
      "execution_count": 10,
      "metadata": {
        "colab": {
          "base_uri": "https://localhost:8080/"
        },
        "id": "lsbG0LyatfnW",
        "outputId": "2ece8383-626c-47f0-881f-21971f3ba4b7"
      },
      "outputs": [
        {
          "output_type": "stream",
          "name": "stdout",
          "text": [
            "2.0.0\n"
          ]
        }
      ],
      "source": [
        "import pandas as pd\n",
        "print(pd.__version__)\n",
        "#!pip install --upgrade pandas"
      ]
    },
    {
      "cell_type": "code",
      "execution_count": 11,
      "metadata": {
        "id": "RuVtYk5AnSqS"
      },
      "outputs": [],
      "source": [
        "%reload_ext autoreload\n",
        "%autoreload 2"
      ]
    },
    {
      "cell_type": "code",
      "execution_count": 12,
      "metadata": {
        "id": "oj1JcnagoSed"
      },
      "outputs": [],
      "source": [
        "from collections import Counter, OrderedDict\n",
        "from nltk.tokenize import word_tokenize\n",
        "import numpy as np\n",
        "from tqdm import tqdm\n",
        "\n",
        "\n",
        "def vocabulary(corpus, voc_threshold=0):\n",
        "    \"\"\"\n",
        "    Function using word counts to build a vocabulary - can be improved with a second parameter for\n",
        "    setting a frequency threshold\n",
        "    Params:\n",
        "        corpus (list of list of strings): corpus of sentences\n",
        "        voc_threshold (int): maximum size of the vocabulary (0 means no limit !)\n",
        "    Returns:\n",
        "        vocabulary (dictionary): keys: list of distinct words across the corpus\n",
        "                                 values: indexes corresponding to each word sorted by frequency\n",
        "    \"\"\"\n",
        "    # Setting limits\n",
        "    voc_threshold = voc_threshold if voc_threshold else int(10e5)\n",
        "\n",
        "    # Count each words of our corpus\n",
        "    word_counts = dict(Counter(word_tokenize(\" \".join(corpus))))\n",
        "\n",
        "    # Sort them decreasingly\n",
        "    sorted_word_counts = OrderedDict(\n",
        "        sorted(word_counts.items(), key=lambda item: item[1], reverse=True)\n",
        "    )\n",
        "\n",
        "    # Create our vocabulary (no more than the parameter voc_threshold)\n",
        "    vocabulary_word_counts = dict(list(sorted_word_counts.items())[:voc_threshold])\n",
        "\n",
        "    vocabulary = {\n",
        "        list(vocabulary_word_counts.keys())[i]: i\n",
        "        for i in range(len(vocabulary_word_counts))\n",
        "    }\n",
        "\n",
        "    # Add 'Unknown' word\n",
        "    vocabulary = {**vocabulary, \"UNK\": len(vocabulary_word_counts)}\n",
        "    vocabulary_word_counts = {**vocabulary_word_counts, \"UNK\": 0}\n",
        "\n",
        "    return vocabulary, vocabulary_word_counts\n",
        "\n",
        "\n",
        "def co_occurence_matrix(corpus, vocabulary, window=0, distance_weighting=False):\n",
        "    \"\"\"\n",
        "    Params:\n",
        "        corpus (list of list of strings): corpus of sentences\n",
        "        vocabulary (dictionary): words to use in the matrix\n",
        "        window (int): size of the context window; when 0, the context is the whole sentence\n",
        "        distance_weighting (bool): indicates if we use a weight depending on the distance between words for co-oc counts\n",
        "    Returns:\n",
        "        matrix (array of size (len(vocabulary), len(vocabulary))): the co-oc matrix, using the same ordering as the vocabulary given in input\n",
        "    \"\"\"\n",
        "    l = len(vocabulary)\n",
        "    M = np.zeros((l, l))\n",
        "    for sent in tqdm(corpus, desc=\"co-occurence matrix\"):\n",
        "        # Get the sentence as a list of words\n",
        "        sent = word_tokenize(sent)\n",
        "        # Obtain the indexes of the words in the sentence from the vocabulary\n",
        "        sent_idx = [vocabulary[word] if word in vocabulary else -1 for word in sent]\n",
        "        # Go through the indexes and add 1 / dist(i,j) to M[i,j] if words of index i and j appear in the same window\n",
        "        for i, idx in enumerate(sent_idx):\n",
        "            # If we consider a limited context:\n",
        "            if window > 0:\n",
        "                # Create a list containing the indexes that are on the left of the current index 'idx_i'\n",
        "                l_ctx_idx = sent_idx[max(i - window, 0) : i]\n",
        "            # If the context = ... is the entire document:\n",
        "            else:\n",
        "                # The list containing the left context is easier to create\n",
        "                l_ctx_idx = sent_idx[:i]\n",
        "            # Go through the list and update M[i,j]:\n",
        "            for j, idx_j in enumerate(l_ctx_idx):\n",
        "                # We know the word is in the vocabulary\n",
        "                if j > -1:\n",
        "                    weight = 1.0\n",
        "                    if distance_weighting:\n",
        "                        weight /= abs(i - j)\n",
        "                    M[idx, idx_j] += weight * 1.0\n",
        "                    M[idx_j, idx] += weight * 1.0\n",
        "                # Unkwnown word\n",
        "                else:\n",
        "                    weight = 1.0\n",
        "                    if distance_weighting:\n",
        "                        weight /= abs(i - j)\n",
        "                    M[idx, l] += weight * 1.0\n",
        "                    M[l, idx] += weight * 1.0\n",
        "    return M\n",
        "\n",
        "\n",
        "def euclidean(u, v):\n",
        "    return np.linalg.norm(u - v)\n",
        "\n",
        "\n",
        "def length_norm(u):\n",
        "    return u / np.sqrt(u.dot(u))\n",
        "\n",
        "\n",
        "def cosine(u, v):\n",
        "    return 1.0 - length_norm(u).dot(length_norm(v))\n",
        "\n",
        "\n",
        "def sentence_representations(texts, vocabulary, embeddings, np_func=np.mean):\n",
        "    \"\"\"\n",
        "    Represent the sentences as a combination of the vector of its words.\n",
        "    Parameters\n",
        "    ----------\n",
        "    texts : a list of sentences\n",
        "    vocabulary : dict\n",
        "        From words to indexes of vector.\n",
        "    embeddings : Matrix containing word representations\n",
        "    np_func : function (default: np.sum)\n",
        "        A numpy matrix operation that can be applied columnwise,\n",
        "        like `np.mean`, `np.sum`, or `np.prod`.\n",
        "    Returns\n",
        "    -------\n",
        "    np.array, dimension `(len(texts), embeddings.shape[1])`\n",
        "    \"\"\"\n",
        "    representations = np.zeros((len(texts), embeddings.shape[1]))\n",
        "    count = 0\n",
        "    for text in tqdm(texts):\n",
        "        vec_rep = list(\n",
        "            map(\n",
        "                lambda x: embeddings[vocabulary[x]]\n",
        "                if (x in vocabulary.keys())\n",
        "                else embeddings[vocabulary[\"UNK\"]],\n",
        "                text.split(),\n",
        "            )\n",
        "        )\n",
        "        vec_rep_2D = np.stack(vec_rep, axis=0)\n",
        "        transform_vec = np_func(vec_rep_2D, axis=0)\n",
        "        representations[count] = transform_vec\n",
        "        count += 1\n",
        "    return representations"
      ]
    },
    {
      "cell_type": "code",
      "execution_count": 13,
      "metadata": {
        "id": "ooSHduFpqfYD"
      },
      "outputs": [],
      "source": [
        "\"\"\"NLP Challenge utils.\"\"\"\n",
        "\n",
        "import os\n",
        "from pathlib import Path\n",
        "\n",
        "\n",
        "def set_working_dir():\n",
        "    \"\"\"Set working dir for Jupyter.\"\"\"\n",
        "    cwd = Path(os.getcwd())\n",
        "    print(f\"Current working dir: {cwd.as_posix()}\")\n",
        "    if Path(cwd).name == \"notebooks\":\n",
        "        new_cwd = Path(cwd).parent\n",
        "        os.chdir(new_cwd)\n",
        "        print(f\"New working dir: {new_cwd.as_posix()}\")\n"
      ]
    },
    {
      "cell_type": "code",
      "execution_count": 14,
      "metadata": {
        "colab": {
          "base_uri": "https://localhost:8080/"
        },
        "id": "2DP089eWoZQW",
        "outputId": "2a81f423-7e0f-4151-d556-80b00f119fac"
      },
      "outputs": [
        {
          "output_type": "stream",
          "name": "stdout",
          "text": [
            "Looking in indexes: https://pypi.org/simple, https://us-python.pkg.dev/colab-wheels/public/simple/\n",
            "Requirement already satisfied: contractions in /usr/local/lib/python3.9/dist-packages (0.1.73)\n",
            "Requirement already satisfied: textsearch>=0.0.21 in /usr/local/lib/python3.9/dist-packages (from contractions) (0.0.24)\n",
            "Requirement already satisfied: pyahocorasick in /usr/local/lib/python3.9/dist-packages (from textsearch>=0.0.21->contractions) (2.0.0)\n",
            "Requirement already satisfied: anyascii in /usr/local/lib/python3.9/dist-packages (from textsearch>=0.0.21->contractions) (0.3.2)\n"
          ]
        }
      ],
      "source": [
        "import re\n",
        "!pip install contractions\n",
        "import contractions\n",
        "import nltk\n",
        "import pandas as pd\n",
        "\n",
        "from nltk.corpus import stopwords, wordnet\n",
        "from nltk.stem import WordNetLemmatizer\n",
        "from nltk.tokenize import word_tokenize\n",
        "\n",
        "\n",
        "def load_data(dict_path):\n",
        "    df_ecb = pd.read_csv(dict_path[\"ecb\"], index_col=0)\n",
        "    df_fed = pd.read_csv(dict_path[\"fed\"], index_col=0)\n",
        "    df_train_series = pd.read_csv(dict_path[\"train_series\"], index_col=0)\n",
        "    return df_ecb, df_fed, df_train_series\n",
        "\n",
        "\n",
        "def get_wordnet_pos(tag: str) -> str:\n",
        "    \"\"\"_summary_\n",
        "    TODO docstring\n",
        "\n",
        "    Parameters\n",
        "    ----------\n",
        "    tag : str\n",
        "        _description_\n",
        "\n",
        "    Returns\n",
        "    -------\n",
        "    str\n",
        "        _description_\n",
        "    \"\"\"\n",
        "    if tag.startswith(\"J\"):\n",
        "        return wordnet.ADJ\n",
        "    elif tag.startswith(\"V\"):\n",
        "        return wordnet.VERB\n",
        "    elif tag.startswith(\"N\"):\n",
        "        return wordnet.NOUN\n",
        "    elif tag.startswith(\"R\"):\n",
        "        return wordnet.ADV\n",
        "    else:\n",
        "        return wordnet.NOUN\n",
        "\n",
        "\n",
        "def text_cleaning(\n",
        "    corpus: str,\n",
        "    negation_set,\n",
        "    fg_no_numbers: bool = False,\n",
        "    fg_stop_words: bool = False,\n",
        "    fg_lemmatization: bool = False,\n",
        "):\n",
        "    \"\"\"Text cleaning of a corpus and extraction of mentions and hashtags\n",
        "\n",
        "    Parameters\n",
        "    ----------\n",
        "    corpus : str\n",
        "        String to clean\n",
        "    negation_set : set[str]\n",
        "        Negation words\n",
        "    fg_no_numbers: bool, optional\n",
        "        Remove the numbers\n",
        "    fg_stop_words : bool, optional\n",
        "        Remove or not stop words, by default False\n",
        "    fg_lemmatization : bool, optional\n",
        "        Apply or not lemmatization, by default False\n",
        "\n",
        "    Returns\n",
        "    -------\n",
        "    tuple[str, list[str], list[str]]\n",
        "        corpus : Cleaned string\n",
        "        mentions : List of mentionned users in the corpus (@'s)\n",
        "        hashtags : List of hashtags in the corpuss (#'s)\n",
        "    \"\"\"\n",
        "\n",
        "    # lowercase\n",
        "    corpus = corpus.lower()\n",
        "\n",
        "    # remove extra newlines\n",
        "    corpus = re.sub(r\"[\\r|\\n|\\r\\n]+\", \" \", corpus)\n",
        "\n",
        "    # remove URL\n",
        "    corpus = re.sub(r\"https?://[\\S]+\", \"\", corpus)\n",
        "\n",
        "    # remove contractions\n",
        "    corpus = \" \".join([contractions.fix(x) for x in corpus.split()])\n",
        "\n",
        "    # Remove @ # and any special chars\n",
        "    corpus = re.sub(r\"[\\W_]+\", \" \", corpus)\n",
        "\n",
        "    # remove numbers\n",
        "    if fg_no_numbers:\n",
        "        corpus = re.sub(r\" \\d+\", \" \", corpus)\n",
        "\n",
        "    # tokenization\n",
        "    corpus_words = word_tokenize(corpus)\n",
        "\n",
        "    if fg_stop_words:\n",
        "        # remove stop words\n",
        "        stop_words = set(stopwords.words(\"english\")).difference(negation_set)\n",
        "        corpus_words = [word for word in corpus_words if word not in stop_words]\n",
        "\n",
        "    if fg_lemmatization:\n",
        "        # lemmatization\n",
        "        corpus_pos_tag = nltk.tag.pos_tag(corpus_words)\n",
        "        corpus_pos_tag = [\n",
        "            (word, get_wordnet_pos(pos_tag)) for (word, pos_tag) in corpus_pos_tag\n",
        "        ]\n",
        "        wordnet_lemmatizer = WordNetLemmatizer()\n",
        "        corpus_words = [\n",
        "            wordnet_lemmatizer.lemmatize(word, tag) for (word, tag) in corpus_pos_tag\n",
        "        ]\n",
        "\n",
        "    return \" \".join(corpus_words)\n",
        "\n",
        "\n",
        "def categorical_other(df_cat_column, threshold=0.02, name_cat_rare=\"other\"):\n",
        "    \"\"\"\n",
        "    Map the rare categorical variable to 'Other' based on their frequency\n",
        "\n",
        "    Arguments\n",
        "    ---------\n",
        "        df_cat_colum: pd.Series\n",
        "            Categorical column\n",
        "        threshold: float32\n",
        "            Threshold of frequency to map to the rare category\n",
        "        name_cat_rare: str\n",
        "            Name of the rare category\n",
        "    Returns\n",
        "    -------\n",
        "        df_cat_other: pd.Series\n",
        "            Modified categorical column\n",
        "    \"\"\"\n",
        "    # Frequency of categorical category\n",
        "    df_freq = df_cat_column.value_counts(normalize=True)\n",
        "    # Replace cat by its frequency\n",
        "    df_map = df_cat_column.map(df_freq)\n",
        "    # If inferior to threshold -> replace it\n",
        "    df_cat_other = df_cat_column.mask(df_map < threshold, name_cat_rare)\n",
        "    return df_cat_other\n",
        "\n",
        "\n",
        "def link_texts_series(df_train_series, df_text, id_series, id_text):\n",
        "    \"\"\"\n",
        "    Using the text indices of a time series, concatenate the text\n",
        "\n",
        "    Arguments\n",
        "    ---------\n",
        "        df_train_series: pd.DataFrame\n",
        "            Times Series with a text index column\n",
        "        df_text: pd.DataFrame\n",
        "            Dataframe storing the texts\n",
        "        id_series: str\n",
        "            Name of the column of the Unique identifier of the series\n",
        "        id_text: str\n",
        "            Name of the column of the Unique identifier of the texts\n",
        "    Returns\n",
        "    -------\n",
        "        df_conc: pd.DataFrame\n",
        "            Dataframe containing the time series and the concatenated text\n",
        "    \"\"\"\n",
        "    # Copy our dataframe\n",
        "    df_temp = df_text.copy()\n",
        "    suff = id_text.split(\"_\")[1]\n",
        "    # Unnest the list of texts for each times series\n",
        "    df_temp = df_train_series.explode(id_text)\n",
        "    # Convert the Id to Int\n",
        "    df_temp[id_text] = df_temp[id_text].astype(\"int64\")\n",
        "    # Join the list and series on the id_texts (previously unnested)\n",
        "    df_temp = df_temp.merge(df_text, on=id_text, how=\"left\")\n",
        "    # Group By the series and aggregate on specific features (concatenate the text, list of the speakers)\n",
        "    df_temp = (\n",
        "        df_temp.groupby(id_series)\n",
        "        .agg({\"text_process\": lambda x: \" \".join(x), \"speaker\": lambda x: list(x)})\n",
        "        .reset_index()\n",
        "        .rename(\n",
        "            columns={\n",
        "                \"text_process\": \"text_concat_\" + suff,\n",
        "                \"speaker\": \"list_speakers_\" + suff,\n",
        "            }\n",
        "        )\n",
        "    )\n",
        "    return df_temp\n",
        "\n",
        "\n",
        "def suppr_footnotes(text):\n",
        "    \"\"\"\n",
        "    Description : fonction pour supprimer les footnotes d'un texte (références biblio, etc)  (à vérifier si permet de supprimer toutes les footnotes)\n",
        "    - input : colonne 'text'\n",
        "    - output : colonne 'text' modifiée afin de supprimer les footnotes / citations\n",
        "\n",
        "    \"\"\"\n",
        "\n",
        "    txt = text\n",
        "    #\n",
        "    try:\n",
        "\n",
        "        txt_list = txt.split(\"References\", maxsplit=1)\n",
        "        if len(txt) > 1:\n",
        "            txt = txt_list[0]\n",
        "        else:\n",
        "            1 / 0\n",
        "    except:\n",
        "        pass\n",
        "\n",
        "    try:\n",
        "        txt_list = txt.split(\"Footnotes\", maxsplit=1)\n",
        "        if len(txt) > 1:\n",
        "            txt = txt_list[0]\n",
        "        else:\n",
        "            1 / 0\n",
        "    except:\n",
        "        pass\n",
        "\n",
        "    try:\n",
        "        txt_list = txt.split(\"      [1]\", maxsplit=1)\n",
        "        if len(txt) > 1:\n",
        "            txt = txt_list[0]\n",
        "        else:\n",
        "            1 / 0\n",
        "    except:\n",
        "        pass\n",
        "\n",
        "    try:\n",
        "        txt_list = txt.split(\"See also footnotes\", maxsplit=1)\n",
        "        if len(txt) > 1:\n",
        "            txt = txt_list[0]\n",
        "        else:\n",
        "            1 / 0\n",
        "    except:\n",
        "        pass\n",
        "\n",
        "    try:\n",
        "        txt_list = txt.split(\" References \", maxsplit=1)\n",
        "        if len(txt) > 1:\n",
        "            txt = txt_list[0]\n",
        "        else:\n",
        "            1 / 0\n",
        "    except:\n",
        "        pass\n",
        "\n",
        "    ##\n",
        "    \"\"\"try:\n",
        "        txt_list = txt.split(\" 1. \", maxsplit=1)\n",
        "        if len(txt) > 1:\n",
        "            txt = txt_list[0]\n",
        "        else:\n",
        "            1 / 0\n",
        "    except:\n",
        "        pass\"\"\"\n",
        "\n",
        "    try:\n",
        "        txt_list = txt.split(\"SEE ALSO\", maxsplit=1)\n",
        "        if len(txt) > 1:\n",
        "            txt = txt_list[0]\n",
        "        else:\n",
        "            1 / 0\n",
        "    except:\n",
        "        pass\n",
        "\n",
        "    #\n",
        "    \"\"\"try:\n",
        "        txt_list = txt.split(\"See also\", maxsplit=1)\n",
        "        if len(txt) > 1:\n",
        "            txt = txt_list[0]\n",
        "        else:\n",
        "            1 / 0\n",
        "    except:\n",
        "        pass\"\"\"\n",
        "\n",
        "    try:\n",
        "        txt_list = txt.split(\"Thank you. \", maxsplit=1)\n",
        "        if len(txt) > 1:\n",
        "            txt = txt_list[0]\n",
        "        else:\n",
        "            1 / 0\n",
        "    except:\n",
        "        pass\n",
        "\n",
        "    try:\n",
        "        txt_list = txt.split(\"Thank you for your attention.  \", maxsplit=1)\n",
        "        if len(txt) > 1:\n",
        "            txt = txt_list[0]\n",
        "        else:\n",
        "            1 / 0\n",
        "    except:\n",
        "        pass\n",
        "\n",
        "    return txt\n"
      ]
    },
    {
      "cell_type": "code",
      "execution_count": 15,
      "metadata": {
        "id": "2mATN7EqnSqU"
      },
      "outputs": [],
      "source": [
        "from pathlib import Path\n",
        "\n",
        "\n",
        "import matplotlib.pyplot as plt\n",
        "from sklearn.model_selection import train_test_split\n",
        "import numpy as np\n",
        "import pandas as pd\n",
        "#from category_encoders import WOEEncoder"
      ]
    },
    {
      "cell_type": "markdown",
      "metadata": {
        "id": "FviatDXBnSqW"
      },
      "source": [
        "# Load Data"
      ]
    },
    {
      "cell_type": "code",
      "execution_count": 16,
      "metadata": {
        "id": "JxbfL7U_nSqY"
      },
      "outputs": [],
      "source": [
        "path = Path(\"data\")\n",
        "files_path = {\n",
        "    \"ecb\": '/content/drive/MyDrive/DATA Project/ecb_data.csv',\n",
        "    \"fed\": '/content/drive/MyDrive/DATA Project/fed_data.csv',\n",
        "    \"train_series\": '/content/drive/MyDrive/DATA Project/train_series.csv',\n",
        "}"
      ]
    },
    {
      "cell_type": "code",
      "execution_count": 17,
      "metadata": {
        "colab": {
          "base_uri": "https://localhost:8080/"
        },
        "id": "bLaqadxdnSqY",
        "outputId": "d7955587-d942-43b3-f378-089fc9438cac"
      },
      "outputs": [
        {
          "output_type": "stream",
          "name": "stdout",
          "text": [
            "(1772, 4) (739, 4) (8946, 15)\n"
          ]
        }
      ],
      "source": [
        "\n",
        "# LOAD TEXT DATA\n",
        "df_ecb = pd.read_csv('/content/ecb_data.csv')\n",
        "df_fed = pd.read_csv('/content/fed_data.csv')\n",
        "df_train_series = pd.read_csv('/content/train_series.csv')\n",
        "#load_data(files_path)\n",
        "print(df_ecb.shape, df_fed.shape, df_train_series.shape)"
      ]
    },
    {
      "cell_type": "markdown",
      "metadata": {
        "id": "aBW53wmYnSqZ"
      },
      "source": [
        "# Text Cleaning"
      ]
    },
    {
      "cell_type": "markdown",
      "metadata": {
        "id": "zOafxoZZnSqZ"
      },
      "source": [
        "## Link Texts to Series\n",
        "\n",
        "Create some indices"
      ]
    },
    {
      "cell_type": "code",
      "execution_count": 18,
      "metadata": {
        "id": "c5U3VFOMnSqa"
      },
      "outputs": [],
      "source": [
        "df_ecb.reset_index(inplace=True, names=\"id_ecb\")\n",
        "df_fed.reset_index(inplace=True, names=\"id_fed\")  \n",
        "df_train_series.reset_index(inplace=True, names=\"id_series\")\n"
      ]
    },
    {
      "cell_type": "markdown",
      "metadata": {
        "id": "dTt_-5hUnSqa"
      },
      "source": [
        "Create a list rather than a string with a comma separator"
      ]
    },
    {
      "cell_type": "code",
      "execution_count": 19,
      "metadata": {
        "id": "La6YkiLPnSqa"
      },
      "outputs": [],
      "source": [
        "df_train_series[\"id_ecb\"] = [x.split(\",\") for x in df_train_series['index ecb']]\n",
        "df_train_series[\"id_fed\"] = [x.split(\",\") for x in df_train_series['index fed']]\n",
        "del df_train_series['index ecb']\n",
        "del df_train_series['index fed']"
      ]
    },
    {
      "cell_type": "markdown",
      "metadata": {
        "id": "T4IRkDJynSqb"
      },
      "source": [
        "## Remove Footnotes"
      ]
    },
    {
      "cell_type": "code",
      "execution_count": 20,
      "metadata": {
        "id": "vbCGfoR4nSqb"
      },
      "outputs": [],
      "source": [
        "df_ecb[\"text_process\"] = df_ecb.text.apply(lambda x: suppr_footnotes(x))\n",
        "df_fed[\"text_process\"] = df_fed.text.apply(lambda x: suppr_footnotes(x))"
      ]
    },
    {
      "cell_type": "markdown",
      "metadata": {
        "id": "H3CH1XFqnSqc"
      },
      "source": [
        "## Deal with Null Values"
      ]
    },
    {
      "cell_type": "code",
      "execution_count": 21,
      "metadata": {
        "id": "K5X8uH4pnSqc"
      },
      "outputs": [],
      "source": [
        "# REPLACE NULL TEXTS BY TITLE\n",
        "index_no_texts = df_ecb[df_ecb[\"text_process\"].isnull()].index.values\n",
        "df_ecb.loc[index_no_texts, \"text_process\"] = df_ecb.loc[index_no_texts, \"title\"].values"
      ]
    },
    {
      "cell_type": "markdown",
      "metadata": {
        "id": "kwHyuF5KnSqd"
      },
      "source": [
        "## Remove special characters, stop words, Lemmatization..."
      ]
    },
    {
      "cell_type": "code",
      "execution_count": 22,
      "metadata": {
        "colab": {
          "base_uri": "https://localhost:8080/"
        },
        "id": "dCk2V0AGuicq",
        "outputId": "b0b9cba0-3695-47b1-b14f-1597673610b6"
      },
      "outputs": [
        {
          "output_type": "stream",
          "name": "stderr",
          "text": [
            "[nltk_data] Downloading package punkt to /root/nltk_data...\n",
            "[nltk_data]   Unzipping tokenizers/punkt.zip.\n",
            "[nltk_data] Downloading package stopwords to /root/nltk_data...\n",
            "[nltk_data]   Unzipping corpora/stopwords.zip.\n",
            "[nltk_data] Downloading package averaged_perceptron_tagger to\n",
            "[nltk_data]     /root/nltk_data...\n",
            "[nltk_data]   Unzipping taggers/averaged_perceptron_tagger.zip.\n",
            "[nltk_data] Downloading package wordnet to /root/nltk_data...\n",
            "[nltk_data] Downloading package omw-1.4 to /root/nltk_data...\n"
          ]
        },
        {
          "output_type": "execute_result",
          "data": {
            "text/plain": [
              "True"
            ]
          },
          "metadata": {},
          "execution_count": 22
        }
      ],
      "source": [
        "import nltk\n",
        "nltk.download('punkt')\n",
        "nltk.download('stopwords')\n",
        "nltk.download('averaged_perceptron_tagger')\n",
        "nltk.download('wordnet')\n",
        "nltk.download('omw-1.4')"
      ]
    },
    {
      "cell_type": "code",
      "execution_count": 23,
      "metadata": {
        "id": "gp3DaPIanSqe"
      },
      "outputs": [],
      "source": [
        "# Clean Data\n",
        "\n",
        "\n",
        "\n",
        "negation_words = [\"no\", \"not\"]\n",
        "df_fed.text_process = [text_cleaning(\n",
        "        x,\n",
        "        negation_set=negation_words,\n",
        "        fg_no_numbers=True,\n",
        "        fg_stop_words=True,\n",
        "        fg_lemmatization=True,\n",
        "    ) for x in df_fed.text_process]\n",
        "df_ecb.text_process = [text_cleaning(\n",
        "        x,\n",
        "        negation_set=negation_words,\n",
        "        fg_no_numbers=True,\n",
        "        fg_stop_words=True,\n",
        "        fg_lemmatization=True,\n",
        "    ) for x in df_ecb.text_process]"
      ]
    },
    {
      "cell_type": "markdown",
      "metadata": {
        "id": "6UzEXo-lnSqe"
      },
      "source": [
        "Less efficient "
      ]
    },
    {
      "cell_type": "code",
      "execution_count": 24,
      "metadata": {
        "colab": {
          "base_uri": "https://localhost:8080/",
          "height": 105
        },
        "id": "3h71UyllnSqe",
        "outputId": "91661c12-fb7f-4665-cfab-f062fc436f1c"
      },
      "outputs": [
        {
          "output_type": "execute_result",
          "data": {
            "text/plain": [
              "'# CLEAN TEXTS\\nnegation_words = [\"no\", \"not\"]\\ndf_fed.text_process = df_fed.text_process.apply(\\n    lambda x: text_cleaning(\\n        x,\\n        negation_set=negation_words,\\n        fg_no_numbers=True,\\n        fg_stop_words=True,\\n        fg_lemmatization=True,\\n    )\\n)\\ndf_ecb.text_process = df_ecb.text_process.apply(\\n    lambda x: text_cleaning(\\n        x,\\n        negation_set=negation_words,\\n        fg_no_numbers=True,\\n        fg_stop_words=True,\\n        fg_lemmatization=True,\\n    )\\n)'"
            ],
            "application/vnd.google.colaboratory.intrinsic+json": {
              "type": "string"
            }
          },
          "metadata": {},
          "execution_count": 24
        }
      ],
      "source": [
        "\"\"\"# CLEAN TEXTS\n",
        "negation_words = [\"no\", \"not\"]\n",
        "df_fed.text_process = df_fed.text_process.apply(\n",
        "    lambda x: text_cleaning(\n",
        "        x,\n",
        "        negation_set=negation_words,\n",
        "        fg_no_numbers=True,\n",
        "        fg_stop_words=True,\n",
        "        fg_lemmatization=True,\n",
        "    )\n",
        ")\n",
        "df_ecb.text_process = df_ecb.text_process.apply(\n",
        "    lambda x: text_cleaning(\n",
        "        x,\n",
        "        negation_set=negation_words,\n",
        "        fg_no_numbers=True,\n",
        "        fg_stop_words=True,\n",
        "        fg_lemmatization=True,\n",
        "    )\n",
        ")\"\"\""
      ]
    },
    {
      "cell_type": "code",
      "execution_count": 25,
      "metadata": {
        "id": "j5t8V822nSqf"
      },
      "outputs": [],
      "source": [
        "#df_fed.text_process = a \n",
        "#df_ecb.text_process = b"
      ]
    },
    {
      "cell_type": "markdown",
      "metadata": {
        "id": "OzGIrsNEnSqf"
      },
      "source": [
        "Length of the texts"
      ]
    },
    {
      "cell_type": "code",
      "execution_count": 26,
      "metadata": {
        "colab": {
          "base_uri": "https://localhost:8080/",
          "height": 452
        },
        "id": "OiFrVWlDnSqf",
        "outputId": "62a85ade-202f-4726-f110-6933ba4ea9d8"
      },
      "outputs": [
        {
          "output_type": "display_data",
          "data": {
            "text/plain": [
              "<Figure size 640x480 with 2 Axes>"
            ],
            "image/png": "[encoded data removed]"
          },
          "metadata": {}
        }
      ],
      "source": [
        "lenght_texts_ecb = [len(str(x).split(\" \")) for x in df_ecb.text]\n",
        "lenght_texts_fed = [len(str(x).split(\" \")) for x in df_fed.text]\n",
        "fig, ax = plt.subplots(1,2)\n",
        "ax[0].hist(lenght_texts_ecb, bins=50)\n",
        "ax[0].set_title(\"ECB\")\n",
        "ax[1].hist(lenght_texts_fed, bins=50)\n",
        "ax[1].set_title(\"FED\")\n",
        "plt.show()"
      ]
    },
    {
      "cell_type": "code",
      "execution_count": 27,
      "metadata": {
        "colab": {
          "base_uri": "https://localhost:8080/",
          "height": 452
        },
        "id": "WODiwFXRnSqg",
        "outputId": "bd18393e-d660-43e2-bf96-8c5816228bc1"
      },
      "outputs": [
        {
          "output_type": "display_data",
          "data": {
            "text/plain": [
              "<Figure size 640x480 with 2 Axes>"
            ],
            "image/png": "[encoded data removed]"
          },
          "metadata": {}
        }
      ],
      "source": [
        "lenght_texts_ecb = [len(str(x).split(\" \")) for x in df_ecb.text_process]\n",
        "lenght_texts_fed = [len(str(x).split(\" \")) for x in df_fed.text_process]\n",
        "fig, ax = plt.subplots(1,2)\n",
        "ax[0].hist(lenght_texts_ecb, bins=50)\n",
        "ax[0].set_title(\"ECB\")\n",
        "ax[1].hist(lenght_texts_fed, bins=50)\n",
        "ax[1].set_title(\"FED\")\n",
        "plt.show()"
      ]
    },
    {
      "cell_type": "code",
      "execution_count": 28,
      "metadata": {
        "id": "70RzSrG7nSqg"
      },
      "outputs": [],
      "source": [
        "#np.where(np.array(lenght_texts_ecb).astype('int64')<200)"
      ]
    },
    {
      "cell_type": "markdown",
      "metadata": {
        "id": "9vN8-acxnSqh"
      },
      "source": [
        "# Categorical Variable: Speakers"
      ]
    },
    {
      "cell_type": "code",
      "execution_count": 29,
      "metadata": {
        "colab": {
          "base_uri": "https://localhost:8080/"
        },
        "id": "BH2gWA0jnSqh",
        "outputId": "27f2383b-0880-4867-9c1b-e81612fd1891"
      },
      "outputs": [
        {
          "output_type": "execute_result",
          "data": {
            "text/plain": [
              "speaker\n",
              "Chairman Ben S. Bernanke                        145\n",
              "Governor Lael Brainard                           68\n",
              "Governor Daniel K. Tarullo                       54\n",
              "Governor Jerome H. Powell                        50\n",
              "Vice Chairman Stanley Fischer                    45\n",
              "Governor Elizabeth A. Duke                       44\n",
              "Chair Janet L. Yellen                            44\n",
              "Vice Chairman Donald L. Kohn                     41\n",
              "Vice Chair for Supervision Randal K. Quarles     39\n",
              "Governor Randall S. Kroszner                     36\n",
              "Chairman Jerome H. Powell                        32\n",
              "Governor Frederic S. Mishkin                     26\n",
              "Vice Chairman Richard H. Clarida                 26\n",
              "Vice Chair Janet L. Yellen                       22\n",
              "Governor Sarah Bloom Raskin                      17\n",
              "Governor Kevin Warsh                             16\n",
              "Governor Jeremy C. Stein                         16\n",
              "Governor Michelle W. Bowman                      13\n",
              "Governor Susan S. Bies                            3\n",
              "Name: count, dtype: int64"
            ]
          },
          "metadata": {},
          "execution_count": 29
        }
      ],
      "source": [
        "df_fed.speaker.value_counts()"
      ]
    },
    {
      "cell_type": "code",
      "execution_count": 30,
      "metadata": {
        "id": "mqz4_0yPnSqh"
      },
      "outputs": [],
      "source": [
        "df_ecb.speaker = categorical_other(df_ecb.speaker)\n",
        "df_fed.speaker = categorical_other(df_fed.speaker, threshold=0.025)"
      ]
    },
    {
      "cell_type": "markdown",
      "metadata": {
        "id": "4haoeBEDnSqh"
      },
      "source": [
        "# Text Concatenation"
      ]
    },
    {
      "cell_type": "code",
      "execution_count": 31,
      "metadata": {
        "colab": {
          "base_uri": "https://localhost:8080/",
          "height": 374
        },
        "id": "dasvVmIBnSqh",
        "outputId": "6cecc4bc-f54e-4894-c4de-3ebb9e5e853d"
      },
      "outputs": [
        {
          "output_type": "execute_result",
          "data": {
            "text/plain": [
              "   id_series  Unnamed: 0     Index Name  Index - 9  Index - 8  Index - 7   \n",
              "0          0           0      V2X Index   0.001045   0.005841   0.003832  \\\n",
              "1          1           1     MOVE Index  -0.021497   0.007891  -0.013175   \n",
              "2          2           2      SPX Index  -0.001872  -0.008154   0.023588   \n",
              "3          3           3      SPX Index   0.004980  -0.000864   0.001677   \n",
              "4          4           4  EURUSD Curncy   0.000360  -0.001893   0.005579   \n",
              "\n",
              "   Index - 6  Index - 5  Index - 4  Index - 3  Index - 2  Index - 1   \n",
              "0  -0.027519  -0.103565  -0.045086  -0.011265   0.005164   0.054050  \\\n",
              "1  -0.008436   0.000000   0.026303   0.000556   0.001455   0.007422   \n",
              "2   0.004086   0.003493   0.003300   0.000885  -0.011304   0.005040   \n",
              "3   0.000000   0.006030  -0.001083   0.000419   0.001492   0.001018   \n",
              "4  -0.003056  -0.001171  -0.001623  -0.002350  -0.006444  -0.000729   \n",
              "\n",
              "   Index - 0  Index + 1        id_ecb      id_fed  \n",
              "0   0.015779   0.010597  [1126, 1471]        [96]  \n",
              "1   0.000000   0.014492         [975]       [568]  \n",
              "2   0.000156   0.016263     [78, 806]  [328, 695]  \n",
              "3  -0.002582   0.013581   [560, 1405]       [118]  \n",
              "4  -0.000365   0.005092         [404]       [261]  "
            ],
            "text/html": [
              "\n",
              "  <div id=\"df-f75e8fdc-5427-43f0-8e16-b21b9bff7650\">\n",
              "    <div class=\"colab-df-container\">\n",
              "      <div>\n",
              "<style scoped>\n",
              "    .dataframe tbody tr th:only-of-type {\n",
              "        vertical-align: middle;\n",
              "    }\n",
              "\n",
              "    .dataframe tbody tr th {\n",
              "        vertical-align: top;\n",
              "    }\n",
              "\n",
              "    .dataframe thead th {\n",
              "        text-align: right;\n",
              "    }\n",
              "</style>\n",
              "<table border=\"1\" class=\"dataframe\">\n",
              "  <thead>\n",
              "    <tr style=\"text-align: right;\">\n",
              "      <th></th>\n",
              "      <th>id_series</th>\n",
              "      <th>Unnamed: 0</th>\n",
              "      <th>Index Name</th>\n",
              "      <th>Index - 9</th>\n",
              "      <th>Index - 8</th>\n",
              "      <th>Index - 7</th>\n",
              "      <th>Index - 6</th>\n",
              "      <th>Index - 5</th>\n",
              "      <th>Index - 4</th>\n",
              "      <th>Index - 3</th>\n",
              "      <th>Index - 2</th>\n",
              "      <th>Index - 1</th>\n",
              "      <th>Index - 0</th>\n",
              "      <th>Index + 1</th>\n",
              "      <th>id_ecb</th>\n",
              "      <th>id_fed</th>\n",
              "    </tr>\n",
              "  </thead>\n",
              "  <tbody>\n",
              "    <tr>\n",
              "      <th>0</th>\n",
              "      <td>0</td>\n",
              "      <td>0</td>\n",
              "      <td>V2X Index</td>\n",
              "      <td>0.001045</td>\n",
              "      <td>0.005841</td>\n",
              "      <td>0.003832</td>\n",
              "      <td>-0.027519</td>\n",
              "      <td>-0.103565</td>\n",
              "      <td>-0.045086</td>\n",
              "      <td>-0.011265</td>\n",
              "      <td>0.005164</td>\n",
              "      <td>0.054050</td>\n",
              "      <td>0.015779</td>\n",
              "      <td>0.010597</td>\n",
              "      <td>[1126, 1471]</td>\n",
              "      <td>[96]</td>\n",
              "    </tr>\n",
              "    <tr>\n",
              "      <th>1</th>\n",
              "      <td>1</td>\n",
              "      <td>1</td>\n",
              "      <td>MOVE Index</td>\n",
              "      <td>-0.021497</td>\n",
              "      <td>0.007891</td>\n",
              "      <td>-0.013175</td>\n",
              "      <td>-0.008436</td>\n",
              "      <td>0.000000</td>\n",
              "      <td>0.026303</td>\n",
              "      <td>0.000556</td>\n",
              "      <td>0.001455</td>\n",
              "      <td>0.007422</td>\n",
              "      <td>0.000000</td>\n",
              "      <td>0.014492</td>\n",
              "      <td>[975]</td>\n",
              "      <td>[568]</td>\n",
              "    </tr>\n",
              "    <tr>\n",
              "      <th>2</th>\n",
              "      <td>2</td>\n",
              "      <td>2</td>\n",
              "      <td>SPX Index</td>\n",
              "      <td>-0.001872</td>\n",
              "      <td>-0.008154</td>\n",
              "      <td>0.023588</td>\n",
              "      <td>0.004086</td>\n",
              "      <td>0.003493</td>\n",
              "      <td>0.003300</td>\n",
              "      <td>0.000885</td>\n",
              "      <td>-0.011304</td>\n",
              "      <td>0.005040</td>\n",
              "      <td>0.000156</td>\n",
              "      <td>0.016263</td>\n",
              "      <td>[78, 806]</td>\n",
              "      <td>[328, 695]</td>\n",
              "    </tr>\n",
              "    <tr>\n",
              "      <th>3</th>\n",
              "      <td>3</td>\n",
              "      <td>3</td>\n",
              "      <td>SPX Index</td>\n",
              "      <td>0.004980</td>\n",
              "      <td>-0.000864</td>\n",
              "      <td>0.001677</td>\n",
              "      <td>0.000000</td>\n",
              "      <td>0.006030</td>\n",
              "      <td>-0.001083</td>\n",
              "      <td>0.000419</td>\n",
              "      <td>0.001492</td>\n",
              "      <td>0.001018</td>\n",
              "      <td>-0.002582</td>\n",
              "      <td>0.013581</td>\n",
              "      <td>[560, 1405]</td>\n",
              "      <td>[118]</td>\n",
              "    </tr>\n",
              "    <tr>\n",
              "      <th>4</th>\n",
              "      <td>4</td>\n",
              "      <td>4</td>\n",
              "      <td>EURUSD Curncy</td>\n",
              "      <td>0.000360</td>\n",
              "      <td>-0.001893</td>\n",
              "      <td>0.005579</td>\n",
              "      <td>-0.003056</td>\n",
              "      <td>-0.001171</td>\n",
              "      <td>-0.001623</td>\n",
              "      <td>-0.002350</td>\n",
              "      <td>-0.006444</td>\n",
              "      <td>-0.000729</td>\n",
              "      <td>-0.000365</td>\n",
              "      <td>0.005092</td>\n",
              "      <td>[404]</td>\n",
              "      <td>[261]</td>\n",
              "    </tr>\n",
              "  </tbody>\n",
              "</table>\n",
              "</div>\n",
              "      <button class=\"colab-df-convert\" onclick=\"convertToInteractive('df-f75e8fdc-5427-43f0-8e16-b21b9bff7650')\"\n",
              "              title=\"Convert this dataframe to an interactive table.\"\n",
              "              style=\"display:none;\">\n",
              "        \n",
              "  <svg xmlns=\"http://www.w3.org/2000/svg\" height=\"24px\"viewBox=\"0 0 24 24\"\n",
              "       width=\"24px\">\n",
              "    <path d=\"M0 0h24v24H0V0z\" fill=\"none\"/>\n",
              "    <path d=\"M18.56 5.44l.94 2.06.94-2.06 2.06-.94-2.06-.94-.94-2.06-.94 2.06-2.06.94zm-11 1L8.5 8.5l.94-2.06 2.06-.94-2.06-.94L8.5 2.5l-.94 2.06-2.06.94zm10 10l.94 2.06.94-2.06 2.06-.94-2.06-.94-.94-2.06-.94 2.06-2.06.94z\"/><path d=\"M17.41 7.96l-1.37-1.37c-.4-.4-.92-.59-1.43-.59-.52 0-1.04.2-1.43.59L10.3 9.45l-7.72 7.72c-.78.78-.78 2.05 0 2.83L4 21.41c.39.39.9.59 1.41.59.51 0 1.02-.2 1.41-.59l7.78-7.78 2.81-2.81c.8-.78.8-2.07 0-2.86zM5.41 20L4 18.59l7.72-7.72 1.47 1.35L5.41 20z\"/>\n",
              "  </svg>\n",
              "      </button>\n",
              "      \n",
              "  <style>\n",
              "    .colab-df-container {\n",
              "      display:flex;\n",
              "      flex-wrap:wrap;\n",
              "      gap: 12px;\n",
              "    }\n",
              "\n",
              "    .colab-df-convert {\n",
              "      background-color: #E8F0FE;\n",
              "      border: none;\n",
              "      border-radius: 50%;\n",
              "      cursor: pointer;\n",
              "      display: none;\n",
              "      fill: #1967D2;\n",
              "      height: 32px;\n",
              "      padding: 0 0 0 0;\n",
              "      width: 32px;\n",
              "    }\n",
              "\n",
              "    .colab-df-convert:hover {\n",
              "      background-color: #E2EBFA;\n",
              "      box-shadow: 0px 1px 2px rgba(60, 64, 67, 0.3), 0px 1px 3px 1px rgba(60, 64, 67, 0.15);\n",
              "      fill: #174EA6;\n",
              "    }\n",
              "\n",
              "    [theme=dark] .colab-df-convert {\n",
              "      background-color: #3B4455;\n",
              "      fill: #D2E3FC;\n",
              "    }\n",
              "\n",
              "    [theme=dark] .colab-df-convert:hover {\n",
              "      background-color: #434B5C;\n",
              "      box-shadow: 0px 1px 3px 1px rgba(0, 0, 0, 0.15);\n",
              "      filter: drop-shadow(0px 1px 2px rgba(0, 0, 0, 0.3));\n",
              "      fill: #FFFFFF;\n",
              "    }\n",
              "  </style>\n",
              "\n",
              "      <script>\n",
              "        const buttonEl =\n",
              "          document.querySelector('#df-f75e8fdc-5427-43f0-8e16-b21b9bff7650 button.colab-df-convert');\n",
              "        buttonEl.style.display =\n",
              "          google.colab.kernel.accessAllowed ? 'block' : 'none';\n",
              "\n",
              "        async function convertToInteractive(key) {\n",
              "          const element = document.querySelector('#df-f75e8fdc-5427-43f0-8e16-b21b9bff7650');\n",
              "          const dataTable =\n",
              "            await google.colab.kernel.invokeFunction('convertToInteractive',\n",
              "                                                     [key], {});\n",
              "          if (!dataTable) return;\n",
              "\n",
              "          const docLinkHtml = 'Like what you see? Visit the ' +\n",
              "            '<a target=\"_blank\" href=https://colab.research.google.com/notebooks/data_table.ipynb>data table notebook</a>'\n",
              "            + ' to learn more about interactive tables.';\n",
              "          element.innerHTML = '';\n",
              "          dataTable['output_type'] = 'display_data';\n",
              "          await google.colab.output.renderOutput(dataTable, element);\n",
              "          const docLink = document.createElement('div');\n",
              "          docLink.innerHTML = docLinkHtml;\n",
              "          element.appendChild(docLink);\n",
              "        }\n",
              "      </script>\n",
              "    </div>\n",
              "  </div>\n",
              "  "
            ]
          },
          "metadata": {},
          "execution_count": 31
        }
      ],
      "source": [
        "df_train_series.head()"
      ]
    },
    {
      "cell_type": "code",
      "execution_count": 32,
      "metadata": {
        "id": "7lE5EED5nSqi"
      },
      "outputs": [],
      "source": [
        "df_series_ecb_process = link_texts_series(df_train_series, df_ecb, \"id_series\", \"id_ecb\")\n",
        "df_series_fed_process = link_texts_series(df_train_series, df_fed, \"id_series\", \"id_fed\")"
      ]
    },
    {
      "cell_type": "code",
      "execution_count": 33,
      "metadata": {
        "colab": {
          "base_uri": "https://localhost:8080/",
          "height": 478
        },
        "id": "mdfWSlNbnSqi",
        "outputId": "7b6fc7f5-83cc-4f4e-ffcf-c0f4ccbb358c"
      },
      "outputs": [
        {
          "output_type": "execute_result",
          "data": {
            "text/plain": [
              "   id_series  Unnamed: 0     Index Name  Index - 9  Index - 8  Index - 7   \n",
              "0          0           0      V2X Index   0.001045   0.005841   0.003832  \\\n",
              "1          1           1     MOVE Index  -0.021497   0.007891  -0.013175   \n",
              "2          2           2      SPX Index  -0.001872  -0.008154   0.023588   \n",
              "3          3           3      SPX Index   0.004980  -0.000864   0.001677   \n",
              "4          4           4  EURUSD Curncy   0.000360  -0.001893   0.005579   \n",
              "\n",
              "   Index - 6  Index - 5  Index - 4  Index - 3  Index - 2  Index - 1   \n",
              "0  -0.027519  -0.103565  -0.045086  -0.011265   0.005164   0.054050  \\\n",
              "1  -0.008436   0.000000   0.026303   0.000556   0.001455   0.007422   \n",
              "2   0.004086   0.003493   0.003300   0.000885  -0.011304   0.005040   \n",
              "3   0.000000   0.006030  -0.001083   0.000419   0.001492   0.001018   \n",
              "4  -0.003056  -0.001171  -0.001623  -0.002350  -0.006444  -0.000729   \n",
              "\n",
              "   Index - 0  Index + 1        id_ecb      id_fed   \n",
              "0   0.015779   0.010597  [1126, 1471]        [96]  \\\n",
              "1   0.000000   0.014492         [975]       [568]   \n",
              "2   0.000156   0.016263     [78, 806]  [328, 695]   \n",
              "3  -0.002582   0.013581   [560, 1405]       [118]   \n",
              "4  -0.000365   0.005092         [404]       [261]   \n",
              "\n",
              "                                     text_concat_ecb   \n",
              "0  welcome address welcome remark philip r lane m...  \\\n",
              "1  monetary policy structural reform euro area sp...   \n",
              "2  challenge opportunity reboot european financia...   \n",
              "3  create stability uncertain world speech peter ...   \n",
              "4  money private currency reflection libra speech...   \n",
              "\n",
              "                   list_speakers_ecb   \n",
              "0  [Philip R. Lane, Luis de Guindos]  \\\n",
              "1                     [Mario Draghi]   \n",
              "2       [Benoît Cœuré, Benoît Cœuré]   \n",
              "3         [Peter Praet, Peter Praet]   \n",
              "4                      [Yves Mersch]   \n",
              "\n",
              "                                     text_concat_fed   \n",
              "0  delighted helsinki important conference moneta...  \\\n",
              "1  watch live would like thank federal reserve ba...   \n",
              "2  grateful national association business economi...   \n",
              "3  thank invitation speak today begin take stock ...   \n",
              "4  year symposium topic challenge monetary policy...   \n",
              "\n",
              "                                   list_speakers_fed  \n",
              "0                 [Vice Chairman Richard H. Clarida]  \n",
              "1                    [Vice Chairman Stanley Fischer]  \n",
              "2  [Vice Chairman Stanley Fischer, Governor Lael ...  \n",
              "3                        [Governor Jerome H. Powell]  \n",
              "4                        [Chairman Jerome H. Powell]  "
            ],
            "text/html": [
              "\n",
              "  <div id=\"df-b46d4990-810a-46f8-8e58-c4f4d93a34e2\">\n",
              "    <div class=\"colab-df-container\">\n",
              "      <div>\n",
              "<style scoped>\n",
              "    .dataframe tbody tr th:only-of-type {\n",
              "        vertical-align: middle;\n",
              "    }\n",
              "\n",
              "    .dataframe tbody tr th {\n",
              "        vertical-align: top;\n",
              "    }\n",
              "\n",
              "    .dataframe thead th {\n",
              "        text-align: right;\n",
              "    }\n",
              "</style>\n",
              "<table border=\"1\" class=\"dataframe\">\n",
              "  <thead>\n",
              "    <tr style=\"text-align: right;\">\n",
              "      <th></th>\n",
              "      <th>id_series</th>\n",
              "      <th>Unnamed: 0</th>\n",
              "      <th>Index Name</th>\n",
              "      <th>Index - 9</th>\n",
              "      <th>Index - 8</th>\n",
              "      <th>Index - 7</th>\n",
              "      <th>Index - 6</th>\n",
              "      <th>Index - 5</th>\n",
              "      <th>Index - 4</th>\n",
              "      <th>Index - 3</th>\n",
              "      <th>Index - 2</th>\n",
              "      <th>Index - 1</th>\n",
              "      <th>Index - 0</th>\n",
              "      <th>Index + 1</th>\n",
              "      <th>id_ecb</th>\n",
              "      <th>id_fed</th>\n",
              "      <th>text_concat_ecb</th>\n",
              "      <th>list_speakers_ecb</th>\n",
              "      <th>text_concat_fed</th>\n",
              "      <th>list_speakers_fed</th>\n",
              "    </tr>\n",
              "  </thead>\n",
              "  <tbody>\n",
              "    <tr>\n",
              "      <th>0</th>\n",
              "      <td>0</td>\n",
              "      <td>0</td>\n",
              "      <td>V2X Index</td>\n",
              "      <td>0.001045</td>\n",
              "      <td>0.005841</td>\n",
              "      <td>0.003832</td>\n",
              "      <td>-0.027519</td>\n",
              "      <td>-0.103565</td>\n",
              "      <td>-0.045086</td>\n",
              "      <td>-0.011265</td>\n",
              "      <td>0.005164</td>\n",
              "      <td>0.054050</td>\n",
              "      <td>0.015779</td>\n",
              "      <td>0.010597</td>\n",
              "      <td>[1126, 1471]</td>\n",
              "      <td>[96]</td>\n",
              "      <td>welcome address welcome remark philip r lane m...</td>\n",
              "      <td>[Philip R. Lane, Luis de Guindos]</td>\n",
              "      <td>delighted helsinki important conference moneta...</td>\n",
              "      <td>[Vice Chairman Richard H. Clarida]</td>\n",
              "    </tr>\n",
              "    <tr>\n",
              "      <th>1</th>\n",
              "      <td>1</td>\n",
              "      <td>1</td>\n",
              "      <td>MOVE Index</td>\n",
              "      <td>-0.021497</td>\n",
              "      <td>0.007891</td>\n",
              "      <td>-0.013175</td>\n",
              "      <td>-0.008436</td>\n",
              "      <td>0.000000</td>\n",
              "      <td>0.026303</td>\n",
              "      <td>0.000556</td>\n",
              "      <td>0.001455</td>\n",
              "      <td>0.007422</td>\n",
              "      <td>0.000000</td>\n",
              "      <td>0.014492</td>\n",
              "      <td>[975]</td>\n",
              "      <td>[568]</td>\n",
              "      <td>monetary policy structural reform euro area sp...</td>\n",
              "      <td>[Mario Draghi]</td>\n",
              "      <td>watch live would like thank federal reserve ba...</td>\n",
              "      <td>[Vice Chairman Stanley Fischer]</td>\n",
              "    </tr>\n",
              "    <tr>\n",
              "      <th>2</th>\n",
              "      <td>2</td>\n",
              "      <td>2</td>\n",
              "      <td>SPX Index</td>\n",
              "      <td>-0.001872</td>\n",
              "      <td>-0.008154</td>\n",
              "      <td>0.023588</td>\n",
              "      <td>0.004086</td>\n",
              "      <td>0.003493</td>\n",
              "      <td>0.003300</td>\n",
              "      <td>0.000885</td>\n",
              "      <td>-0.011304</td>\n",
              "      <td>0.005040</td>\n",
              "      <td>0.000156</td>\n",
              "      <td>0.016263</td>\n",
              "      <td>[78, 806]</td>\n",
              "      <td>[328, 695]</td>\n",
              "      <td>challenge opportunity reboot european financia...</td>\n",
              "      <td>[Benoît Cœuré, Benoît Cœuré]</td>\n",
              "      <td>grateful national association business economi...</td>\n",
              "      <td>[Vice Chairman Stanley Fischer, Governor Lael ...</td>\n",
              "    </tr>\n",
              "    <tr>\n",
              "      <th>3</th>\n",
              "      <td>3</td>\n",
              "      <td>3</td>\n",
              "      <td>SPX Index</td>\n",
              "      <td>0.004980</td>\n",
              "      <td>-0.000864</td>\n",
              "      <td>0.001677</td>\n",
              "      <td>0.000000</td>\n",
              "      <td>0.006030</td>\n",
              "      <td>-0.001083</td>\n",
              "      <td>0.000419</td>\n",
              "      <td>0.001492</td>\n",
              "      <td>0.001018</td>\n",
              "      <td>-0.002582</td>\n",
              "      <td>0.013581</td>\n",
              "      <td>[560, 1405]</td>\n",
              "      <td>[118]</td>\n",
              "      <td>create stability uncertain world speech peter ...</td>\n",
              "      <td>[Peter Praet, Peter Praet]</td>\n",
              "      <td>thank invitation speak today begin take stock ...</td>\n",
              "      <td>[Governor Jerome H. Powell]</td>\n",
              "    </tr>\n",
              "    <tr>\n",
              "      <th>4</th>\n",
              "      <td>4</td>\n",
              "      <td>4</td>\n",
              "      <td>EURUSD Curncy</td>\n",
              "      <td>0.000360</td>\n",
              "      <td>-0.001893</td>\n",
              "      <td>0.005579</td>\n",
              "      <td>-0.003056</td>\n",
              "      <td>-0.001171</td>\n",
              "      <td>-0.001623</td>\n",
              "      <td>-0.002350</td>\n",
              "      <td>-0.006444</td>\n",
              "      <td>-0.000729</td>\n",
              "      <td>-0.000365</td>\n",
              "      <td>0.005092</td>\n",
              "      <td>[404]</td>\n",
              "      <td>[261]</td>\n",
              "      <td>money private currency reflection libra speech...</td>\n",
              "      <td>[Yves Mersch]</td>\n",
              "      <td>year symposium topic challenge monetary policy...</td>\n",
              "      <td>[Chairman Jerome H. Powell]</td>\n",
              "    </tr>\n",
              "  </tbody>\n",
              "</table>\n",
              "</div>\n",
              "      <button class=\"colab-df-convert\" onclick=\"convertToInteractive('df-b46d4990-810a-46f8-8e58-c4f4d93a34e2')\"\n",
              "              title=\"Convert this dataframe to an interactive table.\"\n",
              "              style=\"display:none;\">\n",
              "        \n",
              "  <svg xmlns=\"http://www.w3.org/2000/svg\" height=\"24px\"viewBox=\"0 0 24 24\"\n",
              "       width=\"24px\">\n",
              "    <path d=\"M0 0h24v24H0V0z\" fill=\"none\"/>\n",
              "    <path d=\"M18.56 5.44l.94 2.06.94-2.06 2.06-.94-2.06-.94-.94-2.06-.94 2.06-2.06.94zm-11 1L8.5 8.5l.94-2.06 2.06-.94-2.06-.94L8.5 2.5l-.94 2.06-2.06.94zm10 10l.94 2.06.94-2.06 2.06-.94-2.06-.94-.94-2.06-.94 2.06-2.06.94z\"/><path d=\"M17.41 7.96l-1.37-1.37c-.4-.4-.92-.59-1.43-.59-.52 0-1.04.2-1.43.59L10.3 9.45l-7.72 7.72c-.78.78-.78 2.05 0 2.83L4 21.41c.39.39.9.59 1.41.59.51 0 1.02-.2 1.41-.59l7.78-7.78 2.81-2.81c.8-.78.8-2.07 0-2.86zM5.41 20L4 18.59l7.72-7.72 1.47 1.35L5.41 20z\"/>\n",
              "  </svg>\n",
              "      </button>\n",
              "      \n",
              "  <style>\n",
              "    .colab-df-container {\n",
              "      display:flex;\n",
              "      flex-wrap:wrap;\n",
              "      gap: 12px;\n",
              "    }\n",
              "\n",
              "    .colab-df-convert {\n",
              "      background-color: #E8F0FE;\n",
              "      border: none;\n",
              "      border-radius: 50%;\n",
              "      cursor: pointer;\n",
              "      display: none;\n",
              "      fill: #1967D2;\n",
              "      height: 32px;\n",
              "      padding: 0 0 0 0;\n",
              "      width: 32px;\n",
              "    }\n",
              "\n",
              "    .colab-df-convert:hover {\n",
              "      background-color: #E2EBFA;\n",
              "      box-shadow: 0px 1px 2px rgba(60, 64, 67, 0.3), 0px 1px 3px 1px rgba(60, 64, 67, 0.15);\n",
              "      fill: #174EA6;\n",
              "    }\n",
              "\n",
              "    [theme=dark] .colab-df-convert {\n",
              "      background-color: #3B4455;\n",
              "      fill: #D2E3FC;\n",
              "    }\n",
              "\n",
              "    [theme=dark] .colab-df-convert:hover {\n",
              "      background-color: #434B5C;\n",
              "      box-shadow: 0px 1px 3px 1px rgba(0, 0, 0, 0.15);\n",
              "      filter: drop-shadow(0px 1px 2px rgba(0, 0, 0, 0.3));\n",
              "      fill: #FFFFFF;\n",
              "    }\n",
              "  </style>\n",
              "\n",
              "      <script>\n",
              "        const buttonEl =\n",
              "          document.querySelector('#df-b46d4990-810a-46f8-8e58-c4f4d93a34e2 button.colab-df-convert');\n",
              "        buttonEl.style.display =\n",
              "          google.colab.kernel.accessAllowed ? 'block' : 'none';\n",
              "\n",
              "        async function convertToInteractive(key) {\n",
              "          const element = document.querySelector('#df-b46d4990-810a-46f8-8e58-c4f4d93a34e2');\n",
              "          const dataTable =\n",
              "            await google.colab.kernel.invokeFunction('convertToInteractive',\n",
              "                                                     [key], {});\n",
              "          if (!dataTable) return;\n",
              "\n",
              "          const docLinkHtml = 'Like what you see? Visit the ' +\n",
              "            '<a target=\"_blank\" href=https://colab.research.google.com/notebooks/data_table.ipynb>data table notebook</a>'\n",
              "            + ' to learn more about interactive tables.';\n",
              "          element.innerHTML = '';\n",
              "          dataTable['output_type'] = 'display_data';\n",
              "          await google.colab.output.renderOutput(dataTable, element);\n",
              "          const docLink = document.createElement('div');\n",
              "          docLink.innerHTML = docLinkHtml;\n",
              "          element.appendChild(docLink);\n",
              "        }\n",
              "      </script>\n",
              "    </div>\n",
              "  </div>\n",
              "  "
            ]
          },
          "metadata": {},
          "execution_count": 33
        }
      ],
      "source": [
        "df_train_series = df_train_series.merge(df_series_ecb_process,on='id_series',how='left')\n",
        "df_train_series = df_train_series.merge(df_series_fed_process,on='id_series',how='left')\n",
        "df_train_series.head()"
      ]
    },
    {
      "cell_type": "markdown",
      "metadata": {
        "id": "iRYohLifnSqi"
      },
      "source": [
        "# Removal Zero value Time series\n",
        "\n",
        "Probably due to a score approximation \n",
        "\n",
        "Some times all indices are null"
      ]
    },
    {
      "cell_type": "code",
      "execution_count": 34,
      "metadata": {
        "colab": {
          "base_uri": "https://localhost:8080/"
        },
        "id": "lXV1mA5FnSqj",
        "outputId": "170b13e5-ff81-4bb3-ae6a-4207cab27ae9"
      },
      "outputs": [
        {
          "output_type": "execute_result",
          "data": {
            "text/plain": [
              "Index Name\n",
              "SRVIX Index         428\n",
              "CVIX Index           70\n",
              "MOVE Index           50\n",
              "VIX Index            41\n",
              "V2X Index            36\n",
              "SPX Index            36\n",
              "SX5E Index           25\n",
              "EURUSDV1M Curncy     13\n",
              "EURUSD Curncy         7\n",
              "Name: count, dtype: int64"
            ]
          },
          "metadata": {},
          "execution_count": 34
        }
      ],
      "source": [
        "df_train_series.loc[df_train_series['Index + 1']==0.0]['Index Name'].value_counts()"
      ]
    },
    {
      "cell_type": "code",
      "execution_count": 35,
      "metadata": {
        "colab": {
          "base_uri": "https://localhost:8080/",
          "height": 478
        },
        "id": "iTU9mofnnSqj",
        "outputId": "f3907006-4a87-4380-d3e3-a301ced2f14e"
      },
      "outputs": [
        {
          "output_type": "execute_result",
          "data": {
            "text/plain": [
              "   id_series  Unnamed: 0     Index Name  Index - 9  Index - 8  Index - 7   \n",
              "0          0           0      V2X Index   0.001045   0.005841   0.003832  \\\n",
              "1          1           1     MOVE Index  -0.021497   0.007891  -0.013175   \n",
              "2          2           2      SPX Index  -0.001872  -0.008154   0.023588   \n",
              "3          3           3      SPX Index   0.004980  -0.000864   0.001677   \n",
              "4          4           4  EURUSD Curncy   0.000360  -0.001893   0.005579   \n",
              "\n",
              "   Index - 6  Index - 5  Index - 4  Index - 3  Index - 2  Index - 1   \n",
              "0  -0.027519  -0.103565  -0.045086  -0.011265   0.005164   0.054050  \\\n",
              "1  -0.008436   0.000000   0.026303   0.000556   0.001455   0.007422   \n",
              "2   0.004086   0.003493   0.003300   0.000885  -0.011304   0.005040   \n",
              "3   0.000000   0.006030  -0.001083   0.000419   0.001492   0.001018   \n",
              "4  -0.003056  -0.001171  -0.001623  -0.002350  -0.006444  -0.000729   \n",
              "\n",
              "   Index - 0  Index + 1        id_ecb      id_fed   \n",
              "0   0.015779   0.010597  [1126, 1471]        [96]  \\\n",
              "1   0.000000   0.014492         [975]       [568]   \n",
              "2   0.000156   0.016263     [78, 806]  [328, 695]   \n",
              "3  -0.002582   0.013581   [560, 1405]       [118]   \n",
              "4  -0.000365   0.005092         [404]       [261]   \n",
              "\n",
              "                                     text_concat_ecb   \n",
              "0  welcome address welcome remark philip r lane m...  \\\n",
              "1  monetary policy structural reform euro area sp...   \n",
              "2  challenge opportunity reboot european financia...   \n",
              "3  create stability uncertain world speech peter ...   \n",
              "4  money private currency reflection libra speech...   \n",
              "\n",
              "                   list_speakers_ecb   \n",
              "0  [Philip R. Lane, Luis de Guindos]  \\\n",
              "1                     [Mario Draghi]   \n",
              "2       [Benoît Cœuré, Benoît Cœuré]   \n",
              "3         [Peter Praet, Peter Praet]   \n",
              "4                      [Yves Mersch]   \n",
              "\n",
              "                                     text_concat_fed   \n",
              "0  delighted helsinki important conference moneta...  \\\n",
              "1  watch live would like thank federal reserve ba...   \n",
              "2  grateful national association business economi...   \n",
              "3  thank invitation speak today begin take stock ...   \n",
              "4  year symposium topic challenge monetary policy...   \n",
              "\n",
              "                                   list_speakers_fed  \n",
              "0                 [Vice Chairman Richard H. Clarida]  \n",
              "1                    [Vice Chairman Stanley Fischer]  \n",
              "2  [Vice Chairman Stanley Fischer, Governor Lael ...  \n",
              "3                        [Governor Jerome H. Powell]  \n",
              "4                        [Chairman Jerome H. Powell]  "
            ],
            "text/html": [
              "\n",
              "  <div id=\"df-250eccf6-99c8-418a-a634-db7303b7f265\">\n",
              "    <div class=\"colab-df-container\">\n",
              "      <div>\n",
              "<style scoped>\n",
              "    .dataframe tbody tr th:only-of-type {\n",
              "        vertical-align: middle;\n",
              "    }\n",
              "\n",
              "    .dataframe tbody tr th {\n",
              "        vertical-align: top;\n",
              "    }\n",
              "\n",
              "    .dataframe thead th {\n",
              "        text-align: right;\n",
              "    }\n",
              "</style>\n",
              "<table border=\"1\" class=\"dataframe\">\n",
              "  <thead>\n",
              "    <tr style=\"text-align: right;\">\n",
              "      <th></th>\n",
              "      <th>id_series</th>\n",
              "      <th>Unnamed: 0</th>\n",
              "      <th>Index Name</th>\n",
              "      <th>Index - 9</th>\n",
              "      <th>Index - 8</th>\n",
              "      <th>Index - 7</th>\n",
              "      <th>Index - 6</th>\n",
              "      <th>Index - 5</th>\n",
              "      <th>Index - 4</th>\n",
              "      <th>Index - 3</th>\n",
              "      <th>Index - 2</th>\n",
              "      <th>Index - 1</th>\n",
              "      <th>Index - 0</th>\n",
              "      <th>Index + 1</th>\n",
              "      <th>id_ecb</th>\n",
              "      <th>id_fed</th>\n",
              "      <th>text_concat_ecb</th>\n",
              "      <th>list_speakers_ecb</th>\n",
              "      <th>text_concat_fed</th>\n",
              "      <th>list_speakers_fed</th>\n",
              "    </tr>\n",
              "  </thead>\n",
              "  <tbody>\n",
              "    <tr>\n",
              "      <th>0</th>\n",
              "      <td>0</td>\n",
              "      <td>0</td>\n",
              "      <td>V2X Index</td>\n",
              "      <td>0.001045</td>\n",
              "      <td>0.005841</td>\n",
              "      <td>0.003832</td>\n",
              "      <td>-0.027519</td>\n",
              "      <td>-0.103565</td>\n",
              "      <td>-0.045086</td>\n",
              "      <td>-0.011265</td>\n",
              "      <td>0.005164</td>\n",
              "      <td>0.054050</td>\n",
              "      <td>0.015779</td>\n",
              "      <td>0.010597</td>\n",
              "      <td>[1126, 1471]</td>\n",
              "      <td>[96]</td>\n",
              "      <td>welcome address welcome remark philip r lane m...</td>\n",
              "      <td>[Philip R. Lane, Luis de Guindos]</td>\n",
              "      <td>delighted helsinki important conference moneta...</td>\n",
              "      <td>[Vice Chairman Richard H. Clarida]</td>\n",
              "    </tr>\n",
              "    <tr>\n",
              "      <th>1</th>\n",
              "      <td>1</td>\n",
              "      <td>1</td>\n",
              "      <td>MOVE Index</td>\n",
              "      <td>-0.021497</td>\n",
              "      <td>0.007891</td>\n",
              "      <td>-0.013175</td>\n",
              "      <td>-0.008436</td>\n",
              "      <td>0.000000</td>\n",
              "      <td>0.026303</td>\n",
              "      <td>0.000556</td>\n",
              "      <td>0.001455</td>\n",
              "      <td>0.007422</td>\n",
              "      <td>0.000000</td>\n",
              "      <td>0.014492</td>\n",
              "      <td>[975]</td>\n",
              "      <td>[568]</td>\n",
              "      <td>monetary policy structural reform euro area sp...</td>\n",
              "      <td>[Mario Draghi]</td>\n",
              "      <td>watch live would like thank federal reserve ba...</td>\n",
              "      <td>[Vice Chairman Stanley Fischer]</td>\n",
              "    </tr>\n",
              "    <tr>\n",
              "      <th>2</th>\n",
              "      <td>2</td>\n",
              "      <td>2</td>\n",
              "      <td>SPX Index</td>\n",
              "      <td>-0.001872</td>\n",
              "      <td>-0.008154</td>\n",
              "      <td>0.023588</td>\n",
              "      <td>0.004086</td>\n",
              "      <td>0.003493</td>\n",
              "      <td>0.003300</td>\n",
              "      <td>0.000885</td>\n",
              "      <td>-0.011304</td>\n",
              "      <td>0.005040</td>\n",
              "      <td>0.000156</td>\n",
              "      <td>0.016263</td>\n",
              "      <td>[78, 806]</td>\n",
              "      <td>[328, 695]</td>\n",
              "      <td>challenge opportunity reboot european financia...</td>\n",
              "      <td>[Benoît Cœuré, Benoît Cœuré]</td>\n",
              "      <td>grateful national association business economi...</td>\n",
              "      <td>[Vice Chairman Stanley Fischer, Governor Lael ...</td>\n",
              "    </tr>\n",
              "    <tr>\n",
              "      <th>3</th>\n",
              "      <td>3</td>\n",
              "      <td>3</td>\n",
              "      <td>SPX Index</td>\n",
              "      <td>0.004980</td>\n",
              "      <td>-0.000864</td>\n",
              "      <td>0.001677</td>\n",
              "      <td>0.000000</td>\n",
              "      <td>0.006030</td>\n",
              "      <td>-0.001083</td>\n",
              "      <td>0.000419</td>\n",
              "      <td>0.001492</td>\n",
              "      <td>0.001018</td>\n",
              "      <td>-0.002582</td>\n",
              "      <td>0.013581</td>\n",
              "      <td>[560, 1405]</td>\n",
              "      <td>[118]</td>\n",
              "      <td>create stability uncertain world speech peter ...</td>\n",
              "      <td>[Peter Praet, Peter Praet]</td>\n",
              "      <td>thank invitation speak today begin take stock ...</td>\n",
              "      <td>[Governor Jerome H. Powell]</td>\n",
              "    </tr>\n",
              "    <tr>\n",
              "      <th>4</th>\n",
              "      <td>4</td>\n",
              "      <td>4</td>\n",
              "      <td>EURUSD Curncy</td>\n",
              "      <td>0.000360</td>\n",
              "      <td>-0.001893</td>\n",
              "      <td>0.005579</td>\n",
              "      <td>-0.003056</td>\n",
              "      <td>-0.001171</td>\n",
              "      <td>-0.001623</td>\n",
              "      <td>-0.002350</td>\n",
              "      <td>-0.006444</td>\n",
              "      <td>-0.000729</td>\n",
              "      <td>-0.000365</td>\n",
              "      <td>0.005092</td>\n",
              "      <td>[404]</td>\n",
              "      <td>[261]</td>\n",
              "      <td>money private currency reflection libra speech...</td>\n",
              "      <td>[Yves Mersch]</td>\n",
              "      <td>year symposium topic challenge monetary policy...</td>\n",
              "      <td>[Chairman Jerome H. Powell]</td>\n",
              "    </tr>\n",
              "  </tbody>\n",
              "</table>\n",
              "</div>\n",
              "      <button class=\"colab-df-convert\" onclick=\"convertToInteractive('df-250eccf6-99c8-418a-a634-db7303b7f265')\"\n",
              "              title=\"Convert this dataframe to an interactive table.\"\n",
              "              style=\"display:none;\">\n",
              "        \n",
              "  <svg xmlns=\"http://www.w3.org/2000/svg\" height=\"24px\"viewBox=\"0 0 24 24\"\n",
              "       width=\"24px\">\n",
              "    <path d=\"M0 0h24v24H0V0z\" fill=\"none\"/>\n",
              "    <path d=\"M18.56 5.44l.94 2.06.94-2.06 2.06-.94-2.06-.94-.94-2.06-.94 2.06-2.06.94zm-11 1L8.5 8.5l.94-2.06 2.06-.94-2.06-.94L8.5 2.5l-.94 2.06-2.06.94zm10 10l.94 2.06.94-2.06 2.06-.94-2.06-.94-.94-2.06-.94 2.06-2.06.94z\"/><path d=\"M17.41 7.96l-1.37-1.37c-.4-.4-.92-.59-1.43-.59-.52 0-1.04.2-1.43.59L10.3 9.45l-7.72 7.72c-.78.78-.78 2.05 0 2.83L4 21.41c.39.39.9.59 1.41.59.51 0 1.02-.2 1.41-.59l7.78-7.78 2.81-2.81c.8-.78.8-2.07 0-2.86zM5.41 20L4 18.59l7.72-7.72 1.47 1.35L5.41 20z\"/>\n",
              "  </svg>\n",
              "      </button>\n",
              "      \n",
              "  <style>\n",
              "    .colab-df-container {\n",
              "      display:flex;\n",
              "      flex-wrap:wrap;\n",
              "      gap: 12px;\n",
              "    }\n",
              "\n",
              "    .colab-df-convert {\n",
              "      background-color: #E8F0FE;\n",
              "      border: none;\n",
              "      border-radius: 50%;\n",
              "      cursor: pointer;\n",
              "      display: none;\n",
              "      fill: #1967D2;\n",
              "      height: 32px;\n",
              "      padding: 0 0 0 0;\n",
              "      width: 32px;\n",
              "    }\n",
              "\n",
              "    .colab-df-convert:hover {\n",
              "      background-color: #E2EBFA;\n",
              "      box-shadow: 0px 1px 2px rgba(60, 64, 67, 0.3), 0px 1px 3px 1px rgba(60, 64, 67, 0.15);\n",
              "      fill: #174EA6;\n",
              "    }\n",
              "\n",
              "    [theme=dark] .colab-df-convert {\n",
              "      background-color: #3B4455;\n",
              "      fill: #D2E3FC;\n",
              "    }\n",
              "\n",
              "    [theme=dark] .colab-df-convert:hover {\n",
              "      background-color: #434B5C;\n",
              "      box-shadow: 0px 1px 3px 1px rgba(0, 0, 0, 0.15);\n",
              "      filter: drop-shadow(0px 1px 2px rgba(0, 0, 0, 0.3));\n",
              "      fill: #FFFFFF;\n",
              "    }\n",
              "  </style>\n",
              "\n",
              "      <script>\n",
              "        const buttonEl =\n",
              "          document.querySelector('#df-250eccf6-99c8-418a-a634-db7303b7f265 button.colab-df-convert');\n",
              "        buttonEl.style.display =\n",
              "          google.colab.kernel.accessAllowed ? 'block' : 'none';\n",
              "\n",
              "        async function convertToInteractive(key) {\n",
              "          const element = document.querySelector('#df-250eccf6-99c8-418a-a634-db7303b7f265');\n",
              "          const dataTable =\n",
              "            await google.colab.kernel.invokeFunction('convertToInteractive',\n",
              "                                                     [key], {});\n",
              "          if (!dataTable) return;\n",
              "\n",
              "          const docLinkHtml = 'Like what you see? Visit the ' +\n",
              "            '<a target=\"_blank\" href=https://colab.research.google.com/notebooks/data_table.ipynb>data table notebook</a>'\n",
              "            + ' to learn more about interactive tables.';\n",
              "          element.innerHTML = '';\n",
              "          dataTable['output_type'] = 'display_data';\n",
              "          await google.colab.output.renderOutput(dataTable, element);\n",
              "          const docLink = document.createElement('div');\n",
              "          docLink.innerHTML = docLinkHtml;\n",
              "          element.appendChild(docLink);\n",
              "        }\n",
              "      </script>\n",
              "    </div>\n",
              "  </div>\n",
              "  "
            ]
          },
          "metadata": {},
          "execution_count": 35
        }
      ],
      "source": [
        "sup = df_train_series.loc[df_train_series['Index + 1']==0.0].index\n",
        "df_train_series.drop(sup,inplace=True)\n",
        "df_train_series.head()"
      ]
    },
    {
      "cell_type": "code",
      "execution_count": 36,
      "metadata": {
        "id": "yX8h6ExAnSqj"
      },
      "outputs": [],
      "source": [
        "#df_train_series.to_csv(\"./data/train_series_clean_no_0.csv\")"
      ]
    },
    {
      "cell_type": "code",
      "execution_count": 37,
      "metadata": {
        "colab": {
          "base_uri": "https://localhost:8080/"
        },
        "id": "qlbxtMrSug2Z",
        "outputId": "94e2a98d-caf4-4641-864d-d33898e25a9c"
      },
      "outputs": [
        {
          "output_type": "execute_result",
          "data": {
            "text/plain": [
              "Index(['id_series', 'Unnamed: 0', 'Index Name', 'Index - 9', 'Index - 8',\n",
              "       'Index - 7', 'Index - 6', 'Index - 5', 'Index - 4', 'Index - 3',\n",
              "       'Index - 2', 'Index - 1', 'Index - 0', 'Index + 1', 'id_ecb', 'id_fed',\n",
              "       'text_concat_ecb', 'list_speakers_ecb', 'text_concat_fed',\n",
              "       'list_speakers_fed'],\n",
              "      dtype='object')"
            ]
          },
          "metadata": {},
          "execution_count": 37
        }
      ],
      "source": [
        "df_train_series.columns "
      ]
    },
    {
      "cell_type": "markdown",
      "metadata": {
        "id": "ql3gJq5-JxMQ"
      },
      "source": [
        "# Tokenisation\n"
      ]
    },
    {
      "cell_type": "markdown",
      "metadata": {
        "id": "bqELFt5suFjC"
      },
      "source": [
        "On va désormais procéder à l'étape de tokenisation de notre texte. La tokenization permet de transformer le texte brut en une liste de tokens, qui peuvent être analysés par la suite lors de l'analyse des sentiments. En divisant le texte en unités de sens plus petites, la tokenization permet également de réduire la complexité du texte et de faciliter son analyse."
      ]
    },
    {
      "cell_type": "code",
      "execution_count": 38,
      "metadata": {
        "colab": {
          "base_uri": "https://localhost:8080/"
        },
        "id": "AXFHnU8bKesi",
        "outputId": "ee22429c-02d0-49ea-cfa8-225666f813ca"
      },
      "outputs": [
        {
          "output_type": "stream",
          "name": "stderr",
          "text": [
            "[nltk_data] Downloading package punkt to /root/nltk_data...\n",
            "[nltk_data]   Package punkt is already up-to-date!\n"
          ]
        }
      ],
      "source": [
        "import nltk\n",
        "from nltk.tokenize import word_tokenize\n",
        "\n",
        "nltk.download('punkt')\n",
        "\n",
        "# Création d'une fonction de tokenisation\n",
        "def tokenize_text(text):\n",
        "    tokens = word_tokenize(text)\n",
        "    return tokens\n",
        "\n",
        "# Appliquer la fonction de tokenisation à chaque ligne de la colonne \"\n",
        "df_train_series['text_concat_ecb_tokenisé'] = df_train_series['text_concat_ecb'].apply(tokenize_text)\n",
        "df_train_series['text_concat_fed_tokenisé'] = df_train_series['text_concat_fed'].apply(tokenize_text)\n",
        "\n"
      ]
    },
    {
      "cell_type": "code",
      "execution_count": 39,
      "metadata": {
        "colab": {
          "base_uri": "https://localhost:8080/"
        },
        "id": "7XZQ3oxYxOPr",
        "outputId": "2daac977-8249-4401-ae14-764919f6a2b8"
      },
      "outputs": [
        {
          "output_type": "execute_result",
          "data": {
            "text/plain": [
              "0    [delighted, helsinki, important, conference, m...\n",
              "1    [watch, live, would, like, thank, federal, res...\n",
              "2    [grateful, national, association, business, ec...\n",
              "3    [thank, invitation, speak, today, begin, take,...\n",
              "4    [year, symposium, topic, challenge, monetary, ...\n",
              "Name: text_concat_fed_tokenisé, dtype: object"
            ]
          },
          "metadata": {},
          "execution_count": 39
        }
      ],
      "source": [
        "df_train_series['text_concat_fed_tokenisé'].head()"
      ]
    },
    {
      "cell_type": "code",
      "execution_count": 78,
      "metadata": {
        "colab": {
          "base_uri": "https://localhost:8080/"
        },
        "id": "OafIFskLKev6",
        "outputId": "91b05880-ade2-4c70-9f83-719c95ab7ecc"
      },
      "outputs": [
        {
          "output_type": "execute_result",
          "data": {
            "text/plain": [
              "0       Hausse\n",
              "1       Hausse\n",
              "2       Hausse\n",
              "3       Hausse\n",
              "4       Hausse\n",
              "         ...  \n",
              "8941    Baisse\n",
              "8942    Baisse\n",
              "8943    Hausse\n",
              "8944    Baisse\n",
              "8945    Hausse\n",
              "Name: V_cible, Length: 8240, dtype: object"
            ]
          },
          "metadata": {},
          "execution_count": 78
        }
      ],
      "source": [
        "# On crée une nouvelle colonne appelé 'V_Cible_categ', rendant catégorielle notre variable cible (pour la classification)\n",
        "\n",
        "df_train_series['V_cible'] = df_train_series['Index + 1'].apply(lambda x: 'Hausse' if x > 0 else 'Baisse')\n",
        "df_train_series['V_cible']"
      ]
    },
    {
      "cell_type": "code",
      "execution_count": 41,
      "metadata": {
        "colab": {
          "base_uri": "https://localhost:8080/"
        },
        "id": "s_AwqGhvDukt",
        "outputId": "de6b7c5b-47d2-4704-90a6-300a5861ddee"
      },
      "outputs": [
        {
          "output_type": "execute_result",
          "data": {
            "text/plain": [
              "Index(['id_series', 'Unnamed: 0', 'Index Name', 'Index - 9', 'Index - 8',\n",
              "       'Index - 7', 'Index - 6', 'Index - 5', 'Index - 4', 'Index - 3',\n",
              "       'Index - 2', 'Index - 1', 'Index - 0', 'Index + 1', 'id_ecb', 'id_fed',\n",
              "       'text_concat_ecb', 'list_speakers_ecb', 'text_concat_fed',\n",
              "       'list_speakers_fed', 'text_concat_ecb_tokenisé',\n",
              "       'text_concat_fed_tokenisé', 'Variable_cible_catégorielle'],\n",
              "      dtype='object')"
            ]
          },
          "metadata": {},
          "execution_count": 41
        }
      ],
      "source": [
        "df_train_series.columns"
      ]
    },
    {
      "cell_type": "markdown",
      "metadata": {
        "id": "KQ1ByK6EwP8G"
      },
      "source": [
        "# Sentiment Analysis\n"
      ]
    },
    {
      "cell_type": "markdown",
      "metadata": {
        "id": "ntwKvSjybzFG"
      },
      "source": [
        "In this section, we conducted a sentiment analysis on our textual data to predict market trends. To achieve this, we used two well-known sentiment analysis algorithms, TextBlob and Vader, which are not specifically designed for financial analysis. Additionally, we used two algorithms that are specifically adapted for financial sentiment analysis, HIV4 and Loughran and McDonald. By comparing the results of these four algorithms, we can gain insights into the effectiveness of different sentiment analysis techniques for predicting financial market movements."
      ]
    },
    {
      "cell_type": "markdown",
      "metadata": {
        "id": "zKWm6DYUcswt"
      },
      "source": [
        "## TextBlob"
      ]
    },
    {
      "cell_type": "markdown",
      "metadata": {
        "id": "SbCdmI6SjpgC"
      },
      "source": [
        "1/ Sentiment analysis with TextBlob"
      ]
    },
    {
      "cell_type": "code",
      "execution_count": 43,
      "metadata": {
        "id": "DSirBsn2wUyA"
      },
      "outputs": [],
      "source": [
        "from textblob import TextBlob\n",
        "\n",
        "\n",
        "# Add a column for polarity score\n",
        "\n",
        "df_train_series['polarity_score_ecb_TB'] = df_train_series['text_concat_ecb_tokenisé'].apply(lambda x: TextBlob(' '.join(x)).sentiment.polarity)\n",
        "df_train_series['polarity_score_fed_TB'] = df_train_series['text_concat_fed_tokenisé'].apply(lambda x: TextBlob(' '.join(x)).sentiment.polarity)\n",
        "\n",
        "# Add a column for subjectivity score\n",
        "\n",
        "df_train_series['subjectivity_score_ecb_TB'] = df_train_series['text_concat_ecb_tokenisé'].apply(lambda x: TextBlob(' '.join(x)).sentiment.subjectivity)\n",
        "df_train_series['subjectivity_score_fed_TB'] = df_train_series['text_concat_fed_tokenisé'].apply(lambda x: TextBlob(' '.join(x)).sentiment.subjectivity)\n"
      ]
    },
    {
      "cell_type": "code",
      "execution_count": 44,
      "metadata": {
        "id": "i0LbLoT3GsGX"
      },
      "outputs": [],
      "source": [
        "# Add a column for sentiment labeling\n",
        "\n",
        "\n",
        "\n",
        "\n",
        "\n",
        "df_train_series['sentiment_label_ecb_TB'] = df_train_series['polarity_score_ecb_TB'].apply(lambda x: 'positive' if x > 0.1 else 'negative' if x < -0.1 else 'neutral')\n",
        "df_train_series['sentiment_label_fed_TB'] = df_train_series['polarity_score_fed_TB'].apply(lambda x: 'positive' if x > 0.1 else 'negative' if x < -0.1 else 'neutral')\n",
        "\n",
        "def ma_fonction(a, b):\n",
        "  if a+b > 0.1:\n",
        "    return 'positive'\n",
        "  elif a+b< 0.1:\n",
        "    return 'negative'\n",
        "  else:\n",
        "    return 'neutral'\n",
        " \n",
        "\n",
        "\n",
        "df_train_series['sentiment_label_TB'] = df_train_series.apply(lambda row: ma_fonction(row['polarity_score_ecb_TB'],row['polarity_score_fed_TB']),axis=1)\n"
      ]
    },
    {
      "cell_type": "markdown",
      "metadata": {
        "id": "opqkFvkIGLXJ"
      },
      "source": [
        "We sum up the polarity scores of fed and ecb. We assign the label 'positive' if the polarity score is >0.1, 'negative' if <-0.1, and 'neutral' otherwise.\n",
        "\n",
        "\n",
        "\n"
      ]
    },
    {
      "cell_type": "code",
      "execution_count": 45,
      "metadata": {
        "colab": {
          "base_uri": "https://localhost:8080/",
          "height": 501
        },
        "id": "hh3x2Q3RibbU",
        "outputId": "e01e8bd1-c628-4c6e-c6e1-9cc2997bc418"
      },
      "outputs": [
        {
          "output_type": "execute_result",
          "data": {
            "text/plain": [
              "   id_series  Unnamed: 0     Index Name  Index - 9  Index - 8  Index - 7   \n",
              "0          0           0      V2X Index   0.001045   0.005841   0.003832  \\\n",
              "1          1           1     MOVE Index  -0.021497   0.007891  -0.013175   \n",
              "2          2           2      SPX Index  -0.001872  -0.008154   0.023588   \n",
              "3          3           3      SPX Index   0.004980  -0.000864   0.001677   \n",
              "4          4           4  EURUSD Curncy   0.000360  -0.001893   0.005579   \n",
              "5          5           5      SPX Index   0.001815  -0.003185  -0.011381   \n",
              "7          7           7     CVIX Index  -0.035118   0.006281   0.001287   \n",
              "\n",
              "   Index - 6  Index - 5  Index - 4  Index - 3  ...   \n",
              "0  -0.027519  -0.103565  -0.045086  -0.011265  ...  \\\n",
              "1  -0.008436   0.000000   0.026303   0.000556  ...   \n",
              "2   0.004086   0.003493   0.003300   0.000885  ...   \n",
              "3   0.000000   0.006030  -0.001083   0.000419  ...   \n",
              "4  -0.003056  -0.001171  -0.001623  -0.002350  ...   \n",
              "5  -0.003778  -0.000101   0.006300  -0.003106  ...   \n",
              "7   0.007914  -0.031893  -0.018767  -0.009505  ...   \n",
              "\n",
              "                            text_concat_ecb_tokenisé   \n",
              "0  [welcome, address, welcome, remark, philip, r,...  \\\n",
              "1  [monetary, policy, structural, reform, euro, a...   \n",
              "2  [challenge, opportunity, reboot, european, fin...   \n",
              "3  [create, stability, uncertain, world, speech, ...   \n",
              "4  [money, private, currency, reflection, libra, ...   \n",
              "5  [hear, committee, economic, monetary, affair, ...   \n",
              "7  [international, monetary, system, towards, new...   \n",
              "\n",
              "                            text_concat_fed_tokenisé   \n",
              "0  [delighted, helsinki, important, conference, m...  \\\n",
              "1  [watch, live, would, like, thank, federal, res...   \n",
              "2  [grateful, national, association, business, ec...   \n",
              "3  [thank, invitation, speak, today, begin, take,...   \n",
              "4  [year, symposium, topic, challenge, monetary, ...   \n",
              "5  [paul, alan, disadvantage, u, ask, reflect, te...   \n",
              "7  [delighted, participate, brimmer, policy, foru...   \n",
              "\n",
              "   Variable_cible_catégorielle  polarity_score_ecb_TB polarity_score_fed_TB   \n",
              "0                       Hausse               0.058804              0.083488  \\\n",
              "1                       Hausse               0.075094              0.064017   \n",
              "2                       Hausse               0.075828              0.065152   \n",
              "3                       Hausse               0.085738              0.076183   \n",
              "4                       Hausse               0.061226              0.124564   \n",
              "5                       Hausse               0.070573              0.078779   \n",
              "7                       Baisse               0.074694              0.049604   \n",
              "\n",
              "  subjectivity_score_ecb_TB subjectivity_score_fed_TB sentiment_label_ecb_TB   \n",
              "0                  0.333255                  0.406072                neutral  \\\n",
              "1                  0.442873                  0.388628                neutral   \n",
              "2                  0.374899                  0.417488                neutral   \n",
              "3                  0.393368                  0.393578                neutral   \n",
              "4                  0.342816                  0.396657                neutral   \n",
              "5                  0.378880                  0.414213                neutral   \n",
              "7                  0.344159                  0.374191                neutral   \n",
              "\n",
              "  sentiment_label_fed_TB sentiment_label_TB  \n",
              "0                neutral           positive  \n",
              "1                neutral           positive  \n",
              "2                neutral           positive  \n",
              "3                neutral           positive  \n",
              "4               positive           positive  \n",
              "5                neutral           positive  \n",
              "7                neutral           positive  \n",
              "\n",
              "[7 rows x 30 columns]"
            ],
            "text/html": [
              "\n",
              "  <div id=\"df-83d901dd-ba57-4178-8533-372d5aabf7ef\">\n",
              "    <div class=\"colab-df-container\">\n",
              "      <div>\n",
              "<style scoped>\n",
              "    .dataframe tbody tr th:only-of-type {\n",
              "        vertical-align: middle;\n",
              "    }\n",
              "\n",
              "    .dataframe tbody tr th {\n",
              "        vertical-align: top;\n",
              "    }\n",
              "\n",
              "    .dataframe thead th {\n",
              "        text-align: right;\n",
              "    }\n",
              "</style>\n",
              "<table border=\"1\" class=\"dataframe\">\n",
              "  <thead>\n",
              "    <tr style=\"text-align: right;\">\n",
              "      <th></th>\n",
              "      <th>id_series</th>\n",
              "      <th>Unnamed: 0</th>\n",
              "      <th>Index Name</th>\n",
              "      <th>Index - 9</th>\n",
              "      <th>Index - 8</th>\n",
              "      <th>Index - 7</th>\n",
              "      <th>Index - 6</th>\n",
              "      <th>Index - 5</th>\n",
              "      <th>Index - 4</th>\n",
              "      <th>Index - 3</th>\n",
              "      <th>...</th>\n",
              "      <th>text_concat_ecb_tokenisé</th>\n",
              "      <th>text_concat_fed_tokenisé</th>\n",
              "      <th>Variable_cible_catégorielle</th>\n",
              "      <th>polarity_score_ecb_TB</th>\n",
              "      <th>polarity_score_fed_TB</th>\n",
              "      <th>subjectivity_score_ecb_TB</th>\n",
              "      <th>subjectivity_score_fed_TB</th>\n",
              "      <th>sentiment_label_ecb_TB</th>\n",
              "      <th>sentiment_label_fed_TB</th>\n",
              "      <th>sentiment_label_TB</th>\n",
              "    </tr>\n",
              "  </thead>\n",
              "  <tbody>\n",
              "    <tr>\n",
              "      <th>0</th>\n",
              "      <td>0</td>\n",
              "      <td>0</td>\n",
              "      <td>V2X Index</td>\n",
              "      <td>0.001045</td>\n",
              "      <td>0.005841</td>\n",
              "      <td>0.003832</td>\n",
              "      <td>-0.027519</td>\n",
              "      <td>-0.103565</td>\n",
              "      <td>-0.045086</td>\n",
              "      <td>-0.011265</td>\n",
              "      <td>...</td>\n",
              "      <td>[welcome, address, welcome, remark, philip, r,...</td>\n",
              "      <td>[delighted, helsinki, important, conference, m...</td>\n",
              "      <td>Hausse</td>\n",
              "      <td>0.058804</td>\n",
              "      <td>0.083488</td>\n",
              "      <td>0.333255</td>\n",
              "      <td>0.406072</td>\n",
              "      <td>neutral</td>\n",
              "      <td>neutral</td>\n",
              "      <td>positive</td>\n",
              "    </tr>\n",
              "    <tr>\n",
              "      <th>1</th>\n",
              "      <td>1</td>\n",
              "      <td>1</td>\n",
              "      <td>MOVE Index</td>\n",
              "      <td>-0.021497</td>\n",
              "      <td>0.007891</td>\n",
              "      <td>-0.013175</td>\n",
              "      <td>-0.008436</td>\n",
              "      <td>0.000000</td>\n",
              "      <td>0.026303</td>\n",
              "      <td>0.000556</td>\n",
              "      <td>...</td>\n",
              "      <td>[monetary, policy, structural, reform, euro, a...</td>\n",
              "      <td>[watch, live, would, like, thank, federal, res...</td>\n",
              "      <td>Hausse</td>\n",
              "      <td>0.075094</td>\n",
              "      <td>0.064017</td>\n",
              "      <td>0.442873</td>\n",
              "      <td>0.388628</td>\n",
              "      <td>neutral</td>\n",
              "      <td>neutral</td>\n",
              "      <td>positive</td>\n",
              "    </tr>\n",
              "    <tr>\n",
              "      <th>2</th>\n",
              "      <td>2</td>\n",
              "      <td>2</td>\n",
              "      <td>SPX Index</td>\n",
              "      <td>-0.001872</td>\n",
              "      <td>-0.008154</td>\n",
              "      <td>0.023588</td>\n",
              "      <td>0.004086</td>\n",
              "      <td>0.003493</td>\n",
              "      <td>0.003300</td>\n",
              "      <td>0.000885</td>\n",
              "      <td>...</td>\n",
              "      <td>[challenge, opportunity, reboot, european, fin...</td>\n",
              "      <td>[grateful, national, association, business, ec...</td>\n",
              "      <td>Hausse</td>\n",
              "      <td>0.075828</td>\n",
              "      <td>0.065152</td>\n",
              "      <td>0.374899</td>\n",
              "      <td>0.417488</td>\n",
              "      <td>neutral</td>\n",
              "      <td>neutral</td>\n",
              "      <td>positive</td>\n",
              "    </tr>\n",
              "    <tr>\n",
              "      <th>3</th>\n",
              "      <td>3</td>\n",
              "      <td>3</td>\n",
              "      <td>SPX Index</td>\n",
              "      <td>0.004980</td>\n",
              "      <td>-0.000864</td>\n",
              "      <td>0.001677</td>\n",
              "      <td>0.000000</td>\n",
              "      <td>0.006030</td>\n",
              "      <td>-0.001083</td>\n",
              "      <td>0.000419</td>\n",
              "      <td>...</td>\n",
              "      <td>[create, stability, uncertain, world, speech, ...</td>\n",
              "      <td>[thank, invitation, speak, today, begin, take,...</td>\n",
              "      <td>Hausse</td>\n",
              "      <td>0.085738</td>\n",
              "      <td>0.076183</td>\n",
              "      <td>0.393368</td>\n",
              "      <td>0.393578</td>\n",
              "      <td>neutral</td>\n",
              "      <td>neutral</td>\n",
              "      <td>positive</td>\n",
              "    </tr>\n",
              "    <tr>\n",
              "      <th>4</th>\n",
              "      <td>4</td>\n",
              "      <td>4</td>\n",
              "      <td>EURUSD Curncy</td>\n",
              "      <td>0.000360</td>\n",
              "      <td>-0.001893</td>\n",
              "      <td>0.005579</td>\n",
              "      <td>-0.003056</td>\n",
              "      <td>-0.001171</td>\n",
              "      <td>-0.001623</td>\n",
              "      <td>-0.002350</td>\n",
              "      <td>...</td>\n",
              "      <td>[money, private, currency, reflection, libra, ...</td>\n",
              "      <td>[year, symposium, topic, challenge, monetary, ...</td>\n",
              "      <td>Hausse</td>\n",
              "      <td>0.061226</td>\n",
              "      <td>0.124564</td>\n",
              "      <td>0.342816</td>\n",
              "      <td>0.396657</td>\n",
              "      <td>neutral</td>\n",
              "      <td>positive</td>\n",
              "      <td>positive</td>\n",
              "    </tr>\n",
              "    <tr>\n",
              "      <th>5</th>\n",
              "      <td>5</td>\n",
              "      <td>5</td>\n",
              "      <td>SPX Index</td>\n",
              "      <td>0.001815</td>\n",
              "      <td>-0.003185</td>\n",
              "      <td>-0.011381</td>\n",
              "      <td>-0.003778</td>\n",
              "      <td>-0.000101</td>\n",
              "      <td>0.006300</td>\n",
              "      <td>-0.003106</td>\n",
              "      <td>...</td>\n",
              "      <td>[hear, committee, economic, monetary, affair, ...</td>\n",
              "      <td>[paul, alan, disadvantage, u, ask, reflect, te...</td>\n",
              "      <td>Hausse</td>\n",
              "      <td>0.070573</td>\n",
              "      <td>0.078779</td>\n",
              "      <td>0.378880</td>\n",
              "      <td>0.414213</td>\n",
              "      <td>neutral</td>\n",
              "      <td>neutral</td>\n",
              "      <td>positive</td>\n",
              "    </tr>\n",
              "    <tr>\n",
              "      <th>7</th>\n",
              "      <td>7</td>\n",
              "      <td>7</td>\n",
              "      <td>CVIX Index</td>\n",
              "      <td>-0.035118</td>\n",
              "      <td>0.006281</td>\n",
              "      <td>0.001287</td>\n",
              "      <td>0.007914</td>\n",
              "      <td>-0.031893</td>\n",
              "      <td>-0.018767</td>\n",
              "      <td>-0.009505</td>\n",
              "      <td>...</td>\n",
              "      <td>[international, monetary, system, towards, new...</td>\n",
              "      <td>[delighted, participate, brimmer, policy, foru...</td>\n",
              "      <td>Baisse</td>\n",
              "      <td>0.074694</td>\n",
              "      <td>0.049604</td>\n",
              "      <td>0.344159</td>\n",
              "      <td>0.374191</td>\n",
              "      <td>neutral</td>\n",
              "      <td>neutral</td>\n",
              "      <td>positive</td>\n",
              "    </tr>\n",
              "  </tbody>\n",
              "</table>\n",
              "<p>7 rows × 30 columns</p>\n",
              "</div>\n",
              "      <button class=\"colab-df-convert\" onclick=\"convertToInteractive('df-83d901dd-ba57-4178-8533-372d5aabf7ef')\"\n",
              "              title=\"Convert this dataframe to an interactive table.\"\n",
              "              style=\"display:none;\">\n",
              "        \n",
              "  <svg xmlns=\"http://www.w3.org/2000/svg\" height=\"24px\"viewBox=\"0 0 24 24\"\n",
              "       width=\"24px\">\n",
              "    <path d=\"M0 0h24v24H0V0z\" fill=\"none\"/>\n",
              "    <path d=\"M18.56 5.44l.94 2.06.94-2.06 2.06-.94-2.06-.94-.94-2.06-.94 2.06-2.06.94zm-11 1L8.5 8.5l.94-2.06 2.06-.94-2.06-.94L8.5 2.5l-.94 2.06-2.06.94zm10 10l.94 2.06.94-2.06 2.06-.94-2.06-.94-.94-2.06-.94 2.06-2.06.94z\"/><path d=\"M17.41 7.96l-1.37-1.37c-.4-.4-.92-.59-1.43-.59-.52 0-1.04.2-1.43.59L10.3 9.45l-7.72 7.72c-.78.78-.78 2.05 0 2.83L4 21.41c.39.39.9.59 1.41.59.51 0 1.02-.2 1.41-.59l7.78-7.78 2.81-2.81c.8-.78.8-2.07 0-2.86zM5.41 20L4 18.59l7.72-7.72 1.47 1.35L5.41 20z\"/>\n",
              "  </svg>\n",
              "      </button>\n",
              "      \n",
              "  <style>\n",
              "    .colab-df-container {\n",
              "      display:flex;\n",
              "      flex-wrap:wrap;\n",
              "      gap: 12px;\n",
              "    }\n",
              "\n",
              "    .colab-df-convert {\n",
              "      background-color: #E8F0FE;\n",
              "      border: none;\n",
              "      border-radius: 50%;\n",
              "      cursor: pointer;\n",
              "      display: none;\n",
              "      fill: #1967D2;\n",
              "      height: 32px;\n",
              "      padding: 0 0 0 0;\n",
              "      width: 32px;\n",
              "    }\n",
              "\n",
              "    .colab-df-convert:hover {\n",
              "      background-color: #E2EBFA;\n",
              "      box-shadow: 0px 1px 2px rgba(60, 64, 67, 0.3), 0px 1px 3px 1px rgba(60, 64, 67, 0.15);\n",
              "      fill: #174EA6;\n",
              "    }\n",
              "\n",
              "    [theme=dark] .colab-df-convert {\n",
              "      background-color: #3B4455;\n",
              "      fill: #D2E3FC;\n",
              "    }\n",
              "\n",
              "    [theme=dark] .colab-df-convert:hover {\n",
              "      background-color: #434B5C;\n",
              "      box-shadow: 0px 1px 3px 1px rgba(0, 0, 0, 0.15);\n",
              "      filter: drop-shadow(0px 1px 2px rgba(0, 0, 0, 0.3));\n",
              "      fill: #FFFFFF;\n",
              "    }\n",
              "  </style>\n",
              "\n",
              "      <script>\n",
              "        const buttonEl =\n",
              "          document.querySelector('#df-83d901dd-ba57-4178-8533-372d5aabf7ef button.colab-df-convert');\n",
              "        buttonEl.style.display =\n",
              "          google.colab.kernel.accessAllowed ? 'block' : 'none';\n",
              "\n",
              "        async function convertToInteractive(key) {\n",
              "          const element = document.querySelector('#df-83d901dd-ba57-4178-8533-372d5aabf7ef');\n",
              "          const dataTable =\n",
              "            await google.colab.kernel.invokeFunction('convertToInteractive',\n",
              "                                                     [key], {});\n",
              "          if (!dataTable) return;\n",
              "\n",
              "          const docLinkHtml = 'Like what you see? Visit the ' +\n",
              "            '<a target=\"_blank\" href=https://colab.research.google.com/notebooks/data_table.ipynb>data table notebook</a>'\n",
              "            + ' to learn more about interactive tables.';\n",
              "          element.innerHTML = '';\n",
              "          dataTable['output_type'] = 'display_data';\n",
              "          await google.colab.output.renderOutput(dataTable, element);\n",
              "          const docLink = document.createElement('div');\n",
              "          docLink.innerHTML = docLinkHtml;\n",
              "          element.appendChild(docLink);\n",
              "        }\n",
              "      </script>\n",
              "    </div>\n",
              "  </div>\n",
              "  "
            ]
          },
          "metadata": {},
          "execution_count": 45
        }
      ],
      "source": [
        "df_train_series.head(7)"
      ]
    },
    {
      "cell_type": "code",
      "execution_count": 46,
      "metadata": {
        "colab": {
          "base_uri": "https://localhost:8080/",
          "height": 505
        },
        "id": "Rx5GbfV-obOD",
        "outputId": "f15df6dd-d0df-4b84-c89f-57b4f6b44c4c"
      },
      "outputs": [
        {
          "output_type": "display_data",
          "data": {
            "text/plain": [
              "<Figure size 1000x500 with 2 Axes>"
            ],
            "image/png": "[encoded data removed]"
          },
          "metadata": {}
        },
        {
          "output_type": "display_data",
          "data": {
            "text/plain": [
              "<Figure size 640x480 with 0 Axes>"
            ]
          },
          "metadata": {}
        }
      ],
      "source": [
        "#We plot a graphical representation of the distribution of polarity scores.\n",
        "\n",
        "\n",
        "\n",
        "fig, (ax1, ax2) = plt.subplots(ncols=2, figsize=(10, 5))\n",
        "\n",
        "ax1.hist(df_train_series['polarity_score_ecb_TB'], color='blue', alpha=0.5)\n",
        "ax1.set(title='polarity_score_ecb_TB', xlabel='indice de polarité', ylabel='Nombre dobservations')\n",
        "\n",
        "ax2.hist(df_train_series['polarity_score_fed_TB'], color='green', alpha=0.5)\n",
        "ax2.set(title='polarity_score_fed_TB', xlabel='indice de polarité', ylabel='Nombre dobservations')\n",
        "\n",
        "plt.show()\n",
        "plt.savefig(\"TextBlob_sentiment.png\")"
      ]
    },
    {
      "cell_type": "code",
      "execution_count": 47,
      "metadata": {
        "colab": {
          "base_uri": "https://localhost:8080/",
          "height": 482
        },
        "id": "eGh4aff4tpgf",
        "outputId": "b066f22b-1ca8-4ad5-9cf1-daa6170761ea"
      },
      "outputs": [
        {
          "output_type": "display_data",
          "data": {
            "text/plain": [
              "<Figure size 1000x500 with 2 Axes>"
            ],
            "image/png": "[encoded data removed]"
          },
          "metadata": {}
        },
        {
          "output_type": "display_data",
          "data": {
            "text/plain": [
              "<Figure size 640x480 with 0 Axes>"
            ]
          },
          "metadata": {}
        }
      ],
      "source": [
        "#We plot a graphical representation of the distribution of labels.\n",
        "\n",
        "\n",
        "\n",
        "\n",
        "\n",
        "import matplotlib.pyplot as plt\n",
        "import seaborn as sns\n",
        "\n",
        "\n",
        "fig, axs = plt.subplots(ncols=2, figsize=(10, 5))\n",
        "\n",
        "sns.countplot(x='sentiment_label_ecb_TB', data=df_train_series, ax=axs[0])\n",
        "sns.countplot(x='sentiment_label_fed_TB', data=df_train_series, ax=axs[1])\n",
        "\n",
        "plt.show()\n",
        "plt.savefig(\"TextBlob_label.png\")"
      ]
    },
    {
      "cell_type": "markdown",
      "metadata": {
        "id": "GUF7KzHnr4jz"
      },
      "source": [
        "As we can see, the TextBlob method is not very effective. A large majority of texts are labeled as \"neutral\". Almost no text is labeled as \"negative\".\n",
        "\n",
        "\n",
        "\n"
      ]
    },
    {
      "cell_type": "code",
      "execution_count": 48,
      "metadata": {
        "colab": {
          "base_uri": "https://localhost:8080/",
          "height": 505
        },
        "id": "B0jpMCSBl8k8",
        "outputId": "4a0ed483-e282-4a47-bb9d-e02952b7115e"
      },
      "outputs": [
        {
          "output_type": "display_data",
          "data": {
            "text/plain": [
              "<Figure size 1000x500 with 2 Axes>"
            ],
            "image/png": "[encoded data removed]"
          },
          "metadata": {}
        },
        {
          "output_type": "display_data",
          "data": {
            "text/plain": [
              "<Figure size 640x480 with 0 Axes>"
            ]
          },
          "metadata": {}
        }
      ],
      "source": [
        "#We plot a graphical representation of the distribution of subjectivity scores.\n",
        "\n",
        "\n",
        "fig, (ax1, ax2) = plt.subplots(ncols=2, figsize=(10, 5))\n",
        "\n",
        "ax1.hist(df_train_series['subjectivity_score_ecb_TB'], color='blue', alpha=0.5)\n",
        "ax1.set(title='subjectivity_score_ecb_TB', xlabel='indice de subjectivité', ylabel='Nombre dobservations')\n",
        "\n",
        "ax2.hist(df_train_series['subjectivity_score_fed_TB'], color='green', alpha=0.5)\n",
        "ax2.set(title='subjectivity_score_ecb_TB', xlabel='indice de subjectivité', ylabel='Nombre dobservations')\n",
        "\n",
        "plt.show()\n",
        "plt.savefig(\"TextBlob_subjectivity.png\")"
      ]
    },
    {
      "cell_type": "markdown",
      "metadata": {
        "id": "hA5qqeqBFUF5"
      },
      "source": [
        "We now perform an analysis of the correlation between 'sentiment_label_TB' and 'V_Cible_categ'.\n",
        "\n",
        "\n",
        "\n"
      ]
    },
    {
      "cell_type": "code",
      "execution_count": 79,
      "metadata": {
        "colab": {
          "base_uri": "https://localhost:8080/"
        },
        "id": "e_XjPXfS1zvf",
        "outputId": "76b7887b-4d7e-4eb7-b739-0b6189f85cd6"
      },
      "outputs": [
        {
          "output_type": "stream",
          "name": "stdout",
          "text": [
            "La matrice de confusion pour ecb est:\n",
            "sentiment_label_ecb_TB  negative  neutral  positive\n",
            "V_cible                                            \n",
            "Baisse                        17     3497       710\n",
            "Hausse                        15     3364       637\n",
            "La matrice de confusion pour fed est:\n",
            "sentiment_label_fed_TB  neutral  positive\n",
            "V_cible                                  \n",
            "Baisse                     3329       895\n",
            "Hausse                     3156       860\n",
            "La matrice de confusion pour notre sentiment final est:\n",
            "sentiment_label_TB  negative  positive\n",
            "V_cible                               \n",
            "Baisse                   525      3699\n",
            "Hausse                   479      3537\n"
          ]
        }
      ],
      "source": [
        "#We plot the different confusion matrices.\n",
        "\n",
        "\n",
        "\n",
        "tableau_croise_ecb = pd.crosstab(df_train_series['V_cible'], df_train_series['sentiment_label_ecb_TB'])\n",
        "tableau_croise_fed = pd.crosstab(df_train_series['V_cible'], df_train_series['sentiment_label_fed_TB'])\n",
        "tableau_croise = pd.crosstab(df_train_series['V_cible'], df_train_series['sentiment_label_TB'])\n",
        "\n",
        "print('La matrice de confusion pour ecb est:')\n",
        "print(tableau_croise_ecb)\n",
        "\n",
        "print('La matrice de confusion pour fed est:')\n",
        "print(tableau_croise_fed)\n",
        "\n",
        "print('La matrice de confusion pour notre sentiment final est:')\n",
        "print(tableau_croise)\n",
        "\n",
        "tableau_croise.to_csv(\"matrice_confusion_TextBlob.csv\", index=False)"
      ]
    },
    {
      "cell_type": "markdown",
      "metadata": {
        "id": "GV5ny7lkTPfl"
      },
      "source": [
        "As we can see, the correlation is nonexistent. The obtained results are not relevant.\n",
        "\n",
        "\n",
        "\n"
      ]
    },
    {
      "cell_type": "markdown",
      "metadata": {
        "id": "Tw5GQoDTcwjC"
      },
      "source": [
        "## Vader"
      ]
    },
    {
      "cell_type": "markdown",
      "metadata": {
        "id": "3CsA_6lhkMx3"
      },
      "source": [
        "2/ On fait l'analyse de sentiment avec Vader"
      ]
    },
    {
      "cell_type": "code",
      "execution_count": 51,
      "metadata": {
        "colab": {
          "base_uri": "https://localhost:8080/"
        },
        "id": "YYr-kvE23rfK",
        "outputId": "7ca01aea-c00f-49c6-bbc1-3767c4fbb397"
      },
      "outputs": [
        {
          "output_type": "stream",
          "name": "stderr",
          "text": [
            "[nltk_data] Downloading package vader_lexicon to /root/nltk_data...\n"
          ]
        }
      ],
      "source": [
        "# import des bibliothèques nécessaires\n",
        "import nltk\n",
        "nltk.download('vader_lexicon')\n",
        "from nltk.sentiment.vader import SentimentIntensityAnalyzer\n",
        "\n",
        "# instantiation de l'analyseur de sentiment VADER\n",
        "vader = SentimentIntensityAnalyzer()\n",
        "\n",
        "# définition d'une fonction pour obtenir le score de polarité de sentiment en utilisant VADER\n",
        "def get_sentiment_score(text):\n",
        "    return vader.polarity_scores(text)['compound']\n",
        "\n",
        "# ajout de colonnes pour le score de polarité\n",
        "df_train_series['polarity_score_ecb_Vader'] = df_train_series['text_concat_ecb_tokenisé'].apply(lambda x: get_sentiment_score(' '.join(x)))\n",
        "df_train_series['polarity_score_fed_Vader'] = df_train_series['text_concat_fed_tokenisé'].apply(lambda x: get_sentiment_score(' '.join(x)))\n",
        "\n",
        "# ajout de colonnes pour l'étiquetage des sentiments\n",
        "df_train_series['sentiment_label_ecb_Vader'] = df_train_series['polarity_score_ecb_Vader'].apply(lambda x: 'positive' if x > 0 else 'negative' if x < 0 else 'neutral')\n",
        "df_train_series['sentiment_label_fed_Vader'] = df_train_series['polarity_score_fed_Vader'].apply(lambda x: 'positive' if x > 0 else 'negative' if x < 0 else 'neutral')\n",
        "\n"
      ]
    },
    {
      "cell_type": "code",
      "execution_count": 52,
      "metadata": {
        "id": "qmmTueX85e0E"
      },
      "outputs": [],
      "source": [
        "# ajout de colonnes pour l'étiquetage des sentiments\n",
        "df_train_series['sentiment_label_ecb_Vader'] = df_train_series['polarity_score_ecb_Vader'].apply(lambda x: 'positive' if x > 0.2 else 'negative' if x < -0.2 else 'neutral')\n",
        "df_train_series['sentiment_label_fed_Vader'] = df_train_series['polarity_score_fed_Vader'].apply(lambda x: 'positive' if x > 0.2 else 'negative' if x < -0.2 else 'neutral')\n",
        "\n",
        "def ma_fonction(a, b):\n",
        "  if a+b > 0.1:\n",
        "    return 'positive'\n",
        "  elif a+b< 0.1:\n",
        "    return 'negative'\n",
        "  else:\n",
        "    return 'neutral'\n",
        " \n",
        "\n",
        "\n",
        "df_train_series['sentiment_label_Vader'] = df_train_series.apply(lambda row: ma_fonction(row['polarity_score_ecb_Vader'],row['polarity_score_fed_Vader']),axis=1)\n"
      ]
    },
    {
      "cell_type": "code",
      "execution_count": 53,
      "metadata": {
        "colab": {
          "base_uri": "https://localhost:8080/",
          "height": 505
        },
        "id": "yv5uoQw35iOg",
        "outputId": "806e0f97-7e53-4522-ee95-0bbdd20649c5"
      },
      "outputs": [
        {
          "output_type": "display_data",
          "data": {
            "text/plain": [
              "<Figure size 1000x500 with 2 Axes>"
            ],
            "image/png": "[encoded data removed]"
          },
          "metadata": {}
        },
        {
          "output_type": "display_data",
          "data": {
            "text/plain": [
              "<Figure size 640x480 with 0 Axes>"
            ]
          },
          "metadata": {}
        }
      ],
      "source": [
        "# On trace une représentation graphique de la répartition des scores de polarité\n",
        "\n",
        "fig, (ax1, ax2) = plt.subplots(ncols=2, figsize=(10, 5))\n",
        "\n",
        "ax1.hist(df_train_series['polarity_score_ecb_Vader'], color='blue', alpha=0.5)\n",
        "ax1.set(title='polarity_score_ecb_Vader', xlabel='indice de polarité', ylabel='Nombre dobservations')\n",
        "\n",
        "ax2.hist(df_train_series['polarity_score_fed_Vader'], color='green', alpha=0.5)\n",
        "ax2.set(title='polarity_score_fed_Vader', xlabel='indice de polarité', ylabel='Nombre dobservations')\n",
        "\n",
        "plt.show()\n",
        "plt.savefig(\"Vader_sentiment.png\")"
      ]
    },
    {
      "cell_type": "markdown",
      "metadata": {
        "id": "-x_0FfCW4Y_4"
      },
      "source": [
        "Les scores de polarités sont beaucoup plus polarisés"
      ]
    },
    {
      "cell_type": "code",
      "execution_count": 54,
      "metadata": {
        "colab": {
          "base_uri": "https://localhost:8080/",
          "height": 484
        },
        "id": "plZ9YNAHwU5V",
        "outputId": "fef104f2-7b53-4e02-c9c8-ff9f1c6f6e33"
      },
      "outputs": [
        {
          "output_type": "display_data",
          "data": {
            "text/plain": [
              "<Figure size 1000x500 with 2 Axes>"
            ],
            "image/png": "[encoded data removed]"
          },
          "metadata": {}
        },
        {
          "output_type": "display_data",
          "data": {
            "text/plain": [
              "<Figure size 640x480 with 0 Axes>"
            ]
          },
          "metadata": {}
        }
      ],
      "source": [
        "import matplotlib.pyplot as plt\n",
        "import seaborn as sns\n",
        "\n",
        "# On trace une représentation graphique de la répartition des labels\n",
        "\n",
        "fig, axs = plt.subplots(ncols=2, figsize=(10, 5))\n",
        "\n",
        "sns.countplot(x='sentiment_label_ecb_Vader', data=df_train_series, ax=axs[0])\n",
        "sns.countplot(x='sentiment_label_fed_Vader', data=df_train_series, ax=axs[1])\n",
        "\n",
        "plt.show()\n",
        "plt.savefig(\"Vader_label.png\")"
      ]
    },
    {
      "cell_type": "code",
      "execution_count": 55,
      "metadata": {
        "colab": {
          "base_uri": "https://localhost:8080/",
          "height": 505
        },
        "id": "rO5YitZhuyQu",
        "outputId": "2725d186-eedd-43a6-d71f-3ef30d7e3951"
      },
      "outputs": [
        {
          "output_type": "display_data",
          "data": {
            "text/plain": [
              "<Figure size 1000x500 with 2 Axes>"
            ],
            "image/png": "[encoded data removed]"
          },
          "metadata": {}
        },
        {
          "output_type": "display_data",
          "data": {
            "text/plain": [
              "<Figure size 640x480 with 0 Axes>"
            ]
          },
          "metadata": {}
        }
      ],
      "source": [
        "# Analyse de la corrélation\n",
        "\n",
        "fig, (ax1, ax2) = plt.subplots(ncols=2, figsize=(10, 5))\n",
        "\n",
        "ax1.hist(df_train_series['subjectivity_score_ecb_TB'], color='blue', alpha=0.5)\n",
        "ax1.set(title='subjectivity_score_ecb_TB', xlabel='indice de subjectivité', ylabel='Nombre dobservations')\n",
        "\n",
        "ax2.hist(df_train_series['subjectivity_score_fed_TB'], color='green', alpha=0.5)\n",
        "ax2.set(title='subjectivity_score_ecb_TB', xlabel='indice de subjectivité', ylabel='Nombre dobservations')\n",
        "\n",
        "plt.show()\n",
        "plt.savefig(\"Vader_subjectivity.png\")"
      ]
    },
    {
      "cell_type": "code",
      "execution_count": 80,
      "metadata": {
        "colab": {
          "base_uri": "https://localhost:8080/"
        },
        "id": "wSu1mbMyuyT6",
        "outputId": "bf15bd5f-3599-48e5-93fe-518b424b3da6"
      },
      "outputs": [
        {
          "output_type": "stream",
          "name": "stdout",
          "text": [
            "sentiment_label_ecb_Vader  negative  positive\n",
            "V_cible                                      \n",
            "Baisse                          529      3695\n",
            "Hausse                          502      3514\n",
            "sentiment_label_fed_Vader  negative  neutral  positive\n",
            "V_cible                                               \n",
            "Baisse                          224       78      3922\n",
            "Hausse                          201       56      3759\n",
            "sentiment_label_Vader  negative  positive\n",
            "V_cible                                  \n",
            "Baisse                      627      3597\n",
            "Hausse                      581      3435\n"
          ]
        }
      ],
      "source": [
        "# Analyse de la corrélation\n",
        "\n",
        "import pandas as pd\n",
        "\n",
        "\n",
        "\n",
        "\n",
        "# Créer une table de contingence\n",
        "table_ecb = pd.crosstab(df_train_series['V_cible'], df_train_series['sentiment_label_ecb_Vader'])\n",
        "print(table_ecb)\n",
        "table_fed = pd.crosstab(df_train_series['V_cible'], df_train_series['sentiment_label_fed_Vader'])\n",
        "print(table_fed)\n",
        "table= pd.crosstab(df_train_series['V_cible'], df_train_series['sentiment_label_Vader'])\n",
        "print(table)\n",
        "table.to_csv(\"matrice_confusion_Vader.csv\", index=False)"
      ]
    },
    {
      "cell_type": "markdown",
      "metadata": {
        "id": "LYXlcEG4sg_D"
      },
      "source": [
        "On voit ici aussi que lanalyse de sentiments ne nous donne pas de résultats pertinents."
      ]
    },
    {
      "cell_type": "markdown",
      "metadata": {
        "id": "7Zg4h98FAZTf"
      },
      "source": [
        "Désormais, nous allons réaliser notre analyse de sentiments avec HIV4 et LLoughan and McDonald, deux languages adaptés à la finance."
      ]
    },
    {
      "cell_type": "markdown",
      "metadata": {
        "id": "agr9Z1wwc5G9"
      },
      "source": [
        "## HIV4"
      ]
    },
    {
      "cell_type": "code",
      "execution_count": 57,
      "metadata": {
        "colab": {
          "base_uri": "https://localhost:8080/"
        },
        "id": "eTvE952uOdH2",
        "outputId": "55e98438-e510-49f7-b443-c5b568683c99"
      },
      "outputs": [
        {
          "output_type": "stream",
          "name": "stdout",
          "text": [
            "Looking in indexes: https://pypi.org/simple, https://us-python.pkg.dev/colab-wheels/public/simple/\n",
            "Collecting pysentiment2\n",
            "  Downloading pysentiment2-0.1.1-py3-none-any.whl (1.9 MB)\n",
            "\u001b[2K     \u001b[90m━━━━━━━━━━━━━━━━━━━━━━━━━━━━━━━━━━━━━━━━\u001b[0m \u001b[32m1.9/1.9 MB\u001b[0m \u001b[31m21.5 MB/s\u001b[0m eta \u001b[36m0:00:00\u001b[0m\n",
            "\u001b[?25hRequirement already satisfied: pandas in /usr/local/lib/python3.9/dist-packages (from pysentiment2) (2.0.0)\n",
            "Requirement already satisfied: nltk>=2.0 in /usr/local/lib/python3.9/dist-packages (from pysentiment2) (3.8.1)\n",
            "Requirement already satisfied: tqdm in /usr/local/lib/python3.9/dist-packages (from nltk>=2.0->pysentiment2) (4.65.0)\n",
            "Requirement already satisfied: joblib in /usr/local/lib/python3.9/dist-packages (from nltk>=2.0->pysentiment2) (1.1.1)\n",
            "Requirement already satisfied: regex>=2021.8.3 in /usr/local/lib/python3.9/dist-packages (from nltk>=2.0->pysentiment2) (2022.10.31)\n",
            "Requirement already satisfied: click in /usr/local/lib/python3.9/dist-packages (from nltk>=2.0->pysentiment2) (8.1.3)\n",
            "Requirement already satisfied: python-dateutil>=2.8.2 in /usr/local/lib/python3.9/dist-packages (from pandas->pysentiment2) (2.8.2)\n",
            "Requirement already satisfied: numpy>=1.20.3 in /usr/local/lib/python3.9/dist-packages (from pandas->pysentiment2) (1.22.4)\n",
            "Requirement already satisfied: pytz>=2020.1 in /usr/local/lib/python3.9/dist-packages (from pandas->pysentiment2) (2022.7.1)\n",
            "Requirement already satisfied: tzdata>=2022.1 in /usr/local/lib/python3.9/dist-packages (from pandas->pysentiment2) (2023.3)\n",
            "Requirement already satisfied: six>=1.5 in /usr/local/lib/python3.9/dist-packages (from python-dateutil>=2.8.2->pandas->pysentiment2) (1.16.0)\n",
            "Installing collected packages: pysentiment2\n",
            "Successfully installed pysentiment2-0.1.1\n"
          ]
        }
      ],
      "source": [
        "# Analyse de sentiment avec des lexiques financiers\n",
        "\n",
        "!pip install pysentiment2\n",
        "\n",
        "import pysentiment2 as ps\n",
        "hiv4 = ps.HIV4()\n",
        "\n",
        "\n",
        "def get_sentiment_score(text):\n",
        "    tokens = hiv4.tokenize(text)                                 \n",
        "    score = hiv4.get_score(tokens)\n",
        "    return score\n",
        "\n",
        "# ajout de colonnes pour le score de polarité\n",
        "df_train_series['polarity_score_ecb_Harvard'] = df_train_series['text_concat_ecb_tokenisé'].apply(lambda x: get_sentiment_score(' '.join(x)))\n",
        "df_train_series['polarity_score_fed_Harvard'] = df_train_series['text_concat_fed_tokenisé'].apply(lambda x: get_sentiment_score(' '.join(x)))\n",
        "\n"
      ]
    },
    {
      "cell_type": "code",
      "execution_count": 58,
      "metadata": {
        "id": "jiMQj_Hr8nuR"
      },
      "outputs": [],
      "source": [
        "# On affiche unniquement la polarité\n",
        "\n",
        "df_train_series['polarity_fed_Harvard'] = df_train_series['polarity_score_fed_Harvard'].apply(lambda x: x['Polarity'])\n",
        "df_train_series['polarity_ecb_Harvard'] = df_train_series['polarity_score_ecb_Harvard'].apply(lambda x: x['Polarity'])\n",
        "\n"
      ]
    },
    {
      "cell_type": "code",
      "execution_count": 59,
      "metadata": {
        "id": "8W0Jsea9tlpt"
      },
      "outputs": [],
      "source": [
        "# ajout de colonnes pour l'étiquetage des sentiments\n",
        "df_train_series['sentiment_label_ecb_Harvard'] = df_train_series['polarity_ecb_Harvard'].apply(lambda x: 'positive' if x > 0.1 else 'negative' if x < -0.1 else 'neutral')\n",
        "df_train_series['sentiment_label_fed_Harvard'] = df_train_series['polarity_fed_Harvard'].apply(lambda x: 'positive' if x > 0.1 else 'negative' if x < -0.1 else 'neutral')\n",
        "def ma_fonction(a, b):\n",
        "  if a+b > 0.1:\n",
        "    return 'positive'\n",
        "  elif a+b< 0.1:\n",
        "    return 'negative'\n",
        "  else:\n",
        "    return 'neutral'\n",
        " \n",
        "\n",
        "\n",
        "df_train_series['sentiment_label_Harvard'] = df_train_series.apply(lambda row: ma_fonction(row['polarity_ecb_Harvard'],row['polarity_fed_Harvard']),axis=1)\n",
        "\n"
      ]
    },
    {
      "cell_type": "code",
      "execution_count": 60,
      "metadata": {
        "colab": {
          "base_uri": "https://localhost:8080/",
          "height": 505
        },
        "id": "RSOPEZ1R8PlK",
        "outputId": "929968a1-6c66-435d-a49a-6e14aa249abf"
      },
      "outputs": [
        {
          "output_type": "display_data",
          "data": {
            "text/plain": [
              "<Figure size 1000x500 with 2 Axes>"
            ],
            "image/png": "[encoded data removed]"
          },
          "metadata": {}
        },
        {
          "output_type": "display_data",
          "data": {
            "text/plain": [
              "<Figure size 640x480 with 0 Axes>"
            ]
          },
          "metadata": {}
        }
      ],
      "source": [
        "# On trace une représentation graphique de la répartition des scores de polarité\n",
        "\n",
        "fig, (ax1, ax2) = plt.subplots(ncols=2, figsize=(10, 5))\n",
        "\n",
        "ax1.hist(df_train_series['polarity_ecb_Harvard'], color='blue', alpha=0.5)\n",
        "ax1.set(title='polarity_score_ecb_Harvard', xlabel='indice de polarité', ylabel='Nombre dobservations')\n",
        "\n",
        "ax2.hist(df_train_series['polarity_fed_Harvard'], color='green', alpha=0.5)\n",
        "ax2.set(title='polarity_score_fed_Harvard', xlabel='indice de polarité', ylabel='Nombre dobservations')\n",
        "\n",
        "plt.show()\n",
        "plt.savefig(\"HIV4_sentiment.png\")"
      ]
    },
    {
      "cell_type": "code",
      "execution_count": 61,
      "metadata": {
        "colab": {
          "base_uri": "https://localhost:8080/",
          "height": 482
        },
        "id": "eDEINxV0ebqw",
        "outputId": "dd1902db-f785-40af-d488-5582643c97c8"
      },
      "outputs": [
        {
          "output_type": "display_data",
          "data": {
            "text/plain": [
              "<Figure size 1000x500 with 2 Axes>"
            ],
            "image/png": "[encoded data removed]"
          },
          "metadata": {}
        },
        {
          "output_type": "display_data",
          "data": {
            "text/plain": [
              "<Figure size 640x480 with 0 Axes>"
            ]
          },
          "metadata": {}
        }
      ],
      "source": [
        "import matplotlib.pyplot as plt\n",
        "import seaborn as sns\n",
        "\n",
        "# On trace une représentation graphique de la répartition des labels\n",
        "\n",
        "fig, axs = plt.subplots(ncols=2, figsize=(10, 5))\n",
        "\n",
        "sns.countplot(x='sentiment_label_ecb_Harvard', data=df_train_series, ax=axs[0])\n",
        "sns.countplot(x='sentiment_label_fed_Harvard', data=df_train_series, ax=axs[1])\n",
        "\n",
        "plt.show()\n",
        "plt.savefig(\"HIV4_label.png\")"
      ]
    },
    {
      "cell_type": "code",
      "execution_count": 81,
      "metadata": {
        "colab": {
          "base_uri": "https://localhost:8080/"
        },
        "id": "y2yNAQXYGPXo",
        "outputId": "65ffea99-f0d3-4a8e-d883-70b40e2b5920"
      },
      "outputs": [
        {
          "output_type": "stream",
          "name": "stdout",
          "text": [
            "sentiment_label_fed_Harvard  neutral  positive\n",
            "V_cible                                       \n",
            "Baisse                            37      4187\n",
            "Hausse                            34      3982\n",
            "sentiment_label_ecb_Harvard  negative  neutral  positive\n",
            "V_cible                                                 \n",
            "Baisse                            111       74      4039\n",
            "Hausse                             94       85      3837\n",
            "sentiment_label_Harvard  negative  positive\n",
            "V_cible                                    \n",
            "Baisse                         95      4129\n",
            "Hausse                         78      3938\n"
          ]
        }
      ],
      "source": [
        "# Matrice de confusion\n",
        "\n",
        "table_fed = pd.crosstab(df_train_series['V_cible'], df_train_series['sentiment_label_fed_Harvard'])\n",
        "print(table_fed)\n",
        "table_ecb = pd.crosstab(df_train_series['V_cible'], df_train_series['sentiment_label_ecb_Harvard'])\n",
        "print(table_ecb)\n",
        "table = pd.crosstab(df_train_series['V_cible'], df_train_series['sentiment_label_Harvard'])\n",
        "print(table)\n",
        "table.to_csv(\"matrice_confusion_HIV4.csv\", index=False)\n"
      ]
    },
    {
      "cell_type": "markdown",
      "metadata": {
        "id": "EqraE4dfvVLl"
      },
      "source": [
        "ca n'a pas l'air très pertinent non plus"
      ]
    },
    {
      "cell_type": "markdown",
      "metadata": {
        "id": "zNWW_RdMc8YU"
      },
      "source": [
        "## Loughan and McDonald"
      ]
    },
    {
      "cell_type": "code",
      "execution_count": 63,
      "metadata": {
        "colab": {
          "base_uri": "https://localhost:8080/"
        },
        "id": "NvCTL6LEHaLW",
        "outputId": "645fb560-4b2b-439d-d9e1-69cbc5ceefda"
      },
      "outputs": [
        {
          "output_type": "stream",
          "name": "stdout",
          "text": [
            "Looking in indexes: https://pypi.org/simple, https://us-python.pkg.dev/colab-wheels/public/simple/\n",
            "Requirement already satisfied: pysentiment2 in /usr/local/lib/python3.9/dist-packages (0.1.1)\n",
            "Requirement already satisfied: pandas in /usr/local/lib/python3.9/dist-packages (from pysentiment2) (2.0.0)\n",
            "Requirement already satisfied: nltk>=2.0 in /usr/local/lib/python3.9/dist-packages (from pysentiment2) (3.8.1)\n",
            "Requirement already satisfied: tqdm in /usr/local/lib/python3.9/dist-packages (from nltk>=2.0->pysentiment2) (4.65.0)\n",
            "Requirement already satisfied: click in /usr/local/lib/python3.9/dist-packages (from nltk>=2.0->pysentiment2) (8.1.3)\n",
            "Requirement already satisfied: joblib in /usr/local/lib/python3.9/dist-packages (from nltk>=2.0->pysentiment2) (1.1.1)\n",
            "Requirement already satisfied: regex>=2021.8.3 in /usr/local/lib/python3.9/dist-packages (from nltk>=2.0->pysentiment2) (2022.10.31)\n",
            "Requirement already satisfied: numpy>=1.20.3 in /usr/local/lib/python3.9/dist-packages (from pandas->pysentiment2) (1.22.4)\n",
            "Requirement already satisfied: pytz>=2020.1 in /usr/local/lib/python3.9/dist-packages (from pandas->pysentiment2) (2022.7.1)\n",
            "Requirement already satisfied: tzdata>=2022.1 in /usr/local/lib/python3.9/dist-packages (from pandas->pysentiment2) (2023.3)\n",
            "Requirement already satisfied: python-dateutil>=2.8.2 in /usr/local/lib/python3.9/dist-packages (from pandas->pysentiment2) (2.8.2)\n",
            "Requirement already satisfied: six>=1.5 in /usr/local/lib/python3.9/dist-packages (from python-dateutil>=2.8.2->pandas->pysentiment2) (1.16.0)\n"
          ]
        }
      ],
      "source": [
        "# Loughan and McDonald Dictionnary\n",
        "\n",
        "!pip install pysentiment2\n",
        "import pysentiment2 as ps\n",
        "lm = ps.LM()\n",
        "def get_sentiment_score(text):\n",
        "  tokens = lm.tokenize(text)\n",
        "  score = lm.get_score(tokens)\n",
        "  return score\n",
        "\n",
        "\n",
        "# ajout de colonnes pour le score de polarité\n",
        "df_train_series['polarity_score_ecb_LM'] = df_train_series['text_concat_ecb_tokenisé'].apply(lambda x: get_sentiment_score(' '.join(x)))\n",
        "df_train_series['polarity_score_fed_LM'] = df_train_series['text_concat_fed_tokenisé'].apply(lambda x: get_sentiment_score(' '.join(x)))\n",
        "\n"
      ]
    },
    {
      "cell_type": "code",
      "execution_count": 77,
      "metadata": {
        "colab": {
          "base_uri": "https://localhost:8080/"
        },
        "id": "ifR2zJmbLrrf",
        "outputId": "8cc5c8e5-ba6d-4075-da68-8241ed2c55be"
      },
      "outputs": [
        {
          "output_type": "execute_result",
          "data": {
            "text/plain": [
              "{'Positive': 57,\n",
              " 'Negative': 84,\n",
              " 'Polarity': -0.1914893603440471,\n",
              " 'Subjectivity': 0.10078627583932359}"
            ]
          },
          "metadata": {},
          "execution_count": 77
        }
      ],
      "source": [
        "df_train_series['polarity_score_fed_LM'][0]"
      ]
    },
    {
      "cell_type": "code",
      "execution_count": 65,
      "metadata": {
        "colab": {
          "base_uri": "https://localhost:8080/"
        },
        "id": "bWBG-AECHaOl",
        "outputId": "7d806bb8-d624-4a90-e740-64b532672a40"
      },
      "outputs": [
        {
          "output_type": "execute_result",
          "data": {
            "text/plain": [
              "0   -0.079545\n",
              "1    0.019608\n",
              "2   -0.213675\n",
              "3    0.000000\n",
              "4   -0.264368\n",
              "Name: polarity_ecb_LM, dtype: float64"
            ]
          },
          "metadata": {},
          "execution_count": 65
        }
      ],
      "source": [
        "df_train_series['polarity_fed_LM'] = df_train_series['polarity_score_fed_LM'].apply(lambda x: x['Polarity'])\n",
        "df_train_series['polarity_ecb_LM'] = df_train_series['polarity_score_ecb_LM'].apply(lambda x: x['Polarity'])\n",
        "df_train_series['polarity_ecb_LM'].head()"
      ]
    },
    {
      "cell_type": "code",
      "execution_count": 66,
      "metadata": {
        "colab": {
          "base_uri": "https://localhost:8080/",
          "height": 505
        },
        "id": "oEur_iGwHaRC",
        "outputId": "efdb1fb2-7185-4fbd-b0c1-4a0ab73ea59e"
      },
      "outputs": [
        {
          "output_type": "display_data",
          "data": {
            "text/plain": [
              "<Figure size 1000x500 with 2 Axes>"
            ],
            "image/png": "[encoded data removed]"
          },
          "metadata": {}
        },
        {
          "output_type": "display_data",
          "data": {
            "text/plain": [
              "<Figure size 640x480 with 0 Axes>"
            ]
          },
          "metadata": {}
        }
      ],
      "source": [
        "# On trace une représentation graphique de la répartition des scores de polarité\n",
        "\n",
        "fig, (ax1, ax2) = plt.subplots(ncols=2, figsize=(10, 5))\n",
        "\n",
        "ax1.hist(df_train_series['polarity_fed_LM'], color='blue', alpha=0.5)\n",
        "ax1.set(title='polarity_fed_LM', xlabel='indice de polarité', ylabel='Nombre dobservations')\n",
        "\n",
        "ax2.hist(df_train_series['polarity_ecb_LM'], color='green', alpha=0.5)\n",
        "ax2.set(title='polarity_ecb_LM', xlabel='indice de polarité', ylabel='Nombre dobservations')\n",
        "\n",
        "plt.show()\n",
        "plt.savefig(\"Loughan_sentiment.png\")"
      ]
    },
    {
      "cell_type": "code",
      "execution_count": 67,
      "metadata": {
        "id": "6ankZNahHaUZ"
      },
      "outputs": [],
      "source": [
        "# ajout de colonnes pour l'étiquetage des sentiments\n",
        "df_train_series['sentiment_label_ecb_LM'] = df_train_series['polarity_ecb_LM'].apply(lambda x: 'positive' if x > 0.1 else 'negative' if x < -0.1 else 'neutral')\n",
        "df_train_series['sentiment_label_fed_LM'] = df_train_series['polarity_fed_LM'].apply(lambda x: 'positive' if x > 0.1 else 'negative' if x < -0.1 else 'neutral')\n",
        "def ma_fonction(a, b):\n",
        "  if a+b > 0.1:\n",
        "    return 'positive'\n",
        "  elif a+b< -0.1:\n",
        "    return 'negative'\n",
        "  else:\n",
        "    return 'neutral'\n",
        " \n",
        "\n",
        "\n",
        "df_train_series['sentiment_label_LM'] = df_train_series.apply(lambda row: ma_fonction(row['polarity_ecb_LM'],row['polarity_fed_LM']),axis=1)\n",
        "\n"
      ]
    },
    {
      "cell_type": "code",
      "execution_count": 68,
      "metadata": {
        "colab": {
          "base_uri": "https://localhost:8080/",
          "height": 482
        },
        "id": "f1l17jOPfCWp",
        "outputId": "2f87fe99-c8e0-431a-b286-8f7a6f5a327a"
      },
      "outputs": [
        {
          "output_type": "display_data",
          "data": {
            "text/plain": [
              "<Figure size 1000x500 with 2 Axes>"
            ],
            "image/png": "[encoded data removed]"
          },
          "metadata": {}
        },
        {
          "output_type": "display_data",
          "data": {
            "text/plain": [
              "<Figure size 640x480 with 0 Axes>"
            ]
          },
          "metadata": {}
        }
      ],
      "source": [
        "import matplotlib.pyplot as plt\n",
        "import seaborn as sns\n",
        "\n",
        "# On trace une représentation graphique de la répartition des labels\n",
        "\n",
        "fig, axs = plt.subplots(ncols=2, figsize=(10, 5))\n",
        "\n",
        "sns.countplot(x='sentiment_label_ecb_LM', data=df_train_series, ax=axs[0])\n",
        "sns.countplot(x='sentiment_label_fed_LM', data=df_train_series, ax=axs[1])\n",
        "\n",
        "plt.show()\n",
        "plt.savefig(\"Loughan_label.png\")"
      ]
    },
    {
      "cell_type": "code",
      "execution_count": 82,
      "metadata": {
        "colab": {
          "base_uri": "https://localhost:8080/"
        },
        "id": "DMr7fmEdIO66",
        "outputId": "2c45395f-63e0-4ef9-c762-0ac2d2842672"
      },
      "outputs": [
        {
          "output_type": "stream",
          "name": "stdout",
          "text": [
            "Matrice de confusion pour text fed\n",
            "sentiment_label_ecb_LM  negative  neutral  positive\n",
            "V_cible                                            \n",
            "Baisse                      2421     1032       771\n",
            "Hausse                      2293     1023       700\n",
            "Matrice de confusion pour text ecb\n",
            "sentiment_label_fed_LM  negative  neutral  positive\n",
            "V_cible                                            \n",
            "Baisse                      3199      625       400\n",
            "Hausse                      3017      587       412\n",
            "Matrice de confusion pour text ecb+fed\n",
            "sentiment_label_LM  negative  neutral  positive\n",
            "V_cible                                        \n",
            "Baisse                  3184      532       508\n",
            "Hausse                  3010      466       540\n"
          ]
        }
      ],
      "source": [
        "# Matrice de confusion\n",
        "print('Matrice de confusion pour text fed')\n",
        "table_fed = pd.crosstab(df_train_series['V_cible'], df_train_series['sentiment_label_ecb_LM'])\n",
        "print(table_fed)\n",
        "print('Matrice de confusion pour text ecb')\n",
        "table_ecb = pd.crosstab(df_train_series['V_cible'], df_train_series['sentiment_label_fed_LM'])\n",
        "print(table_ecb)\n",
        "print('Matrice de confusion pour text ecb+fed')\n",
        "table = pd.crosstab(df_train_series['V_cible'], df_train_series['sentiment_label_LM'])\n",
        "print(table)\n",
        "table.to_csv(\"matrice_confusion_Loughan.csv\", index=False)"
      ]
    },
    {
      "cell_type": "markdown",
      "metadata": {
        "id": "5wpfFUWJw14O"
      },
      "source": [
        "On voit clairement que l'analyse des sentiment est efficace ici ! Un texte étiqueté 'positive' aura tendance à être associé à une hausse la ou un texte étiqueté 'négative' aura tendance à être associé à une baisse."
      ]
    },
    {
      "cell_type": "markdown",
      "metadata": {
        "id": "TDPgMQIinSqk"
      },
      "source": [
        "# Train Test Split"
      ]
    },
    {
      "cell_type": "code",
      "execution_count": null,
      "metadata": {
        "id": "ktkmWslwnSqk"
      },
      "outputs": [],
      "source": [
        "# Train test split \n",
        "X=df_train_series.loc[:,df_train_series.columns!=\"Index + 1\"]\n",
        "y=df_train_series[[\"Index + 1\"]]\n",
        "\n",
        "X_train, X_test, y_train, y_test = train_test_split(X,y,test_size=.2)\n",
        "print(X_train.shape,y_train.shape)"
      ]
    },
    {
      "cell_type": "markdown",
      "metadata": {
        "id": "9mBYzFiwnSqk"
      },
      "source": [
        "Binary Classification"
      ]
    },
    {
      "cell_type": "code",
      "execution_count": null,
      "metadata": {
        "id": "XL4facySnSql"
      },
      "outputs": [],
      "source": [
        "y_t = np.sign(y_train)\n",
        "y_t.value_counts()"
      ]
    },
    {
      "cell_type": "code",
      "execution_count": null,
      "metadata": {
        "id": "X1alzRQlnSql"
      },
      "outputs": [],
      "source": [
        "from pandas.plotting import lag_plot\n",
        "lag_plot(series)\n",
        "pyplot.show()"
      ]
    },
    {
      "cell_type": "markdown",
      "metadata": {
        "id": "SidtxFdBnSqm"
      },
      "source": [
        "# Categorical Encoding "
      ]
    },
    {
      "cell_type": "code",
      "execution_count": null,
      "metadata": {
        "id": "RougqJepnSqm"
      },
      "outputs": [],
      "source": [
        "col_speakers = [\"speaker_\"+str(i+1) for i in range(4)]\n",
        "test_conc = pd.concat([X_train, X_train['list_speakers_ecb'].apply(pd.Series)], axis=1)\n",
        "test_conc.rename({i:col for i, col in enumerate(col_speakers)},axis=1,inplace=True)\n",
        "enc = WOEEncoder(cols=col_speakers)\n",
        "tr = enc.fit_transform(test_conc, y_t)\n",
        "tr.fillna(0,inplace=True)"
      ]
    },
    {
      "cell_type": "code",
      "execution_count": null,
      "metadata": {
        "id": "d2aqqnr8nSqn"
      },
      "outputs": [],
      "source": [
        "tr.head()"
      ]
    },
    {
      "cell_type": "code",
      "execution_count": null,
      "metadata": {
        "id": "Lz1VS5zxnSqn"
      },
      "outputs": [],
      "source": []
    },
    {
      "cell_type": "markdown",
      "metadata": {
        "id": "emP8o-sUnSqn"
      },
      "source": [
        "# Embeddings"
      ]
    },
    {
      "cell_type": "markdown",
      "metadata": {
        "id": "iFxWiEtCnSqn"
      },
      "source": [
        "## Build a vocabulary"
      ]
    },
    {
      "cell_type": "code",
      "execution_count": null,
      "metadata": {
        "id": "wWxCaqKenSqn"
      },
      "outputs": [],
      "source": []
    },
    {
      "cell_type": "markdown",
      "metadata": {
        "id": "F8jPcx5CnSqn"
      },
      "source": [
        "## Create the co-occurence Matrix"
      ]
    },
    {
      "cell_type": "code",
      "execution_count": null,
      "metadata": {
        "id": "KuStyxlWnSqo"
      },
      "outputs": [],
      "source": []
    },
    {
      "cell_type": "markdown",
      "metadata": {
        "id": "mv6ohKannSqo"
      },
      "source": [
        "## Embeddings from the co-occurence Matrix\n",
        "\n",
        "### SVD"
      ]
    },
    {
      "cell_type": "code",
      "execution_count": null,
      "metadata": {
        "id": "PTK8eNrPnSqo"
      },
      "outputs": [],
      "source": []
    },
    {
      "cell_type": "markdown",
      "metadata": {
        "id": "I7tTih7YnSqo"
      },
      "source": [
        "## Sentence Representations"
      ]
    },
    {
      "cell_type": "code",
      "execution_count": null,
      "metadata": {
        "id": "kBlE6_86nSqo"
      },
      "outputs": [],
      "source": []
    },
    {
      "cell_type": "markdown",
      "metadata": {
        "id": "jtg_C08wnSqo"
      },
      "source": [
        "# Save Data"
      ]
    },
    {
      "cell_type": "code",
      "execution_count": null,
      "metadata": {
        "id": "PiNFt2NNnSqo"
      },
      "outputs": [],
      "source": []
    }
  ],
  "metadata": {
    "colab": {
      "provenance": [],
      "toc_visible": true
    },
    "kernelspec": {
      "display_name": "nlp_dauph_env",
      "language": "python",
      "name": "python3"
    },
    "language_info": {
      "codemirror_mode": {
        "name": "ipython",
        "version": 3
      },
      "file_extension": ".py",
      "mimetype": "text/x-python",
      "name": "python",
      "nbconvert_exporter": "python",
      "pygments_lexer": "ipython3",
      "version": "3.9.16"
    },
    "vscode": {
      "interpreter": {
        "hash": "19e1fba33c11e86ebf73adee9f1e3fa74d02f2f28a5835ec272b267c2e20a98d"
      }
    }
  },
  "nbformat": 4,
  "nbformat_minor": 0
}