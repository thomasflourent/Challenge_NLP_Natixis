{
 "cells": [
  {
   "cell_type": "code",
   "execution_count": 1,
   "metadata": {},
   "outputs": [],
   "source": [
    "%reload_ext autoreload\n",
    "%autoreload 2"
   ]
  },
  {
   "cell_type": "code",
   "execution_count": 9,
   "metadata": {},
   "outputs": [],
   "source": [
    "import ast\n",
    "import numpy as np\n",
    "import pandas as pd\n",
    "import matplotlib.pyplot as plt\n",
    "\n",
    "from pathlib import Path\n",
    "from deep_translator import GoogleTranslator\n",
    "\n",
    "from nlp_dauphine.preprocess_texts import load_data\n",
    "from nlp_dauphine.utils import set_working_dir"
   ]
  },
  {
   "cell_type": "code",
   "execution_count": 3,
   "metadata": {},
   "outputs": [
    {
     "name": "stdout",
     "output_type": "stream",
     "text": [
      "Current working dir: c:/Users/Hugo/Documents/Travail/A5/Dauphine_challenge/nlp_dauphine/notebooks\n",
      "New working dir: c:/Users/Hugo/Documents/Travail/A5/Dauphine_challenge/nlp_dauphine\n"
     ]
    }
   ],
   "source": [
    "set_working_dir()"
   ]
  },
  {
   "attachments": {},
   "cell_type": "markdown",
   "metadata": {},
   "source": [
    "# Load Data"
   ]
  },
  {
   "cell_type": "code",
   "execution_count": 4,
   "metadata": {},
   "outputs": [],
   "source": [
    "path = Path(\"data\")\n",
    "files_path = {\n",
    "    \"ecb\": Path(path,\"ecb_data_translate_cleaned.csv\"),\n",
    "    \"fed\": Path(path,\"fed_data_translate_cleaned.csv\"),\n",
    "    \"train_series\": Path(path,\"train_series_clean_no_0.csv\"),\n",
    "}"
   ]
  },
  {
   "cell_type": "code",
   "execution_count": 5,
   "metadata": {},
   "outputs": [
    {
     "name": "stdout",
     "output_type": "stream",
     "text": [
      "(1772, 6) (739, 6) (8240, 20)\n"
     ]
    }
   ],
   "source": [
    "# LOAD TEXT DATA\n",
    "df_ecb, df_fed, df_train_series = load_data(files_path)\n",
    "print(df_ecb.shape, df_fed.shape, df_train_series.shape)"
   ]
  },
  {
   "cell_type": "code",
   "execution_count": 8,
   "metadata": {},
   "outputs": [],
   "source": [
    "df_train_series.list_speakers_ecb = df_train_series.list_speakers_ecb.apply(ast.literal_eval)\n",
    "df_train_series.list_speakers_fed = df_train_series.list_speakers_fed.apply(ast.literal_eval)\n",
    "df_train_series.id_ecb = df_train_series.id_ecb.apply(ast.literal_eval)\n",
    "df_train_series.id_fed = df_train_series.id_fed.apply(ast.literal_eval)\n",
    "df_train_series.list_languages_ecb = df_train_series.list_languages_ecb.apply(ast.literal_eval)"
   ]
  },
  {
   "cell_type": "code",
   "execution_count": null,
   "metadata": {},
   "outputs": [],
   "source": [
    "#https://neptune.ai/blog/data-augmentation-nlp"
   ]
  },
  {
   "cell_type": "code",
   "execution_count": 10,
   "metadata": {},
   "outputs": [
    {
     "data": {
      "text/html": [
       "<div>\n",
       "<style scoped>\n",
       "    .dataframe tbody tr th:only-of-type {\n",
       "        vertical-align: middle;\n",
       "    }\n",
       "\n",
       "    .dataframe tbody tr th {\n",
       "        vertical-align: top;\n",
       "    }\n",
       "\n",
       "    .dataframe thead th {\n",
       "        text-align: right;\n",
       "    }\n",
       "</style>\n",
       "<table border=\"1\" class=\"dataframe\">\n",
       "  <thead>\n",
       "    <tr style=\"text-align: right;\">\n",
       "      <th></th>\n",
       "      <th>id_ecb</th>\n",
       "      <th>title</th>\n",
       "      <th>speaker</th>\n",
       "      <th>text</th>\n",
       "      <th>text_process</th>\n",
       "      <th>lang</th>\n",
       "    </tr>\n",
       "  </thead>\n",
       "  <tbody>\n",
       "    <tr>\n",
       "      <th>0</th>\n",
       "      <td>0</td>\n",
       "      <td>Comments by Yves Mersch at Financial Services ...</td>\n",
       "      <td>Yves Mersch</td>\n",
       "      <td>Comments by Yves Mersch at Financial Service...</td>\n",
       "      <td>comment yves mersch financial service summit c...</td>\n",
       "      <td>en</td>\n",
       "    </tr>\n",
       "    <tr>\n",
       "      <th>1</th>\n",
       "      <td>1</td>\n",
       "      <td>Securing sustained economic growth in the euro...</td>\n",
       "      <td>Vítor Constâncio</td>\n",
       "      <td>Securing sustained economic growth in the eu...</td>\n",
       "      <td>secure sustained economic growth euro area spe...</td>\n",
       "      <td>en</td>\n",
       "    </tr>\n",
       "    <tr>\n",
       "      <th>2</th>\n",
       "      <td>2</td>\n",
       "      <td>The role of monetary policy in addressing the ...</td>\n",
       "      <td>Mario Draghi</td>\n",
       "      <td>The role of monetary policy in addressing th...</td>\n",
       "      <td>role monetary policy address crisis euro area ...</td>\n",
       "      <td>en</td>\n",
       "    </tr>\n",
       "    <tr>\n",
       "      <th>3</th>\n",
       "      <td>3</td>\n",
       "      <td>The pandemic emergency: the three challenges f...</td>\n",
       "      <td>Philip R. Lane</td>\n",
       "      <td>SPEECH  The pandemic emergency: the three c...</td>\n",
       "      <td>speech pandemic emergency three challenge ecb ...</td>\n",
       "      <td>en</td>\n",
       "    </tr>\n",
       "    <tr>\n",
       "      <th>4</th>\n",
       "      <td>4</td>\n",
       "      <td>Transmission channels of monetary policy in th...</td>\n",
       "      <td>Peter Praet</td>\n",
       "      <td>Transmission channels of monetary policy in ...</td>\n",
       "      <td>transmission channel monetary policy current e...</td>\n",
       "      <td>en</td>\n",
       "    </tr>\n",
       "    <tr>\n",
       "      <th>...</th>\n",
       "      <td>...</td>\n",
       "      <td>...</td>\n",
       "      <td>...</td>\n",
       "      <td>...</td>\n",
       "      <td>...</td>\n",
       "      <td>...</td>\n",
       "    </tr>\n",
       "    <tr>\n",
       "      <th>1767</th>\n",
       "      <td>1767</td>\n",
       "      <td>Navigating uncertainty - governance, risk mana...</td>\n",
       "      <td>Sabine Lautenschläger</td>\n",
       "      <td>Navigating uncertainty – governance, risk ma...</td>\n",
       "      <td>navigate uncertainty governance risk managemen...</td>\n",
       "      <td>en</td>\n",
       "    </tr>\n",
       "    <tr>\n",
       "      <th>1768</th>\n",
       "      <td>1768</td>\n",
       "      <td>3-6-3: Banks and change</td>\n",
       "      <td>Sabine Lautenschläger</td>\n",
       "      <td>3-6-3: Banks and change   Speech by Sabine L...</td>\n",
       "      <td>bank change speech sabine lautenschläger membe...</td>\n",
       "      <td>en</td>\n",
       "    </tr>\n",
       "    <tr>\n",
       "      <th>1769</th>\n",
       "      <td>1769</td>\n",
       "      <td>Europe's pursuit of ‘a more perfect Union'</td>\n",
       "      <td>Mario Draghi</td>\n",
       "      <td>Europe’s pursuit of ‘a more perfect Union’  ...</td>\n",
       "      <td>europe pursuit perfect union lecture mario dra...</td>\n",
       "      <td>en</td>\n",
       "    </tr>\n",
       "    <tr>\n",
       "      <th>1770</th>\n",
       "      <td>1770</td>\n",
       "      <td>Monetary policy in the euro area - a brief ass...</td>\n",
       "      <td>Yves Mersch</td>\n",
       "      <td>Monetary policy in the euro area - a brief a...</td>\n",
       "      <td>monetary policy euro area brief assessment spe...</td>\n",
       "      <td>en</td>\n",
       "    </tr>\n",
       "    <tr>\n",
       "      <th>1771</th>\n",
       "      <td>1771</td>\n",
       "      <td>The ECB and its role as lender of last resort ...</td>\n",
       "      <td>Peter Praet</td>\n",
       "      <td>The ECB and its role as lender of last resor...</td>\n",
       "      <td>ecb role lender last resort crisis speech pete...</td>\n",
       "      <td>en</td>\n",
       "    </tr>\n",
       "  </tbody>\n",
       "</table>\n",
       "<p>1772 rows × 6 columns</p>\n",
       "</div>"
      ],
      "text/plain": [
       "      id_ecb                                              title  \\\n",
       "0          0  Comments by Yves Mersch at Financial Services ...   \n",
       "1          1  Securing sustained economic growth in the euro...   \n",
       "2          2  The role of monetary policy in addressing the ...   \n",
       "3          3  The pandemic emergency: the three challenges f...   \n",
       "4          4  Transmission channels of monetary policy in th...   \n",
       "...      ...                                                ...   \n",
       "1767    1767  Navigating uncertainty - governance, risk mana...   \n",
       "1768    1768                            3-6-3: Banks and change   \n",
       "1769    1769         Europe's pursuit of ‘a more perfect Union'   \n",
       "1770    1770  Monetary policy in the euro area - a brief ass...   \n",
       "1771    1771  The ECB and its role as lender of last resort ...   \n",
       "\n",
       "                    speaker  \\\n",
       "0               Yves Mersch   \n",
       "1          Vítor Constâncio   \n",
       "2              Mario Draghi   \n",
       "3            Philip R. Lane   \n",
       "4               Peter Praet   \n",
       "...                     ...   \n",
       "1767  Sabine Lautenschläger   \n",
       "1768  Sabine Lautenschläger   \n",
       "1769           Mario Draghi   \n",
       "1770            Yves Mersch   \n",
       "1771            Peter Praet   \n",
       "\n",
       "                                                   text  \\\n",
       "0       Comments by Yves Mersch at Financial Service...   \n",
       "1       Securing sustained economic growth in the eu...   \n",
       "2       The role of monetary policy in addressing th...   \n",
       "3        SPEECH  The pandemic emergency: the three c...   \n",
       "4       Transmission channels of monetary policy in ...   \n",
       "...                                                 ...   \n",
       "1767    Navigating uncertainty – governance, risk ma...   \n",
       "1768    3-6-3: Banks and change   Speech by Sabine L...   \n",
       "1769    Europe’s pursuit of ‘a more perfect Union’  ...   \n",
       "1770    Monetary policy in the euro area - a brief a...   \n",
       "1771    The ECB and its role as lender of last resor...   \n",
       "\n",
       "                                           text_process lang  \n",
       "0     comment yves mersch financial service summit c...   en  \n",
       "1     secure sustained economic growth euro area spe...   en  \n",
       "2     role monetary policy address crisis euro area ...   en  \n",
       "3     speech pandemic emergency three challenge ecb ...   en  \n",
       "4     transmission channel monetary policy current e...   en  \n",
       "...                                                 ...  ...  \n",
       "1767  navigate uncertainty governance risk managemen...   en  \n",
       "1768  bank change speech sabine lautenschläger membe...   en  \n",
       "1769  europe pursuit perfect union lecture mario dra...   en  \n",
       "1770  monetary policy euro area brief assessment spe...   en  \n",
       "1771  ecb role lender last resort crisis speech pete...   en  \n",
       "\n",
       "[1772 rows x 6 columns]"
      ]
     },
     "execution_count": 10,
     "metadata": {},
     "output_type": "execute_result"
    }
   ],
   "source": [
    "df_ecb"
   ]
  },
  {
   "cell_type": "code",
   "execution_count": 55,
   "metadata": {},
   "outputs": [
    {
     "name": "stdout",
     "output_type": "stream",
     "text": [
      "4000\n"
     ]
    },
    {
     "data": {
      "text/plain": [
       "('This underpins the urgency of both a meaningful implementation of targeted structural reforms and the adoption of growth friendly fiscal policies.  Prospects for the euro area economy Turning to recent euro area developments, the recovery is continuing its moderate but steady pace, supported mainly by the ECB’s expansionary policies, which have significantly improved financial conditions, reduced financial fragmentation and supported economic activity and inflation. In the absence of our measures, both growth and inflation in the euro area would have been significantly worse, as our models calculate that inflation and growth would be lower by 0.8 and 0.7 percentage points, respectively, than the forecast values of 0.2% and 1.7% for this year.  For three years now, inflation has been quite low with a level of 0.4% in 2014, 0% last year and 0.2% forecast for this year. However, the recent flash estimate for September at 0.4% may indicate a movement compatible with our baseline scenario that foresees a gradual increase to levels above 1% by next spring, if no major downward movement in commodity prices takes place. Additionally, the normalisation of inflation depends on the continued closing of the negative output gap and more dynamic wage behaviour.  In the first half of 2016 the euro area grew at an annualised rate of 1.7%, similar to last year’s growth rate. This figure is far from being impressive, especially considering that the euro area is in the early phase of a recovery after the second recession in 2012 and 2013. On the other hand, the unemployment rate, albeit falling, still remains above 10% amid a continuous increase in the participation rate in the labour force since the crisis. One positive aspect is that our policies have contributed to a decrease in financial fragmentation and that the dispersion of GDP growth and inflation across euro area countries is at the lowest level since the beginning of monetary union in 1999. Another positive note is that the recent growth was largely driven by domestic demand. Moreover, the recovery has proved resilient to a series of adverse shocks over the past year: the slowdown in China last summer, the acute stock market turbulence in the early part of this year and, most recently, the uncertainty created by the UK referendum.  At the same time, this resilience reflects to a large degree the amount of monetary expansion – actual and expected – that is embedded in financial prices. Indeed, with the five packages of measures we have adopted since June 2014, we have reduced the cost of capital, produced rebalancing effects in other asset markets, improved credit supply conditions and restored credit volume growth since the latter part of 2014, after two years of negative developments.    Figure 1:      Yields on bank and non-financial bonds have eased by 90 and 100 basis points, respectively, in response to the measures taken, testifying to the effectiveness of the current policy package. Funding conditions for banks improved as wholesale money market rates became negative and as banks received direct support from new liquidity facilities with four-year maturities and low rates (TLTRO-I and II). These developments have stimulated the pass-through of this funding cost relief to borrowing costs for both firms and households.  As a consequence, bank lending rates to non-financial corporations (NFCs) and households are now at historical lows, and there has been a significant reduction in the fragmentation of lending rates across euro area countries as well as for large and small loans (see Figures 2 and 3). It is also important to note that the establishment of the Single Supervisory Mechanism (SSM) in November 2014 helped put the banking sector in a stronger position to transmit our monetary impulses.    Figure 2:        Figure 3:      The capital position of euro area significant banks has been improving from a common equity capital ratio (CET1) of 7% in 2008 and 9% in 2012, and now st',\n",
       " \"This underpins the urgency for both meaningful implementation of targeted structural reforms and the adoption of growth-friendly fiscal policies. Outlook for the euro area economy Looking at recent developments in the euro area, the recovery continues at its moderate but steady pace, supported mainly by the ECB's expansionary policies, which have significantly improved financial conditions, reduced fragmentation financial situation and supported economic activity and inflation. In the absence of our measurements, growth and inflation in the Eurozone would have been much worse, as our models calculate that inflation and growth would be 0.8 and 0.7 percentage points lower, respectively, at the predicted values \\u200b\\u200bof 0.2% and 1.7%. % for this year. For three years now, inflation has been fairly low with a level of 0.4% in 2014, 0% last year and 0.2% forecast for this year. However, September's recent flash estimate at 0.4% could point to a move consistent with our base-case scenario of a gradual increase to levels above 1% by next spring, assuming no major bearish movement in commodity prices. raw materials takes place. In addition, the normalization of inflation depends on the further reduction of the negative output gap and a more dynamic wage behavior. In the first half of 2016, the Eurozone grew at an annualized rate of 1.7%, a rate similar to last year. This figure is far from impressive, especially considering that the Eurozone is in the initial phase of a recovery from the second recession in 2012 and 2013. On the other hand, the unemployment rate, although declining, still remains above 10% in a context of continuous increase in the labor force participation rate since the crisis. On the positive side, our policies have helped to reduce financial fragmentation and the dispersion of GDP growth and inflation in euro area countries is at its lowest level since the start of monetary union in 1999. Another positive note is that recent growth has been largely driven by domestic demand. Moreover, the recovery has proven resilient to a series of adverse shocks over the past year: the slowdown in China last summer, severe stock market turbulence earlier this year and, more recently, uncertainty created by the British referendum. At the same time, this resilience largely reflects the magnitude of the monetary expansion – actual and expected – that is priced in financially. Indeed, with the five packages of measures that we have adopted since June 2014, we have reduced the cost of capital, produced rebalancing effects on other asset markets, improved credit supply conditions and restored the credit volume growth since the end of 2014, after two years of negative developments. Chart 1: Yields on bank and non-financial bonds fell by 90 and 100 basis points, respectively, in response to the measures taken, demonstrating the effectiveness of the current policy package. Bank funding conditions improved as wholesale money market rates turned negative and banks received direct support from new four-year, low-rate liquidity facilities (TLTRO-I and II) . These developments have boosted the pass-through of this funding cost relief to borrowing costs for both businesses and households. As a result, bank lending rates to non-financial corporations (NFCs) and households are now at historically low levels, and there has been a significant reduction in the fragmentation of lending rates in euro area countries as well as for large and small loans (see figures 2 and 3). It is also important to note that the establishment of the Single Supervisory Mechanism (SSM) in November 2014 has helped to put the banking sector in a stronger position to transmit our monetary impulses. Figure 2: Figure 3: The capital position of significant euro area banks improved from a common equity ratio (CET1) of 7% in 2008 to 9% in 2012,\")"
      ]
     },
     "execution_count": 55,
     "metadata": {},
     "output_type": "execute_result"
    }
   ],
   "source": [
    "import random\n",
    "\n",
    "\n",
    "#condition on text in english\n",
    "\n",
    "n = len(df_ecb.text[1])\n",
    "txt = df_ecb.text[1]\n",
    "#4000 API limitation\n",
    "if n<=4000:\n",
    "    fr_text = GoogleTranslator(source=\"en\", target=\"fr\").translate(text=txt)\n",
    "    en_text = GoogleTranslator(source=\"fr\", target=\"en\").translate(text=fr_text)\n",
    "else:\n",
    "    x = random.randint(1,n)\n",
    "    while n-x <= 4000:\n",
    "        x = random.randint(1,n)\n",
    "    sample_text = txt[x:x+4000]\n",
    "    print(len(sample_text))\n",
    "    fr_text = GoogleTranslator(source=\"en\", target=\"fr\").translate(text=sample_text)\n",
    "    en_text = GoogleTranslator(source=\"fr\", target=\"en\").translate(text=fr_text)\n",
    "sample_text,en_text"
   ]
  }
 ],
 "metadata": {
  "kernelspec": {
   "display_name": "nlp_dauph_env",
   "language": "python",
   "name": "python3"
  },
  "language_info": {
   "codemirror_mode": {
    "name": "ipython",
    "version": 3
   },
   "file_extension": ".py",
   "mimetype": "text/x-python",
   "name": "python",
   "nbconvert_exporter": "python",
   "pygments_lexer": "ipython3",
   "version": "3.9.16"
  },
  "orig_nbformat": 4
 },
 "nbformat": 4,
 "nbformat_minor": 2
}
