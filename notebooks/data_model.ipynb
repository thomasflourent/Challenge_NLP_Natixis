{
 "cells": [
  {
   "cell_type": "code",
   "execution_count": 1,
   "metadata": {},
   "outputs": [],
   "source": [
    "%reload_ext autoreload\n",
    "%autoreload 2"
   ]
  },
  {
   "cell_type": "code",
   "execution_count": 2,
   "metadata": {},
   "outputs": [],
   "source": [
    "import ast\n",
    "import gensim\n",
    "import numpy as np\n",
    "import pandas as pd\n",
    "import matplotlib.pyplot as plt\n",
    "\n",
    "from pathlib import Path\n",
    "from nltk import word_tokenize\n",
    "from gensim.models import Word2Vec\n",
    "from category_encoders import WOEEncoder\n",
    "from sklearn.decomposition import TruncatedSVD\n",
    "from sklearn.preprocessing import StandardScaler\n",
    "from sklearn.linear_model import LogisticRegression\n",
    "from sklearn.ensemble import HistGradientBoostingClassifier, RandomForestClassifier\n",
    "from sklearn.model_selection import train_test_split, validation_curve, KFold\n",
    "\n",
    "from nlp_dauphine.preprocess_texts import (\n",
    "    load_data,\n",
    "    categorical_other,\n",
    ")\n",
    "from nlp_dauphine.embeddings import (\n",
    "    vocabulary,\n",
    "    print_neighbors,\n",
    "    sentence_representations,\n",
    "    co_occurence_matrix,\n",
    ")\n",
    "from nlp_dauphine.preprocess_time_series import compute_rolling\n",
    "from nlp_dauphine.utils import set_working_dir, cosine, euclidean\n"
   ]
  },
  {
   "cell_type": "code",
   "execution_count": 3,
   "metadata": {},
   "outputs": [
    {
     "name": "stdout",
     "output_type": "stream",
     "text": [
      "Current working dir: c:/Users/Hugo/Documents/Travail/A5/Dauphine_challenge/nlp_dauphine/notebooks\n",
      "New working dir: c:/Users/Hugo/Documents/Travail/A5/Dauphine_challenge/nlp_dauphine\n"
     ]
    }
   ],
   "source": [
    "set_working_dir()"
   ]
  },
  {
   "attachments": {},
   "cell_type": "markdown",
   "metadata": {},
   "source": [
    "# Load Data"
   ]
  },
  {
   "cell_type": "code",
   "execution_count": 4,
   "metadata": {},
   "outputs": [],
   "source": [
    "path = Path(\"data\")\n",
    "files_path = {\n",
    "    \"ecb\": Path(path,\"ecb_data_translate_cleaned.csv\"),\n",
    "    \"fed\": Path(path,\"fed_data_translate_cleaned.csv\"),\n",
    "    \"train_series\": Path(path,\"train_series_clean_no_0.csv\"),\n",
    "}"
   ]
  },
  {
   "cell_type": "code",
   "execution_count": 5,
   "metadata": {},
   "outputs": [
    {
     "name": "stdout",
     "output_type": "stream",
     "text": [
      "(1772, 6) (739, 6) (8240, 20)\n"
     ]
    }
   ],
   "source": [
    "# LOAD TEXT DATA\n",
    "df_ecb, df_fed, df_train_series = load_data(files_path)\n",
    "print(df_ecb.shape, df_fed.shape, df_train_series.shape)"
   ]
  },
  {
   "cell_type": "code",
   "execution_count": 6,
   "metadata": {},
   "outputs": [],
   "source": [
    "df_train_series.list_speakers_ecb = df_train_series.list_speakers_ecb.apply(ast.literal_eval)\n",
    "df_train_series.list_speakers_fed = df_train_series.list_speakers_fed.apply(ast.literal_eval)\n",
    "df_train_series.id_ecb = df_train_series.id_ecb.apply(ast.literal_eval)\n",
    "df_train_series.id_fed = df_train_series.id_fed.apply(ast.literal_eval)\n",
    "df_train_series.list_languages_ecb = df_train_series.list_languages_ecb.apply(ast.literal_eval)"
   ]
  },
  {
   "cell_type": "code",
   "execution_count": 161,
   "metadata": {},
   "outputs": [],
   "source": [
    "#https://neptune.ai/blog/data-augmentation-nlp"
   ]
  },
  {
   "attachments": {},
   "cell_type": "markdown",
   "metadata": {},
   "source": [
    "# Data Modelisation"
   ]
  },
  {
   "attachments": {},
   "cell_type": "markdown",
   "metadata": {},
   "source": [
    "## Train Test Split"
   ]
  },
  {
   "cell_type": "code",
   "execution_count": 7,
   "metadata": {},
   "outputs": [
    {
     "name": "stdout",
     "output_type": "stream",
     "text": [
      "(6592, 19) (6592, 1)\n"
     ]
    }
   ],
   "source": [
    "# Train test split \n",
    "X=df_train_series.loc[:,df_train_series.columns!=\"Index + 1\"]\n",
    "y=np.sign(df_train_series[[\"Index + 1\"]])\n",
    "\n",
    "X_train, X_test, y_train, y_test = train_test_split(X,y,test_size=.2, random_state=42)\n",
    "print(X_train.shape,y_train.shape)"
   ]
  },
  {
   "cell_type": "markdown",
   "metadata": {},
   "source": [
    "# Categorical Encoding \n",
    "\n",
    "For the speakers WOEEncoder rather than One-hot encoding"
   ]
  },
  {
   "cell_type": "code",
   "execution_count": 8,
   "metadata": {},
   "outputs": [
    {
     "name": "stderr",
     "output_type": "stream",
     "text": [
      "c:\\Users\\Hugo\\anaconda3\\envs\\nlp_dauph_env\\lib\\site-packages\\pandas\\core\\arraylike.py:402: RuntimeWarning: invalid value encountered in log\n",
      "  result = getattr(ufunc, method)(*inputs, **kwargs)\n",
      "c:\\Users\\Hugo\\anaconda3\\envs\\nlp_dauph_env\\lib\\site-packages\\pandas\\core\\arraylike.py:402: RuntimeWarning: divide by zero encountered in log\n",
      "  result = getattr(ufunc, method)(*inputs, **kwargs)\n",
      "c:\\Users\\Hugo\\anaconda3\\envs\\nlp_dauph_env\\lib\\site-packages\\pandas\\core\\arraylike.py:402: RuntimeWarning: invalid value encountered in log\n",
      "  result = getattr(ufunc, method)(*inputs, **kwargs)\n",
      "c:\\Users\\Hugo\\anaconda3\\envs\\nlp_dauph_env\\lib\\site-packages\\pandas\\core\\arraylike.py:402: RuntimeWarning: divide by zero encountered in log\n",
      "  result = getattr(ufunc, method)(*inputs, **kwargs)\n",
      "c:\\Users\\Hugo\\anaconda3\\envs\\nlp_dauph_env\\lib\\site-packages\\pandas\\core\\arraylike.py:402: RuntimeWarning: invalid value encountered in log\n",
      "  result = getattr(ufunc, method)(*inputs, **kwargs)\n",
      "c:\\Users\\Hugo\\anaconda3\\envs\\nlp_dauph_env\\lib\\site-packages\\pandas\\core\\arraylike.py:402: RuntimeWarning: invalid value encountered in log\n",
      "  result = getattr(ufunc, method)(*inputs, **kwargs)\n"
     ]
    }
   ],
   "source": [
    "col_speakers = [\"speaker_\"+str(i+1) for i in range(4)]\n",
    "\n",
    "X_train = pd.concat([X_train, X_train['list_speakers_ecb'].apply(pd.Series)], axis=1)\n",
    "X_train.rename({i:col for i, col in enumerate(col_speakers)},axis=1,inplace=True)\n",
    "\n",
    "X_test = pd.concat([X_test, X_test['list_speakers_ecb'].apply(pd.Series)], axis=1)\n",
    "X_test.rename({i:col for i, col in enumerate(col_speakers)},axis=1,inplace=True)\n",
    "\n",
    "enc = WOEEncoder(cols=col_speakers)\n",
    "X_train = enc.fit_transform(X_train, y_train)\n",
    "X_test = enc.transform(X_test)\n",
    "\n",
    "X_train.fillna(0,inplace=True)\n",
    "X_test.fillna(0,inplace=True)"
   ]
  },
  {
   "cell_type": "markdown",
   "metadata": {},
   "source": [
    "for the index and the languages, one hot encoding "
   ]
  },
  {
   "cell_type": "code",
   "execution_count": 9,
   "metadata": {},
   "outputs": [],
   "source": [
    "X_train = pd.get_dummies(X_train, prefix =\"\",columns=[\"Index Name\"], drop_first=False)\n",
    "X_test = pd.get_dummies(X_test, prefix =\"\",columns=[\"Index Name\"], drop_first=False)"
   ]
  },
  {
   "cell_type": "code",
   "execution_count": 10,
   "metadata": {},
   "outputs": [],
   "source": [
    "df_lang_train = (\n",
    "    pd.get_dummies(X_train.list_languages_ecb.apply(pd.Series).stack(), prefix=\"ecb\")\n",
    "    .groupby(level=0)\n",
    "    .sum()\n",
    ")\n",
    "X_train = pd.concat([X_train, df_lang_train], axis=1)\n",
    "df_lang_test = (\n",
    "    pd.get_dummies(X_test.list_languages_ecb.apply(pd.Series).stack(), prefix=\"ecb\")\n",
    "    .groupby(level=0)\n",
    "    .sum()\n",
    ")\n",
    "X_test = pd.concat([X_test, df_lang_test], axis=1)\n"
   ]
  },
  {
   "cell_type": "code",
   "execution_count": 11,
   "metadata": {},
   "outputs": [],
   "source": [
    "cols_to_drop = [\n",
    "    \"id_ecb\",\n",
    "    \"id_fed\",\n",
    "    \"id_series\",\n",
    "    \"list_speakers_fed\",\n",
    "    \"list_speakers_ecb\",\n",
    "    \"list_languages_ecb\",\n",
    "]\n",
    "X_test.drop(cols_to_drop, axis=1, inplace=True)\n",
    "X_train.drop(cols_to_drop, axis=1, inplace=True)\n"
   ]
  },
  {
   "cell_type": "code",
   "execution_count": 12,
   "metadata": {},
   "outputs": [
    {
     "data": {
      "text/plain": [
       "Index(['Index - 9', 'Index - 8', 'Index - 7', 'Index - 6', 'Index - 5',\n",
       "       'Index - 4', 'Index - 3', 'Index - 2', 'Index - 1', 'Index - 0',\n",
       "       'text_concat_ecb', 'text_concat_fed', 'speaker_1', 'speaker_2',\n",
       "       'speaker_3', 'speaker_4', '_CVIX Index', '_EURUSD Curncy',\n",
       "       '_EURUSDV1M Curncy', '_MOVE Index', '_SPX Index', '_SRVIX Index',\n",
       "       '_SX5E Index', '_V2X Index', '_VIX Index', 'ecb_de', 'ecb_en', 'ecb_es',\n",
       "       'ecb_fr', 'ecb_it'],\n",
       "      dtype='object')"
      ]
     },
     "execution_count": 12,
     "metadata": {},
     "output_type": "execute_result"
    }
   ],
   "source": [
    "X_test.columns"
   ]
  },
  {
   "attachments": {},
   "cell_type": "markdown",
   "metadata": {},
   "source": [
    "# Text Embeddings"
   ]
  },
  {
   "attachments": {},
   "cell_type": "markdown",
   "metadata": {},
   "source": [
    "## Word Embeddings\n"
   ]
  },
  {
   "attachments": {},
   "cell_type": "markdown",
   "metadata": {},
   "source": [
    "### 1st Method: Vocabulary -> Co-Occurence Matrix -> SVD "
   ]
  },
  {
   "attachments": {},
   "cell_type": "markdown",
   "metadata": {},
   "source": [
    "#### Vocabulary "
   ]
  },
  {
   "cell_type": "code",
   "execution_count": 13,
   "metadata": {},
   "outputs": [],
   "source": [
    "word2id_7500,word_counts_7500 = vocabulary(X_train.text_concat_ecb,7500)"
   ]
  },
  {
   "attachments": {},
   "cell_type": "markdown",
   "metadata": {},
   "source": [
    "#### Co-occurence Matrix"
   ]
  },
  {
   "cell_type": "code",
   "execution_count": 14,
   "metadata": {},
   "outputs": [
    {
     "name": "stderr",
     "output_type": "stream",
     "text": [
      "co-occurence matrix: 100%|██████████| 6592/6592 [03:36<00:00, 30.42it/s]\n",
      "co-occurence matrix: 100%|██████████| 6592/6592 [02:17<00:00, 47.93it/s]\n"
     ]
    }
   ],
   "source": [
    "M5dist_ecb = co_occurence_matrix(X_train.text_concat_ecb, word2id_7500, window=5, distance_weighting=True)\n",
    "M5dist_fed = co_occurence_matrix(X_train.text_concat_fed, word2id_7500, window=5, distance_weighting=True)"
   ]
  },
  {
   "attachments": {},
   "cell_type": "markdown",
   "metadata": {},
   "source": [
    "#### Scaling"
   ]
  },
  {
   "cell_type": "code",
   "execution_count": 15,
   "metadata": {},
   "outputs": [],
   "source": [
    "scaler = StandardScaler()\n",
    "M5dist_ecb = scaler.fit_transform(M5dist_ecb)\n",
    "M5dist_fed = scaler.fit_transform(M5dist_fed)"
   ]
  },
  {
   "attachments": {},
   "cell_type": "markdown",
   "metadata": {},
   "source": [
    "#### SVD"
   ]
  },
  {
   "cell_type": "code",
   "execution_count": 16,
   "metadata": {},
   "outputs": [
    {
     "name": "stdout",
     "output_type": "stream",
     "text": [
      "(7501, 200) (7501, 200)\n"
     ]
    }
   ],
   "source": [
    "svd = TruncatedSVD(n_components=200)\n",
    "SVDEmbeddings_ecb = svd.fit_transform(M5dist_ecb)\n",
    "SVDEmbeddings_fed = svd.fit_transform(M5dist_fed)\n",
    "print(SVDEmbeddings_ecb.shape, SVDEmbeddings_fed.shape)"
   ]
  },
  {
   "cell_type": "code",
   "execution_count": 17,
   "metadata": {},
   "outputs": [
    {
     "data": {
      "text/plain": [
       "0.6076534596260351"
      ]
     },
     "execution_count": 17,
     "metadata": {},
     "output_type": "execute_result"
    }
   ],
   "source": [
    "svd.explained_variance_ratio_.sum()"
   ]
  },
  {
   "attachments": {},
   "cell_type": "markdown",
   "metadata": {},
   "source": [
    "#### Analysis"
   ]
  },
  {
   "cell_type": "code",
   "execution_count": 107,
   "metadata": {},
   "outputs": [
    {
     "name": "stdout",
     "output_type": "stream",
     "text": [
      "Plus proches voisins de financial selon la distance 'cosine': \n",
      "[['turmoil', 'instability', 'turbulence', 'contagion', 'market', 'vulnerability', 'assess', 'various', 'crisis']]\n",
      "Plus proches voisins de financial selon la distance 'cosine': \n",
      "[['pose', 'crisis', 'function', 'system', 'strengthen', 'severe', 'intermediary', 'market', 'UNK']]\n"
     ]
    }
   ],
   "source": [
    "print_neighbors(cosine, word2id_7500, SVDEmbeddings_ecb, 'financial')\n",
    "print_neighbors(cosine, word2id_7500, SVDEmbeddings_fed, 'financial')"
   ]
  },
  {
   "cell_type": "code",
   "execution_count": 108,
   "metadata": {},
   "outputs": [
    {
     "name": "stdout",
     "output_type": "stream",
     "text": [
      "Plus proches voisins de financial selon la distance 'euclidean': \n",
      "[['system', 'stability', 'crisis', 'sector', 'global', 'institution', 'also', 'market', 'economy']]\n",
      "Plus proches voisins de financial selon la distance 'euclidean': \n",
      "[['crisis', 'system', 'stability', 'institution', 'firm', 'large', 'condition', 'global', 'risk']]\n"
     ]
    }
   ],
   "source": [
    "print_neighbors(euclidean, word2id_7500, SVDEmbeddings_ecb, 'financial')\n",
    "print_neighbors(euclidean, word2id_7500, SVDEmbeddings_fed, 'financial')"
   ]
  },
  {
   "attachments": {},
   "cell_type": "markdown",
   "metadata": {},
   "source": [
    "### 2nd Method: Vocabulary -> W2Vec"
   ]
  },
  {
   "cell_type": "code",
   "execution_count": null,
   "metadata": {},
   "outputs": [],
   "source": [
    "word2id_7500, word_counts_7500 = vocabulary(X_train.text_concat_ecb,7500)"
   ]
  },
  {
   "cell_type": "code",
   "execution_count": 88,
   "metadata": {},
   "outputs": [],
   "source": [
    "w2vec_fed = Word2Vec(vector_size=100,\n",
    "                 window=5,\n",
    "                 null_word=len(word_counts_7500))\n",
    "w2vec_fed.build_vocab_from_freq(word_counts_7500)\n",
    "w2vec_ecb = Word2Vec(vector_size=100,\n",
    "                 window=5,\n",
    "                 null_word=len(word_counts_7500))\n",
    "w2vec_ecb.build_vocab_from_freq(word_counts_7500)"
   ]
  },
  {
   "cell_type": "code",
   "execution_count": 87,
   "metadata": {},
   "outputs": [],
   "source": [
    "preprocessed_corpus_ecb = [\n",
    "    word_tokenize(X_train.text_concat_ecb.values[i])\n",
    "    for i in range(len(X_train.text_concat_ecb))\n",
    "]\n",
    "\n",
    "preprocessed_corpus_fed = [\n",
    "    word_tokenize(X_train.text_concat_fed.values[i])\n",
    "    for i in range(len(X_train.text_concat_fed))\n",
    "]"
   ]
  },
  {
   "cell_type": "code",
   "execution_count": 89,
   "metadata": {},
   "outputs": [
    {
     "data": {
      "text/plain": [
       "(213227259, 235516700)"
      ]
     },
     "execution_count": 89,
     "metadata": {},
     "output_type": "execute_result"
    }
   ],
   "source": [
    "w2vec_ecb.train(\n",
    "    preprocessed_corpus_ecb,\n",
    "    total_examples=len(X_train.text_concat_ecb),\n",
    "    epochs=20,\n",
    "    report_delay=1,\n",
    ")\n"
   ]
  },
  {
   "cell_type": "code",
   "execution_count": 93,
   "metadata": {},
   "outputs": [
    {
     "data": {
      "text/plain": [
       "(244000910, 271917220)"
      ]
     },
     "execution_count": 93,
     "metadata": {},
     "output_type": "execute_result"
    }
   ],
   "source": [
    "w2vec_fed.train(\n",
    "    preprocessed_corpus_fed,\n",
    "    total_examples=len(X_train.text_concat_fed),\n",
    "    epochs=20,\n",
    "    report_delay=1,\n",
    ")\n"
   ]
  },
  {
   "cell_type": "code",
   "execution_count": 91,
   "metadata": {},
   "outputs": [
    {
     "data": {
      "text/plain": [
       "(7501, 100)"
      ]
     },
     "execution_count": 91,
     "metadata": {},
     "output_type": "execute_result"
    }
   ],
   "source": [
    "W2VEmbeddings_ecb = w2vec_ecb.wv.vectors\n",
    "W2VEmbeddings_ecb.shape"
   ]
  },
  {
   "cell_type": "code",
   "execution_count": 95,
   "metadata": {},
   "outputs": [
    {
     "data": {
      "text/plain": [
       "(7501, 100)"
      ]
     },
     "execution_count": 95,
     "metadata": {},
     "output_type": "execute_result"
    }
   ],
   "source": [
    "W2VEmbeddings_fed = w2vec_fed.wv.vectors\n",
    "W2VEmbeddings_fed.shape"
   ]
  },
  {
   "attachments": {},
   "cell_type": "markdown",
   "metadata": {},
   "source": [
    "### 3rd method: Pretrained Embedding on Finance Corpora"
   ]
  },
  {
   "cell_type": "code",
   "execution_count": 123,
   "metadata": {},
   "outputs": [],
   "source": [
    "model_gn = gensim.models.KeyedVectors.load_word2vec_format('data/bankfinvec_100d_v1.txt')\n",
    "model_gn = gensim.models.KeyedVectors.load_word2vec_format('data/custom_finvec_100d.txt')"
   ]
  },
  {
   "cell_type": "code",
   "execution_count": 145,
   "metadata": {},
   "outputs": [
    {
     "data": {
      "text/plain": [
       "(3677,\n",
       " ['ecb',\n",
       "  'european',\n",
       "  'europe',\n",
       "  'eu',\n",
       "  'eurosystem',\n",
       "  'programme',\n",
       "  'gdp',\n",
       "  'emerge',\n",
       "  'emu',\n",
       "  'macroprudential',\n",
       "  'globalisation',\n",
       "  'remark',\n",
       "  'stance',\n",
       "  'germany',\n",
       "  'implication',\n",
       "  'september',\n",
       "  'treaty',\n",
       "  'sepa',\n",
       "  'june',\n",
       "  'ssm',\n",
       "  'imf',\n",
       "  'october',\n",
       "  'lady',\n",
       "  'parliament',\n",
       "  'behaviour',\n",
       "  'debate',\n",
       "  'ccps',\n",
       "  'december',\n",
       "  'policymakers',\n",
       "  'esrb',\n",
       "  'accord',\n",
       "  'citizen',\n",
       "  'reinforce',\n",
       "  'german',\n",
       "  'spain',\n",
       "  'greece',\n",
       "  'basel',\n",
       "  'circumstance',\n",
       "  'vulnerability',\n",
       "  'china',\n",
       "  'january',\n",
       "  'premia',\n",
       "  'ireland',\n",
       "  'confirm',\n",
       "  'fragmentation',\n",
       "  'frankfurt',\n",
       "  'resilient',\n",
       "  'credibility',\n",
       "  'july',\n",
       "  'spillover',\n",
       "  'stabilise',\n",
       "  'speak',\n",
       "  'iii',\n",
       "  'accommodative',\n",
       "  'securitisation',\n",
       "  'stem',\n",
       "  'november',\n",
       "  'italy',\n",
       "  'recognise',\n",
       "  'phillips',\n",
       "  'gradual',\n",
       "  'persistent',\n",
       "  'credible',\n",
       "  'pleasure',\n",
       "  'turbulence',\n",
       "  'august',\n",
       "  'gentlemen',\n",
       "  'accountability',\n",
       "  'pact',\n",
       "  'headline',\n",
       "  'organise',\n",
       "  'harmonise',\n",
       "  'tommaso',\n",
       "  'prevail',\n",
       "  'smes',\n",
       "  'gentleman',\n",
       "  'stimulus',\n",
       "  'briefly',\n",
       "  'unprecedented',\n",
       "  'lehman',\n",
       "  'literature',\n",
       "  'unconventional',\n",
       "  'instant',\n",
       "  'japan',\n",
       "  'characterise',\n",
       "  'slack',\n",
       "  'chair',\n",
       "  'omts',\n",
       "  'budgetary',\n",
       "  'april',\n",
       "  'sharp',\n",
       "  'infrastructures',\n",
       "  'backstop',\n",
       "  'centre',\n",
       "  'uk',\n",
       "  'sovereignty',\n",
       "  'materialise',\n",
       "  'ambitious',\n",
       "  'greek',\n",
       "  'february',\n",
       "  'france',\n",
       "  'deepen',\n",
       "  'correction',\n",
       "  'asia',\n",
       "  'fsb',\n",
       "  'insufficient',\n",
       "  'otc',\n",
       "  'decisive',\n",
       "  'undermine',\n",
       "  'analyse',\n",
       "  'unsustainable',\n",
       "  'steer',\n",
       "  'episode',\n",
       "  'hicp',\n",
       "  'jean',\n",
       "  'surround',\n",
       "  'esm',\n",
       "  'governor',\n",
       "  'dear',\n",
       "  'journal',\n",
       "  'npls',\n",
       "  'draghi',\n",
       "  'toolkit',\n",
       "  'originate',\n",
       "  'la',\n",
       "  'inequality',\n",
       "  'iv',\n",
       "  'ccp',\n",
       "  'recall',\n",
       "  'discus',\n",
       "  'reflection',\n",
       "  'slowdown',\n",
       "  'perceive',\n",
       "  'pan',\n",
       "  'mario',\n",
       "  'brother',\n",
       "  'fundamentally',\n",
       "  'expose',\n",
       "  'prosperity',\n",
       "  'repair',\n",
       "  'asian',\n",
       "  'orient',\n",
       "  'multilateral',\n",
       "  'harmonisation',\n",
       "  'realise',\n",
       "  'portugal',\n",
       "  'ass',\n",
       "  'à',\n",
       "  'subdue',\n",
       "  'brussels',\n",
       "  'weigh',\n",
       "  'constrain',\n",
       "  'allotment',\n",
       "  'npl',\n",
       "  'oecd',\n",
       "  'digitalisation',\n",
       "  'welfare',\n",
       "  'witness',\n",
       "  'banknote',\n",
       "  'actor',\n",
       "  'stimulate',\n",
       "  'moderation',\n",
       "  'divergence',\n",
       "  'underpin',\n",
       "  'democracy',\n",
       "  'affair',\n",
       "  'exacerbate',\n",
       "  'restructure',\n",
       "  'stakeholder',\n",
       "  'cœyou',\n",
       "  'areé',\n",
       "  'escb',\n",
       "  'heighten',\n",
       "  'legislative',\n",
       "  'observer',\n",
       "  'benoît',\n",
       "  'openness',\n",
       "  'minister',\n",
       "  'dispersion',\n",
       "  'pandemic',\n",
       "  'persistence',\n",
       "  'pepp',\n",
       "  'confront',\n",
       "  'shortcoming',\n",
       "  'favour',\n",
       "  'cope',\n",
       "  'honour',\n",
       "  'cmu',\n",
       "  'rulebook',\n",
       "  'bundesbank',\n",
       "  'prolong',\n",
       "  'interconnectedness',\n",
       "  'spanish',\n",
       "  'transmit',\n",
       "  'eonia',\n",
       "  'obstacle',\n",
       "  'dampen',\n",
       "  'induce',\n",
       "  'decisively',\n",
       "  'revision',\n",
       "  'institute',\n",
       "  'iosco',\n",
       "  'loop',\n",
       "  'democratic',\n",
       "  'mersch',\n",
       "  'limitation',\n",
       "  'anacredit',\n",
       "  'claude',\n",
       "  'outbreak',\n",
       "  'aversion',\n",
       "  'distortion',\n",
       "  'complacency',\n",
       "  'migration',\n",
       "  'pas',\n",
       "  'separation',\n",
       "  'persist',\n",
       "  'eurostat',\n",
       "  'disinflation',\n",
       "  'granular',\n",
       "  'libra',\n",
       "  'underline',\n",
       "  'eba',\n",
       "  'saver',\n",
       "  'eurogroup',\n",
       "  'fintech',\n",
       "  'heterogeneity',\n",
       "  'minimise',\n",
       "  'swiss',\n",
       "  'restriction',\n",
       "  'tonight',\n",
       "  'legitimacy',\n",
       "  'distributional',\n",
       "  'foresee',\n",
       "  'externality',\n",
       "  'swift',\n",
       "  'precondition',\n",
       "  'dlt',\n",
       "  'maastricht',\n",
       "  'notwithstanding',\n",
       "  'protract',\n",
       "  'regain',\n",
       "  'protectionism',\n",
       "  'intensify',\n",
       "  'encompass',\n",
       "  'rigidity',\n",
       "  'euribor',\n",
       "  'embed',\n",
       "  'compact',\n",
       "  'netherlands',\n",
       "  'nonetheless',\n",
       "  'yves',\n",
       "  'trichet',\n",
       "  'finalise',\n",
       "  'ltv',\n",
       "  'elevate',\n",
       "  'mmsr',\n",
       "  'fragility',\n",
       "  'catalyst',\n",
       "  'precede',\n",
       "  'complementary',\n",
       "  'der',\n",
       "  'spiral',\n",
       "  'spill',\n",
       "  'srm',\n",
       "  'crucially',\n",
       "  'lisbon',\n",
       "  'wake',\n",
       "  'crd',\n",
       "  'supportive',\n",
       "  'london',\n",
       "  'tier',\n",
       "  'accountable',\n",
       "  'kingdom',\n",
       "  'strain',\n",
       "  'bust',\n",
       "  'incoming',\n",
       "  'cpmi',\n",
       "  'tltros',\n",
       "  'efficiently',\n",
       "  'deterioration',\n",
       "  'chinese',\n",
       "  'bind',\n",
       "  'ups',\n",
       "  'recapitalisation',\n",
       "  'organisation',\n",
       "  'broaden',\n",
       "  'efsf',\n",
       "  'complicate',\n",
       "  'ltros',\n",
       "  'reallocation',\n",
       "  'worsen',\n",
       "  'prompt',\n",
       "  'defence',\n",
       "  'irish',\n",
       "  'federalism',\n",
       "  'guideline',\n",
       "  'american',\n",
       "  'prevention',\n",
       "  'impair',\n",
       "  'peter',\n",
       "  'prudent',\n",
       "  'forecaster',\n",
       "  'abs',\n",
       "  'sovereigns',\n",
       "  'reversal',\n",
       "  'impulse',\n",
       "  'surge',\n",
       "  'explicit',\n",
       "  'amplify',\n",
       "  'judicial',\n",
       "  'intra',\n",
       "  'embark',\n",
       "  'interpretation',\n",
       "  'legislator',\n",
       "  'foreseen',\n",
       "  'lecture',\n",
       "  'friction',\n",
       "  'interact',\n",
       "  'tune',\n",
       "  'stabiliser',\n",
       "  'sanction',\n",
       "  'enforcement',\n",
       "  'constâncio',\n",
       "  'envisage',\n",
       "  'likewise',\n",
       "  'italian',\n",
       "  'anniversary',\n",
       "  'vítor',\n",
       "  'underway',\n",
       "  'oppose',\n",
       "  'benign',\n",
       "  'contingency',\n",
       "  'upwards',\n",
       "  'liberalisation',\n",
       "  'ester',\n",
       "  'drag',\n",
       "  'french',\n",
       "  'fragile',\n",
       "  'internalise',\n",
       "  'puzzle',\n",
       "  'counteract',\n",
       "  'caput',\n",
       "  'cohesion',\n",
       "  'estonia',\n",
       "  'tip',\n",
       "  'dominant',\n",
       "  'brexit',\n",
       "  'alleviate',\n",
       "  'england',\n",
       "  'paradigm',\n",
       "  'withstand',\n",
       "  'statute',\n",
       "  'sectoral',\n",
       "  'deutsche',\n",
       "  'urgent',\n",
       "  'curb',\n",
       "  'bold',\n",
       "  'warn',\n",
       "  'repercussion',\n",
       "  'tltro',\n",
       "  'honourable',\n",
       "  'absorption',\n",
       "  'politics',\n",
       "  'continent',\n",
       "  'redenomination',\n",
       "  'dedicate',\n",
       "  'compromise',\n",
       "  'keynesian',\n",
       "  'praet',\n",
       "  'postpone',\n",
       "  'coronavirus',\n",
       "  'reassure',\n",
       "  'paris',\n",
       "  'levy',\n",
       "  'mro',\n",
       "  'entrust',\n",
       "  'controversial',\n",
       "  'systematically',\n",
       "  'slovakia',\n",
       "  'persistently',\n",
       "  'compression',\n",
       "  'qe',\n",
       "  'durable',\n",
       "  'endogenous',\n",
       "  'denominate',\n",
       "  'abundant',\n",
       "  'enshrine',\n",
       "  'abrupt',\n",
       "  'pronounce',\n",
       "  'caution',\n",
       "  'deflationary',\n",
       "  'ela',\n",
       "  'deem',\n",
       "  'omt',\n",
       "  'crr',\n",
       "  'recede',\n",
       "  'equip',\n",
       "  'intensification',\n",
       "  'enhancement',\n",
       "  'invitation',\n",
       "  'keynote',\n",
       "  'unlimited',\n",
       "  'endeavour',\n",
       "  'indispensable',\n",
       "  'dominance',\n",
       "  'normalisation',\n",
       "  'avenue',\n",
       "  'justice',\n",
       "  'corporates',\n",
       "  'ts',\n",
       "  'europa',\n",
       "  'spur',\n",
       "  'respondent',\n",
       "  'macroeconomics',\n",
       "  'autonomous',\n",
       "  'fragment',\n",
       "  'lorenzo',\n",
       "  'bini',\n",
       "  'smaghi',\n",
       "  'latvia',\n",
       "  'washington',\n",
       "  'quasi',\n",
       "  'juncture',\n",
       "  'deeply',\n",
       "  'luxembourg',\n",
       "  'standardisation',\n",
       "  'professor',\n",
       "  'researcher',\n",
       "  'distort',\n",
       "  'depress',\n",
       "  'revive',\n",
       "  'ich',\n",
       "  'monnet',\n",
       "  'advocate',\n",
       "  'excessively',\n",
       "  'undoubtedly',\n",
       "  'disorderly',\n",
       "  'amend',\n",
       "  'aurel',\n",
       "  'smp',\n",
       "  'ministry',\n",
       "  'josé',\n",
       "  'centralise',\n",
       "  'baltic',\n",
       "  'fruitful',\n",
       "  'renminbi',\n",
       "  'frank',\n",
       "  'japanese',\n",
       "  'ict',\n",
       "  'yes',\n",
       "  'lautenschläger',\n",
       "  'deviate',\n",
       "  'propagation',\n",
       "  'standardise',\n",
       "  'geopolitical',\n",
       "  'fallout',\n",
       "  'famously',\n",
       "  'fledge',\n",
       "  'organiser',\n",
       "  'lamfalussy',\n",
       "  'basically',\n",
       "  'teach',\n",
       "  'disinflationary',\n",
       "  'supranational',\n",
       "  'van',\n",
       "  'forcefully',\n",
       "  'diffusion',\n",
       "  'endanger',\n",
       "  'impediment',\n",
       "  'combat',\n",
       "  'banco',\n",
       "  'interdependence',\n",
       "  'peg',\n",
       "  'decentralise',\n",
       "  'gonzález',\n",
       "  'misalignment',\n",
       "  'leap',\n",
       "  'mindful',\n",
       "  'propagate',\n",
       "  'interlinkages',\n",
       "  'regularity',\n",
       "  'ledger',\n",
       "  'occasional',\n",
       "  'atlantic',\n",
       "  'confer',\n",
       "  'remedy',\n",
       "  'flash',\n",
       "  'constitution',\n",
       "  'resolute',\n",
       "  'epc',\n",
       "  'mission',\n",
       "  'overhang',\n",
       "  'comparatively',\n",
       "  'downwards',\n",
       "  'underscore',\n",
       "  'sabine',\n",
       "  'fdi',\n",
       "  'instrumental',\n",
       "  'fake',\n",
       "  'eligibility',\n",
       "  'microprudential',\n",
       "  'stark',\n",
       "  'covid',\n",
       "  'incidentally',\n",
       "  'bolster',\n",
       "  'profoundly',\n",
       "  'underestimate',\n",
       "  'predominantly',\n",
       "  'prioritise',\n",
       "  'compress',\n",
       "  'ambition',\n",
       "  'realm',\n",
       "  'federation',\n",
       "  'robustness',\n",
       "  'destabilise',\n",
       "  'empt',\n",
       "  'snb',\n",
       "  'je',\n",
       "  'que',\n",
       "  'bitcoin',\n",
       "  'interconnect',\n",
       "  'rethink',\n",
       "  'flatten',\n",
       "  'sweden',\n",
       "  'everywhere',\n",
       "  'ulc',\n",
       "  'interdependency',\n",
       "  'rightly',\n",
       "  'virtual',\n",
       "  'poll',\n",
       "  'globalise',\n",
       "  'manuel',\n",
       "  'páramo',\n",
       "  'jackson',\n",
       "  'inspire',\n",
       "  'mrel',\n",
       "  'subdued',\n",
       "  'trajectory',\n",
       "  'nber',\n",
       "  'crypto',\n",
       "  'tempt',\n",
       "  'ensue',\n",
       "  'industrialised',\n",
       "  'maximise',\n",
       "  'suit',\n",
       "  'canada',\n",
       "  'tumpel',\n",
       "  'gugerell',\n",
       "  'intergovernmental',\n",
       "  'turbulent',\n",
       "  'rebalance',\n",
       "  'interplay',\n",
       "  'polar',\n",
       "  'referendum',\n",
       "  'summarise',\n",
       "  'malfunction',\n",
       "  'neglect',\n",
       "  'vicious',\n",
       "  'delphic',\n",
       "  'responsiveness',\n",
       "  'recourse',\n",
       "  'quantum',\n",
       "  'pivotal',\n",
       "  'solidarity',\n",
       "  'profession',\n",
       "  'isolation',\n",
       "  'inaction',\n",
       "  'blame',\n",
       "  'emir',\n",
       "  'sphere',\n",
       "  'relief',\n",
       "  'attain',\n",
       "  'imbalances',\n",
       "  'deficiency',\n",
       "  'harmonised',\n",
       "  'robert',\n",
       "  'banque',\n",
       "  'legitimate',\n",
       "  'prudence',\n",
       "  'opaque',\n",
       "  'herd',\n",
       "  'resume',\n",
       "  'reliant',\n",
       "  'gertrude',\n",
       "  'anti',\n",
       "  'anticipation',\n",
       "  'utmost',\n",
       "  'delors',\n",
       "  'avert',\n",
       "  'insofar',\n",
       "  'ecofin',\n",
       "  'tlac',\n",
       "  'unfounded',\n",
       "  'facto',\n",
       "  'unwarranted',\n",
       "  'optimise',\n",
       "  'uneven',\n",
       "  'constitutional',\n",
       "  'fmis',\n",
       "  'aggravate',\n",
       "  'neighbour',\n",
       "  'complacent',\n",
       "  'secondly',\n",
       "  'dinner',\n",
       "  'cyprus',\n",
       "  'flaw',\n",
       "  'remit',\n",
       "  'banca',\n",
       "  'inefficiency',\n",
       "  'impetus',\n",
       "  'alertness',\n",
       "  'formulate',\n",
       "  'measurable',\n",
       "  'stagnation',\n",
       "  'jeopardise',\n",
       "  'shield',\n",
       "  'trap',\n",
       "  'sustainably',\n",
       "  'corridor',\n",
       "  'paramount',\n",
       "  'motivate',\n",
       "  'temporal',\n",
       "  'struggle',\n",
       "  'sluggish',\n",
       "  'españa',\n",
       "  'republic',\n",
       "  'mute',\n",
       "  'ecbat',\n",
       "  'precautionary',\n",
       "  'abandon',\n",
       "  'conduit',\n",
       "  'madam',\n",
       "  'manoeuvre',\n",
       "  'fora',\n",
       "  'efb',\n",
       "  'curtail',\n",
       "  'pave',\n",
       "  'disrupt',\n",
       "  'wonder',\n",
       "  'monétaire',\n",
       "  'trough',\n",
       "  'correlate',\n",
       "  'alia',\n",
       "  'cop',\n",
       "  'sticky',\n",
       "  'upswing',\n",
       "  'overseer',\n",
       "  'incumbent',\n",
       "  'constellation',\n",
       "  'coincide',\n",
       "  'unfold',\n",
       "  'securitised',\n",
       "  'forefront',\n",
       "  'discovery',\n",
       "  'jürgen',\n",
       "  'cite',\n",
       "  'illusion',\n",
       "  'seacen',\n",
       "  'supplementary',\n",
       "  'dysfunctional',\n",
       "  'taylor',\n",
       "  'unification',\n",
       "  'steepen',\n",
       "  'formidable',\n",
       "  'periphery',\n",
       "  'solidly',\n",
       "  'ncbs',\n",
       "  'firstly',\n",
       "  'refine',\n",
       "  'criticise',\n",
       "  'rome',\n",
       "  'berlin',\n",
       "  'norm',\n",
       "  'lti',\n",
       "  'father',\n",
       "  'lane',\n",
       "  'loosen',\n",
       "  'john',\n",
       "  'credibly',\n",
       "  'hoc',\n",
       "  'lengthen',\n",
       "  'urgently',\n",
       "  'restart',\n",
       "  'auf',\n",
       "  'han',\n",
       "  'dsge',\n",
       "  'austria',\n",
       "  'modernise',\n",
       "  'hysteresis',\n",
       "  'fortunately',\n",
       "  'initiation',\n",
       "  'suggestion',\n",
       "  'madrid',\n",
       "  'sgp',\n",
       "  'securitisations',\n",
       "  'perimeter',\n",
       "  'odyssean',\n",
       "  'bernanke',\n",
       "  'protectionist',\n",
       "  'slump',\n",
       "  'changeover',\n",
       "  'nexus',\n",
       "  'twin',\n",
       "  'erpb',\n",
       "  'haver',\n",
       "  'modality',\n",
       "  'dwell',\n",
       "  'synchronise',\n",
       "  'italia',\n",
       "  'vein',\n",
       "  'slovenia',\n",
       "  'switzerland',\n",
       "  'brrd',\n",
       "  'divergent',\n",
       "  'headwind',\n",
       "  'formulation',\n",
       "  'unclear',\n",
       "  'fence',\n",
       "  'specialise',\n",
       "  'blow',\n",
       "  'edis',\n",
       "  'enact',\n",
       "  'ladies',\n",
       "  'inconsistency',\n",
       "  'heterogeneous',\n",
       "  'materialisation',\n",
       "  'commentator',\n",
       "  'patience',\n",
       "  'erupt',\n",
       "  'unavoidable',\n",
       "  'csds',\n",
       "  'celebrate',\n",
       "  'bcbs',\n",
       "  'bis',\n",
       "  'unsound',\n",
       "  'singleness',\n",
       "  'learnt',\n",
       "  'guindos',\n",
       "  'normalise',\n",
       "  'suffice',\n",
       "  'lightly',\n",
       "  'tentative',\n",
       "  'proportionate',\n",
       "  'proportionality',\n",
       "  'congress',\n",
       "  'fade',\n",
       "  'statistician',\n",
       "  'für',\n",
       "  'shorten',\n",
       "  'sme',\n",
       "  'mmfs',\n",
       "  'specialisation',\n",
       "  'sifis',\n",
       "  'minute',\n",
       "  'endorse',\n",
       "  'exogenous',\n",
       "  'invaluable',\n",
       "  'chicago',\n",
       "  'psd',\n",
       "  'admittedly',\n",
       "  'episodes',\n",
       "  'lcr',\n",
       "  'specificity',\n",
       "  'nowadays',\n",
       "  'diagnosis',\n",
       "  'innovate',\n",
       "  'vigilance',\n",
       "  'ineffective',\n",
       "  'srep',\n",
       "  'offs',\n",
       "  'semester',\n",
       "  'allot',\n",
       "  'climb',\n",
       "  'embrace',\n",
       "  'readiness',\n",
       "  'amplification',\n",
       "  'overheat',\n",
       "  'sehr',\n",
       "  'lolr',\n",
       "  'mount',\n",
       "  'conceivable',\n",
       "  'structurally',\n",
       "  'disentangle',\n",
       "  'rompuy',\n",
       "  'empower',\n",
       "  'convey',\n",
       "  'absorber',\n",
       "  'intertwine',\n",
       "  'delight',\n",
       "  'prohibition',\n",
       "  'york',\n",
       "  'hong',\n",
       "  'bund',\n",
       "  'tfp',\n",
       "  'mechanically',\n",
       "  'bi',\n",
       "  'additionally',\n",
       "  'thursday',\n",
       "  'congratulate',\n",
       "  'conceive',\n",
       "  'unpredictable',\n",
       "  'brunnermeier',\n",
       "  'dependency',\n",
       "  'tilt',\n",
       "  'bumblebee',\n",
       "  'tandem',\n",
       "  'particularity',\n",
       "  'lucas',\n",
       "  'padoa',\n",
       "  'schioppa',\n",
       "  'erm',\n",
       "  'prominence',\n",
       "  'microeconomic',\n",
       "  'scepticism',\n",
       "  'shin',\n",
       "  'urge',\n",
       "  'madame',\n",
       "  'unfavourable',\n",
       "  'mislead',\n",
       "  'confirms',\n",
       "  'hinge',\n",
       "  'finland',\n",
       "  'augment',\n",
       "  'virtuous',\n",
       "  'drift',\n",
       "  'ce',\n",
       "  'unity',\n",
       "  'ordination',\n",
       "  'gordon',\n",
       "  'motion',\n",
       "  'tightly',\n",
       "  'frameworks',\n",
       "  'stylise',\n",
       "  'el',\n",
       "  'deliberation',\n",
       "  'conscious',\n",
       "  'juncker',\n",
       "  'emanate',\n",
       "  'alan',\n",
       "  'replicate',\n",
       "  'remarkably',\n",
       "  'youth',\n",
       "  'tame',\n",
       "  'absent',\n",
       "  'revival',\n",
       "  'preservation',\n",
       "  'recovers',\n",
       "  'reshape',\n",
       "  'rtgs',\n",
       "  'vcs',\n",
       "  'enlarge',\n",
       "  'problematic',\n",
       "  'bunds',\n",
       "  'une',\n",
       "  'surcharge',\n",
       "  'esas',\n",
       "  'policymaking',\n",
       "  'blur',\n",
       "  'david',\n",
       "  'nous',\n",
       "  'delegate',\n",
       "  'proceeding',\n",
       "  'borio',\n",
       "  'spell',\n",
       "  'origins',\n",
       "  'noticeably',\n",
       "  'centralisation',\n",
       "  'greenspan',\n",
       "  'downsize',\n",
       "  'imposition',\n",
       "  'mask',\n",
       "  'pragmatic',\n",
       "  'decelerate',\n",
       "  'fulfilment',\n",
       "  'adhere',\n",
       "  'pour',\n",
       "  'buoyant',\n",
       "  'luis',\n",
       "  'symptom',\n",
       "  'disproportionately',\n",
       "  'flourish',\n",
       "  'prediction',\n",
       "  'satisfaction',\n",
       "  'directorate',\n",
       "  'automaticity',\n",
       "  'reiterate',\n",
       "  'entrepreneurship',\n",
       "  'parliamentary',\n",
       "  'frontloading',\n",
       "  'monsieur',\n",
       "  'dislocation',\n",
       "  'cet',\n",
       "  'tech',\n",
       "  'krugman',\n",
       "  'appropriateness',\n",
       "  'india',\n",
       "  'tiber',\n",
       "  'linearity',\n",
       "  'materialises',\n",
       "  'rogoff',\n",
       "  'preparedness',\n",
       "  'stein',\n",
       "  'bretton',\n",
       "  'fisher',\n",
       "  'equality',\n",
       "  'lithuania',\n",
       "  'reaffirm',\n",
       "  'similarity',\n",
       "  'miracle',\n",
       "  'urgency',\n",
       "  'eurozone',\n",
       "  'ethical',\n",
       "  'insufficiently',\n",
       "  'america',\n",
       "  'mankiw',\n",
       "  'migrate',\n",
       "  'legislature',\n",
       "  'ois',\n",
       "  'iq',\n",
       "  'reallocate',\n",
       "  'prejudge',\n",
       "  'reinvestments',\n",
       "  'pertain',\n",
       "  'preventive',\n",
       "  'froth',\n",
       "  'triparty',\n",
       "  'relieve',\n",
       "  'ltro',\n",
       "  'incident',\n",
       "  'friedman',\n",
       "  'recapitalise',\n",
       "  'reconcile',\n",
       "  'kong',\n",
       "  'serf',\n",
       "  'inertia',\n",
       "  'datasets',\n",
       "  'roe',\n",
       "  'concert',\n",
       "  'notre',\n",
       "  'angle',\n",
       "  'measurably',\n",
       "  'ist',\n",
       "  'calm',\n",
       "  'preparatory',\n",
       "  'democratically',\n",
       "  'distant',\n",
       "  'watcher',\n",
       "  'genuinely',\n",
       "  'responsive',\n",
       "  'scientific',\n",
       "  'setup',\n",
       "  'breach',\n",
       "  'esfs',\n",
       "  'endure',\n",
       "  'alternatively',\n",
       "  'emptively',\n",
       "  'gratitude',\n",
       "  'adherence',\n",
       "  'blueprint',\n",
       "  'disseminate',\n",
       "  'truncate',\n",
       "  'navigate',\n",
       "  'jacques',\n",
       "  'burn',\n",
       "  'walter',\n",
       "  'reassessment',\n",
       "  'toolbox',\n",
       "  'harbour',\n",
       "  'nsfr',\n",
       "  'unexpectedly',\n",
       "  'cit',\n",
       "  'adenauer',\n",
       "  'upturn',\n",
       "  'grey',\n",
       "  'linkages',\n",
       "  'caveat',\n",
       "  'scar',\n",
       "  'sceptical',\n",
       "  'unleash',\n",
       "  'belgium',\n",
       "  'ricardo',\n",
       "  'ill',\n",
       "  'emptive',\n",
       "  'allocative',\n",
       "  'endogeneity',\n",
       "  'cps',\n",
       "  'compose',\n",
       "  'ordinate',\n",
       "  'inability',\n",
       "  'europeans',\n",
       "  'justification',\n",
       "  'uphold',\n",
       "  'smoothen',\n",
       "  'cbpp',\n",
       "  'quo',\n",
       "  'dire',\n",
       "  'eurobarometer',\n",
       "  'contour',\n",
       "  'magnify',\n",
       "  'intensified',\n",
       "  ...])"
      ]
     },
     "execution_count": 145,
     "metadata": {},
     "output_type": "execute_result"
    }
   ],
   "source": [
    "vocab_size = 7501\n",
    "emb_size = 100\n",
    "embeddings_bankfin = np.zeros(shape=(vocab_size, emb_size))\n",
    "words = []\n",
    "count=0\n",
    "for word, idx in word2id_7500.items():\n",
    "    if word in model_gn.key_to_index:\n",
    "        embeddings_bankfin[idx, :] = model_gn[word]\n",
    "    else:\n",
    "        count+=1\n",
    "        words.append(word)\n",
    "        embeddings_bankfin[idx, :] = np.zeros(emb_size)\n",
    "count, words"
   ]
  },
  {
   "attachments": {},
   "cell_type": "markdown",
   "metadata": {},
   "source": [
    "I'm pretty sure it is going to be super bad because half of the words are not in this dictionary"
   ]
  },
  {
   "cell_type": "code",
   "execution_count": 140,
   "metadata": {},
   "outputs": [
    {
     "data": {
      "text/plain": [
       "(7501, 100)"
      ]
     },
     "execution_count": 140,
     "metadata": {},
     "output_type": "execute_result"
    }
   ],
   "source": [
    "embeddings_bankfin.shape"
   ]
  },
  {
   "attachments": {},
   "cell_type": "markdown",
   "metadata": {},
   "source": [
    "## Document Representation"
   ]
  },
  {
   "attachments": {},
   "cell_type": "markdown",
   "metadata": {},
   "source": [
    "AVERAGING MODEL"
   ]
  },
  {
   "cell_type": "code",
   "execution_count": 18,
   "metadata": {},
   "outputs": [],
   "source": [
    "txt_ecb = X_train.text_concat_ecb\n",
    "txt_fed = X_train.text_concat_fed\n",
    "txt_ecb_val = X_test.text_concat_ecb\n",
    "txt_fed_val = X_test.text_concat_fed"
   ]
  },
  {
   "cell_type": "code",
   "execution_count": 19,
   "metadata": {},
   "outputs": [
    {
     "name": "stderr",
     "output_type": "stream",
     "text": [
      "100%|██████████| 6592/6592 [00:30<00:00, 215.55it/s]\n",
      "100%|██████████| 6592/6592 [00:40<00:00, 162.24it/s]\n"
     ]
    }
   ],
   "source": [
    "train_rep_ecb_svd = sentence_representations(txt_ecb, word2id_7500, SVDEmbeddings_ecb, np_func=np.mean)\n",
    "train_rep_fed_svd = sentence_representations(txt_fed, word2id_7500, SVDEmbeddings_fed, np_func=np.mean)"
   ]
  },
  {
   "cell_type": "code",
   "execution_count": 20,
   "metadata": {},
   "outputs": [
    {
     "name": "stderr",
     "output_type": "stream",
     "text": [
      "100%|██████████| 1648/1648 [00:07<00:00, 208.10it/s]\n",
      "100%|██████████| 1648/1648 [00:09<00:00, 166.61it/s]\n"
     ]
    }
   ],
   "source": [
    "val_rep_ecb_svd = sentence_representations(txt_ecb_val, word2id_7500, SVDEmbeddings_ecb, np_func=np.mean)\n",
    "val_rep_fed_svd = sentence_representations(txt_fed_val, word2id_7500, SVDEmbeddings_fed, np_func=np.mean)"
   ]
  },
  {
   "cell_type": "code",
   "execution_count": 97,
   "metadata": {},
   "outputs": [
    {
     "name": "stderr",
     "output_type": "stream",
     "text": [
      "100%|██████████| 6592/6592 [00:31<00:00, 211.69it/s]\n",
      "100%|██████████| 6592/6592 [00:36<00:00, 180.84it/s]\n",
      "100%|██████████| 1648/1648 [00:08<00:00, 193.58it/s]\n",
      "100%|██████████| 1648/1648 [00:10<00:00, 158.90it/s]\n"
     ]
    }
   ],
   "source": [
    "train_rep_ecb_w2v = sentence_representations(txt_ecb, word2id_7500, W2VEmbeddings_ecb, np_func=np.mean)\n",
    "train_rep_fed_w2v = sentence_representations(txt_fed, word2id_7500, W2VEmbeddings_fed, np_func=np.mean)\n",
    "val_rep_ecb_w2v = sentence_representations(txt_ecb_val, word2id_7500, W2VEmbeddings_ecb, np_func=np.mean)\n",
    "val_rep_fed_w2v = sentence_representations(txt_fed_val, word2id_7500, W2VEmbeddings_fed, np_func=np.mean)"
   ]
  },
  {
   "cell_type": "code",
   "execution_count": 150,
   "metadata": {},
   "outputs": [
    {
     "name": "stderr",
     "output_type": "stream",
     "text": [
      "100%|██████████| 6592/6592 [00:35<00:00, 184.04it/s]\n",
      "100%|██████████| 6592/6592 [00:45<00:00, 145.31it/s]\n",
      "100%|██████████| 1648/1648 [00:10<00:00, 161.88it/s]\n",
      "100%|██████████| 1648/1648 [00:12<00:00, 134.73it/s]\n"
     ]
    }
   ],
   "source": [
    "train_rep_ecb_fin = sentence_representations(txt_ecb, word2id_7500, embeddings_bankfin, np_func=np.mean)\n",
    "train_rep_fed_fin = sentence_representations(txt_fed, word2id_7500, embeddings_bankfin, np_func=np.mean)\n",
    "val_rep_ecb_fin = sentence_representations(txt_ecb_val, word2id_7500, embeddings_bankfin, np_func=np.mean)\n",
    "val_rep_fed_fin = sentence_representations(txt_fed_val, word2id_7500, embeddings_bankfin, np_func=np.mean)"
   ]
  },
  {
   "attachments": {},
   "cell_type": "markdown",
   "metadata": {},
   "source": [
    "# Time Series Feature Engineering "
   ]
  },
  {
   "cell_type": "code",
   "execution_count": 21,
   "metadata": {},
   "outputs": [],
   "source": [
    "operations = [\"std\", \"mean\", \"quantile_2\", \"quantile_8\", \"sum\"]\n",
    "nb_quantiles = [0.8, 0.2]\n",
    "time_windows = [2, 5, 7]\n",
    "params = []\n",
    "for op in operations:\n",
    "    for tw in time_windows:\n",
    "        if \"quantile\" in op:\n",
    "            for q in nb_quantiles:\n",
    "                params.append(\n",
    "                    {\n",
    "                        \"operation\": op,\n",
    "                        \"time_window\": tw,\n",
    "                        \"nb_quantile\": q,\n",
    "                    }\n",
    "                )\n",
    "        else:\n",
    "            params.append(\n",
    "                {\n",
    "                    \"operation\": op,\n",
    "                    \"time_window\": tw,\n",
    "                }\n",
    "            )"
   ]
  },
  {
   "cell_type": "code",
   "execution_count": 22,
   "metadata": {},
   "outputs": [],
   "source": [
    "X_train_series = X_train.iloc[:,:10]\n",
    "X_train_series = compute_rolling(X_train_series, params)"
   ]
  },
  {
   "cell_type": "code",
   "execution_count": 23,
   "metadata": {},
   "outputs": [],
   "source": [
    "X_test_series = X_test.iloc[:,:10]\n",
    "X_test_series = compute_rolling(X_test_series, params)"
   ]
  },
  {
   "attachments": {},
   "cell_type": "markdown",
   "metadata": {},
   "source": [
    "# Full Model "
   ]
  },
  {
   "cell_type": "code",
   "execution_count": 24,
   "metadata": {},
   "outputs": [
    {
     "data": {
      "text/html": [
       "<div>\n",
       "<style scoped>\n",
       "    .dataframe tbody tr th:only-of-type {\n",
       "        vertical-align: middle;\n",
       "    }\n",
       "\n",
       "    .dataframe tbody tr th {\n",
       "        vertical-align: top;\n",
       "    }\n",
       "\n",
       "    .dataframe thead th {\n",
       "        text-align: right;\n",
       "    }\n",
       "</style>\n",
       "<table border=\"1\" class=\"dataframe\">\n",
       "  <thead>\n",
       "    <tr style=\"text-align: right;\">\n",
       "      <th></th>\n",
       "      <th>0</th>\n",
       "      <th>1</th>\n",
       "      <th>2</th>\n",
       "      <th>3</th>\n",
       "      <th>4</th>\n",
       "      <th>5</th>\n",
       "      <th>6</th>\n",
       "      <th>7</th>\n",
       "      <th>8</th>\n",
       "      <th>9</th>\n",
       "      <th>...</th>\n",
       "      <th>433</th>\n",
       "      <th>434</th>\n",
       "      <th>435</th>\n",
       "      <th>436</th>\n",
       "      <th>437</th>\n",
       "      <th>438</th>\n",
       "      <th>439</th>\n",
       "      <th>440</th>\n",
       "      <th>441</th>\n",
       "      <th>442</th>\n",
       "    </tr>\n",
       "  </thead>\n",
       "  <tbody>\n",
       "    <tr>\n",
       "      <th>0</th>\n",
       "      <td>0.666153</td>\n",
       "      <td>-0.495941</td>\n",
       "      <td>-0.04413</td>\n",
       "      <td>0.046529</td>\n",
       "      <td>1</td>\n",
       "      <td>0</td>\n",
       "      <td>0</td>\n",
       "      <td>0</td>\n",
       "      <td>0</td>\n",
       "      <td>0</td>\n",
       "      <td>...</td>\n",
       "      <td>-0.051169</td>\n",
       "      <td>-0.332617</td>\n",
       "      <td>-0.073112</td>\n",
       "      <td>-0.109234</td>\n",
       "      <td>-0.095451</td>\n",
       "      <td>-0.378600</td>\n",
       "      <td>-0.052429</td>\n",
       "      <td>0.154127</td>\n",
       "      <td>-0.382475</td>\n",
       "      <td>0.217477</td>\n",
       "    </tr>\n",
       "    <tr>\n",
       "      <th>1</th>\n",
       "      <td>0.000000</td>\n",
       "      <td>-0.495941</td>\n",
       "      <td>-0.04413</td>\n",
       "      <td>0.046529</td>\n",
       "      <td>0</td>\n",
       "      <td>0</td>\n",
       "      <td>0</td>\n",
       "      <td>0</td>\n",
       "      <td>0</td>\n",
       "      <td>1</td>\n",
       "      <td>...</td>\n",
       "      <td>-0.307564</td>\n",
       "      <td>0.060366</td>\n",
       "      <td>-0.028616</td>\n",
       "      <td>-0.209104</td>\n",
       "      <td>-0.238645</td>\n",
       "      <td>-0.209873</td>\n",
       "      <td>-0.428586</td>\n",
       "      <td>0.209545</td>\n",
       "      <td>-0.136479</td>\n",
       "      <td>-0.473047</td>\n",
       "    </tr>\n",
       "    <tr>\n",
       "      <th>2</th>\n",
       "      <td>0.000000</td>\n",
       "      <td>-0.495941</td>\n",
       "      <td>-0.04413</td>\n",
       "      <td>0.046529</td>\n",
       "      <td>0</td>\n",
       "      <td>0</td>\n",
       "      <td>0</td>\n",
       "      <td>0</td>\n",
       "      <td>0</td>\n",
       "      <td>0</td>\n",
       "      <td>...</td>\n",
       "      <td>0.028865</td>\n",
       "      <td>-0.004936</td>\n",
       "      <td>-0.089505</td>\n",
       "      <td>0.061598</td>\n",
       "      <td>0.110213</td>\n",
       "      <td>-0.534446</td>\n",
       "      <td>0.122170</td>\n",
       "      <td>-0.039494</td>\n",
       "      <td>0.045996</td>\n",
       "      <td>0.274344</td>\n",
       "    </tr>\n",
       "    <tr>\n",
       "      <th>3</th>\n",
       "      <td>0.498468</td>\n",
       "      <td>-0.495941</td>\n",
       "      <td>-0.04413</td>\n",
       "      <td>0.046529</td>\n",
       "      <td>0</td>\n",
       "      <td>0</td>\n",
       "      <td>0</td>\n",
       "      <td>0</td>\n",
       "      <td>0</td>\n",
       "      <td>0</td>\n",
       "      <td>...</td>\n",
       "      <td>0.038231</td>\n",
       "      <td>-0.008723</td>\n",
       "      <td>-0.058653</td>\n",
       "      <td>0.243944</td>\n",
       "      <td>-0.074080</td>\n",
       "      <td>-0.426647</td>\n",
       "      <td>0.014700</td>\n",
       "      <td>-0.210247</td>\n",
       "      <td>0.083744</td>\n",
       "      <td>-0.080634</td>\n",
       "    </tr>\n",
       "    <tr>\n",
       "      <th>4</th>\n",
       "      <td>-0.099496</td>\n",
       "      <td>-0.495941</td>\n",
       "      <td>-0.04413</td>\n",
       "      <td>0.046529</td>\n",
       "      <td>0</td>\n",
       "      <td>0</td>\n",
       "      <td>0</td>\n",
       "      <td>0</td>\n",
       "      <td>0</td>\n",
       "      <td>0</td>\n",
       "      <td>...</td>\n",
       "      <td>-0.184875</td>\n",
       "      <td>0.004226</td>\n",
       "      <td>-0.982662</td>\n",
       "      <td>1.304747</td>\n",
       "      <td>0.363660</td>\n",
       "      <td>0.019585</td>\n",
       "      <td>0.201448</td>\n",
       "      <td>-0.245593</td>\n",
       "      <td>-0.362040</td>\n",
       "      <td>-0.119258</td>\n",
       "    </tr>\n",
       "    <tr>\n",
       "      <th>...</th>\n",
       "      <td>...</td>\n",
       "      <td>...</td>\n",
       "      <td>...</td>\n",
       "      <td>...</td>\n",
       "      <td>...</td>\n",
       "      <td>...</td>\n",
       "      <td>...</td>\n",
       "      <td>...</td>\n",
       "      <td>...</td>\n",
       "      <td>...</td>\n",
       "      <td>...</td>\n",
       "      <td>...</td>\n",
       "      <td>...</td>\n",
       "      <td>...</td>\n",
       "      <td>...</td>\n",
       "      <td>...</td>\n",
       "      <td>...</td>\n",
       "      <td>...</td>\n",
       "      <td>...</td>\n",
       "      <td>...</td>\n",
       "      <td>...</td>\n",
       "    </tr>\n",
       "    <tr>\n",
       "      <th>6587</th>\n",
       "      <td>0.763221</td>\n",
       "      <td>0.155216</td>\n",
       "      <td>-0.04413</td>\n",
       "      <td>0.046529</td>\n",
       "      <td>0</td>\n",
       "      <td>0</td>\n",
       "      <td>0</td>\n",
       "      <td>0</td>\n",
       "      <td>0</td>\n",
       "      <td>1</td>\n",
       "      <td>...</td>\n",
       "      <td>-0.492505</td>\n",
       "      <td>0.550472</td>\n",
       "      <td>0.309703</td>\n",
       "      <td>-0.021845</td>\n",
       "      <td>-0.217929</td>\n",
       "      <td>0.047857</td>\n",
       "      <td>-0.115480</td>\n",
       "      <td>-0.100315</td>\n",
       "      <td>-0.026545</td>\n",
       "      <td>-0.330325</td>\n",
       "    </tr>\n",
       "    <tr>\n",
       "      <th>6588</th>\n",
       "      <td>0.413505</td>\n",
       "      <td>-0.495941</td>\n",
       "      <td>-0.04413</td>\n",
       "      <td>0.046529</td>\n",
       "      <td>0</td>\n",
       "      <td>0</td>\n",
       "      <td>0</td>\n",
       "      <td>0</td>\n",
       "      <td>1</td>\n",
       "      <td>0</td>\n",
       "      <td>...</td>\n",
       "      <td>-0.307548</td>\n",
       "      <td>0.625444</td>\n",
       "      <td>-0.533657</td>\n",
       "      <td>-0.024489</td>\n",
       "      <td>-0.173686</td>\n",
       "      <td>0.280350</td>\n",
       "      <td>0.567488</td>\n",
       "      <td>-0.056665</td>\n",
       "      <td>0.090460</td>\n",
       "      <td>-0.401672</td>\n",
       "    </tr>\n",
       "    <tr>\n",
       "      <th>6589</th>\n",
       "      <td>0.551298</td>\n",
       "      <td>-0.495941</td>\n",
       "      <td>-0.04413</td>\n",
       "      <td>0.046529</td>\n",
       "      <td>0</td>\n",
       "      <td>0</td>\n",
       "      <td>0</td>\n",
       "      <td>0</td>\n",
       "      <td>0</td>\n",
       "      <td>0</td>\n",
       "      <td>...</td>\n",
       "      <td>0.156899</td>\n",
       "      <td>0.273635</td>\n",
       "      <td>0.012420</td>\n",
       "      <td>0.182757</td>\n",
       "      <td>0.005072</td>\n",
       "      <td>0.039562</td>\n",
       "      <td>-0.004094</td>\n",
       "      <td>-0.052776</td>\n",
       "      <td>0.042975</td>\n",
       "      <td>0.126148</td>\n",
       "    </tr>\n",
       "    <tr>\n",
       "      <th>6590</th>\n",
       "      <td>0.551298</td>\n",
       "      <td>-0.495941</td>\n",
       "      <td>-0.04413</td>\n",
       "      <td>0.046529</td>\n",
       "      <td>0</td>\n",
       "      <td>0</td>\n",
       "      <td>0</td>\n",
       "      <td>1</td>\n",
       "      <td>0</td>\n",
       "      <td>0</td>\n",
       "      <td>...</td>\n",
       "      <td>0.092320</td>\n",
       "      <td>-0.072711</td>\n",
       "      <td>-0.022418</td>\n",
       "      <td>0.172196</td>\n",
       "      <td>0.151882</td>\n",
       "      <td>0.210849</td>\n",
       "      <td>-0.160964</td>\n",
       "      <td>0.043706</td>\n",
       "      <td>0.270442</td>\n",
       "      <td>-0.464499</td>\n",
       "    </tr>\n",
       "    <tr>\n",
       "      <th>6591</th>\n",
       "      <td>1.781309</td>\n",
       "      <td>2.058635</td>\n",
       "      <td>-0.04413</td>\n",
       "      <td>0.046529</td>\n",
       "      <td>0</td>\n",
       "      <td>0</td>\n",
       "      <td>0</td>\n",
       "      <td>0</td>\n",
       "      <td>1</td>\n",
       "      <td>0</td>\n",
       "      <td>...</td>\n",
       "      <td>-0.183873</td>\n",
       "      <td>0.410273</td>\n",
       "      <td>0.123470</td>\n",
       "      <td>-0.087272</td>\n",
       "      <td>0.891205</td>\n",
       "      <td>0.638867</td>\n",
       "      <td>-0.054825</td>\n",
       "      <td>-0.385798</td>\n",
       "      <td>-0.161197</td>\n",
       "      <td>0.467539</td>\n",
       "    </tr>\n",
       "  </tbody>\n",
       "</table>\n",
       "<p>6592 rows × 443 columns</p>\n",
       "</div>"
      ],
      "text/plain": [
       "           0         1        2         3    4    5    6    7    8    9    \\\n",
       "0     0.666153 -0.495941 -0.04413  0.046529    1    0    0    0    0    0   \n",
       "1     0.000000 -0.495941 -0.04413  0.046529    0    0    0    0    0    1   \n",
       "2     0.000000 -0.495941 -0.04413  0.046529    0    0    0    0    0    0   \n",
       "3     0.498468 -0.495941 -0.04413  0.046529    0    0    0    0    0    0   \n",
       "4    -0.099496 -0.495941 -0.04413  0.046529    0    0    0    0    0    0   \n",
       "...        ...       ...      ...       ...  ...  ...  ...  ...  ...  ...   \n",
       "6587  0.763221  0.155216 -0.04413  0.046529    0    0    0    0    0    1   \n",
       "6588  0.413505 -0.495941 -0.04413  0.046529    0    0    0    0    1    0   \n",
       "6589  0.551298 -0.495941 -0.04413  0.046529    0    0    0    0    0    0   \n",
       "6590  0.551298 -0.495941 -0.04413  0.046529    0    0    0    1    0    0   \n",
       "6591  1.781309  2.058635 -0.04413  0.046529    0    0    0    0    1    0   \n",
       "\n",
       "      ...       433       434       435       436       437       438  \\\n",
       "0     ... -0.051169 -0.332617 -0.073112 -0.109234 -0.095451 -0.378600   \n",
       "1     ... -0.307564  0.060366 -0.028616 -0.209104 -0.238645 -0.209873   \n",
       "2     ...  0.028865 -0.004936 -0.089505  0.061598  0.110213 -0.534446   \n",
       "3     ...  0.038231 -0.008723 -0.058653  0.243944 -0.074080 -0.426647   \n",
       "4     ... -0.184875  0.004226 -0.982662  1.304747  0.363660  0.019585   \n",
       "...   ...       ...       ...       ...       ...       ...       ...   \n",
       "6587  ... -0.492505  0.550472  0.309703 -0.021845 -0.217929  0.047857   \n",
       "6588  ... -0.307548  0.625444 -0.533657 -0.024489 -0.173686  0.280350   \n",
       "6589  ...  0.156899  0.273635  0.012420  0.182757  0.005072  0.039562   \n",
       "6590  ...  0.092320 -0.072711 -0.022418  0.172196  0.151882  0.210849   \n",
       "6591  ... -0.183873  0.410273  0.123470 -0.087272  0.891205  0.638867   \n",
       "\n",
       "           439       440       441       442  \n",
       "0    -0.052429  0.154127 -0.382475  0.217477  \n",
       "1    -0.428586  0.209545 -0.136479 -0.473047  \n",
       "2     0.122170 -0.039494  0.045996  0.274344  \n",
       "3     0.014700 -0.210247  0.083744 -0.080634  \n",
       "4     0.201448 -0.245593 -0.362040 -0.119258  \n",
       "...        ...       ...       ...       ...  \n",
       "6587 -0.115480 -0.100315 -0.026545 -0.330325  \n",
       "6588  0.567488 -0.056665  0.090460 -0.401672  \n",
       "6589 -0.004094 -0.052776  0.042975  0.126148  \n",
       "6590 -0.160964  0.043706  0.270442 -0.464499  \n",
       "6591 -0.054825 -0.385798 -0.161197  0.467539  \n",
       "\n",
       "[6592 rows x 443 columns]"
      ]
     },
     "execution_count": 24,
     "metadata": {},
     "output_type": "execute_result"
    }
   ],
   "source": [
    "X_train_concat = pd.concat(\n",
    "    [\n",
    "        X_train.iloc[:, 12:].reset_index(drop=True),# Speaker, Indices, languages\n",
    "        X_train_series.reset_index(drop=True),# Time series FT\n",
    "        pd.DataFrame(train_rep_ecb_svd), # Embeddings ecb\n",
    "        pd.DataFrame(train_rep_fed_svd), # Embeddings fed\n",
    "    ],\n",
    "    axis=1,\n",
    "    ignore_index=True,\n",
    ")\n",
    "X_train_concat"
   ]
  },
  {
   "cell_type": "code",
   "execution_count": 25,
   "metadata": {},
   "outputs": [
    {
     "data": {
      "text/html": [
       "<div>\n",
       "<style scoped>\n",
       "    .dataframe tbody tr th:only-of-type {\n",
       "        vertical-align: middle;\n",
       "    }\n",
       "\n",
       "    .dataframe tbody tr th {\n",
       "        vertical-align: top;\n",
       "    }\n",
       "\n",
       "    .dataframe thead th {\n",
       "        text-align: right;\n",
       "    }\n",
       "</style>\n",
       "<table border=\"1\" class=\"dataframe\">\n",
       "  <thead>\n",
       "    <tr style=\"text-align: right;\">\n",
       "      <th></th>\n",
       "      <th>0</th>\n",
       "      <th>1</th>\n",
       "      <th>2</th>\n",
       "      <th>3</th>\n",
       "      <th>4</th>\n",
       "      <th>5</th>\n",
       "      <th>6</th>\n",
       "      <th>7</th>\n",
       "      <th>8</th>\n",
       "      <th>9</th>\n",
       "      <th>...</th>\n",
       "      <th>433</th>\n",
       "      <th>434</th>\n",
       "      <th>435</th>\n",
       "      <th>436</th>\n",
       "      <th>437</th>\n",
       "      <th>438</th>\n",
       "      <th>439</th>\n",
       "      <th>440</th>\n",
       "      <th>441</th>\n",
       "      <th>442</th>\n",
       "    </tr>\n",
       "  </thead>\n",
       "  <tbody>\n",
       "    <tr>\n",
       "      <th>0</th>\n",
       "      <td>0.000000</td>\n",
       "      <td>-0.495941</td>\n",
       "      <td>-0.04413</td>\n",
       "      <td>0.046529</td>\n",
       "      <td>0</td>\n",
       "      <td>1</td>\n",
       "      <td>0</td>\n",
       "      <td>0</td>\n",
       "      <td>0</td>\n",
       "      <td>0</td>\n",
       "      <td>...</td>\n",
       "      <td>-0.461317</td>\n",
       "      <td>0.107949</td>\n",
       "      <td>0.126440</td>\n",
       "      <td>0.374331</td>\n",
       "      <td>-0.429280</td>\n",
       "      <td>-0.199684</td>\n",
       "      <td>0.290203</td>\n",
       "      <td>0.455225</td>\n",
       "      <td>-0.468318</td>\n",
       "      <td>0.759363</td>\n",
       "    </tr>\n",
       "    <tr>\n",
       "      <th>1</th>\n",
       "      <td>0.413505</td>\n",
       "      <td>-0.495941</td>\n",
       "      <td>-0.04413</td>\n",
       "      <td>0.046529</td>\n",
       "      <td>0</td>\n",
       "      <td>0</td>\n",
       "      <td>1</td>\n",
       "      <td>0</td>\n",
       "      <td>0</td>\n",
       "      <td>0</td>\n",
       "      <td>...</td>\n",
       "      <td>0.334322</td>\n",
       "      <td>-0.163358</td>\n",
       "      <td>0.153032</td>\n",
       "      <td>0.183576</td>\n",
       "      <td>-0.381784</td>\n",
       "      <td>-0.209826</td>\n",
       "      <td>0.053130</td>\n",
       "      <td>-0.012324</td>\n",
       "      <td>-0.030406</td>\n",
       "      <td>0.017194</td>\n",
       "    </tr>\n",
       "    <tr>\n",
       "      <th>2</th>\n",
       "      <td>0.000000</td>\n",
       "      <td>-0.495941</td>\n",
       "      <td>-0.04413</td>\n",
       "      <td>0.046529</td>\n",
       "      <td>0</td>\n",
       "      <td>0</td>\n",
       "      <td>0</td>\n",
       "      <td>0</td>\n",
       "      <td>0</td>\n",
       "      <td>0</td>\n",
       "      <td>...</td>\n",
       "      <td>0.008231</td>\n",
       "      <td>0.045206</td>\n",
       "      <td>0.088512</td>\n",
       "      <td>-0.108455</td>\n",
       "      <td>0.054130</td>\n",
       "      <td>-0.026858</td>\n",
       "      <td>0.200866</td>\n",
       "      <td>-0.282440</td>\n",
       "      <td>-0.264459</td>\n",
       "      <td>0.055254</td>\n",
       "    </tr>\n",
       "    <tr>\n",
       "      <th>3</th>\n",
       "      <td>0.551298</td>\n",
       "      <td>-0.495941</td>\n",
       "      <td>-0.04413</td>\n",
       "      <td>0.046529</td>\n",
       "      <td>0</td>\n",
       "      <td>0</td>\n",
       "      <td>0</td>\n",
       "      <td>0</td>\n",
       "      <td>1</td>\n",
       "      <td>0</td>\n",
       "      <td>...</td>\n",
       "      <td>0.043747</td>\n",
       "      <td>0.090797</td>\n",
       "      <td>-0.243315</td>\n",
       "      <td>0.148388</td>\n",
       "      <td>0.186974</td>\n",
       "      <td>-0.025638</td>\n",
       "      <td>0.257589</td>\n",
       "      <td>0.042543</td>\n",
       "      <td>-0.030076</td>\n",
       "      <td>0.030422</td>\n",
       "    </tr>\n",
       "    <tr>\n",
       "      <th>4</th>\n",
       "      <td>0.666153</td>\n",
       "      <td>-0.495941</td>\n",
       "      <td>-0.04413</td>\n",
       "      <td>0.046529</td>\n",
       "      <td>0</td>\n",
       "      <td>0</td>\n",
       "      <td>0</td>\n",
       "      <td>0</td>\n",
       "      <td>0</td>\n",
       "      <td>1</td>\n",
       "      <td>...</td>\n",
       "      <td>0.312349</td>\n",
       "      <td>-0.173647</td>\n",
       "      <td>-0.066857</td>\n",
       "      <td>0.062608</td>\n",
       "      <td>-0.030562</td>\n",
       "      <td>0.060284</td>\n",
       "      <td>-0.183209</td>\n",
       "      <td>0.012364</td>\n",
       "      <td>0.219146</td>\n",
       "      <td>0.300608</td>\n",
       "    </tr>\n",
       "    <tr>\n",
       "      <th>...</th>\n",
       "      <td>...</td>\n",
       "      <td>...</td>\n",
       "      <td>...</td>\n",
       "      <td>...</td>\n",
       "      <td>...</td>\n",
       "      <td>...</td>\n",
       "      <td>...</td>\n",
       "      <td>...</td>\n",
       "      <td>...</td>\n",
       "      <td>...</td>\n",
       "      <td>...</td>\n",
       "      <td>...</td>\n",
       "      <td>...</td>\n",
       "      <td>...</td>\n",
       "      <td>...</td>\n",
       "      <td>...</td>\n",
       "      <td>...</td>\n",
       "      <td>...</td>\n",
       "      <td>...</td>\n",
       "      <td>...</td>\n",
       "      <td>...</td>\n",
       "    </tr>\n",
       "    <tr>\n",
       "      <th>1643</th>\n",
       "      <td>0.551298</td>\n",
       "      <td>-0.495941</td>\n",
       "      <td>-0.04413</td>\n",
       "      <td>0.046529</td>\n",
       "      <td>0</td>\n",
       "      <td>0</td>\n",
       "      <td>0</td>\n",
       "      <td>0</td>\n",
       "      <td>0</td>\n",
       "      <td>0</td>\n",
       "      <td>...</td>\n",
       "      <td>0.043747</td>\n",
       "      <td>0.090797</td>\n",
       "      <td>-0.243315</td>\n",
       "      <td>0.148388</td>\n",
       "      <td>0.186974</td>\n",
       "      <td>-0.025638</td>\n",
       "      <td>0.257589</td>\n",
       "      <td>0.042543</td>\n",
       "      <td>-0.030076</td>\n",
       "      <td>0.030422</td>\n",
       "    </tr>\n",
       "    <tr>\n",
       "      <th>1644</th>\n",
       "      <td>0.763221</td>\n",
       "      <td>0.983183</td>\n",
       "      <td>-0.04413</td>\n",
       "      <td>0.046529</td>\n",
       "      <td>0</td>\n",
       "      <td>0</td>\n",
       "      <td>0</td>\n",
       "      <td>0</td>\n",
       "      <td>0</td>\n",
       "      <td>0</td>\n",
       "      <td>...</td>\n",
       "      <td>-0.201479</td>\n",
       "      <td>-0.096034</td>\n",
       "      <td>0.094453</td>\n",
       "      <td>-0.009278</td>\n",
       "      <td>-0.064843</td>\n",
       "      <td>0.207038</td>\n",
       "      <td>-0.113531</td>\n",
       "      <td>-0.493210</td>\n",
       "      <td>0.260716</td>\n",
       "      <td>0.033517</td>\n",
       "    </tr>\n",
       "    <tr>\n",
       "      <th>1645</th>\n",
       "      <td>0.000000</td>\n",
       "      <td>-0.495941</td>\n",
       "      <td>-0.04413</td>\n",
       "      <td>0.046529</td>\n",
       "      <td>0</td>\n",
       "      <td>0</td>\n",
       "      <td>0</td>\n",
       "      <td>0</td>\n",
       "      <td>0</td>\n",
       "      <td>1</td>\n",
       "      <td>...</td>\n",
       "      <td>0.010192</td>\n",
       "      <td>-0.334377</td>\n",
       "      <td>0.280589</td>\n",
       "      <td>-0.118845</td>\n",
       "      <td>-0.362158</td>\n",
       "      <td>-0.329873</td>\n",
       "      <td>-0.008084</td>\n",
       "      <td>0.024302</td>\n",
       "      <td>-0.090418</td>\n",
       "      <td>0.107991</td>\n",
       "    </tr>\n",
       "    <tr>\n",
       "      <th>1646</th>\n",
       "      <td>0.666153</td>\n",
       "      <td>-0.495941</td>\n",
       "      <td>-0.04413</td>\n",
       "      <td>0.046529</td>\n",
       "      <td>0</td>\n",
       "      <td>0</td>\n",
       "      <td>0</td>\n",
       "      <td>0</td>\n",
       "      <td>1</td>\n",
       "      <td>0</td>\n",
       "      <td>...</td>\n",
       "      <td>0.312349</td>\n",
       "      <td>-0.173647</td>\n",
       "      <td>-0.066857</td>\n",
       "      <td>0.062608</td>\n",
       "      <td>-0.030562</td>\n",
       "      <td>0.060284</td>\n",
       "      <td>-0.183209</td>\n",
       "      <td>0.012364</td>\n",
       "      <td>0.219146</td>\n",
       "      <td>0.300608</td>\n",
       "    </tr>\n",
       "    <tr>\n",
       "      <th>1647</th>\n",
       "      <td>0.413505</td>\n",
       "      <td>-inf</td>\n",
       "      <td>-0.04413</td>\n",
       "      <td>0.046529</td>\n",
       "      <td>0</td>\n",
       "      <td>0</td>\n",
       "      <td>0</td>\n",
       "      <td>0</td>\n",
       "      <td>0</td>\n",
       "      <td>0</td>\n",
       "      <td>...</td>\n",
       "      <td>0.275894</td>\n",
       "      <td>-0.202631</td>\n",
       "      <td>-0.097907</td>\n",
       "      <td>0.058172</td>\n",
       "      <td>-0.108767</td>\n",
       "      <td>-0.063984</td>\n",
       "      <td>-0.265633</td>\n",
       "      <td>0.048856</td>\n",
       "      <td>-0.235481</td>\n",
       "      <td>-0.282297</td>\n",
       "    </tr>\n",
       "  </tbody>\n",
       "</table>\n",
       "<p>1648 rows × 443 columns</p>\n",
       "</div>"
      ],
      "text/plain": [
       "           0         1        2         3    4    5    6    7    8    9    \\\n",
       "0     0.000000 -0.495941 -0.04413  0.046529    0    1    0    0    0    0   \n",
       "1     0.413505 -0.495941 -0.04413  0.046529    0    0    1    0    0    0   \n",
       "2     0.000000 -0.495941 -0.04413  0.046529    0    0    0    0    0    0   \n",
       "3     0.551298 -0.495941 -0.04413  0.046529    0    0    0    0    1    0   \n",
       "4     0.666153 -0.495941 -0.04413  0.046529    0    0    0    0    0    1   \n",
       "...        ...       ...      ...       ...  ...  ...  ...  ...  ...  ...   \n",
       "1643  0.551298 -0.495941 -0.04413  0.046529    0    0    0    0    0    0   \n",
       "1644  0.763221  0.983183 -0.04413  0.046529    0    0    0    0    0    0   \n",
       "1645  0.000000 -0.495941 -0.04413  0.046529    0    0    0    0    0    1   \n",
       "1646  0.666153 -0.495941 -0.04413  0.046529    0    0    0    0    1    0   \n",
       "1647  0.413505      -inf -0.04413  0.046529    0    0    0    0    0    0   \n",
       "\n",
       "      ...       433       434       435       436       437       438  \\\n",
       "0     ... -0.461317  0.107949  0.126440  0.374331 -0.429280 -0.199684   \n",
       "1     ...  0.334322 -0.163358  0.153032  0.183576 -0.381784 -0.209826   \n",
       "2     ...  0.008231  0.045206  0.088512 -0.108455  0.054130 -0.026858   \n",
       "3     ...  0.043747  0.090797 -0.243315  0.148388  0.186974 -0.025638   \n",
       "4     ...  0.312349 -0.173647 -0.066857  0.062608 -0.030562  0.060284   \n",
       "...   ...       ...       ...       ...       ...       ...       ...   \n",
       "1643  ...  0.043747  0.090797 -0.243315  0.148388  0.186974 -0.025638   \n",
       "1644  ... -0.201479 -0.096034  0.094453 -0.009278 -0.064843  0.207038   \n",
       "1645  ...  0.010192 -0.334377  0.280589 -0.118845 -0.362158 -0.329873   \n",
       "1646  ...  0.312349 -0.173647 -0.066857  0.062608 -0.030562  0.060284   \n",
       "1647  ...  0.275894 -0.202631 -0.097907  0.058172 -0.108767 -0.063984   \n",
       "\n",
       "           439       440       441       442  \n",
       "0     0.290203  0.455225 -0.468318  0.759363  \n",
       "1     0.053130 -0.012324 -0.030406  0.017194  \n",
       "2     0.200866 -0.282440 -0.264459  0.055254  \n",
       "3     0.257589  0.042543 -0.030076  0.030422  \n",
       "4    -0.183209  0.012364  0.219146  0.300608  \n",
       "...        ...       ...       ...       ...  \n",
       "1643  0.257589  0.042543 -0.030076  0.030422  \n",
       "1644 -0.113531 -0.493210  0.260716  0.033517  \n",
       "1645 -0.008084  0.024302 -0.090418  0.107991  \n",
       "1646 -0.183209  0.012364  0.219146  0.300608  \n",
       "1647 -0.265633  0.048856 -0.235481 -0.282297  \n",
       "\n",
       "[1648 rows x 443 columns]"
      ]
     },
     "execution_count": 25,
     "metadata": {},
     "output_type": "execute_result"
    }
   ],
   "source": [
    "X_test_concat = pd.concat(\n",
    "    [\n",
    "        X_test.iloc[:, 12:].reset_index(drop=True),\n",
    "        X_test_series.reset_index(drop=True),\n",
    "        pd.DataFrame(val_rep_ecb_svd),\n",
    "        pd.DataFrame(val_rep_fed_svd),\n",
    "    ],\n",
    "    axis=1,\n",
    "    ignore_index=True,\n",
    ")\n",
    "X_test_concat"
   ]
  },
  {
   "cell_type": "code",
   "execution_count": 26,
   "metadata": {},
   "outputs": [],
   "source": [
    "X_train_concat.replace([np.inf, -np.inf], 0, inplace=True)\n",
    "X_test_concat.replace([np.inf, -np.inf], 0, inplace=True)"
   ]
  },
  {
   "cell_type": "code",
   "execution_count": 98,
   "metadata": {},
   "outputs": [
    {
     "data": {
      "text/plain": [
       "(1648, 243)"
      ]
     },
     "execution_count": 98,
     "metadata": {},
     "output_type": "execute_result"
    }
   ],
   "source": [
    "X_train_concat2 = pd.concat(\n",
    "    [\n",
    "        X_train.iloc[:, 12:].reset_index(drop=True),# Speaker, Indices, languages\n",
    "        X_train_series.reset_index(drop=True),# Time series FT\n",
    "        pd.DataFrame(train_rep_ecb_w2v), # Embeddings ecb\n",
    "        pd.DataFrame(train_rep_fed_w2v), # Embeddings fed\n",
    "    ],\n",
    "    axis=1,\n",
    "    ignore_index=True,\n",
    ")\n",
    "\n",
    "X_test_concat2 = pd.concat(\n",
    "    [\n",
    "        X_test.iloc[:, 12:].reset_index(drop=True),\n",
    "        X_test_series.reset_index(drop=True),\n",
    "        pd.DataFrame(val_rep_ecb_w2v),\n",
    "        pd.DataFrame(val_rep_fed_w2v),\n",
    "    ],\n",
    "    axis=1,\n",
    "    ignore_index=True,\n",
    ")\n",
    "X_train_concat2.replace([np.inf, -np.inf], 0, inplace=True)\n",
    "X_test_concat2.replace([np.inf, -np.inf], 0, inplace=True)\n",
    "X_test_concat2.shape"
   ]
  },
  {
   "cell_type": "code",
   "execution_count": 151,
   "metadata": {},
   "outputs": [
    {
     "data": {
      "text/plain": [
       "(1648, 243)"
      ]
     },
     "execution_count": 151,
     "metadata": {},
     "output_type": "execute_result"
    }
   ],
   "source": [
    "X_train_concat3 = pd.concat(\n",
    "    [\n",
    "        X_train.iloc[:, 12:].reset_index(drop=True),# Speaker, Indices, languages\n",
    "        X_train_series.reset_index(drop=True),# Time series FT\n",
    "        pd.DataFrame(train_rep_ecb_fin), # Embeddings ecb\n",
    "        pd.DataFrame(train_rep_fed_fin), # Embeddings fed\n",
    "    ],\n",
    "    axis=1,\n",
    "    ignore_index=True,\n",
    ")\n",
    "\n",
    "X_test_concat3 = pd.concat(\n",
    "    [\n",
    "        X_test.iloc[:, 12:].reset_index(drop=True),\n",
    "        X_test_series.reset_index(drop=True),\n",
    "        pd.DataFrame(val_rep_ecb_fin),\n",
    "        pd.DataFrame(val_rep_fed_fin),\n",
    "    ],\n",
    "    axis=1,\n",
    "    ignore_index=True,\n",
    ")\n",
    "X_train_concat3.replace([np.inf, -np.inf], 0, inplace=True)\n",
    "X_test_concat3.replace([np.inf, -np.inf], 0, inplace=True)\n",
    "X_test_concat3.shape"
   ]
  },
  {
   "attachments": {},
   "cell_type": "markdown",
   "metadata": {},
   "source": [
    "## Logistic Regression"
   ]
  },
  {
   "cell_type": "code",
   "execution_count": 126,
   "metadata": {},
   "outputs": [
    {
     "data": {
      "text/plain": [
       "0.6134708737864077"
      ]
     },
     "execution_count": 126,
     "metadata": {},
     "output_type": "execute_result"
    }
   ],
   "source": [
    "# Fit the classifier on the transformed training data and test it on the transformed validation data\n",
    "clf = LogisticRegression(random_state=42,max_iter=20_000).fit(X_train_concat, np.array(y_train).ravel())\n",
    "clf.score(X_train_concat, y_train)"
   ]
  },
  {
   "attachments": {},
   "cell_type": "markdown",
   "metadata": {},
   "source": [
    "1st Method"
   ]
  },
  {
   "cell_type": "code",
   "execution_count": 127,
   "metadata": {},
   "outputs": [
    {
     "data": {
      "text/plain": [
       "0.5242718446601942"
      ]
     },
     "execution_count": 127,
     "metadata": {},
     "output_type": "execute_result"
    }
   ],
   "source": [
    "clf.score(X_test_concat,y_test)"
   ]
  },
  {
   "attachments": {},
   "cell_type": "markdown",
   "metadata": {},
   "source": [
    "2nd Method"
   ]
  },
  {
   "cell_type": "code",
   "execution_count": 99,
   "metadata": {},
   "outputs": [
    {
     "name": "stdout",
     "output_type": "stream",
     "text": [
      "0.5854065533980582\n"
     ]
    },
    {
     "data": {
      "text/plain": [
       "0.5194174757281553"
      ]
     },
     "execution_count": 99,
     "metadata": {},
     "output_type": "execute_result"
    }
   ],
   "source": [
    "# Fit the classifier on the transformed training data and test it on the transformed validation data\n",
    "clf = LogisticRegression(random_state=42,max_iter=20_000).fit(X_train_concat2, np.array(y_train).ravel())\n",
    "print(clf.score(X_train_concat2, y_train))\n",
    "clf.score(X_test_concat2,y_test)"
   ]
  },
  {
   "attachments": {},
   "cell_type": "markdown",
   "metadata": {},
   "source": [
    "3rd Method"
   ]
  },
  {
   "cell_type": "code",
   "execution_count": 152,
   "metadata": {},
   "outputs": [
    {
     "name": "stdout",
     "output_type": "stream",
     "text": [
      "0.5796419902912622\n"
     ]
    },
    {
     "data": {
      "text/plain": [
       "0.5121359223300971"
      ]
     },
     "execution_count": 152,
     "metadata": {},
     "output_type": "execute_result"
    }
   ],
   "source": [
    "# Fit the classifier on the transformed training data and test it on the transformed validation data\n",
    "clf = LogisticRegression(random_state=42,max_iter=20_000).fit(X_train_concat3, np.array(y_train).ravel())\n",
    "print(clf.score(X_train_concat3, y_train))\n",
    "clf.score(X_test_concat3,y_test)"
   ]
  },
  {
   "attachments": {},
   "cell_type": "markdown",
   "metadata": {},
   "source": [
    "## HistGradientBoosting"
   ]
  },
  {
   "cell_type": "code",
   "execution_count": 100,
   "metadata": {},
   "outputs": [],
   "source": [
    "mask_categorical = [True if (x <=17) & (x>=4) else False for x in range(X_train_concat.shape[1])]"
   ]
  },
  {
   "cell_type": "code",
   "execution_count": 160,
   "metadata": {},
   "outputs": [
    {
     "data": {
      "text/plain": [
       "0.990746359223301"
      ]
     },
     "execution_count": 160,
     "metadata": {},
     "output_type": "execute_result"
    }
   ],
   "source": [
    "clf_boost = HistGradientBoostingClassifier(\n",
    "    learning_rate=0.1,\n",
    "    max_iter=200,\n",
    "    categorical_features=mask_categorical,\n",
    "    random_state=42,\n",
    ").fit(X_train_concat, np.array(y_train).ravel())\n",
    "clf_boost.score(X_train_concat, y_train)\n"
   ]
  },
  {
   "cell_type": "code",
   "execution_count": 161,
   "metadata": {},
   "outputs": [
    {
     "data": {
      "text/plain": [
       "0.5782766990291263"
      ]
     },
     "execution_count": 161,
     "metadata": {},
     "output_type": "execute_result"
    }
   ],
   "source": [
    "clf_boost.score(X_test_concat,y_test)"
   ]
  },
  {
   "attachments": {},
   "cell_type": "markdown",
   "metadata": {},
   "source": [
    "2nd Method"
   ]
  },
  {
   "cell_type": "code",
   "execution_count": 102,
   "metadata": {},
   "outputs": [],
   "source": [
    "mask_categorical = [True if (x <=17) & (x>=4) else False for x in range(X_train_concat2.shape[1])]"
   ]
  },
  {
   "cell_type": "code",
   "execution_count": 103,
   "metadata": {},
   "outputs": [
    {
     "name": "stdout",
     "output_type": "stream",
     "text": [
      "0.9925667475728155\n"
     ]
    },
    {
     "data": {
      "text/plain": [
       "0.5819174757281553"
      ]
     },
     "execution_count": 103,
     "metadata": {},
     "output_type": "execute_result"
    }
   ],
   "source": [
    "clf_boost2 = HistGradientBoostingClassifier(\n",
    "    learning_rate=0.1,\n",
    "    max_iter=200,\n",
    "    categorical_features=mask_categorical,\n",
    "    random_state=42,\n",
    ").fit(X_train_concat2, np.array(y_train).ravel())\n",
    "print(clf_boost2.score(X_train_concat2, y_train))\n",
    "clf_boost2.score(X_test_concat2,y_test)"
   ]
  },
  {
   "attachments": {},
   "cell_type": "markdown",
   "metadata": {},
   "source": [
    "3rd Method"
   ]
  },
  {
   "cell_type": "code",
   "execution_count": 153,
   "metadata": {},
   "outputs": [
    {
     "name": "stdout",
     "output_type": "stream",
     "text": [
      "0.9896844660194175\n"
     ]
    },
    {
     "data": {
      "text/plain": [
       "0.5904126213592233"
      ]
     },
     "execution_count": 153,
     "metadata": {},
     "output_type": "execute_result"
    }
   ],
   "source": [
    "mask_categorical = [True if (x <=17) & (x>=4) else False for x in range(X_train_concat3.shape[1])]\n",
    "clf_boost3 = HistGradientBoostingClassifier(\n",
    "    learning_rate=0.1,\n",
    "    max_iter=200,\n",
    "    categorical_features=mask_categorical,\n",
    "    random_state=42,\n",
    ").fit(X_train_concat3, np.array(y_train).ravel())\n",
    "print(clf_boost3.score(X_train_concat3, y_train))\n",
    "clf_boost3.score(X_test_concat3,y_test)"
   ]
  },
  {
   "attachments": {},
   "cell_type": "markdown",
   "metadata": {},
   "source": [
    "## Random Forest"
   ]
  },
  {
   "cell_type": "code",
   "execution_count": 78,
   "metadata": {},
   "outputs": [
    {
     "data": {
      "text/plain": [
       "1.0"
      ]
     },
     "execution_count": 78,
     "metadata": {},
     "output_type": "execute_result"
    }
   ],
   "source": [
    "rf = RandomForestClassifier()\n",
    "rf.fit(X_train_concat, np.array(y_train).ravel())\n",
    "rf.score(X_train_concat, y_train)"
   ]
  },
  {
   "cell_type": "code",
   "execution_count": 70,
   "metadata": {},
   "outputs": [
    {
     "data": {
      "text/plain": [
       "{'bootstrap': True,\n",
       " 'ccp_alpha': 0.0,\n",
       " 'class_weight': None,\n",
       " 'criterion': 'gini',\n",
       " 'max_depth': None,\n",
       " 'max_features': 'sqrt',\n",
       " 'max_leaf_nodes': None,\n",
       " 'max_samples': None,\n",
       " 'min_impurity_decrease': 0.0,\n",
       " 'min_samples_leaf': 1,\n",
       " 'min_samples_split': 2,\n",
       " 'min_weight_fraction_leaf': 0.0,\n",
       " 'n_estimators': 100,\n",
       " 'n_jobs': None,\n",
       " 'oob_score': False,\n",
       " 'random_state': None,\n",
       " 'verbose': 0,\n",
       " 'warm_start': False}"
      ]
     },
     "execution_count": 70,
     "metadata": {},
     "output_type": "execute_result"
    }
   ],
   "source": [
    "rf.get_params()"
   ]
  },
  {
   "cell_type": "code",
   "execution_count": 79,
   "metadata": {},
   "outputs": [
    {
     "data": {
      "text/plain": [
       "0.5691747572815534"
      ]
     },
     "execution_count": 79,
     "metadata": {},
     "output_type": "execute_result"
    }
   ],
   "source": [
    "rf.score(X_test_concat,y_test)"
   ]
  },
  {
   "cell_type": "code",
   "execution_count": 108,
   "metadata": {},
   "outputs": [
    {
     "data": {
      "text/plain": [
       "<Axes: >"
      ]
     },
     "execution_count": 108,
     "metadata": {},
     "output_type": "execute_result"
    },
    {
     "data": {
      "image/png": "[encoded data removed]",
      "text/plain": [
       "<Figure size 640x480 with 1 Axes>"
      ]
     },
     "metadata": {},
     "output_type": "display_data"
    }
   ],
   "source": [
    "importances = rf.feature_importances_\n",
    "imp_dict = {\"speakers_imp\" : np.sum(importances[:4]),\n",
    "\"indices_imp\" : np.sum(importances[4:13]),\n",
    "\"languages_imp\" : np.sum(importances[13:18]),\n",
    "\"times_series_imp\" : np.sum(importances[18:43]),\n",
    "\"ecb_imp\" : np.sum(importances[43:243]),\n",
    "\"fed_imp\" : np.sum(importances[243:])}\n",
    "pd.DataFrame.from_dict(imp_dict,orient=\"index\").rename({0:\"imp\"},axis=1).plot(kind=\"bar\")"
   ]
  },
  {
   "cell_type": "code",
   "execution_count": 77,
   "metadata": {},
   "outputs": [
    {
     "data": {
      "text/plain": [
       "<matplotlib.legend.Legend at 0x28f8fd92fd0>"
      ]
     },
     "execution_count": 77,
     "metadata": {},
     "output_type": "execute_result"
    },
    {
     "data": {
      "image/png": "[encoded data removed]",
      "text/plain": [
       "<Figure size 640x480 with 1 Axes>"
      ]
     },
     "metadata": {},
     "output_type": "display_data"
    }
   ],
   "source": [
    "cv = KFold(shuffle=True, n_splits=5, random_state=42)\n",
    "max_depth = [1, 2, 3, 4, 5, 6, 7]\n",
    "    \n",
    "train_scores, test_scores = validation_curve(\n",
    "    rf, X_train_concat, np.array(y_train).ravel(), param_name=\"max_depth\",\n",
    "    param_range=max_depth, cv=cv,\n",
    "    scoring=\"accuracy\"\n",
    ")\n",
    "plt.plot(max_depth, train_scores.mean(axis=1), label=\"train accuracy\")\n",
    "plt.plot(max_depth, test_scores.mean(axis=1), label=\"test accuracy\")\n",
    "plt.ylabel('Accuracy')\n",
    "plt.xlabel('Tree depth')\n",
    "plt.xlim([1, max(max_depth)])\n",
    "plt.legend(loc=\"best\")"
   ]
  },
  {
   "attachments": {},
   "cell_type": "markdown",
   "metadata": {},
   "source": [
    "2nd Method"
   ]
  },
  {
   "cell_type": "code",
   "execution_count": 104,
   "metadata": {},
   "outputs": [
    {
     "data": {
      "text/plain": [
       "1.0"
      ]
     },
     "execution_count": 104,
     "metadata": {},
     "output_type": "execute_result"
    }
   ],
   "source": [
    "rf2 = RandomForestClassifier()\n",
    "rf2.fit(X_train_concat2, np.array(y_train).ravel())\n",
    "rf2.score(X_train_concat2, y_train)"
   ]
  },
  {
   "cell_type": "code",
   "execution_count": 105,
   "metadata": {},
   "outputs": [
    {
     "data": {
      "text/plain": [
       "0.5831310679611651"
      ]
     },
     "execution_count": 105,
     "metadata": {},
     "output_type": "execute_result"
    }
   ],
   "source": [
    "rf2.score(X_test_concat2,y_test)"
   ]
  },
  {
   "cell_type": "code",
   "execution_count": 110,
   "metadata": {},
   "outputs": [
    {
     "data": {
      "text/plain": [
       "<Axes: >"
      ]
     },
     "execution_count": 110,
     "metadata": {},
     "output_type": "execute_result"
    },
    {
     "data": {
      "image/png": "[encoded data removed]",
      "text/plain": [
       "<Figure size 640x480 with 1 Axes>"
      ]
     },
     "metadata": {},
     "output_type": "display_data"
    }
   ],
   "source": [
    "importances = rf2.feature_importances_\n",
    "imp_dict2 = {\"speakers_imp\" : np.sum(importances[:4]),\n",
    "\"indices_imp\" : np.sum(importances[4:13]),\n",
    "\"languages_imp\" : np.sum(importances[13:18]),\n",
    "\"times_series_imp\" : np.sum(importances[18:43]),\n",
    "\"ecb_imp\" : np.sum(importances[43:143]),\n",
    "\"fed_imp\" : np.sum(importances[143:])}\n",
    "pd.DataFrame.from_dict(imp_dict2,orient=\"index\").rename({0:\"imp\"},axis=1).plot(kind=\"bar\")"
   ]
  },
  {
   "cell_type": "code",
   "execution_count": 111,
   "metadata": {},
   "outputs": [
    {
     "data": {
      "text/plain": [
       "({'speakers_imp': 0.0016311520234973192,\n",
       "  'indices_imp': 0.025073551971918583,\n",
       "  'languages_imp': 0.0003671635558465756,\n",
       "  'times_series_imp': 0.5460299066562152,\n",
       "  'ecb_imp': 0.23030788624751675,\n",
       "  'fed_imp': 0.19659033954500563},\n",
       " {'speakers_imp': 0.0035182315552587384,\n",
       "  'indices_imp': 0.020459320282400894,\n",
       "  'languages_imp': 0.0008899182383777172,\n",
       "  'times_series_imp': 0.5227314668012208,\n",
       "  'ecb_imp': 0.24243790759786316,\n",
       "  'fed_imp': 0.2099631555248787})"
      ]
     },
     "execution_count": 111,
     "metadata": {},
     "output_type": "execute_result"
    }
   ],
   "source": [
    "imp_dict,imp_dict2"
   ]
  },
  {
   "cell_type": "code",
   "execution_count": 107,
   "metadata": {},
   "outputs": [
    {
     "data": {
      "text/plain": [
       "<matplotlib.legend.Legend at 0x28f8877efa0>"
      ]
     },
     "execution_count": 107,
     "metadata": {},
     "output_type": "execute_result"
    },
    {
     "data": {
      "image/png": "[encoded data removed]",
      "text/plain": [
       "<Figure size 640x480 with 1 Axes>"
      ]
     },
     "metadata": {},
     "output_type": "display_data"
    }
   ],
   "source": [
    "cv = KFold(shuffle=True, n_splits=5, random_state=42)\n",
    "max_depth = [1, 2, 3, 4, 5, 6, 7]\n",
    "    \n",
    "train_scores, test_scores = validation_curve(\n",
    "    rf, X_train_concat, np.array(y_train).ravel(), param_name=\"max_depth\",\n",
    "    param_range=max_depth, cv=cv,\n",
    "    scoring=\"accuracy\"\n",
    ")\n",
    "plt.plot(max_depth, train_scores.mean(axis=1), label=\"train accuracy\")\n",
    "plt.plot(max_depth, test_scores.mean(axis=1), label=\"test accuracy\")\n",
    "plt.ylabel('Accuracy')\n",
    "plt.xlabel('Tree depth')\n",
    "plt.xlim([1, max(max_depth)])\n",
    "plt.legend(loc=\"best\")"
   ]
  },
  {
   "attachments": {},
   "cell_type": "markdown",
   "metadata": {},
   "source": [
    "3rd Method"
   ]
  },
  {
   "cell_type": "code",
   "execution_count": 154,
   "metadata": {},
   "outputs": [
    {
     "data": {
      "text/plain": [
       "1.0"
      ]
     },
     "execution_count": 154,
     "metadata": {},
     "output_type": "execute_result"
    }
   ],
   "source": [
    "rf3 = RandomForestClassifier()\n",
    "rf3.fit(X_train_concat3, np.array(y_train).ravel())\n",
    "rf3.score(X_train_concat3, y_train)"
   ]
  },
  {
   "cell_type": "code",
   "execution_count": 155,
   "metadata": {},
   "outputs": [
    {
     "data": {
      "text/plain": [
       "0.5764563106796117"
      ]
     },
     "execution_count": 155,
     "metadata": {},
     "output_type": "execute_result"
    }
   ],
   "source": [
    "rf3.score(X_test_concat3,y_test)"
   ]
  },
  {
   "cell_type": "code",
   "execution_count": 157,
   "metadata": {},
   "outputs": [
    {
     "data": {
      "text/plain": [
       "<Axes: >"
      ]
     },
     "execution_count": 157,
     "metadata": {},
     "output_type": "execute_result"
    },
    {
     "data": {
      "image/png": "[encoded data removed]",
      "text/plain": [
       "<Figure size 640x480 with 1 Axes>"
      ]
     },
     "metadata": {},
     "output_type": "display_data"
    }
   ],
   "source": [
    "importances = rf3.feature_importances_\n",
    "imp_dict3 = {\"speakers_imp\" : np.sum(importances[:4]),\n",
    "\"indices_imp\" : np.sum(importances[4:13]),\n",
    "\"languages_imp\" : np.sum(importances[13:18]),\n",
    "\"times_series_imp\" : np.sum(importances[18:43]),\n",
    "\"ecb_imp\" : np.sum(importances[43:143]),\n",
    "\"fed_imp\" : np.sum(importances[143:])}\n",
    "pd.DataFrame.from_dict(imp_dict3,orient=\"index\").rename({0:\"imp\"},axis=1).plot(kind=\"bar\")"
   ]
  },
  {
   "cell_type": "code",
   "execution_count": 158,
   "metadata": {},
   "outputs": [
    {
     "data": {
      "text/plain": [
       "({'speakers_imp': 0.0016311520234973192,\n",
       "  'indices_imp': 0.025073551971918583,\n",
       "  'languages_imp': 0.0003671635558465756,\n",
       "  'times_series_imp': 0.5460299066562152,\n",
       "  'ecb_imp': 0.23030788624751675,\n",
       "  'fed_imp': 0.19659033954500563},\n",
       " {'speakers_imp': 0.0035182315552587384,\n",
       "  'indices_imp': 0.020459320282400894,\n",
       "  'languages_imp': 0.0008899182383777172,\n",
       "  'times_series_imp': 0.5227314668012208,\n",
       "  'ecb_imp': 0.24243790759786316,\n",
       "  'fed_imp': 0.2099631555248787},\n",
       " {'speakers_imp': 0.0034525348678788566,\n",
       "  'indices_imp': 0.020828983677737417,\n",
       "  'languages_imp': 0.0007975899064786798,\n",
       "  'times_series_imp': 0.5268250386184765,\n",
       "  'ecb_imp': 0.24030538650466401,\n",
       "  'fed_imp': 0.20779046642476473})"
      ]
     },
     "execution_count": 158,
     "metadata": {},
     "output_type": "execute_result"
    }
   ],
   "source": [
    "imp_dict,imp_dict2, imp_dict3"
   ]
  },
  {
   "cell_type": "code",
   "execution_count": 160,
   "metadata": {},
   "outputs": [
    {
     "data": {
      "text/plain": [
       "<matplotlib.legend.Legend at 0x290a89e0400>"
      ]
     },
     "execution_count": 160,
     "metadata": {},
     "output_type": "execute_result"
    },
    {
     "data": {
      "image/png": "[encoded data removed]",
      "text/plain": [
       "<Figure size 640x480 with 1 Axes>"
      ]
     },
     "metadata": {},
     "output_type": "display_data"
    }
   ],
   "source": [
    "cv = KFold(shuffle=True, n_splits=5, random_state=42)\n",
    "max_depth = [1, 2, 3, 4, 5, 6, 7, 8, 9, 10, 11, 12, 13, 14, 15]\n",
    "    \n",
    "train_scores, test_scores = validation_curve(\n",
    "    rf, X_train_concat, np.array(y_train).ravel(), param_name=\"max_depth\",\n",
    "    param_range=max_depth, cv=cv,\n",
    "    scoring=\"accuracy\"\n",
    ")\n",
    "plt.plot(max_depth, train_scores.mean(axis=1), label=\"train accuracy\")\n",
    "plt.plot(max_depth, test_scores.mean(axis=1), label=\"test accuracy\")\n",
    "plt.ylabel('Accuracy')\n",
    "plt.xlabel('Tree depth')\n",
    "plt.xlim([1, max(max_depth)])\n",
    "plt.legend(loc=\"best\")"
   ]
  }
 ],
 "metadata": {
  "kernelspec": {
   "display_name": "nlp_dauph_env",
   "language": "python",
   "name": "python3"
  },
  "language_info": {
   "codemirror_mode": {
    "name": "ipython",
    "version": 3
   },
   "file_extension": ".py",
   "mimetype": "text/x-python",
   "name": "python",
   "nbconvert_exporter": "python",
   "pygments_lexer": "ipython3",
   "version": "3.9.16"
  },
  "orig_nbformat": 4
 },
 "nbformat": 4,
 "nbformat_minor": 2
}
