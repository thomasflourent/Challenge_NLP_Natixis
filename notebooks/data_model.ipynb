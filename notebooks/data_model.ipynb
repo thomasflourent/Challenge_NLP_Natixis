{
 "cells": [
  {
   "cell_type": "code",
   "execution_count": 2,
   "metadata": {},
   "outputs": [],
   "source": [
    "%reload_ext autoreload\n",
    "%autoreload 2"
   ]
  },
  {
   "cell_type": "code",
   "execution_count": 91,
   "metadata": {},
   "outputs": [],
   "source": [
    "import ast\n",
    "import numpy as np\n",
    "import pandas as pd\n",
    "from pathlib import Path\n",
    "from nlp_dauphine.preprocess_texts import (\n",
    "    load_data,\n",
    "    categorical_other,\n",
    ")\n",
    "from nlp_dauphine.embeddings import (\n",
    "    vocabulary,\n",
    "    print_neighbors,\n",
    "    sentence_representations,\n",
    "    co_occurence_matrix\n",
    ")\n",
    "from nlp_dauphine.preprocess_time_series import compute_rolling\n",
    "from nlp_dauphine.utils import set_working_dir, cosine, euclidean\n",
    "from category_encoders import WOEEncoder\n",
    "from sklearn.model_selection import train_test_split\n",
    "from sklearn.decomposition import TruncatedSVD\n",
    "from sklearn.linear_model import LogisticRegression\n",
    "from sklearn.ensemble import HistGradientBoostingClassifier"
   ]
  },
  {
   "cell_type": "code",
   "execution_count": 4,
   "metadata": {},
   "outputs": [
    {
     "name": "stdout",
     "output_type": "stream",
     "text": [
      "Current working dir: c:/Users/Hugo/Documents/Travail/A5/Dauphine_challenge/nlp_dauphine/notebooks\n",
      "New working dir: c:/Users/Hugo/Documents/Travail/A5/Dauphine_challenge/nlp_dauphine\n"
     ]
    }
   ],
   "source": [
    "set_working_dir()"
   ]
  },
  {
   "attachments": {},
   "cell_type": "markdown",
   "metadata": {},
   "source": [
    "# Load Data"
   ]
  },
  {
   "cell_type": "code",
   "execution_count": 5,
   "metadata": {},
   "outputs": [],
   "source": [
    "path = Path(\"data\")\n",
    "files_path = {\n",
    "    \"ecb\": Path(path,\"ecb_data_translate_cleaned.csv\"),\n",
    "    \"fed\": Path(path,\"fed_data_translate_cleaned.csv\"),\n",
    "    \"train_series\": Path(path,\"train_series_clean_no_0.csv\"),\n",
    "}"
   ]
  },
  {
   "cell_type": "code",
   "execution_count": 6,
   "metadata": {},
   "outputs": [
    {
     "name": "stdout",
     "output_type": "stream",
     "text": [
      "(1772, 6) (739, 6) (8240, 20)\n"
     ]
    }
   ],
   "source": [
    "# LOAD TEXT DATA\n",
    "df_ecb, df_fed, df_train_series = load_data(files_path)\n",
    "print(df_ecb.shape, df_fed.shape, df_train_series.shape)"
   ]
  },
  {
   "cell_type": "code",
   "execution_count": null,
   "metadata": {},
   "outputs": [],
   "source": [
    "df_train_series.list_speakers_ecb = df_train_series.list_speakers_ecb.apply(ast.literal_eval)\n",
    "df_train_series.list_speakers_fed = df_train_series.list_speakers_fed.apply(ast.literal_eval)\n",
    "df_train_series.id_ecb = df_train_series.id_ecb.apply(ast.literal_eval)\n",
    "df_train_series.id_fed = df_train_series.id_fed.apply(ast.literal_eval)\n",
    "df_train_series.list_languages_ecb = df_train_series.list_languages_ecb.apply(ast.literal_eval)"
   ]
  },
  {
   "attachments": {},
   "cell_type": "markdown",
   "metadata": {},
   "source": [
    "# Data Modelisation"
   ]
  },
  {
   "attachments": {},
   "cell_type": "markdown",
   "metadata": {},
   "source": [
    "## Train Test Split"
   ]
  },
  {
   "cell_type": "code",
   "execution_count": 96,
   "metadata": {},
   "outputs": [
    {
     "name": "stdout",
     "output_type": "stream",
     "text": [
      "(6592, 19) (6592, 1)\n"
     ]
    }
   ],
   "source": [
    "# Train test split \n",
    "X=df_train_series.loc[:,df_train_series.columns!=\"Index + 1\"]\n",
    "y=np.sign(df_train_series[[\"Index + 1\"]])\n",
    "\n",
    "X_train, X_test, y_train, y_test = train_test_split(X,y,test_size=.2, random_state=42)\n",
    "print(X_train.shape,y_train.shape)"
   ]
  },
  {
   "cell_type": "markdown",
   "metadata": {},
   "source": [
    "# Categorical Encoding \n",
    "\n",
    "For the speakers WOEEncoder rather than One-hot encoding"
   ]
  },
  {
   "cell_type": "code",
   "execution_count": 97,
   "metadata": {},
   "outputs": [
    {
     "name": "stderr",
     "output_type": "stream",
     "text": [
      "c:\\Users\\Hugo\\anaconda3\\envs\\nlp_dauph_env\\lib\\site-packages\\pandas\\core\\arraylike.py:402: RuntimeWarning: invalid value encountered in log\n",
      "  result = getattr(ufunc, method)(*inputs, **kwargs)\n",
      "c:\\Users\\Hugo\\anaconda3\\envs\\nlp_dauph_env\\lib\\site-packages\\pandas\\core\\arraylike.py:402: RuntimeWarning: divide by zero encountered in log\n",
      "  result = getattr(ufunc, method)(*inputs, **kwargs)\n",
      "c:\\Users\\Hugo\\anaconda3\\envs\\nlp_dauph_env\\lib\\site-packages\\pandas\\core\\arraylike.py:402: RuntimeWarning: invalid value encountered in log\n",
      "  result = getattr(ufunc, method)(*inputs, **kwargs)\n",
      "c:\\Users\\Hugo\\anaconda3\\envs\\nlp_dauph_env\\lib\\site-packages\\pandas\\core\\arraylike.py:402: RuntimeWarning: divide by zero encountered in log\n",
      "  result = getattr(ufunc, method)(*inputs, **kwargs)\n",
      "c:\\Users\\Hugo\\anaconda3\\envs\\nlp_dauph_env\\lib\\site-packages\\pandas\\core\\arraylike.py:402: RuntimeWarning: invalid value encountered in log\n",
      "  result = getattr(ufunc, method)(*inputs, **kwargs)\n",
      "c:\\Users\\Hugo\\anaconda3\\envs\\nlp_dauph_env\\lib\\site-packages\\pandas\\core\\arraylike.py:402: RuntimeWarning: invalid value encountered in log\n",
      "  result = getattr(ufunc, method)(*inputs, **kwargs)\n"
     ]
    }
   ],
   "source": [
    "col_speakers = [\"speaker_\"+str(i+1) for i in range(4)]\n",
    "\n",
    "X_train = pd.concat([X_train, X_train['list_speakers_ecb'].apply(pd.Series)], axis=1)\n",
    "X_train.rename({i:col for i, col in enumerate(col_speakers)},axis=1,inplace=True)\n",
    "\n",
    "X_test = pd.concat([X_test, X_test['list_speakers_ecb'].apply(pd.Series)], axis=1)\n",
    "X_test.rename({i:col for i, col in enumerate(col_speakers)},axis=1,inplace=True)\n",
    "\n",
    "enc = WOEEncoder(cols=col_speakers)\n",
    "X_train = enc.fit_transform(X_train, y_train)\n",
    "X_test = enc.transform(X_test)\n",
    "\n",
    "X_train.fillna(0,inplace=True)\n",
    "X_test.fillna(0,inplace=True)"
   ]
  },
  {
   "cell_type": "markdown",
   "metadata": {},
   "source": [
    "for the index and the languages, one hot encoding "
   ]
  },
  {
   "cell_type": "code",
   "execution_count": 98,
   "metadata": {},
   "outputs": [],
   "source": [
    "X_train = pd.get_dummies(X_train, prefix =\"\",columns=[\"Index Name\"], drop_first=False)\n",
    "X_test = pd.get_dummies(X_test, prefix =\"\",columns=[\"Index Name\"], drop_first=False)"
   ]
  },
  {
   "cell_type": "code",
   "execution_count": 99,
   "metadata": {},
   "outputs": [],
   "source": [
    "df_lang_train = (\n",
    "    pd.get_dummies(X_train.list_languages_ecb.apply(pd.Series).stack(), prefix=\"ecb\")\n",
    "    .groupby(level=0)\n",
    "    .sum()\n",
    ")\n",
    "X_train = pd.concat([X_train, df_lang_train], axis=1)\n",
    "df_lang_test = (\n",
    "    pd.get_dummies(X_test.list_languages_ecb.apply(pd.Series).stack(), prefix=\"ecb\")\n",
    "    .groupby(level=0)\n",
    "    .sum()\n",
    ")\n",
    "X_test = pd.concat([X_test, df_lang_test], axis=1)\n"
   ]
  },
  {
   "cell_type": "code",
   "execution_count": 100,
   "metadata": {},
   "outputs": [],
   "source": [
    "cols_to_drop = [\n",
    "    \"id_ecb\",\n",
    "    \"id_fed\",\n",
    "    \"id_series\",\n",
    "    \"list_speakers_fed\",\n",
    "    \"list_speakers_ecb\",\n",
    "    \"list_languages_ecb\",\n",
    "]\n",
    "X_test.drop(cols_to_drop, axis=1, inplace=True)\n",
    "X_train.drop(cols_to_drop, axis=1, inplace=True)\n"
   ]
  },
  {
   "cell_type": "code",
   "execution_count": 101,
   "metadata": {},
   "outputs": [
    {
     "data": {
      "text/plain": [
       "Index(['Index - 9', 'Index - 8', 'Index - 7', 'Index - 6', 'Index - 5',\n",
       "       'Index - 4', 'Index - 3', 'Index - 2', 'Index - 1', 'Index - 0',\n",
       "       'text_concat_ecb', 'text_concat_fed', 'speaker_1', 'speaker_2',\n",
       "       'speaker_3', 'speaker_4', '_CVIX Index', '_EURUSD Curncy',\n",
       "       '_EURUSDV1M Curncy', '_MOVE Index', '_SPX Index', '_SRVIX Index',\n",
       "       '_SX5E Index', '_V2X Index', '_VIX Index', 'ecb_de', 'ecb_en', 'ecb_es',\n",
       "       'ecb_fr', 'ecb_it'],\n",
       "      dtype='object')"
      ]
     },
     "execution_count": 101,
     "metadata": {},
     "output_type": "execute_result"
    }
   ],
   "source": [
    "X_test.columns"
   ]
  },
  {
   "attachments": {},
   "cell_type": "markdown",
   "metadata": {},
   "source": [
    "# Text Embeddings"
   ]
  },
  {
   "attachments": {},
   "cell_type": "markdown",
   "metadata": {},
   "source": [
    "## Word Embeddings\n"
   ]
  },
  {
   "attachments": {},
   "cell_type": "markdown",
   "metadata": {},
   "source": [
    "### 1st Method: Vocabulary -> Co-Occurence Matrix -> SVD "
   ]
  },
  {
   "attachments": {},
   "cell_type": "markdown",
   "metadata": {},
   "source": [
    "#### Vocabulary "
   ]
  },
  {
   "cell_type": "code",
   "execution_count": 102,
   "metadata": {},
   "outputs": [],
   "source": [
    "word2id_7500,id2word_7500 = vocabulary(X_train.text_concat_ecb,7500)"
   ]
  },
  {
   "attachments": {},
   "cell_type": "markdown",
   "metadata": {},
   "source": [
    "#### Co-occurence Matrix"
   ]
  },
  {
   "cell_type": "code",
   "execution_count": 103,
   "metadata": {},
   "outputs": [
    {
     "name": "stderr",
     "output_type": "stream",
     "text": [
      "co-occurence matrix: 100%|██████████| 6592/6592 [02:05<00:00, 52.62it/s]\n",
      "co-occurence matrix: 100%|██████████| 6592/6592 [02:41<00:00, 40.81it/s]\n"
     ]
    }
   ],
   "source": [
    "M5dist_ecb = co_occurence_matrix(X_train.text_concat_ecb, word2id_7500, window=5, distance_weighting=True)\n",
    "M5dist_fed = co_occurence_matrix(X_train.text_concat_fed, word2id_7500, window=5, distance_weighting=True)"
   ]
  },
  {
   "attachments": {},
   "cell_type": "markdown",
   "metadata": {},
   "source": [
    "#### Scaling"
   ]
  },
  {
   "cell_type": "code",
   "execution_count": 104,
   "metadata": {},
   "outputs": [],
   "source": [
    "from sklearn.preprocessing import StandardScaler\n",
    "scaler = StandardScaler()\n",
    "M5dist_ecb = scaler.fit_transform(M5dist_ecb)\n",
    "M5dist_fed = scaler.fit_transform(M5dist_fed)"
   ]
  },
  {
   "attachments": {},
   "cell_type": "markdown",
   "metadata": {},
   "source": [
    "#### SVD"
   ]
  },
  {
   "cell_type": "code",
   "execution_count": 105,
   "metadata": {},
   "outputs": [
    {
     "name": "stdout",
     "output_type": "stream",
     "text": [
      "(7501, 200) (7501, 200)\n"
     ]
    }
   ],
   "source": [
    "svd = TruncatedSVD(n_components=200)\n",
    "SVDEmbeddings_ecb = svd.fit_transform(M5dist_ecb)\n",
    "SVDEmbeddings_fed = svd.fit_transform(M5dist_fed)\n",
    "print(SVDEmbeddings_ecb.shape, SVDEmbeddings_fed.shape)"
   ]
  },
  {
   "cell_type": "code",
   "execution_count": 106,
   "metadata": {},
   "outputs": [
    {
     "data": {
      "text/plain": [
       "0.6076067283772807"
      ]
     },
     "execution_count": 106,
     "metadata": {},
     "output_type": "execute_result"
    }
   ],
   "source": [
    "svd.explained_variance_ratio_.sum()"
   ]
  },
  {
   "attachments": {},
   "cell_type": "markdown",
   "metadata": {},
   "source": [
    "#### Analysis"
   ]
  },
  {
   "cell_type": "code",
   "execution_count": 107,
   "metadata": {},
   "outputs": [
    {
     "name": "stdout",
     "output_type": "stream",
     "text": [
      "Plus proches voisins de financial selon la distance 'cosine': \n",
      "[['turmoil', 'instability', 'turbulence', 'contagion', 'market', 'vulnerability', 'assess', 'various', 'crisis']]\n",
      "Plus proches voisins de financial selon la distance 'cosine': \n",
      "[['pose', 'crisis', 'function', 'system', 'strengthen', 'severe', 'intermediary', 'market', 'UNK']]\n"
     ]
    }
   ],
   "source": [
    "print_neighbors(cosine, word2id_7500, SVDEmbeddings_ecb, 'financial')\n",
    "print_neighbors(cosine, word2id_7500, SVDEmbeddings_fed, 'financial')"
   ]
  },
  {
   "cell_type": "code",
   "execution_count": 108,
   "metadata": {},
   "outputs": [
    {
     "name": "stdout",
     "output_type": "stream",
     "text": [
      "Plus proches voisins de financial selon la distance 'euclidean': \n",
      "[['system', 'stability', 'crisis', 'sector', 'global', 'institution', 'also', 'market', 'economy']]\n",
      "Plus proches voisins de financial selon la distance 'euclidean': \n",
      "[['crisis', 'system', 'stability', 'institution', 'firm', 'large', 'condition', 'global', 'risk']]\n"
     ]
    }
   ],
   "source": [
    "print_neighbors(euclidean, word2id_7500, SVDEmbeddings_ecb, 'financial')\n",
    "print_neighbors(euclidean, word2id_7500, SVDEmbeddings_fed, 'financial')"
   ]
  },
  {
   "attachments": {},
   "cell_type": "markdown",
   "metadata": {},
   "source": [
    "## Document Representation"
   ]
  },
  {
   "cell_type": "code",
   "execution_count": 109,
   "metadata": {},
   "outputs": [],
   "source": [
    "txt_ecb = X_train.text_concat_ecb\n",
    "txt_fed = X_train.text_concat_fed\n",
    "txt_ecb_val = X_test.text_concat_ecb\n",
    "txt_fed_val = X_test.text_concat_fed"
   ]
  },
  {
   "cell_type": "code",
   "execution_count": 121,
   "metadata": {},
   "outputs": [
    {
     "name": "stderr",
     "output_type": "stream",
     "text": [
      "100%|██████████| 6592/6592 [00:36<00:00, 178.55it/s]\n",
      "100%|██████████| 6592/6592 [00:36<00:00, 181.82it/s]\n"
     ]
    }
   ],
   "source": [
    "train_rep_ecb_svd = sentence_representations(txt_ecb, word2id_7500, SVDEmbeddings_ecb, np_func=np.mean)\n",
    "train_rep_fed_svd = sentence_representations(txt_fed, word2id_7500, SVDEmbeddings_fed, np_func=np.mean)"
   ]
  },
  {
   "cell_type": "code",
   "execution_count": 122,
   "metadata": {},
   "outputs": [
    {
     "name": "stderr",
     "output_type": "stream",
     "text": [
      "100%|██████████| 1648/1648 [00:06<00:00, 238.66it/s]\n",
      "100%|██████████| 1648/1648 [00:08<00:00, 192.71it/s]\n"
     ]
    }
   ],
   "source": [
    "val_rep_ecb_svd = sentence_representations(txt_ecb_val, word2id_7500, SVDEmbeddings_ecb, np_func=np.mean)\n",
    "val_rep_fed_svd = sentence_representations(txt_fed_val, word2id_7500, SVDEmbeddings_fed, np_func=np.mean)"
   ]
  },
  {
   "attachments": {},
   "cell_type": "markdown",
   "metadata": {},
   "source": [
    "# Time Series Feature Engineering "
   ]
  },
  {
   "cell_type": "code",
   "execution_count": 112,
   "metadata": {},
   "outputs": [],
   "source": [
    "operations = [\"std\", \"mean\", \"quantile_2\", \"quantile_8\", \"sum\"]\n",
    "nb_quantiles = [0.8, 0.2]\n",
    "time_windows = [2, 5, 7]\n",
    "params = []\n",
    "for op in operations:\n",
    "    for tw in time_windows:\n",
    "        if \"quantile\" in op:\n",
    "            for q in nb_quantiles:\n",
    "                params.append(\n",
    "                    {\n",
    "                        \"operation\": op,\n",
    "                        \"time_window\": tw,\n",
    "                        \"nb_quantile\": q,\n",
    "                    }\n",
    "                )\n",
    "        else:\n",
    "            params.append(\n",
    "                {\n",
    "                    \"operation\": op,\n",
    "                    \"time_window\": tw,\n",
    "                }\n",
    "            )"
   ]
  },
  {
   "cell_type": "code",
   "execution_count": 113,
   "metadata": {},
   "outputs": [],
   "source": [
    "X_train_series = X_train.iloc[:,:10]\n",
    "X_train_series = compute_rolling(X_train_series, params)"
   ]
  },
  {
   "cell_type": "code",
   "execution_count": 114,
   "metadata": {},
   "outputs": [],
   "source": [
    "X_test_series = X_test.iloc[:,:10]\n",
    "X_test_series = compute_rolling(X_test_series, params)"
   ]
  },
  {
   "attachments": {},
   "cell_type": "markdown",
   "metadata": {},
   "source": [
    "# Full Model "
   ]
  },
  {
   "cell_type": "code",
   "execution_count": 123,
   "metadata": {},
   "outputs": [
    {
     "data": {
      "text/html": [
       "<div>\n",
       "<style scoped>\n",
       "    .dataframe tbody tr th:only-of-type {\n",
       "        vertical-align: middle;\n",
       "    }\n",
       "\n",
       "    .dataframe tbody tr th {\n",
       "        vertical-align: top;\n",
       "    }\n",
       "\n",
       "    .dataframe thead th {\n",
       "        text-align: right;\n",
       "    }\n",
       "</style>\n",
       "<table border=\"1\" class=\"dataframe\">\n",
       "  <thead>\n",
       "    <tr style=\"text-align: right;\">\n",
       "      <th></th>\n",
       "      <th>0</th>\n",
       "      <th>1</th>\n",
       "      <th>2</th>\n",
       "      <th>3</th>\n",
       "      <th>4</th>\n",
       "      <th>5</th>\n",
       "      <th>6</th>\n",
       "      <th>7</th>\n",
       "      <th>8</th>\n",
       "      <th>9</th>\n",
       "      <th>...</th>\n",
       "      <th>433</th>\n",
       "      <th>434</th>\n",
       "      <th>435</th>\n",
       "      <th>436</th>\n",
       "      <th>437</th>\n",
       "      <th>438</th>\n",
       "      <th>439</th>\n",
       "      <th>440</th>\n",
       "      <th>441</th>\n",
       "      <th>442</th>\n",
       "    </tr>\n",
       "  </thead>\n",
       "  <tbody>\n",
       "    <tr>\n",
       "      <th>0</th>\n",
       "      <td>0.666153</td>\n",
       "      <td>-0.495941</td>\n",
       "      <td>-0.04413</td>\n",
       "      <td>0.046529</td>\n",
       "      <td>1</td>\n",
       "      <td>0</td>\n",
       "      <td>0</td>\n",
       "      <td>0</td>\n",
       "      <td>0</td>\n",
       "      <td>0</td>\n",
       "      <td>...</td>\n",
       "      <td>-0.312653</td>\n",
       "      <td>0.276224</td>\n",
       "      <td>-0.203955</td>\n",
       "      <td>0.334315</td>\n",
       "      <td>-0.393745</td>\n",
       "      <td>-0.087759</td>\n",
       "      <td>0.037425</td>\n",
       "      <td>-0.070001</td>\n",
       "      <td>-0.310489</td>\n",
       "      <td>0.039887</td>\n",
       "    </tr>\n",
       "    <tr>\n",
       "      <th>1</th>\n",
       "      <td>0.000000</td>\n",
       "      <td>-0.495941</td>\n",
       "      <td>-0.04413</td>\n",
       "      <td>0.046529</td>\n",
       "      <td>0</td>\n",
       "      <td>0</td>\n",
       "      <td>0</td>\n",
       "      <td>0</td>\n",
       "      <td>0</td>\n",
       "      <td>1</td>\n",
       "      <td>...</td>\n",
       "      <td>-0.163149</td>\n",
       "      <td>-0.418829</td>\n",
       "      <td>-0.293803</td>\n",
       "      <td>0.257392</td>\n",
       "      <td>0.258844</td>\n",
       "      <td>0.269726</td>\n",
       "      <td>0.003460</td>\n",
       "      <td>-0.319064</td>\n",
       "      <td>-0.164829</td>\n",
       "      <td>0.007226</td>\n",
       "    </tr>\n",
       "    <tr>\n",
       "      <th>2</th>\n",
       "      <td>0.000000</td>\n",
       "      <td>-0.495941</td>\n",
       "      <td>-0.04413</td>\n",
       "      <td>0.046529</td>\n",
       "      <td>0</td>\n",
       "      <td>0</td>\n",
       "      <td>0</td>\n",
       "      <td>0</td>\n",
       "      <td>0</td>\n",
       "      <td>0</td>\n",
       "      <td>...</td>\n",
       "      <td>-0.466952</td>\n",
       "      <td>-0.413560</td>\n",
       "      <td>-0.198511</td>\n",
       "      <td>0.490700</td>\n",
       "      <td>-0.056497</td>\n",
       "      <td>-0.597316</td>\n",
       "      <td>-0.092702</td>\n",
       "      <td>-0.187958</td>\n",
       "      <td>-0.301901</td>\n",
       "      <td>0.177358</td>\n",
       "    </tr>\n",
       "    <tr>\n",
       "      <th>3</th>\n",
       "      <td>0.498468</td>\n",
       "      <td>-0.495941</td>\n",
       "      <td>-0.04413</td>\n",
       "      <td>0.046529</td>\n",
       "      <td>0</td>\n",
       "      <td>0</td>\n",
       "      <td>0</td>\n",
       "      <td>0</td>\n",
       "      <td>0</td>\n",
       "      <td>0</td>\n",
       "      <td>...</td>\n",
       "      <td>-0.454291</td>\n",
       "      <td>-0.109789</td>\n",
       "      <td>-0.158905</td>\n",
       "      <td>0.108117</td>\n",
       "      <td>-0.248746</td>\n",
       "      <td>0.249720</td>\n",
       "      <td>0.301472</td>\n",
       "      <td>-0.131956</td>\n",
       "      <td>-0.377513</td>\n",
       "      <td>0.207526</td>\n",
       "    </tr>\n",
       "    <tr>\n",
       "      <th>4</th>\n",
       "      <td>-0.099496</td>\n",
       "      <td>-0.495941</td>\n",
       "      <td>-0.04413</td>\n",
       "      <td>0.046529</td>\n",
       "      <td>0</td>\n",
       "      <td>0</td>\n",
       "      <td>0</td>\n",
       "      <td>0</td>\n",
       "      <td>0</td>\n",
       "      <td>0</td>\n",
       "      <td>...</td>\n",
       "      <td>-0.688525</td>\n",
       "      <td>-1.313616</td>\n",
       "      <td>0.649612</td>\n",
       "      <td>0.090788</td>\n",
       "      <td>-0.113689</td>\n",
       "      <td>0.006412</td>\n",
       "      <td>0.362838</td>\n",
       "      <td>0.176866</td>\n",
       "      <td>-0.303969</td>\n",
       "      <td>-0.413351</td>\n",
       "    </tr>\n",
       "    <tr>\n",
       "      <th>...</th>\n",
       "      <td>...</td>\n",
       "      <td>...</td>\n",
       "      <td>...</td>\n",
       "      <td>...</td>\n",
       "      <td>...</td>\n",
       "      <td>...</td>\n",
       "      <td>...</td>\n",
       "      <td>...</td>\n",
       "      <td>...</td>\n",
       "      <td>...</td>\n",
       "      <td>...</td>\n",
       "      <td>...</td>\n",
       "      <td>...</td>\n",
       "      <td>...</td>\n",
       "      <td>...</td>\n",
       "      <td>...</td>\n",
       "      <td>...</td>\n",
       "      <td>...</td>\n",
       "      <td>...</td>\n",
       "      <td>...</td>\n",
       "      <td>...</td>\n",
       "    </tr>\n",
       "    <tr>\n",
       "      <th>6587</th>\n",
       "      <td>0.763221</td>\n",
       "      <td>0.155216</td>\n",
       "      <td>-0.04413</td>\n",
       "      <td>0.046529</td>\n",
       "      <td>0</td>\n",
       "      <td>0</td>\n",
       "      <td>0</td>\n",
       "      <td>0</td>\n",
       "      <td>0</td>\n",
       "      <td>1</td>\n",
       "      <td>...</td>\n",
       "      <td>0.137478</td>\n",
       "      <td>0.195205</td>\n",
       "      <td>0.100220</td>\n",
       "      <td>0.060263</td>\n",
       "      <td>0.540283</td>\n",
       "      <td>0.143059</td>\n",
       "      <td>-0.101112</td>\n",
       "      <td>-0.185647</td>\n",
       "      <td>0.351528</td>\n",
       "      <td>0.540297</td>\n",
       "    </tr>\n",
       "    <tr>\n",
       "      <th>6588</th>\n",
       "      <td>0.413505</td>\n",
       "      <td>-0.495941</td>\n",
       "      <td>-0.04413</td>\n",
       "      <td>0.046529</td>\n",
       "      <td>0</td>\n",
       "      <td>0</td>\n",
       "      <td>0</td>\n",
       "      <td>0</td>\n",
       "      <td>1</td>\n",
       "      <td>0</td>\n",
       "      <td>...</td>\n",
       "      <td>-0.190972</td>\n",
       "      <td>-0.324409</td>\n",
       "      <td>-0.239854</td>\n",
       "      <td>0.096372</td>\n",
       "      <td>-0.069942</td>\n",
       "      <td>0.047084</td>\n",
       "      <td>0.377393</td>\n",
       "      <td>-0.392810</td>\n",
       "      <td>0.092898</td>\n",
       "      <td>0.173991</td>\n",
       "    </tr>\n",
       "    <tr>\n",
       "      <th>6589</th>\n",
       "      <td>0.551298</td>\n",
       "      <td>-0.495941</td>\n",
       "      <td>-0.04413</td>\n",
       "      <td>0.046529</td>\n",
       "      <td>0</td>\n",
       "      <td>0</td>\n",
       "      <td>0</td>\n",
       "      <td>0</td>\n",
       "      <td>0</td>\n",
       "      <td>0</td>\n",
       "      <td>...</td>\n",
       "      <td>-0.159309</td>\n",
       "      <td>-0.035907</td>\n",
       "      <td>-0.026614</td>\n",
       "      <td>0.021840</td>\n",
       "      <td>-0.291797</td>\n",
       "      <td>-0.043380</td>\n",
       "      <td>0.047435</td>\n",
       "      <td>0.181565</td>\n",
       "      <td>0.067074</td>\n",
       "      <td>-0.160170</td>\n",
       "    </tr>\n",
       "    <tr>\n",
       "      <th>6590</th>\n",
       "      <td>0.551298</td>\n",
       "      <td>-0.495941</td>\n",
       "      <td>-0.04413</td>\n",
       "      <td>0.046529</td>\n",
       "      <td>0</td>\n",
       "      <td>0</td>\n",
       "      <td>0</td>\n",
       "      <td>1</td>\n",
       "      <td>0</td>\n",
       "      <td>0</td>\n",
       "      <td>...</td>\n",
       "      <td>0.362621</td>\n",
       "      <td>-0.231037</td>\n",
       "      <td>-0.111379</td>\n",
       "      <td>0.037460</td>\n",
       "      <td>-0.132487</td>\n",
       "      <td>0.077561</td>\n",
       "      <td>-0.035158</td>\n",
       "      <td>0.264266</td>\n",
       "      <td>-0.140541</td>\n",
       "      <td>-0.277351</td>\n",
       "    </tr>\n",
       "    <tr>\n",
       "      <th>6591</th>\n",
       "      <td>1.781309</td>\n",
       "      <td>2.058635</td>\n",
       "      <td>-0.04413</td>\n",
       "      <td>0.046529</td>\n",
       "      <td>0</td>\n",
       "      <td>0</td>\n",
       "      <td>0</td>\n",
       "      <td>0</td>\n",
       "      <td>1</td>\n",
       "      <td>0</td>\n",
       "      <td>...</td>\n",
       "      <td>-0.068901</td>\n",
       "      <td>-0.033523</td>\n",
       "      <td>-0.585358</td>\n",
       "      <td>0.265909</td>\n",
       "      <td>0.023184</td>\n",
       "      <td>-0.126720</td>\n",
       "      <td>0.263146</td>\n",
       "      <td>-0.047726</td>\n",
       "      <td>-0.152285</td>\n",
       "      <td>-0.570639</td>\n",
       "    </tr>\n",
       "  </tbody>\n",
       "</table>\n",
       "<p>6592 rows × 443 columns</p>\n",
       "</div>"
      ],
      "text/plain": [
       "           0         1        2         3    4    5    6    7    8    9    \\\n",
       "0     0.666153 -0.495941 -0.04413  0.046529    1    0    0    0    0    0   \n",
       "1     0.000000 -0.495941 -0.04413  0.046529    0    0    0    0    0    1   \n",
       "2     0.000000 -0.495941 -0.04413  0.046529    0    0    0    0    0    0   \n",
       "3     0.498468 -0.495941 -0.04413  0.046529    0    0    0    0    0    0   \n",
       "4    -0.099496 -0.495941 -0.04413  0.046529    0    0    0    0    0    0   \n",
       "...        ...       ...      ...       ...  ...  ...  ...  ...  ...  ...   \n",
       "6587  0.763221  0.155216 -0.04413  0.046529    0    0    0    0    0    1   \n",
       "6588  0.413505 -0.495941 -0.04413  0.046529    0    0    0    0    1    0   \n",
       "6589  0.551298 -0.495941 -0.04413  0.046529    0    0    0    0    0    0   \n",
       "6590  0.551298 -0.495941 -0.04413  0.046529    0    0    0    1    0    0   \n",
       "6591  1.781309  2.058635 -0.04413  0.046529    0    0    0    0    1    0   \n",
       "\n",
       "      ...       433       434       435       436       437       438  \\\n",
       "0     ... -0.312653  0.276224 -0.203955  0.334315 -0.393745 -0.087759   \n",
       "1     ... -0.163149 -0.418829 -0.293803  0.257392  0.258844  0.269726   \n",
       "2     ... -0.466952 -0.413560 -0.198511  0.490700 -0.056497 -0.597316   \n",
       "3     ... -0.454291 -0.109789 -0.158905  0.108117 -0.248746  0.249720   \n",
       "4     ... -0.688525 -1.313616  0.649612  0.090788 -0.113689  0.006412   \n",
       "...   ...       ...       ...       ...       ...       ...       ...   \n",
       "6587  ...  0.137478  0.195205  0.100220  0.060263  0.540283  0.143059   \n",
       "6588  ... -0.190972 -0.324409 -0.239854  0.096372 -0.069942  0.047084   \n",
       "6589  ... -0.159309 -0.035907 -0.026614  0.021840 -0.291797 -0.043380   \n",
       "6590  ...  0.362621 -0.231037 -0.111379  0.037460 -0.132487  0.077561   \n",
       "6591  ... -0.068901 -0.033523 -0.585358  0.265909  0.023184 -0.126720   \n",
       "\n",
       "           439       440       441       442  \n",
       "0     0.037425 -0.070001 -0.310489  0.039887  \n",
       "1     0.003460 -0.319064 -0.164829  0.007226  \n",
       "2    -0.092702 -0.187958 -0.301901  0.177358  \n",
       "3     0.301472 -0.131956 -0.377513  0.207526  \n",
       "4     0.362838  0.176866 -0.303969 -0.413351  \n",
       "...        ...       ...       ...       ...  \n",
       "6587 -0.101112 -0.185647  0.351528  0.540297  \n",
       "6588  0.377393 -0.392810  0.092898  0.173991  \n",
       "6589  0.047435  0.181565  0.067074 -0.160170  \n",
       "6590 -0.035158  0.264266 -0.140541 -0.277351  \n",
       "6591  0.263146 -0.047726 -0.152285 -0.570639  \n",
       "\n",
       "[6592 rows x 443 columns]"
      ]
     },
     "execution_count": 123,
     "metadata": {},
     "output_type": "execute_result"
    }
   ],
   "source": [
    "X_train_concat = pd.concat(\n",
    "    [\n",
    "        X_train.iloc[:, 12:].reset_index(drop=True),# Speaker, Indices, languages\n",
    "        X_train_series.reset_index(drop=True),# Time series FT\n",
    "        pd.DataFrame(train_rep_ecb_svd), # Embeddings ecb\n",
    "        pd.DataFrame(train_rep_fed_svd), # Embeddings fed\n",
    "    ],\n",
    "    axis=1,\n",
    "    ignore_index=True,\n",
    ")\n",
    "X_train_concat"
   ]
  },
  {
   "cell_type": "code",
   "execution_count": 124,
   "metadata": {},
   "outputs": [
    {
     "data": {
      "text/html": [
       "<div>\n",
       "<style scoped>\n",
       "    .dataframe tbody tr th:only-of-type {\n",
       "        vertical-align: middle;\n",
       "    }\n",
       "\n",
       "    .dataframe tbody tr th {\n",
       "        vertical-align: top;\n",
       "    }\n",
       "\n",
       "    .dataframe thead th {\n",
       "        text-align: right;\n",
       "    }\n",
       "</style>\n",
       "<table border=\"1\" class=\"dataframe\">\n",
       "  <thead>\n",
       "    <tr style=\"text-align: right;\">\n",
       "      <th></th>\n",
       "      <th>0</th>\n",
       "      <th>1</th>\n",
       "      <th>2</th>\n",
       "      <th>3</th>\n",
       "      <th>4</th>\n",
       "      <th>5</th>\n",
       "      <th>6</th>\n",
       "      <th>7</th>\n",
       "      <th>8</th>\n",
       "      <th>9</th>\n",
       "      <th>...</th>\n",
       "      <th>433</th>\n",
       "      <th>434</th>\n",
       "      <th>435</th>\n",
       "      <th>436</th>\n",
       "      <th>437</th>\n",
       "      <th>438</th>\n",
       "      <th>439</th>\n",
       "      <th>440</th>\n",
       "      <th>441</th>\n",
       "      <th>442</th>\n",
       "    </tr>\n",
       "  </thead>\n",
       "  <tbody>\n",
       "    <tr>\n",
       "      <th>0</th>\n",
       "      <td>0.000000</td>\n",
       "      <td>-0.495941</td>\n",
       "      <td>-0.04413</td>\n",
       "      <td>0.046529</td>\n",
       "      <td>0</td>\n",
       "      <td>1</td>\n",
       "      <td>0</td>\n",
       "      <td>0</td>\n",
       "      <td>0</td>\n",
       "      <td>0</td>\n",
       "      <td>...</td>\n",
       "      <td>-0.105280</td>\n",
       "      <td>0.933763</td>\n",
       "      <td>0.266603</td>\n",
       "      <td>0.343758</td>\n",
       "      <td>-0.150544</td>\n",
       "      <td>0.576630</td>\n",
       "      <td>0.799150</td>\n",
       "      <td>0.443434</td>\n",
       "      <td>0.583290</td>\n",
       "      <td>-0.049560</td>\n",
       "    </tr>\n",
       "    <tr>\n",
       "      <th>1</th>\n",
       "      <td>0.413505</td>\n",
       "      <td>-0.495941</td>\n",
       "      <td>-0.04413</td>\n",
       "      <td>0.046529</td>\n",
       "      <td>0</td>\n",
       "      <td>0</td>\n",
       "      <td>1</td>\n",
       "      <td>0</td>\n",
       "      <td>0</td>\n",
       "      <td>0</td>\n",
       "      <td>...</td>\n",
       "      <td>0.042194</td>\n",
       "      <td>0.140775</td>\n",
       "      <td>0.208525</td>\n",
       "      <td>0.217843</td>\n",
       "      <td>0.208869</td>\n",
       "      <td>0.309854</td>\n",
       "      <td>0.020556</td>\n",
       "      <td>0.237851</td>\n",
       "      <td>-0.116545</td>\n",
       "      <td>0.003218</td>\n",
       "    </tr>\n",
       "    <tr>\n",
       "      <th>2</th>\n",
       "      <td>0.000000</td>\n",
       "      <td>-0.495941</td>\n",
       "      <td>-0.04413</td>\n",
       "      <td>0.046529</td>\n",
       "      <td>0</td>\n",
       "      <td>0</td>\n",
       "      <td>0</td>\n",
       "      <td>0</td>\n",
       "      <td>0</td>\n",
       "      <td>0</td>\n",
       "      <td>...</td>\n",
       "      <td>0.029928</td>\n",
       "      <td>0.052541</td>\n",
       "      <td>-0.104819</td>\n",
       "      <td>0.444066</td>\n",
       "      <td>-0.249767</td>\n",
       "      <td>0.472856</td>\n",
       "      <td>0.142212</td>\n",
       "      <td>-0.365125</td>\n",
       "      <td>-0.461031</td>\n",
       "      <td>-0.013606</td>\n",
       "    </tr>\n",
       "    <tr>\n",
       "      <th>3</th>\n",
       "      <td>0.551298</td>\n",
       "      <td>-0.495941</td>\n",
       "      <td>-0.04413</td>\n",
       "      <td>0.046529</td>\n",
       "      <td>0</td>\n",
       "      <td>0</td>\n",
       "      <td>0</td>\n",
       "      <td>0</td>\n",
       "      <td>1</td>\n",
       "      <td>0</td>\n",
       "      <td>...</td>\n",
       "      <td>-0.006881</td>\n",
       "      <td>0.200419</td>\n",
       "      <td>0.172042</td>\n",
       "      <td>-0.203065</td>\n",
       "      <td>-0.162200</td>\n",
       "      <td>0.102636</td>\n",
       "      <td>-0.147460</td>\n",
       "      <td>0.086100</td>\n",
       "      <td>-0.202693</td>\n",
       "      <td>-0.122235</td>\n",
       "    </tr>\n",
       "    <tr>\n",
       "      <th>4</th>\n",
       "      <td>0.666153</td>\n",
       "      <td>-0.495941</td>\n",
       "      <td>-0.04413</td>\n",
       "      <td>0.046529</td>\n",
       "      <td>0</td>\n",
       "      <td>0</td>\n",
       "      <td>0</td>\n",
       "      <td>0</td>\n",
       "      <td>0</td>\n",
       "      <td>1</td>\n",
       "      <td>...</td>\n",
       "      <td>0.662184</td>\n",
       "      <td>-0.391552</td>\n",
       "      <td>0.584898</td>\n",
       "      <td>0.150066</td>\n",
       "      <td>-0.149922</td>\n",
       "      <td>0.227169</td>\n",
       "      <td>-0.126602</td>\n",
       "      <td>-0.126941</td>\n",
       "      <td>0.186169</td>\n",
       "      <td>0.203481</td>\n",
       "    </tr>\n",
       "    <tr>\n",
       "      <th>...</th>\n",
       "      <td>...</td>\n",
       "      <td>...</td>\n",
       "      <td>...</td>\n",
       "      <td>...</td>\n",
       "      <td>...</td>\n",
       "      <td>...</td>\n",
       "      <td>...</td>\n",
       "      <td>...</td>\n",
       "      <td>...</td>\n",
       "      <td>...</td>\n",
       "      <td>...</td>\n",
       "      <td>...</td>\n",
       "      <td>...</td>\n",
       "      <td>...</td>\n",
       "      <td>...</td>\n",
       "      <td>...</td>\n",
       "      <td>...</td>\n",
       "      <td>...</td>\n",
       "      <td>...</td>\n",
       "      <td>...</td>\n",
       "      <td>...</td>\n",
       "    </tr>\n",
       "    <tr>\n",
       "      <th>1643</th>\n",
       "      <td>0.551298</td>\n",
       "      <td>-0.495941</td>\n",
       "      <td>-0.04413</td>\n",
       "      <td>0.046529</td>\n",
       "      <td>0</td>\n",
       "      <td>0</td>\n",
       "      <td>0</td>\n",
       "      <td>0</td>\n",
       "      <td>0</td>\n",
       "      <td>0</td>\n",
       "      <td>...</td>\n",
       "      <td>-0.006881</td>\n",
       "      <td>0.200419</td>\n",
       "      <td>0.172042</td>\n",
       "      <td>-0.203065</td>\n",
       "      <td>-0.162200</td>\n",
       "      <td>0.102636</td>\n",
       "      <td>-0.147460</td>\n",
       "      <td>0.086100</td>\n",
       "      <td>-0.202693</td>\n",
       "      <td>-0.122235</td>\n",
       "    </tr>\n",
       "    <tr>\n",
       "      <th>1644</th>\n",
       "      <td>0.763221</td>\n",
       "      <td>0.983183</td>\n",
       "      <td>-0.04413</td>\n",
       "      <td>0.046529</td>\n",
       "      <td>0</td>\n",
       "      <td>0</td>\n",
       "      <td>0</td>\n",
       "      <td>0</td>\n",
       "      <td>0</td>\n",
       "      <td>0</td>\n",
       "      <td>...</td>\n",
       "      <td>0.259121</td>\n",
       "      <td>0.094952</td>\n",
       "      <td>-0.281573</td>\n",
       "      <td>0.494271</td>\n",
       "      <td>-0.502008</td>\n",
       "      <td>0.336785</td>\n",
       "      <td>-0.315178</td>\n",
       "      <td>-0.166258</td>\n",
       "      <td>-0.102352</td>\n",
       "      <td>0.223391</td>\n",
       "    </tr>\n",
       "    <tr>\n",
       "      <th>1645</th>\n",
       "      <td>0.000000</td>\n",
       "      <td>-0.495941</td>\n",
       "      <td>-0.04413</td>\n",
       "      <td>0.046529</td>\n",
       "      <td>0</td>\n",
       "      <td>0</td>\n",
       "      <td>0</td>\n",
       "      <td>0</td>\n",
       "      <td>0</td>\n",
       "      <td>1</td>\n",
       "      <td>...</td>\n",
       "      <td>0.108904</td>\n",
       "      <td>0.390455</td>\n",
       "      <td>0.264830</td>\n",
       "      <td>-0.043537</td>\n",
       "      <td>0.187119</td>\n",
       "      <td>0.270618</td>\n",
       "      <td>0.441176</td>\n",
       "      <td>0.192290</td>\n",
       "      <td>0.079865</td>\n",
       "      <td>0.043672</td>\n",
       "    </tr>\n",
       "    <tr>\n",
       "      <th>1646</th>\n",
       "      <td>0.666153</td>\n",
       "      <td>-0.495941</td>\n",
       "      <td>-0.04413</td>\n",
       "      <td>0.046529</td>\n",
       "      <td>0</td>\n",
       "      <td>0</td>\n",
       "      <td>0</td>\n",
       "      <td>0</td>\n",
       "      <td>1</td>\n",
       "      <td>0</td>\n",
       "      <td>...</td>\n",
       "      <td>0.662184</td>\n",
       "      <td>-0.391552</td>\n",
       "      <td>0.584898</td>\n",
       "      <td>0.150066</td>\n",
       "      <td>-0.149922</td>\n",
       "      <td>0.227169</td>\n",
       "      <td>-0.126602</td>\n",
       "      <td>-0.126941</td>\n",
       "      <td>0.186169</td>\n",
       "      <td>0.203481</td>\n",
       "    </tr>\n",
       "    <tr>\n",
       "      <th>1647</th>\n",
       "      <td>0.413505</td>\n",
       "      <td>-inf</td>\n",
       "      <td>-0.04413</td>\n",
       "      <td>0.046529</td>\n",
       "      <td>0</td>\n",
       "      <td>0</td>\n",
       "      <td>0</td>\n",
       "      <td>0</td>\n",
       "      <td>0</td>\n",
       "      <td>0</td>\n",
       "      <td>...</td>\n",
       "      <td>-0.007717</td>\n",
       "      <td>-0.290784</td>\n",
       "      <td>0.124563</td>\n",
       "      <td>0.218118</td>\n",
       "      <td>0.126860</td>\n",
       "      <td>-0.008034</td>\n",
       "      <td>0.211814</td>\n",
       "      <td>0.160069</td>\n",
       "      <td>-0.193784</td>\n",
       "      <td>-0.274515</td>\n",
       "    </tr>\n",
       "  </tbody>\n",
       "</table>\n",
       "<p>1648 rows × 443 columns</p>\n",
       "</div>"
      ],
      "text/plain": [
       "           0         1        2         3    4    5    6    7    8    9    \\\n",
       "0     0.000000 -0.495941 -0.04413  0.046529    0    1    0    0    0    0   \n",
       "1     0.413505 -0.495941 -0.04413  0.046529    0    0    1    0    0    0   \n",
       "2     0.000000 -0.495941 -0.04413  0.046529    0    0    0    0    0    0   \n",
       "3     0.551298 -0.495941 -0.04413  0.046529    0    0    0    0    1    0   \n",
       "4     0.666153 -0.495941 -0.04413  0.046529    0    0    0    0    0    1   \n",
       "...        ...       ...      ...       ...  ...  ...  ...  ...  ...  ...   \n",
       "1643  0.551298 -0.495941 -0.04413  0.046529    0    0    0    0    0    0   \n",
       "1644  0.763221  0.983183 -0.04413  0.046529    0    0    0    0    0    0   \n",
       "1645  0.000000 -0.495941 -0.04413  0.046529    0    0    0    0    0    1   \n",
       "1646  0.666153 -0.495941 -0.04413  0.046529    0    0    0    0    1    0   \n",
       "1647  0.413505      -inf -0.04413  0.046529    0    0    0    0    0    0   \n",
       "\n",
       "      ...       433       434       435       436       437       438  \\\n",
       "0     ... -0.105280  0.933763  0.266603  0.343758 -0.150544  0.576630   \n",
       "1     ...  0.042194  0.140775  0.208525  0.217843  0.208869  0.309854   \n",
       "2     ...  0.029928  0.052541 -0.104819  0.444066 -0.249767  0.472856   \n",
       "3     ... -0.006881  0.200419  0.172042 -0.203065 -0.162200  0.102636   \n",
       "4     ...  0.662184 -0.391552  0.584898  0.150066 -0.149922  0.227169   \n",
       "...   ...       ...       ...       ...       ...       ...       ...   \n",
       "1643  ... -0.006881  0.200419  0.172042 -0.203065 -0.162200  0.102636   \n",
       "1644  ...  0.259121  0.094952 -0.281573  0.494271 -0.502008  0.336785   \n",
       "1645  ...  0.108904  0.390455  0.264830 -0.043537  0.187119  0.270618   \n",
       "1646  ...  0.662184 -0.391552  0.584898  0.150066 -0.149922  0.227169   \n",
       "1647  ... -0.007717 -0.290784  0.124563  0.218118  0.126860 -0.008034   \n",
       "\n",
       "           439       440       441       442  \n",
       "0     0.799150  0.443434  0.583290 -0.049560  \n",
       "1     0.020556  0.237851 -0.116545  0.003218  \n",
       "2     0.142212 -0.365125 -0.461031 -0.013606  \n",
       "3    -0.147460  0.086100 -0.202693 -0.122235  \n",
       "4    -0.126602 -0.126941  0.186169  0.203481  \n",
       "...        ...       ...       ...       ...  \n",
       "1643 -0.147460  0.086100 -0.202693 -0.122235  \n",
       "1644 -0.315178 -0.166258 -0.102352  0.223391  \n",
       "1645  0.441176  0.192290  0.079865  0.043672  \n",
       "1646 -0.126602 -0.126941  0.186169  0.203481  \n",
       "1647  0.211814  0.160069 -0.193784 -0.274515  \n",
       "\n",
       "[1648 rows x 443 columns]"
      ]
     },
     "execution_count": 124,
     "metadata": {},
     "output_type": "execute_result"
    }
   ],
   "source": [
    "X_test_concat = pd.concat(\n",
    "    [\n",
    "        X_test.iloc[:, 12:].reset_index(drop=True),\n",
    "        X_test_series.reset_index(drop=True),\n",
    "        pd.DataFrame(val_rep_ecb_svd),\n",
    "        pd.DataFrame(val_rep_fed_svd),\n",
    "    ],\n",
    "    axis=1,\n",
    "    ignore_index=True,\n",
    ")\n",
    "X_test_concat"
   ]
  },
  {
   "cell_type": "code",
   "execution_count": 125,
   "metadata": {},
   "outputs": [],
   "source": [
    "X_train_concat.replace([np.inf, -np.inf], 0, inplace=True)\n",
    "X_test_concat.replace([np.inf, -np.inf], 0, inplace=True)"
   ]
  },
  {
   "attachments": {},
   "cell_type": "markdown",
   "metadata": {},
   "source": [
    "## Logistic Regression"
   ]
  },
  {
   "cell_type": "code",
   "execution_count": 126,
   "metadata": {},
   "outputs": [
    {
     "data": {
      "text/plain": [
       "0.6134708737864077"
      ]
     },
     "execution_count": 126,
     "metadata": {},
     "output_type": "execute_result"
    }
   ],
   "source": [
    "# Fit the classifier on the transformed training data and test it on the transformed validation data\n",
    "clf = LogisticRegression(random_state=42,max_iter=20_000).fit(X_train_concat, np.array(y_train).ravel())\n",
    "clf.score(X_train_concat, y_train)"
   ]
  },
  {
   "attachments": {},
   "cell_type": "markdown",
   "metadata": {},
   "source": [
    "1st Method"
   ]
  },
  {
   "cell_type": "code",
   "execution_count": 127,
   "metadata": {},
   "outputs": [
    {
     "data": {
      "text/plain": [
       "0.5242718446601942"
      ]
     },
     "execution_count": 127,
     "metadata": {},
     "output_type": "execute_result"
    }
   ],
   "source": [
    "clf.score(X_test_concat,y_test)"
   ]
  },
  {
   "attachments": {},
   "cell_type": "markdown",
   "metadata": {},
   "source": [
    "## HistGradientBoosting"
   ]
  },
  {
   "cell_type": "code",
   "execution_count": 157,
   "metadata": {},
   "outputs": [
    {
     "data": {
      "text/plain": [
       "0.9347694174757282"
      ]
     },
     "execution_count": 157,
     "metadata": {},
     "output_type": "execute_result"
    }
   ],
   "source": [
    "clf_boost = HistGradientBoostingClassifier(random_state=42).fit(X_train_concat, np.array(y_train).ravel())\n",
    "clf_boost.score(X_train_concat, y_train)"
   ]
  },
  {
   "cell_type": "code",
   "execution_count": 158,
   "metadata": {},
   "outputs": [
    {
     "data": {
      "text/plain": [
       "0.558252427184466"
      ]
     },
     "execution_count": 158,
     "metadata": {},
     "output_type": "execute_result"
    }
   ],
   "source": [
    "clf_boost.score(X_test_concat,y_test)"
   ]
  },
  {
   "cell_type": "code",
   "execution_count": 156,
   "metadata": {},
   "outputs": [],
   "source": [
    "mask_categorical = [True if (x <=17) & (x>=4) else False for x in range(X_train_concat.shape[1])]"
   ]
  },
  {
   "cell_type": "code",
   "execution_count": 160,
   "metadata": {},
   "outputs": [
    {
     "data": {
      "text/plain": [
       "0.990746359223301"
      ]
     },
     "execution_count": 160,
     "metadata": {},
     "output_type": "execute_result"
    }
   ],
   "source": [
    "clf_boost2 = HistGradientBoostingClassifier(\n",
    "    learning_rate=0.1,\n",
    "    max_iter=200,\n",
    "    categorical_features=mask_categorical,\n",
    "    random_state=42,\n",
    ").fit(X_train_concat, np.array(y_train).ravel())\n",
    "clf_boost2.score(X_train_concat, y_train)\n"
   ]
  },
  {
   "cell_type": "code",
   "execution_count": 161,
   "metadata": {},
   "outputs": [
    {
     "data": {
      "text/plain": [
       "0.5782766990291263"
      ]
     },
     "execution_count": 161,
     "metadata": {},
     "output_type": "execute_result"
    }
   ],
   "source": [
    "clf_boost2.score(X_test_concat,y_test)"
   ]
  }
 ],
 "metadata": {
  "kernelspec": {
   "display_name": "nlp_dauph_env",
   "language": "python",
   "name": "python3"
  },
  "language_info": {
   "codemirror_mode": {
    "name": "ipython",
    "version": 3
   },
   "file_extension": ".py",
   "mimetype": "text/x-python",
   "name": "python",
   "nbconvert_exporter": "python",
   "pygments_lexer": "ipython3",
   "version": "3.9.16"
  },
  "orig_nbformat": 4
 },
 "nbformat": 4,
 "nbformat_minor": 2
}
