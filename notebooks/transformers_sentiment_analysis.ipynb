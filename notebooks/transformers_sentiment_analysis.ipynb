{
 "cells": [
  {
   "cell_type": "code",
   "execution_count": 1,
   "metadata": {},
   "outputs": [],
   "source": [
    "%reload_ext autoreload\n",
    "%autoreload 2"
   ]
  },
  {
   "cell_type": "code",
   "execution_count": 2,
   "metadata": {},
   "outputs": [],
   "source": [
    "from pathlib import Path\n",
    "from nlp_dauphine.preprocess_data import (\n",
    "        load_data, \n",
    "        text_cleaning, \n",
    "        link_texts_series, \n",
    "        suppr_footnotes, \n",
    "        categorical_other\n",
    "        )\n",
    "from nlp_dauphine.embeddings import vocabulary\n",
    "from nlp_dauphine.utils import set_working_dir\n",
    "import matplotlib.pyplot as plt\n",
    "from sklearn.model_selection import train_test_split\n",
    "import numpy as np\n",
    "import pandas as pd\n",
    "from category_encoders import WOEEncoder"
   ]
  },
  {
   "cell_type": "code",
   "execution_count": 3,
   "metadata": {},
   "outputs": [
    {
     "name": "stdout",
     "output_type": "stream",
     "text": [
      "Current working dir: /Users/thomasflourent/Documents/Master Data Science/Challenge_NLP/Challenge_NLP_Natixis/notebooks\n",
      "New working dir: /Users/thomasflourent/Documents/Master Data Science/Challenge_NLP/Challenge_NLP_Natixis\n"
     ]
    }
   ],
   "source": [
    "set_working_dir()"
   ]
  },
  {
   "attachments": {},
   "cell_type": "markdown",
   "metadata": {},
   "source": [
    "# Load Data"
   ]
  },
  {
   "cell_type": "code",
   "execution_count": 4,
   "metadata": {},
   "outputs": [],
   "source": [
    "path = Path(\"data\")\n",
    "files_path = {\n",
    "    \"ecb\": Path(path,\"ecb_data.csv\"),\n",
    "    \"fed\": Path(path,\"fed_data.csv\"),\n",
    "    \"train_series\": Path(path,\"train_series.csv\"),\n",
    "}"
   ]
  },
  {
   "cell_type": "code",
   "execution_count": 5,
   "metadata": {},
   "outputs": [
    {
     "name": "stdout",
     "output_type": "stream",
     "text": [
      "(1772, 3) (739, 3) (8946, 14)\n"
     ]
    }
   ],
   "source": [
    "# LOAD TEXT DATA\n",
    "df_ecb, df_fed, df_train_series = load_data(files_path)\n",
    "print(df_ecb.shape, df_fed.shape, df_train_series.shape)"
   ]
  },
  {
   "attachments": {},
   "cell_type": "markdown",
   "metadata": {},
   "source": [
    "# Text Cleaning"
   ]
  },
  {
   "attachments": {},
   "cell_type": "markdown",
   "metadata": {},
   "source": [
    "## Link Texts to Series\n",
    "\n",
    "Create some indices"
   ]
  },
  {
   "cell_type": "code",
   "execution_count": null,
   "metadata": {},
   "outputs": [],
   "source": [
    "df_ecb.reset_index(inplace=True, names=\"id_ecb\")\n",
    "df_fed.reset_index(inplace=True, names=\"id_fed\")\n",
    "df_train_series.reset_index(inplace=True, names=\"id_series\")"
   ]
  },
  {
   "attachments": {},
   "cell_type": "markdown",
   "metadata": {},
   "source": [
    "Create a list rather than a string with a comma separator"
   ]
  },
  {
   "cell_type": "code",
   "execution_count": null,
   "metadata": {},
   "outputs": [],
   "source": [
    "df_train_series[\"id_ecb\"] = [x.split(\",\") for x in df_train_series['index ecb']]\n",
    "df_train_series[\"id_fed\"] = [x.split(\",\") for x in df_train_series['index fed']]\n",
    "del df_train_series['index ecb']\n",
    "del df_train_series['index fed']"
   ]
  },
  {
   "attachments": {},
   "cell_type": "markdown",
   "metadata": {},
   "source": [
    "## Remove Footnotes"
   ]
  },
  {
   "cell_type": "code",
   "execution_count": null,
   "metadata": {},
   "outputs": [],
   "source": [
    "df_ecb[\"text_process\"] = df_ecb.text.apply(lambda x: suppr_footnotes(x))\n",
    "df_fed[\"text_process\"] = df_fed.text.apply(lambda x: suppr_footnotes(x))"
   ]
  },
  {
   "attachments": {},
   "cell_type": "markdown",
   "metadata": {},
   "source": [
    "## Deal with Null Values"
   ]
  },
  {
   "cell_type": "code",
   "execution_count": null,
   "metadata": {},
   "outputs": [],
   "source": [
    "# REPLACE NULL TEXTS BY TITLE\n",
    "index_no_texts = df_ecb[df_ecb[\"text_process\"].isnull()].index.values\n",
    "df_ecb.loc[index_no_texts, \"text_process\"] = df_ecb.loc[index_no_texts, \"title\"].values"
   ]
  },
  {
   "attachments": {},
   "cell_type": "markdown",
   "metadata": {},
   "source": [
    "## Remove special characters, stop words, Lemmatization..."
   ]
  },
  {
   "cell_type": "code",
   "execution_count": null,
   "metadata": {},
   "outputs": [],
   "source": [
    "# Clean Data\n",
    "negation_words = [\"no\", \"not\"]\n",
    "df_fed.text_process = [text_cleaning(\n",
    "        x,\n",
    "        negation_set=negation_words,\n",
    "        fg_no_numbers=True,\n",
    "        fg_stop_words=True,\n",
    "        fg_lemmatization=True,\n",
    "    ) for x in df_fed.text_process]\n",
    "df_ecb.text_process = [text_cleaning(\n",
    "        x,\n",
    "        negation_set=negation_words,\n",
    "        fg_no_numbers=True,\n",
    "        fg_stop_words=True,\n",
    "        fg_lemmatization=True,\n",
    "    ) for x in df_ecb.text_process]"
   ]
  },
  {
   "attachments": {},
   "cell_type": "markdown",
   "metadata": {},
   "source": [
    "Less efficient "
   ]
  },
  {
   "cell_type": "code",
   "execution_count": null,
   "metadata": {},
   "outputs": [],
   "source": [
    "\"\"\"# CLEAN TEXTS\n",
    "negation_words = [\"no\", \"not\"]\n",
    "df_fed.text_process = df_fed.text_process.apply(\n",
    "    lambda x: text_cleaning(\n",
    "        x,\n",
    "        negation_set=negation_words,\n",
    "        fg_no_numbers=True,\n",
    "        fg_stop_words=True,\n",
    "        fg_lemmatization=True,\n",
    "    )\n",
    ")\n",
    "df_ecb.text_process = df_ecb.text_process.apply(\n",
    "    lambda x: text_cleaning(\n",
    "        x,\n",
    "        negation_set=negation_words,\n",
    "        fg_no_numbers=True,\n",
    "        fg_stop_words=True,\n",
    "        fg_lemmatization=True,\n",
    "    )\n",
    ")\"\"\""
   ]
  },
  {
   "cell_type": "code",
   "execution_count": null,
   "metadata": {},
   "outputs": [],
   "source": [
    "#df_fed.text_process = a \n",
    "#df_ecb.text_process = b"
   ]
  },
  {
   "attachments": {},
   "cell_type": "markdown",
   "metadata": {},
   "source": [
    "Length of the texts"
   ]
  },
  {
   "cell_type": "code",
   "execution_count": null,
   "metadata": {},
   "outputs": [],
   "source": [
    "lenght_texts_ecb = [len(str(x).split(\" \")) for x in df_ecb.text]\n",
    "lenght_texts_fed = [len(str(x).split(\" \")) for x in df_fed.text]\n",
    "fig, ax = plt.subplots(1,2)\n",
    "ax[0].hist(lenght_texts_ecb, bins=50)\n",
    "ax[0].set_title(\"ECB\")\n",
    "ax[1].hist(lenght_texts_fed, bins=50)\n",
    "ax[1].set_title(\"FED\")\n",
    "plt.show()"
   ]
  },
  {
   "cell_type": "code",
   "execution_count": null,
   "metadata": {},
   "outputs": [],
   "source": [
    "lenght_texts_ecb = [len(str(x).split(\" \")) for x in df_ecb.text_process]\n",
    "lenght_texts_fed = [len(str(x).split(\" \")) for x in df_fed.text_process]\n",
    "fig, ax = plt.subplots(1,2)\n",
    "ax[0].hist(lenght_texts_ecb, bins=50)\n",
    "ax[0].set_title(\"ECB\")\n",
    "ax[1].hist(lenght_texts_fed, bins=50)\n",
    "ax[1].set_title(\"FED\")\n",
    "plt.show()"
   ]
  },
  {
   "cell_type": "code",
   "execution_count": null,
   "metadata": {},
   "outputs": [],
   "source": [
    "#np.where(np.array(lenght_texts_ecb).astype('int64')<200)"
   ]
  },
  {
   "attachments": {},
   "cell_type": "markdown",
   "metadata": {},
   "source": [
    "# Categorical Variable: Speakers"
   ]
  },
  {
   "cell_type": "code",
   "execution_count": null,
   "metadata": {},
   "outputs": [],
   "source": [
    "df_fed.speaker.value_counts()"
   ]
  },
  {
   "cell_type": "code",
   "execution_count": null,
   "metadata": {},
   "outputs": [],
   "source": [
    "df_ecb.speaker = categorical_other(df_ecb.speaker)\n",
    "df_fed.speaker = categorical_other(df_fed.speaker, threshold=0.025)"
   ]
  },
  {
   "cell_type": "code",
   "execution_count": null,
   "metadata": {},
   "outputs": [],
   "source": []
  },
  {
   "attachments": {},
   "cell_type": "markdown",
   "metadata": {},
   "source": [
    "# Text Concatenation"
   ]
  },
  {
   "cell_type": "code",
   "execution_count": null,
   "metadata": {},
   "outputs": [],
   "source": [
    "df_train_series.head()"
   ]
  },
  {
   "cell_type": "code",
   "execution_count": null,
   "metadata": {},
   "outputs": [],
   "source": [
    "df_series_ecb_process = link_texts_series(df_train_series, df_ecb, \"id_series\", \"id_ecb\")\n",
    "df_series_fed_process = link_texts_series(df_train_series, df_fed, \"id_series\", \"id_fed\")"
   ]
  },
  {
   "cell_type": "code",
   "execution_count": null,
   "metadata": {},
   "outputs": [],
   "source": [
    "df_train_series = df_train_series.merge(df_series_ecb_process,on='id_series',how='left')\n",
    "df_train_series = df_train_series.merge(df_series_fed_process,on='id_series',how='left')\n",
    "df_train_series.head()"
   ]
  },
  {
   "cell_type": "code",
   "execution_count": null,
   "metadata": {},
   "outputs": [],
   "source": [
    "df_train_series.shape"
   ]
  },
  {
   "cell_type": "code",
   "execution_count": null,
   "metadata": {},
   "outputs": [],
   "source": [
    "df_train_series.loc[df_train_series['Index + 1']==0.0]"
   ]
  },
  {
   "attachments": {},
   "cell_type": "markdown",
   "metadata": {},
   "source": [
    "# Removal Zero value Time series\n",
    "\n",
    "Probably due to a score approximation \n",
    "\n",
    "Some times all indices are null"
   ]
  },
  {
   "cell_type": "code",
   "execution_count": null,
   "metadata": {},
   "outputs": [],
   "source": [
    "df_train_series.loc[df_train_series['Index + 1']==0.0]['Index Name'].value_counts()"
   ]
  },
  {
   "cell_type": "code",
   "execution_count": null,
   "metadata": {},
   "outputs": [],
   "source": [
    "sup = df_train_series.loc[df_train_series['Index + 1']==0.0].index\n",
    "df_train_series.drop(sup,inplace=True)"
   ]
  },
  {
   "cell_type": "code",
   "execution_count": null,
   "metadata": {},
   "outputs": [],
   "source": []
  },
  {
   "cell_type": "code",
   "execution_count": null,
   "metadata": {},
   "outputs": [],
   "source": [
    "df_train_series.to_csv(\"./data/train_series_clean_no_0.csv\")"
   ]
  },
  {
   "cell_type": "code",
   "execution_count": null,
   "metadata": {},
   "outputs": [],
   "source": [
    "df_train_series.id_fed.apply(lambda x: len(x))#.argmax()"
   ]
  },
  {
   "attachments": {},
   "cell_type": "markdown",
   "metadata": {},
   "source": [
    "# Train Test Split"
   ]
  },
  {
   "cell_type": "code",
   "execution_count": null,
   "metadata": {},
   "outputs": [],
   "source": [
    "# Train test split \n",
    "X=df_train_series.loc[:,df_train_series.columns!=\"Index + 1\"]\n",
    "y=df_train_series[[\"Index + 1\"]]\n",
    "\n",
    "X_train, X_test, y_train, y_test = train_test_split(X,y,test_size=.2)\n",
    "print(X_train.shape,y_train.shape)"
   ]
  },
  {
   "attachments": {},
   "cell_type": "markdown",
   "metadata": {},
   "source": [
    "Binary Classification"
   ]
  },
  {
   "cell_type": "code",
   "execution_count": null,
   "metadata": {},
   "outputs": [],
   "source": [
    "y_t = np.sign(y_train)\n",
    "y_t.value_counts()"
   ]
  },
  {
   "cell_type": "code",
   "execution_count": null,
   "metadata": {},
   "outputs": [],
   "source": [
    "from pandas.plotting import lag_plot\n",
    "lag_plot(series)\n",
    "pyplot.show()"
   ]
  },
  {
   "attachments": {},
   "cell_type": "markdown",
   "metadata": {},
   "source": [
    "# Categorical Encoding "
   ]
  },
  {
   "cell_type": "code",
   "execution_count": null,
   "metadata": {},
   "outputs": [],
   "source": [
    "col_speakers = [\"speaker_\"+str(i+1) for i in range(4)]\n",
    "test_conc = pd.concat([X_train, X_train['list_speakers_ecb'].apply(pd.Series)], axis=1)\n",
    "test_conc.rename({i:col for i, col in enumerate(col_speakers)},axis=1,inplace=True)\n",
    "enc = WOEEncoder(cols=col_speakers)\n",
    "tr = enc.fit_transform(test_conc, y_t)\n",
    "tr.fillna(0,inplace=True)"
   ]
  },
  {
   "cell_type": "code",
   "execution_count": null,
   "metadata": {},
   "outputs": [],
   "source": [
    "tr.head()"
   ]
  },
  {
   "attachments": {},
   "cell_type": "markdown",
   "metadata": {},
   "source": [
    "# Transformers"
   ]
  },
  {
   "attachments": {},
   "cell_type": "markdown",
   "metadata": {},
   "source": [
    "## Research"
   ]
  },
  {
   "cell_type": "code",
   "execution_count": 6,
   "metadata": {},
   "outputs": [],
   "source": [
    "df_train_series = pd.read_csv(\"./data/train_series_clean_no_0.csv\")"
   ]
  },
  {
   "cell_type": "code",
   "execution_count": 7,
   "metadata": {},
   "outputs": [
    {
     "data": {
      "text/html": [
       "<div>\n",
       "<style scoped>\n",
       "    .dataframe tbody tr th:only-of-type {\n",
       "        vertical-align: middle;\n",
       "    }\n",
       "\n",
       "    .dataframe tbody tr th {\n",
       "        vertical-align: top;\n",
       "    }\n",
       "\n",
       "    .dataframe thead th {\n",
       "        text-align: right;\n",
       "    }\n",
       "</style>\n",
       "<table border=\"1\" class=\"dataframe\">\n",
       "  <thead>\n",
       "    <tr style=\"text-align: right;\">\n",
       "      <th></th>\n",
       "      <th>Unnamed: 0</th>\n",
       "      <th>id_series</th>\n",
       "      <th>Index Name</th>\n",
       "      <th>Index - 9</th>\n",
       "      <th>Index - 8</th>\n",
       "      <th>Index - 7</th>\n",
       "      <th>Index - 6</th>\n",
       "      <th>Index - 5</th>\n",
       "      <th>Index - 4</th>\n",
       "      <th>Index - 3</th>\n",
       "      <th>Index - 2</th>\n",
       "      <th>Index - 1</th>\n",
       "      <th>Index - 0</th>\n",
       "      <th>Index + 1</th>\n",
       "      <th>id_ecb</th>\n",
       "      <th>id_fed</th>\n",
       "      <th>text_concat_ecb</th>\n",
       "      <th>list_speakers_ecb</th>\n",
       "      <th>text_concat_fed</th>\n",
       "      <th>list_speakers_fed</th>\n",
       "    </tr>\n",
       "  </thead>\n",
       "  <tbody>\n",
       "    <tr>\n",
       "      <th>0</th>\n",
       "      <td>0</td>\n",
       "      <td>0</td>\n",
       "      <td>V2X Index</td>\n",
       "      <td>0.001045</td>\n",
       "      <td>0.005841</td>\n",
       "      <td>0.003832</td>\n",
       "      <td>-0.027519</td>\n",
       "      <td>-0.103565</td>\n",
       "      <td>-0.045086</td>\n",
       "      <td>-0.011265</td>\n",
       "      <td>0.005164</td>\n",
       "      <td>0.054050</td>\n",
       "      <td>0.015779</td>\n",
       "      <td>0.010597</td>\n",
       "      <td>['1126', '1471']</td>\n",
       "      <td>['96']</td>\n",
       "      <td>welcome address welcome remark philip r lane m...</td>\n",
       "      <td>['Philip R. Lane', 'Luis de Guindos']</td>\n",
       "      <td>delighted helsinki important conference moneta...</td>\n",
       "      <td>['Vice Chairman Richard H. Clarida']</td>\n",
       "    </tr>\n",
       "    <tr>\n",
       "      <th>1</th>\n",
       "      <td>1</td>\n",
       "      <td>1</td>\n",
       "      <td>MOVE Index</td>\n",
       "      <td>-0.021497</td>\n",
       "      <td>0.007891</td>\n",
       "      <td>-0.013175</td>\n",
       "      <td>-0.008436</td>\n",
       "      <td>0.000000</td>\n",
       "      <td>0.026303</td>\n",
       "      <td>0.000556</td>\n",
       "      <td>0.001455</td>\n",
       "      <td>0.007422</td>\n",
       "      <td>0.000000</td>\n",
       "      <td>0.014492</td>\n",
       "      <td>['975']</td>\n",
       "      <td>['568']</td>\n",
       "      <td>monetary policy structural reform euro area sp...</td>\n",
       "      <td>['Mario Draghi']</td>\n",
       "      <td>watch live would like thank federal reserve ba...</td>\n",
       "      <td>['Vice Chairman Stanley Fischer']</td>\n",
       "    </tr>\n",
       "    <tr>\n",
       "      <th>2</th>\n",
       "      <td>2</td>\n",
       "      <td>2</td>\n",
       "      <td>SPX Index</td>\n",
       "      <td>-0.001872</td>\n",
       "      <td>-0.008154</td>\n",
       "      <td>0.023588</td>\n",
       "      <td>0.004086</td>\n",
       "      <td>0.003493</td>\n",
       "      <td>0.003300</td>\n",
       "      <td>0.000885</td>\n",
       "      <td>-0.011304</td>\n",
       "      <td>0.005040</td>\n",
       "      <td>0.000156</td>\n",
       "      <td>0.016263</td>\n",
       "      <td>['78', '806']</td>\n",
       "      <td>['328', '695']</td>\n",
       "      <td>challenge opportunity reboot european financia...</td>\n",
       "      <td>['Benoît Cœuré', 'Benoît Cœuré']</td>\n",
       "      <td>grateful national association business economi...</td>\n",
       "      <td>['Vice Chairman Stanley Fischer', 'Governor La...</td>\n",
       "    </tr>\n",
       "    <tr>\n",
       "      <th>3</th>\n",
       "      <td>3</td>\n",
       "      <td>3</td>\n",
       "      <td>SPX Index</td>\n",
       "      <td>0.004980</td>\n",
       "      <td>-0.000864</td>\n",
       "      <td>0.001677</td>\n",
       "      <td>0.000000</td>\n",
       "      <td>0.006030</td>\n",
       "      <td>-0.001083</td>\n",
       "      <td>0.000419</td>\n",
       "      <td>0.001492</td>\n",
       "      <td>0.001018</td>\n",
       "      <td>-0.002582</td>\n",
       "      <td>0.013581</td>\n",
       "      <td>['560', '1405']</td>\n",
       "      <td>['118']</td>\n",
       "      <td>create stability uncertain world speech peter ...</td>\n",
       "      <td>['Peter Praet', 'Peter Praet']</td>\n",
       "      <td>thank invitation speak today begin take stock ...</td>\n",
       "      <td>['Governor Jerome H. Powell']</td>\n",
       "    </tr>\n",
       "    <tr>\n",
       "      <th>4</th>\n",
       "      <td>4</td>\n",
       "      <td>4</td>\n",
       "      <td>EURUSD Curncy</td>\n",
       "      <td>0.000360</td>\n",
       "      <td>-0.001893</td>\n",
       "      <td>0.005579</td>\n",
       "      <td>-0.003056</td>\n",
       "      <td>-0.001171</td>\n",
       "      <td>-0.001623</td>\n",
       "      <td>-0.002350</td>\n",
       "      <td>-0.006444</td>\n",
       "      <td>-0.000729</td>\n",
       "      <td>-0.000365</td>\n",
       "      <td>0.005092</td>\n",
       "      <td>['404']</td>\n",
       "      <td>['261']</td>\n",
       "      <td>money private currency reflection libra speech...</td>\n",
       "      <td>['Yves Mersch']</td>\n",
       "      <td>year symposium topic challenge monetary policy...</td>\n",
       "      <td>['Chairman Jerome H. Powell']</td>\n",
       "    </tr>\n",
       "    <tr>\n",
       "      <th>...</th>\n",
       "      <td>...</td>\n",
       "      <td>...</td>\n",
       "      <td>...</td>\n",
       "      <td>...</td>\n",
       "      <td>...</td>\n",
       "      <td>...</td>\n",
       "      <td>...</td>\n",
       "      <td>...</td>\n",
       "      <td>...</td>\n",
       "      <td>...</td>\n",
       "      <td>...</td>\n",
       "      <td>...</td>\n",
       "      <td>...</td>\n",
       "      <td>...</td>\n",
       "      <td>...</td>\n",
       "      <td>...</td>\n",
       "      <td>...</td>\n",
       "      <td>...</td>\n",
       "      <td>...</td>\n",
       "      <td>...</td>\n",
       "    </tr>\n",
       "    <tr>\n",
       "      <th>8235</th>\n",
       "      <td>8941</td>\n",
       "      <td>8941</td>\n",
       "      <td>SPX Index</td>\n",
       "      <td>-0.002045</td>\n",
       "      <td>-0.003642</td>\n",
       "      <td>0.008096</td>\n",
       "      <td>0.004949</td>\n",
       "      <td>-0.001264</td>\n",
       "      <td>0.000150</td>\n",
       "      <td>0.002482</td>\n",
       "      <td>0.000000</td>\n",
       "      <td>-0.000786</td>\n",
       "      <td>-0.002723</td>\n",
       "      <td>-0.003198</td>\n",
       "      <td>['294']</td>\n",
       "      <td>['195']</td>\n",
       "      <td>bank union future bank speech vítor constâncio...</td>\n",
       "      <td>['Vítor Constâncio']</td>\n",
       "      <td>illustrate quite literally chart new york fed ...</td>\n",
       "      <td>['Governor Daniel K. Tarullo']</td>\n",
       "    </tr>\n",
       "    <tr>\n",
       "      <th>8236</th>\n",
       "      <td>8942</td>\n",
       "      <td>8942</td>\n",
       "      <td>SX5E Index</td>\n",
       "      <td>-0.027361</td>\n",
       "      <td>0.094386</td>\n",
       "      <td>0.002350</td>\n",
       "      <td>-0.005076</td>\n",
       "      <td>0.022555</td>\n",
       "      <td>0.000963</td>\n",
       "      <td>-0.060170</td>\n",
       "      <td>0.028323</td>\n",
       "      <td>0.006516</td>\n",
       "      <td>-0.000338</td>\n",
       "      <td>-0.050491</td>\n",
       "      <td>['277']</td>\n",
       "      <td>['199', '372']</td>\n",
       "      <td>restart market case interbank market speech lo...</td>\n",
       "      <td>['Lorenzo Bini Smaghi']</td>\n",
       "      <td>financial system turmoil past month credit con...</td>\n",
       "      <td>['Chairman Ben S. Bernanke', 'Governor Randall...</td>\n",
       "    </tr>\n",
       "    <tr>\n",
       "      <th>8237</th>\n",
       "      <td>8943</td>\n",
       "      <td>8943</td>\n",
       "      <td>SX5E Index</td>\n",
       "      <td>-0.008359</td>\n",
       "      <td>0.021658</td>\n",
       "      <td>-0.015986</td>\n",
       "      <td>-0.023528</td>\n",
       "      <td>0.020072</td>\n",
       "      <td>0.017822</td>\n",
       "      <td>0.005648</td>\n",
       "      <td>0.017045</td>\n",
       "      <td>0.008557</td>\n",
       "      <td>-0.003072</td>\n",
       "      <td>0.008092</td>\n",
       "      <td>['78', '806']</td>\n",
       "      <td>['99', '625']</td>\n",
       "      <td>challenge opportunity reboot european financia...</td>\n",
       "      <td>['Benoît Cœuré', 'Benoît Cœuré']</td>\n",
       "      <td>paper review federal open market committee fom...</td>\n",
       "      <td>['Governor Jerome H. Powell', 'Governor Lael B...</td>\n",
       "    </tr>\n",
       "    <tr>\n",
       "      <th>8238</th>\n",
       "      <td>8944</td>\n",
       "      <td>8944</td>\n",
       "      <td>SRVIX Index</td>\n",
       "      <td>0.011945</td>\n",
       "      <td>0.002567</td>\n",
       "      <td>0.000000</td>\n",
       "      <td>0.005115</td>\n",
       "      <td>0.000364</td>\n",
       "      <td>0.003999</td>\n",
       "      <td>0.012978</td>\n",
       "      <td>0.012458</td>\n",
       "      <td>-0.006032</td>\n",
       "      <td>0.005088</td>\n",
       "      <td>-0.003784</td>\n",
       "      <td>['1660', '20']</td>\n",
       "      <td>['79']</td>\n",
       "      <td>speech occasion annual danish top executive su...</td>\n",
       "      <td>['Peter Praet', 'Vítor Constâncio']</td>\n",
       "      <td>thank claudia thanks american economic associa...</td>\n",
       "      <td>['Vice Chair Janet L. Yellen']</td>\n",
       "    </tr>\n",
       "    <tr>\n",
       "      <th>8239</th>\n",
       "      <td>8945</td>\n",
       "      <td>8945</td>\n",
       "      <td>EURUSD Curncy</td>\n",
       "      <td>-0.001393</td>\n",
       "      <td>-0.001085</td>\n",
       "      <td>0.002864</td>\n",
       "      <td>0.001853</td>\n",
       "      <td>-0.002394</td>\n",
       "      <td>0.002549</td>\n",
       "      <td>-0.001080</td>\n",
       "      <td>-0.002164</td>\n",
       "      <td>-0.007300</td>\n",
       "      <td>0.000234</td>\n",
       "      <td>0.001246</td>\n",
       "      <td>['755']</td>\n",
       "      <td>['255']</td>\n",
       "      <td>introductory remark ep economic monetary affai...</td>\n",
       "      <td>['Mario Draghi']</td>\n",
       "      <td>thank opportunity show support work asset buil...</td>\n",
       "      <td>['Chair Janet L. Yellen']</td>\n",
       "    </tr>\n",
       "  </tbody>\n",
       "</table>\n",
       "<p>8240 rows × 20 columns</p>\n",
       "</div>"
      ],
      "text/plain": [
       "      Unnamed: 0  id_series     Index Name  Index - 9  Index - 8  Index - 7  \\\n",
       "0              0          0      V2X Index   0.001045   0.005841   0.003832   \n",
       "1              1          1     MOVE Index  -0.021497   0.007891  -0.013175   \n",
       "2              2          2      SPX Index  -0.001872  -0.008154   0.023588   \n",
       "3              3          3      SPX Index   0.004980  -0.000864   0.001677   \n",
       "4              4          4  EURUSD Curncy   0.000360  -0.001893   0.005579   \n",
       "...          ...        ...            ...        ...        ...        ...   \n",
       "8235        8941       8941      SPX Index  -0.002045  -0.003642   0.008096   \n",
       "8236        8942       8942     SX5E Index  -0.027361   0.094386   0.002350   \n",
       "8237        8943       8943     SX5E Index  -0.008359   0.021658  -0.015986   \n",
       "8238        8944       8944    SRVIX Index   0.011945   0.002567   0.000000   \n",
       "8239        8945       8945  EURUSD Curncy  -0.001393  -0.001085   0.002864   \n",
       "\n",
       "      Index - 6  Index - 5  Index - 4  Index - 3  Index - 2  Index - 1  \\\n",
       "0     -0.027519  -0.103565  -0.045086  -0.011265   0.005164   0.054050   \n",
       "1     -0.008436   0.000000   0.026303   0.000556   0.001455   0.007422   \n",
       "2      0.004086   0.003493   0.003300   0.000885  -0.011304   0.005040   \n",
       "3      0.000000   0.006030  -0.001083   0.000419   0.001492   0.001018   \n",
       "4     -0.003056  -0.001171  -0.001623  -0.002350  -0.006444  -0.000729   \n",
       "...         ...        ...        ...        ...        ...        ...   \n",
       "8235   0.004949  -0.001264   0.000150   0.002482   0.000000  -0.000786   \n",
       "8236  -0.005076   0.022555   0.000963  -0.060170   0.028323   0.006516   \n",
       "8237  -0.023528   0.020072   0.017822   0.005648   0.017045   0.008557   \n",
       "8238   0.005115   0.000364   0.003999   0.012978   0.012458  -0.006032   \n",
       "8239   0.001853  -0.002394   0.002549  -0.001080  -0.002164  -0.007300   \n",
       "\n",
       "      Index - 0  Index + 1            id_ecb          id_fed  \\\n",
       "0      0.015779   0.010597  ['1126', '1471']          ['96']   \n",
       "1      0.000000   0.014492           ['975']         ['568']   \n",
       "2      0.000156   0.016263     ['78', '806']  ['328', '695']   \n",
       "3     -0.002582   0.013581   ['560', '1405']         ['118']   \n",
       "4     -0.000365   0.005092           ['404']         ['261']   \n",
       "...         ...        ...               ...             ...   \n",
       "8235  -0.002723  -0.003198           ['294']         ['195']   \n",
       "8236  -0.000338  -0.050491           ['277']  ['199', '372']   \n",
       "8237  -0.003072   0.008092     ['78', '806']   ['99', '625']   \n",
       "8238   0.005088  -0.003784    ['1660', '20']          ['79']   \n",
       "8239   0.000234   0.001246           ['755']         ['255']   \n",
       "\n",
       "                                        text_concat_ecb  \\\n",
       "0     welcome address welcome remark philip r lane m...   \n",
       "1     monetary policy structural reform euro area sp...   \n",
       "2     challenge opportunity reboot european financia...   \n",
       "3     create stability uncertain world speech peter ...   \n",
       "4     money private currency reflection libra speech...   \n",
       "...                                                 ...   \n",
       "8235  bank union future bank speech vítor constâncio...   \n",
       "8236  restart market case interbank market speech lo...   \n",
       "8237  challenge opportunity reboot european financia...   \n",
       "8238  speech occasion annual danish top executive su...   \n",
       "8239  introductory remark ep economic monetary affai...   \n",
       "\n",
       "                          list_speakers_ecb  \\\n",
       "0     ['Philip R. Lane', 'Luis de Guindos']   \n",
       "1                          ['Mario Draghi']   \n",
       "2          ['Benoît Cœuré', 'Benoît Cœuré']   \n",
       "3            ['Peter Praet', 'Peter Praet']   \n",
       "4                           ['Yves Mersch']   \n",
       "...                                     ...   \n",
       "8235                   ['Vítor Constâncio']   \n",
       "8236                ['Lorenzo Bini Smaghi']   \n",
       "8237       ['Benoît Cœuré', 'Benoît Cœuré']   \n",
       "8238    ['Peter Praet', 'Vítor Constâncio']   \n",
       "8239                       ['Mario Draghi']   \n",
       "\n",
       "                                        text_concat_fed  \\\n",
       "0     delighted helsinki important conference moneta...   \n",
       "1     watch live would like thank federal reserve ba...   \n",
       "2     grateful national association business economi...   \n",
       "3     thank invitation speak today begin take stock ...   \n",
       "4     year symposium topic challenge monetary policy...   \n",
       "...                                                 ...   \n",
       "8235  illustrate quite literally chart new york fed ...   \n",
       "8236  financial system turmoil past month credit con...   \n",
       "8237  paper review federal open market committee fom...   \n",
       "8238  thank claudia thanks american economic associa...   \n",
       "8239  thank opportunity show support work asset buil...   \n",
       "\n",
       "                                      list_speakers_fed  \n",
       "0                  ['Vice Chairman Richard H. Clarida']  \n",
       "1                     ['Vice Chairman Stanley Fischer']  \n",
       "2     ['Vice Chairman Stanley Fischer', 'Governor La...  \n",
       "3                         ['Governor Jerome H. Powell']  \n",
       "4                         ['Chairman Jerome H. Powell']  \n",
       "...                                                 ...  \n",
       "8235                     ['Governor Daniel K. Tarullo']  \n",
       "8236  ['Chairman Ben S. Bernanke', 'Governor Randall...  \n",
       "8237  ['Governor Jerome H. Powell', 'Governor Lael B...  \n",
       "8238                     ['Vice Chair Janet L. Yellen']  \n",
       "8239                          ['Chair Janet L. Yellen']  \n",
       "\n",
       "[8240 rows x 20 columns]"
      ]
     },
     "execution_count": 7,
     "metadata": {},
     "output_type": "execute_result"
    }
   ],
   "source": [
    "df_train_series"
   ]
  },
  {
   "cell_type": "code",
   "execution_count": 8,
   "metadata": {},
   "outputs": [
    {
     "name": "stderr",
     "output_type": "stream",
     "text": [
      "/Users/thomasflourent/miniforge3/envs/nlp_dauphine/lib/python3.10/site-packages/tqdm/auto.py:22: TqdmWarning: IProgress not found. Please update jupyter and ipywidgets. See https://ipywidgets.readthedocs.io/en/stable/user_install.html\n",
      "  from .autonotebook import tqdm as notebook_tqdm\n"
     ]
    }
   ],
   "source": [
    "from functools import partial\n",
    "import torch\n",
    "import torch.nn as nn\n",
    "from transformers import AutoModel, AutoConfig\n",
    "from typing import Dict, List"
   ]
  },
  {
   "cell_type": "code",
   "execution_count": 9,
   "metadata": {},
   "outputs": [],
   "source": [
    "def hidden_state_embedding(hidden_states: torch.Tensor, layers: List[int],\n",
    "                           use_cls: bool, reduce_mean: bool = True) -> torch.Tensor:\n",
    "    \"\"\"\n",
    "    Extract embeddings from hidden attention state layers.\n",
    "\n",
    "    Parameters\n",
    "    ----------\n",
    "    hidden_states\n",
    "        Attention hidden states in the transformer model.\n",
    "    layers\n",
    "        List of layers to use for the embedding.\n",
    "    use_cls\n",
    "        Whether to use the next sentence token (CLS) to extract the embeddings.\n",
    "    reduce_mean\n",
    "        Whether to take the mean of the output tensor.\n",
    "\n",
    "    Returns\n",
    "    -------\n",
    "    Tensor with embeddings.\n",
    "    \"\"\"\n",
    "    hs = [hidden_states[layer][:, 0:1, :] if use_cls else hidden_states[layer] for layer in layers]\n",
    "    hs = torch.cat(hs, dim=1)  # type: ignore\n",
    "    y = hs.mean(dim=1) if reduce_mean else hs  # type: ignore\n",
    "    return y"
   ]
  },
  {
   "cell_type": "code",
   "execution_count": 10,
   "metadata": {},
   "outputs": [],
   "source": [
    "from transformers import BertTokenizer, BertForSequenceClassification, AutoModel, AutoConfig, AutoTokenizer, AutoModelForSequenceClassification\n",
    "from transformers import pipeline\n",
    "\n",
    "\n",
    "# config_tone = AutoConfig.from_pretrained('yiyanghkust/finbert-tone', output_hidden_states=True)\n",
    "# finbert_model_tone = AutoModel.from_pretrained('yiyanghkust/finbert-tone')\n",
    "\n",
    "# config_pretrain = AutoConfig.from_pretrained('yiyanghkust/finbert-pretrain', output_hidden_states=True)\n",
    "# finbert_model_pretrain = AutoModel.from_pretrained('yiyanghkust/finbert-pretrain')\n",
    "\n",
    "# sentiment_tokenizer = AutoTokenizer.from_pretrained('yiyanghkust/finbert-tone')\n",
    "# auto_tokenizer_pretrain = AutoTokenizer.from_pretrained('yiyanghkust/finbert-pretrain')\n",
    "\n",
    "# sentiment_model = AutoModelForSequenceClassification.from_pretrained('yiyanghkust/finbert-tone')\n"
   ]
  },
  {
   "cell_type": "code",
   "execution_count": 11,
   "metadata": {},
   "outputs": [],
   "source": [
    "mps_device = torch.device(\"mps\")"
   ]
  },
  {
   "cell_type": "code",
   "execution_count": null,
   "metadata": {},
   "outputs": [],
   "source": [
    "\n",
    "emb_type = 'hidden_state'\n",
    "n_layers = 8\n",
    "layers = [-_ for _ in range(1, n_layers + 1)]\n",
    "max_len = 512\n",
    "tokens = auto_tokenizer_pretrain(list(df_train_series['text_concat_ecb'][:5]), pad_to_max_length=True,\n",
    "                   max_length=max_len, return_tensors='pt')\n",
    "\n",
    "hs_emb = partial(hidden_state_embedding, layers=layers, use_cls=emb_type.endswith('cls'))\n",
    "\n",
    "output = finbert_model_pretrain(**tokens)\n",
    "attention_hidden_states = output.hidden_states[1:]\n",
    "\n",
    "embedding = hs_emb(attention_hidden_states)\n",
    "\n"
   ]
  },
  {
   "cell_type": "code",
   "execution_count": null,
   "metadata": {},
   "outputs": [],
   "source": [
    "output.last_hidden_state.shape"
   ]
  },
  {
   "cell_type": "code",
   "execution_count": null,
   "metadata": {},
   "outputs": [],
   "source": [
    "\n",
    "x_emb = embedding(tokens)\n",
    "print(x_emb.shape)\n",
    "\n",
    "\n"
   ]
  },
  {
   "cell_type": "code",
   "execution_count": 12,
   "metadata": {},
   "outputs": [],
   "source": [
    "def get_text_tokens_split(tokens, max_length):\n",
    "    columns = list(tokens.keys())\n",
    "    n = tokens[columns[0]].shape[1]\n",
    "    n_split = n//max_length\n",
    "    list_tokens = []\n",
    "    if n > max_length:\n",
    "        for k in range(n_split):\n",
    "            tokens_trunc = dict()\n",
    "            for column in columns :\n",
    "                tokens_trunc[column] = tokens[column][:, k*max_length:(k+1)*max_length]\n",
    "            list_tokens.append(tokens_trunc)\n",
    "        tokens_trunc = dict()\n",
    "        for column in columns :\n",
    "                tokens_trunc[column] = tokens[column][:, max_length*(n_split)::]\n",
    "        list_tokens.append(tokens_trunc)\n",
    "    else:\n",
    "         list_tokens.append(tokens)\n",
    "    return list_tokens"
   ]
  },
  {
   "cell_type": "code",
   "execution_count": 13,
   "metadata": {},
   "outputs": [],
   "source": [
    "def get_predictions(text, tokenizer, model):\n",
    "    text_tokenized = tokenizer.encode_plus(text, return_tensors='pt').to(mps_device)\n",
    "    inputs = get_text_tokens_split(text_tokenized, max_length=512)\n",
    "    n = len(inputs)\n",
    "    pred_splits = np.zeros((n,3))\n",
    "    \n",
    "    for k, input in enumerate(inputs) :\n",
    "        try:\n",
    "            output = model(**input)\n",
    "            prediction = torch.nn.functional.softmax(output.logits, dim=-1).to(mps_device)\n",
    "            prediction_copy = prediction.cpu()\n",
    "            pred_splits[k] = prediction_copy.detach().numpy()\n",
    "        except:\n",
    "            pred_splits[k] = np.full((1,3), np.nan)\n",
    "    return np.nanmean(pred_splits, axis=0), np.nanstd(pred_splits, axis=0)"
   ]
  },
  {
   "cell_type": "code",
   "execution_count": 14,
   "metadata": {},
   "outputs": [],
   "source": [
    "#get_predictions(df_train_series['text_concat_fed'][109], sentiment_tokenizer, sentiment_model)"
   ]
  },
  {
   "cell_type": "code",
   "execution_count": 15,
   "metadata": {},
   "outputs": [],
   "source": [
    "from tqdm import tqdm\n",
    "from joblib import Parallel, delayed\n",
    "\n",
    "def get_predictions_all(df, tokenizer, model, column):\n",
    "    n = df.shape[0]\n",
    "    predictions_mean = np.zeros((n,3))\n",
    "    predictions_std = np.zeros((n,3))\n",
    "    for k in tqdm(range(n)):\n",
    "        text = df[column][k]\n",
    "        try :\n",
    "            predictions_mean[k], predictions_std[k]  = get_predictions(text, tokenizer, model)\n",
    "        except:\n",
    "            predictions_mean[k], predictions_std[k] = np.array([0.33, 0.33, 0.33]), np.array([0.0, 0.0, 0.0])\n",
    "    new_df = df.copy()\n",
    "    new_df['positive_sent_mean_'+column] = predictions_mean[:,0]\n",
    "    new_df['negative_sent_mean_'+column] = predictions_mean[:,1]\n",
    "    new_df['neutral_sent_mean_'+column] = predictions_mean[:,2]\n",
    "    new_df['positive_sent_std_'+column] = predictions_std[:,0]\n",
    "    new_df['negative_sent_std_'+column] = predictions_std[:,1]\n",
    "    new_df['neutral_sent_std_'+column] = predictions_std[:,2]\n",
    "    return new_df"
   ]
  },
  {
   "cell_type": "code",
   "execution_count": 16,
   "metadata": {},
   "outputs": [],
   "source": [
    "def parallel_get_predictions_all(df, column):\n",
    "\n",
    "    n = df.shape[0]\n",
    "    predictions = np.zeros((n,3))\n",
    "    texts = df[column]\n",
    "    def get_prediction(text):\n",
    "        return get_predictions(text, sentiment_tokenizer, sentiment_model)\n",
    "\n",
    "    predictions_list = Parallel(n_jobs=-1)(delayed(get_prediction)(texts[k]) for k in tqdm(range(n)))\n",
    "    \n",
    "    for k, prediction in enumerate(predictions_list):\n",
    "        predictions[k] = prediction\n",
    "    \n",
    "    new_df = df.copy()\n",
    "    new_df['positive_sent_'+column] = predictions[:,0]\n",
    "    new_df['negative_sent_'+column] = predictions[:,1]\n",
    "    new_df['neutral_sent_'+column] = predictions[:,2]\n",
    "\n",
    "    return new_df"
   ]
  },
  {
   "cell_type": "code",
   "execution_count": 17,
   "metadata": {},
   "outputs": [
    {
     "name": "stderr",
     "output_type": "stream",
     "text": [
      "Downloading (…)okenizer_config.json: 100%|██████████| 252/252 [00:00<00:00, 129kB/s]\n",
      "Downloading (…)lve/main/config.json: 100%|██████████| 758/758 [00:00<00:00, 391kB/s]\n",
      "Downloading (…)solve/main/vocab.txt: 100%|██████████| 232k/232k [00:00<00:00, 798kB/s]\n",
      "Downloading (…)cial_tokens_map.json: 100%|██████████| 112/112 [00:00<00:00, 36.2kB/s]\n",
      "Downloading (…)\"pytorch_model.bin\";: 100%|██████████| 438M/438M [00:34<00:00, 12.6MB/s] \n"
     ]
    },
    {
     "data": {
      "text/plain": [
       "BertForSequenceClassification(\n",
       "  (bert): BertModel(\n",
       "    (embeddings): BertEmbeddings(\n",
       "      (word_embeddings): Embedding(30522, 768, padding_idx=0)\n",
       "      (position_embeddings): Embedding(512, 768)\n",
       "      (token_type_embeddings): Embedding(2, 768)\n",
       "      (LayerNorm): LayerNorm((768,), eps=1e-12, elementwise_affine=True)\n",
       "      (dropout): Dropout(p=0.1, inplace=False)\n",
       "    )\n",
       "    (encoder): BertEncoder(\n",
       "      (layer): ModuleList(\n",
       "        (0): BertLayer(\n",
       "          (attention): BertAttention(\n",
       "            (self): BertSelfAttention(\n",
       "              (query): Linear(in_features=768, out_features=768, bias=True)\n",
       "              (key): Linear(in_features=768, out_features=768, bias=True)\n",
       "              (value): Linear(in_features=768, out_features=768, bias=True)\n",
       "              (dropout): Dropout(p=0.1, inplace=False)\n",
       "            )\n",
       "            (output): BertSelfOutput(\n",
       "              (dense): Linear(in_features=768, out_features=768, bias=True)\n",
       "              (LayerNorm): LayerNorm((768,), eps=1e-12, elementwise_affine=True)\n",
       "              (dropout): Dropout(p=0.1, inplace=False)\n",
       "            )\n",
       "          )\n",
       "          (intermediate): BertIntermediate(\n",
       "            (dense): Linear(in_features=768, out_features=3072, bias=True)\n",
       "            (intermediate_act_fn): GELUActivation()\n",
       "          )\n",
       "          (output): BertOutput(\n",
       "            (dense): Linear(in_features=3072, out_features=768, bias=True)\n",
       "            (LayerNorm): LayerNorm((768,), eps=1e-12, elementwise_affine=True)\n",
       "            (dropout): Dropout(p=0.1, inplace=False)\n",
       "          )\n",
       "        )\n",
       "        (1): BertLayer(\n",
       "          (attention): BertAttention(\n",
       "            (self): BertSelfAttention(\n",
       "              (query): Linear(in_features=768, out_features=768, bias=True)\n",
       "              (key): Linear(in_features=768, out_features=768, bias=True)\n",
       "              (value): Linear(in_features=768, out_features=768, bias=True)\n",
       "              (dropout): Dropout(p=0.1, inplace=False)\n",
       "            )\n",
       "            (output): BertSelfOutput(\n",
       "              (dense): Linear(in_features=768, out_features=768, bias=True)\n",
       "              (LayerNorm): LayerNorm((768,), eps=1e-12, elementwise_affine=True)\n",
       "              (dropout): Dropout(p=0.1, inplace=False)\n",
       "            )\n",
       "          )\n",
       "          (intermediate): BertIntermediate(\n",
       "            (dense): Linear(in_features=768, out_features=3072, bias=True)\n",
       "            (intermediate_act_fn): GELUActivation()\n",
       "          )\n",
       "          (output): BertOutput(\n",
       "            (dense): Linear(in_features=3072, out_features=768, bias=True)\n",
       "            (LayerNorm): LayerNorm((768,), eps=1e-12, elementwise_affine=True)\n",
       "            (dropout): Dropout(p=0.1, inplace=False)\n",
       "          )\n",
       "        )\n",
       "        (2): BertLayer(\n",
       "          (attention): BertAttention(\n",
       "            (self): BertSelfAttention(\n",
       "              (query): Linear(in_features=768, out_features=768, bias=True)\n",
       "              (key): Linear(in_features=768, out_features=768, bias=True)\n",
       "              (value): Linear(in_features=768, out_features=768, bias=True)\n",
       "              (dropout): Dropout(p=0.1, inplace=False)\n",
       "            )\n",
       "            (output): BertSelfOutput(\n",
       "              (dense): Linear(in_features=768, out_features=768, bias=True)\n",
       "              (LayerNorm): LayerNorm((768,), eps=1e-12, elementwise_affine=True)\n",
       "              (dropout): Dropout(p=0.1, inplace=False)\n",
       "            )\n",
       "          )\n",
       "          (intermediate): BertIntermediate(\n",
       "            (dense): Linear(in_features=768, out_features=3072, bias=True)\n",
       "            (intermediate_act_fn): GELUActivation()\n",
       "          )\n",
       "          (output): BertOutput(\n",
       "            (dense): Linear(in_features=3072, out_features=768, bias=True)\n",
       "            (LayerNorm): LayerNorm((768,), eps=1e-12, elementwise_affine=True)\n",
       "            (dropout): Dropout(p=0.1, inplace=False)\n",
       "          )\n",
       "        )\n",
       "        (3): BertLayer(\n",
       "          (attention): BertAttention(\n",
       "            (self): BertSelfAttention(\n",
       "              (query): Linear(in_features=768, out_features=768, bias=True)\n",
       "              (key): Linear(in_features=768, out_features=768, bias=True)\n",
       "              (value): Linear(in_features=768, out_features=768, bias=True)\n",
       "              (dropout): Dropout(p=0.1, inplace=False)\n",
       "            )\n",
       "            (output): BertSelfOutput(\n",
       "              (dense): Linear(in_features=768, out_features=768, bias=True)\n",
       "              (LayerNorm): LayerNorm((768,), eps=1e-12, elementwise_affine=True)\n",
       "              (dropout): Dropout(p=0.1, inplace=False)\n",
       "            )\n",
       "          )\n",
       "          (intermediate): BertIntermediate(\n",
       "            (dense): Linear(in_features=768, out_features=3072, bias=True)\n",
       "            (intermediate_act_fn): GELUActivation()\n",
       "          )\n",
       "          (output): BertOutput(\n",
       "            (dense): Linear(in_features=3072, out_features=768, bias=True)\n",
       "            (LayerNorm): LayerNorm((768,), eps=1e-12, elementwise_affine=True)\n",
       "            (dropout): Dropout(p=0.1, inplace=False)\n",
       "          )\n",
       "        )\n",
       "        (4): BertLayer(\n",
       "          (attention): BertAttention(\n",
       "            (self): BertSelfAttention(\n",
       "              (query): Linear(in_features=768, out_features=768, bias=True)\n",
       "              (key): Linear(in_features=768, out_features=768, bias=True)\n",
       "              (value): Linear(in_features=768, out_features=768, bias=True)\n",
       "              (dropout): Dropout(p=0.1, inplace=False)\n",
       "            )\n",
       "            (output): BertSelfOutput(\n",
       "              (dense): Linear(in_features=768, out_features=768, bias=True)\n",
       "              (LayerNorm): LayerNorm((768,), eps=1e-12, elementwise_affine=True)\n",
       "              (dropout): Dropout(p=0.1, inplace=False)\n",
       "            )\n",
       "          )\n",
       "          (intermediate): BertIntermediate(\n",
       "            (dense): Linear(in_features=768, out_features=3072, bias=True)\n",
       "            (intermediate_act_fn): GELUActivation()\n",
       "          )\n",
       "          (output): BertOutput(\n",
       "            (dense): Linear(in_features=3072, out_features=768, bias=True)\n",
       "            (LayerNorm): LayerNorm((768,), eps=1e-12, elementwise_affine=True)\n",
       "            (dropout): Dropout(p=0.1, inplace=False)\n",
       "          )\n",
       "        )\n",
       "        (5): BertLayer(\n",
       "          (attention): BertAttention(\n",
       "            (self): BertSelfAttention(\n",
       "              (query): Linear(in_features=768, out_features=768, bias=True)\n",
       "              (key): Linear(in_features=768, out_features=768, bias=True)\n",
       "              (value): Linear(in_features=768, out_features=768, bias=True)\n",
       "              (dropout): Dropout(p=0.1, inplace=False)\n",
       "            )\n",
       "            (output): BertSelfOutput(\n",
       "              (dense): Linear(in_features=768, out_features=768, bias=True)\n",
       "              (LayerNorm): LayerNorm((768,), eps=1e-12, elementwise_affine=True)\n",
       "              (dropout): Dropout(p=0.1, inplace=False)\n",
       "            )\n",
       "          )\n",
       "          (intermediate): BertIntermediate(\n",
       "            (dense): Linear(in_features=768, out_features=3072, bias=True)\n",
       "            (intermediate_act_fn): GELUActivation()\n",
       "          )\n",
       "          (output): BertOutput(\n",
       "            (dense): Linear(in_features=3072, out_features=768, bias=True)\n",
       "            (LayerNorm): LayerNorm((768,), eps=1e-12, elementwise_affine=True)\n",
       "            (dropout): Dropout(p=0.1, inplace=False)\n",
       "          )\n",
       "        )\n",
       "        (6): BertLayer(\n",
       "          (attention): BertAttention(\n",
       "            (self): BertSelfAttention(\n",
       "              (query): Linear(in_features=768, out_features=768, bias=True)\n",
       "              (key): Linear(in_features=768, out_features=768, bias=True)\n",
       "              (value): Linear(in_features=768, out_features=768, bias=True)\n",
       "              (dropout): Dropout(p=0.1, inplace=False)\n",
       "            )\n",
       "            (output): BertSelfOutput(\n",
       "              (dense): Linear(in_features=768, out_features=768, bias=True)\n",
       "              (LayerNorm): LayerNorm((768,), eps=1e-12, elementwise_affine=True)\n",
       "              (dropout): Dropout(p=0.1, inplace=False)\n",
       "            )\n",
       "          )\n",
       "          (intermediate): BertIntermediate(\n",
       "            (dense): Linear(in_features=768, out_features=3072, bias=True)\n",
       "            (intermediate_act_fn): GELUActivation()\n",
       "          )\n",
       "          (output): BertOutput(\n",
       "            (dense): Linear(in_features=3072, out_features=768, bias=True)\n",
       "            (LayerNorm): LayerNorm((768,), eps=1e-12, elementwise_affine=True)\n",
       "            (dropout): Dropout(p=0.1, inplace=False)\n",
       "          )\n",
       "        )\n",
       "        (7): BertLayer(\n",
       "          (attention): BertAttention(\n",
       "            (self): BertSelfAttention(\n",
       "              (query): Linear(in_features=768, out_features=768, bias=True)\n",
       "              (key): Linear(in_features=768, out_features=768, bias=True)\n",
       "              (value): Linear(in_features=768, out_features=768, bias=True)\n",
       "              (dropout): Dropout(p=0.1, inplace=False)\n",
       "            )\n",
       "            (output): BertSelfOutput(\n",
       "              (dense): Linear(in_features=768, out_features=768, bias=True)\n",
       "              (LayerNorm): LayerNorm((768,), eps=1e-12, elementwise_affine=True)\n",
       "              (dropout): Dropout(p=0.1, inplace=False)\n",
       "            )\n",
       "          )\n",
       "          (intermediate): BertIntermediate(\n",
       "            (dense): Linear(in_features=768, out_features=3072, bias=True)\n",
       "            (intermediate_act_fn): GELUActivation()\n",
       "          )\n",
       "          (output): BertOutput(\n",
       "            (dense): Linear(in_features=3072, out_features=768, bias=True)\n",
       "            (LayerNorm): LayerNorm((768,), eps=1e-12, elementwise_affine=True)\n",
       "            (dropout): Dropout(p=0.1, inplace=False)\n",
       "          )\n",
       "        )\n",
       "        (8): BertLayer(\n",
       "          (attention): BertAttention(\n",
       "            (self): BertSelfAttention(\n",
       "              (query): Linear(in_features=768, out_features=768, bias=True)\n",
       "              (key): Linear(in_features=768, out_features=768, bias=True)\n",
       "              (value): Linear(in_features=768, out_features=768, bias=True)\n",
       "              (dropout): Dropout(p=0.1, inplace=False)\n",
       "            )\n",
       "            (output): BertSelfOutput(\n",
       "              (dense): Linear(in_features=768, out_features=768, bias=True)\n",
       "              (LayerNorm): LayerNorm((768,), eps=1e-12, elementwise_affine=True)\n",
       "              (dropout): Dropout(p=0.1, inplace=False)\n",
       "            )\n",
       "          )\n",
       "          (intermediate): BertIntermediate(\n",
       "            (dense): Linear(in_features=768, out_features=3072, bias=True)\n",
       "            (intermediate_act_fn): GELUActivation()\n",
       "          )\n",
       "          (output): BertOutput(\n",
       "            (dense): Linear(in_features=3072, out_features=768, bias=True)\n",
       "            (LayerNorm): LayerNorm((768,), eps=1e-12, elementwise_affine=True)\n",
       "            (dropout): Dropout(p=0.1, inplace=False)\n",
       "          )\n",
       "        )\n",
       "        (9): BertLayer(\n",
       "          (attention): BertAttention(\n",
       "            (self): BertSelfAttention(\n",
       "              (query): Linear(in_features=768, out_features=768, bias=True)\n",
       "              (key): Linear(in_features=768, out_features=768, bias=True)\n",
       "              (value): Linear(in_features=768, out_features=768, bias=True)\n",
       "              (dropout): Dropout(p=0.1, inplace=False)\n",
       "            )\n",
       "            (output): BertSelfOutput(\n",
       "              (dense): Linear(in_features=768, out_features=768, bias=True)\n",
       "              (LayerNorm): LayerNorm((768,), eps=1e-12, elementwise_affine=True)\n",
       "              (dropout): Dropout(p=0.1, inplace=False)\n",
       "            )\n",
       "          )\n",
       "          (intermediate): BertIntermediate(\n",
       "            (dense): Linear(in_features=768, out_features=3072, bias=True)\n",
       "            (intermediate_act_fn): GELUActivation()\n",
       "          )\n",
       "          (output): BertOutput(\n",
       "            (dense): Linear(in_features=3072, out_features=768, bias=True)\n",
       "            (LayerNorm): LayerNorm((768,), eps=1e-12, elementwise_affine=True)\n",
       "            (dropout): Dropout(p=0.1, inplace=False)\n",
       "          )\n",
       "        )\n",
       "        (10): BertLayer(\n",
       "          (attention): BertAttention(\n",
       "            (self): BertSelfAttention(\n",
       "              (query): Linear(in_features=768, out_features=768, bias=True)\n",
       "              (key): Linear(in_features=768, out_features=768, bias=True)\n",
       "              (value): Linear(in_features=768, out_features=768, bias=True)\n",
       "              (dropout): Dropout(p=0.1, inplace=False)\n",
       "            )\n",
       "            (output): BertSelfOutput(\n",
       "              (dense): Linear(in_features=768, out_features=768, bias=True)\n",
       "              (LayerNorm): LayerNorm((768,), eps=1e-12, elementwise_affine=True)\n",
       "              (dropout): Dropout(p=0.1, inplace=False)\n",
       "            )\n",
       "          )\n",
       "          (intermediate): BertIntermediate(\n",
       "            (dense): Linear(in_features=768, out_features=3072, bias=True)\n",
       "            (intermediate_act_fn): GELUActivation()\n",
       "          )\n",
       "          (output): BertOutput(\n",
       "            (dense): Linear(in_features=3072, out_features=768, bias=True)\n",
       "            (LayerNorm): LayerNorm((768,), eps=1e-12, elementwise_affine=True)\n",
       "            (dropout): Dropout(p=0.1, inplace=False)\n",
       "          )\n",
       "        )\n",
       "        (11): BertLayer(\n",
       "          (attention): BertAttention(\n",
       "            (self): BertSelfAttention(\n",
       "              (query): Linear(in_features=768, out_features=768, bias=True)\n",
       "              (key): Linear(in_features=768, out_features=768, bias=True)\n",
       "              (value): Linear(in_features=768, out_features=768, bias=True)\n",
       "              (dropout): Dropout(p=0.1, inplace=False)\n",
       "            )\n",
       "            (output): BertSelfOutput(\n",
       "              (dense): Linear(in_features=768, out_features=768, bias=True)\n",
       "              (LayerNorm): LayerNorm((768,), eps=1e-12, elementwise_affine=True)\n",
       "              (dropout): Dropout(p=0.1, inplace=False)\n",
       "            )\n",
       "          )\n",
       "          (intermediate): BertIntermediate(\n",
       "            (dense): Linear(in_features=768, out_features=3072, bias=True)\n",
       "            (intermediate_act_fn): GELUActivation()\n",
       "          )\n",
       "          (output): BertOutput(\n",
       "            (dense): Linear(in_features=3072, out_features=768, bias=True)\n",
       "            (LayerNorm): LayerNorm((768,), eps=1e-12, elementwise_affine=True)\n",
       "            (dropout): Dropout(p=0.1, inplace=False)\n",
       "          )\n",
       "        )\n",
       "      )\n",
       "    )\n",
       "    (pooler): BertPooler(\n",
       "      (dense): Linear(in_features=768, out_features=768, bias=True)\n",
       "      (activation): Tanh()\n",
       "    )\n",
       "  )\n",
       "  (dropout): Dropout(p=0.1, inplace=False)\n",
       "  (classifier): Linear(in_features=768, out_features=3, bias=True)\n",
       ")"
      ]
     },
     "execution_count": 17,
     "metadata": {},
     "output_type": "execute_result"
    }
   ],
   "source": [
    "# sentiment_tokenizer = AutoTokenizer.from_pretrained('yiyanghkust/finbert-tone')\n",
    "\n",
    "# sentiment_model = AutoModelForSequenceClassification.from_pretrained('yiyanghkust/finbert-tone')\n",
    "# sentiment_model.to(mps_device)\n",
    "\n",
    "sentiment_tokenizer = AutoTokenizer.from_pretrained('ProsusAI/finbert')\n",
    "\n",
    "sentiment_model = AutoModelForSequenceClassification.from_pretrained('ProsusAI/finbert')\n",
    "sentiment_model.to(mps_device)\n",
    "\n"
   ]
  },
  {
   "cell_type": "code",
   "execution_count": 18,
   "metadata": {},
   "outputs": [],
   "source": [
    "df_train_series['target'] = df_train_series['Index + 1'].apply(lambda x: 1 if x>0 else 0)"
   ]
  },
  {
   "cell_type": "code",
   "execution_count": 20,
   "metadata": {},
   "outputs": [],
   "source": [
    "df_sent_ecb = pd.read_csv('./data/df_sent_preds__mean_std.csv')"
   ]
  },
  {
   "cell_type": "code",
   "execution_count": 22,
   "metadata": {},
   "outputs": [
    {
     "name": "stderr",
     "output_type": "stream",
     "text": [
      "  0%|          | 0/8240 [00:00<?, ?it/s]Token indices sequence length is longer than the specified maximum sequence length for this model (3343 > 512). Running this sequence through the model will result in indexing errors\n",
      "100%|██████████| 8240/8240 [44:41<00:00,  3.07it/s]  \n"
     ]
    }
   ],
   "source": [
    "df_sent_pred_ecb_PAI = get_predictions_all(df_train_series, sentiment_tokenizer, sentiment_model, column='text_concat_ecb')"
   ]
  },
  {
   "cell_type": "code",
   "execution_count": 23,
   "metadata": {},
   "outputs": [
    {
     "name": "stderr",
     "output_type": "stream",
     "text": [
      "100%|██████████| 8240/8240 [2:16:39<00:00,  1.00it/s]     \n"
     ]
    }
   ],
   "source": [
    "df_sent_pred_ecb_PAI_tot = get_predictions_all(df_sent_pred_ecb_PAI, sentiment_tokenizer, sentiment_model, column='text_concat_fed')"
   ]
  },
  {
   "cell_type": "code",
   "execution_count": 24,
   "metadata": {},
   "outputs": [],
   "source": [
    "df_sent_pred_ecb_PAI_tot.to_csv('./data/df_sent_pred_tot_PAI.csv')"
   ]
  },
  {
   "cell_type": "code",
   "execution_count": 25,
   "metadata": {},
   "outputs": [],
   "source": [
    "df_sent_tot = pd.read_csv('./data/df_sent_pred_tot_PAI.csv')"
   ]
  },
  {
   "cell_type": "code",
   "execution_count": 26,
   "metadata": {},
   "outputs": [
    {
     "data": {
      "text/plain": [
       "Index(['Unnamed: 0.1', 'Unnamed: 0', 'id_series', 'Index Name', 'Index - 9',\n",
       "       'Index - 8', 'Index - 7', 'Index - 6', 'Index - 5', 'Index - 4',\n",
       "       'Index - 3', 'Index - 2', 'Index - 1', 'Index - 0', 'Index + 1',\n",
       "       'id_ecb', 'id_fed', 'text_concat_ecb', 'list_speakers_ecb',\n",
       "       'text_concat_fed', 'list_speakers_fed', 'target',\n",
       "       'positive_sent_mean_text_concat_ecb',\n",
       "       'negative_sent_mean_text_concat_ecb',\n",
       "       'neutral_sent_mean_text_concat_ecb',\n",
       "       'positive_sent_std_text_concat_ecb',\n",
       "       'negative_sent_std_text_concat_ecb', 'neutral_sent_std_text_concat_ecb',\n",
       "       'positive_sent_mean_text_concat_fed',\n",
       "       'negative_sent_mean_text_concat_fed',\n",
       "       'neutral_sent_mean_text_concat_fed',\n",
       "       'positive_sent_std_text_concat_fed',\n",
       "       'negative_sent_std_text_concat_fed',\n",
       "       'neutral_sent_std_text_concat_fed'],\n",
       "      dtype='object')"
      ]
     },
     "execution_count": 26,
     "metadata": {},
     "output_type": "execute_result"
    }
   ],
   "source": [
    "df_sent_tot.columns"
   ]
  },
  {
   "cell_type": "code",
   "execution_count": 27,
   "metadata": {},
   "outputs": [],
   "source": [
    "import seaborn as sns"
   ]
  },
  {
   "cell_type": "code",
   "execution_count": 28,
   "metadata": {},
   "outputs": [],
   "source": [
    "corr = df_sent_tot.loc[:,['Index + 1','positive_sent_mean_text_concat_ecb', 'negative_sent_mean_text_concat_ecb', 'neutral_sent_mean_text_concat_ecb',\n",
    "                   'positive_sent_std_text_concat_ecb', 'negative_sent_std_text_concat_ecb', 'neutral_sent_std_text_concat_ecb',\n",
    "                   'positive_sent_mean_text_concat_fed', 'negative_sent_mean_text_concat_fed', 'neutral_sent_mean_text_concat_fed',\n",
    "                   'positive_sent_std_text_concat_fed', 'negative_sent_std_text_concat_fed', 'neutral_sent_std_text_concat_fed']].corr()"
   ]
  },
  {
   "cell_type": "code",
   "execution_count": 29,
   "metadata": {},
   "outputs": [
    {
     "data": {
      "text/plain": [
       "<Axes: >"
      ]
     },
     "execution_count": 29,
     "metadata": {},
     "output_type": "execute_result"
    },
    {
     "data": {
      "image/png": "[encoded data removed]",
      "text/plain": [
       "<Figure size 1000x1000 with 2 Axes>"
      ]
     },
     "metadata": {},
     "output_type": "display_data"
    }
   ],
   "source": [
    "plt.figure(figsize=(10,10))\n",
    "sns.heatmap(corr, annot=True)"
   ]
  },
  {
   "cell_type": "code",
   "execution_count": null,
   "metadata": {},
   "outputs": [],
   "source": []
  }
 ],
 "metadata": {
  "kernelspec": {
   "display_name": "nlp_dauph_env",
   "language": "python",
   "name": "python3"
  },
  "language_info": {
   "codemirror_mode": {
    "name": "ipython",
    "version": 3
   },
   "file_extension": ".py",
   "mimetype": "text/x-python",
   "name": "python",
   "nbconvert_exporter": "python",
   "pygments_lexer": "ipython3",
   "version": "3.10.9"
  },
  "orig_nbformat": 4,
  "vscode": {
   "interpreter": {
    "hash": "19e1fba33c11e86ebf73adee9f1e3fa74d02f2f28a5835ec272b267c2e20a98d"
   }
  }
 },
 "nbformat": 4,
 "nbformat_minor": 2
}
