{
 "cells": [
  {
   "cell_type": "code",
   "execution_count": 7,
   "metadata": {},
   "outputs": [],
   "source": [
    "%reload_ext autoreload\n",
    "%autoreload 2"
   ]
  },
  {
   "cell_type": "code",
   "execution_count": 2,
   "metadata": {},
   "outputs": [],
   "source": [
    "import ast\n",
    "import numpy as np\n",
    "import pandas as pd\n",
    "import matplotlib.pyplot as plt\n",
    "\n",
    "from pathlib import Path\n",
    "\n",
    "from nlp_dauphine.preprocess_texts import load_data\n",
    "from nlp_dauphine.utils import set_working_dir"
   ]
  },
  {
   "cell_type": "code",
   "execution_count": 3,
   "metadata": {},
   "outputs": [
    {
     "name": "stdout",
     "output_type": "stream",
     "text": [
      "Current working dir: c:/Users/Hugo/Documents/Travail/A5/Dauphine_challenge/nlp_dauphine/notebooks\n",
      "New working dir: c:/Users/Hugo/Documents/Travail/A5/Dauphine_challenge/nlp_dauphine\n"
     ]
    }
   ],
   "source": [
    "set_working_dir()"
   ]
  },
  {
   "cell_type": "markdown",
   "metadata": {},
   "source": [
    "# Load Data"
   ]
  },
  {
   "cell_type": "code",
   "execution_count": 4,
   "metadata": {},
   "outputs": [],
   "source": [
    "path = Path(\"data\")\n",
    "files_path = {\n",
    "    \"ecb\": Path(path,\"ecb_data_translate_cleaned.csv\"),\n",
    "    \"fed\": Path(path,\"fed_data_translate_cleaned.csv\"),\n",
    "    \"train_series\": Path(path,\"train_series_clean_no_0.csv\"),\n",
    "}"
   ]
  },
  {
   "cell_type": "code",
   "execution_count": 5,
   "metadata": {},
   "outputs": [
    {
     "name": "stdout",
     "output_type": "stream",
     "text": [
      "(1772, 6) (739, 6) (8240, 20)\n"
     ]
    }
   ],
   "source": [
    "# LOAD TEXT DATA\n",
    "df_ecb, df_fed, df_train_series = load_data(files_path)\n",
    "print(df_ecb.shape, df_fed.shape, df_train_series.shape)"
   ]
  },
  {
   "cell_type": "code",
   "execution_count": 6,
   "metadata": {},
   "outputs": [],
   "source": [
    "df_train_series.list_speakers_ecb = df_train_series.list_speakers_ecb.apply(ast.literal_eval)\n",
    "df_train_series.list_speakers_fed = df_train_series.list_speakers_fed.apply(ast.literal_eval)\n",
    "df_train_series.id_ecb = df_train_series.id_ecb.apply(ast.literal_eval)\n",
    "df_train_series.id_fed = df_train_series.id_fed.apply(ast.literal_eval)\n",
    "df_train_series.list_languages_ecb = df_train_series.list_languages_ecb.apply(ast.literal_eval)"
   ]
  },
  {
   "cell_type": "code",
   "execution_count": 8,
   "metadata": {},
   "outputs": [
    {
     "data": {
      "text/html": [
       "<div>\n",
       "<style scoped>\n",
       "    .dataframe tbody tr th:only-of-type {\n",
       "        vertical-align: middle;\n",
       "    }\n",
       "\n",
       "    .dataframe tbody tr th {\n",
       "        vertical-align: top;\n",
       "    }\n",
       "\n",
       "    .dataframe thead th {\n",
       "        text-align: right;\n",
       "    }\n",
       "</style>\n",
       "<table border=\"1\" class=\"dataframe\">\n",
       "  <thead>\n",
       "    <tr style=\"text-align: right;\">\n",
       "      <th></th>\n",
       "      <th>id_ecb</th>\n",
       "      <th>title</th>\n",
       "      <th>speaker</th>\n",
       "      <th>text</th>\n",
       "      <th>text_process</th>\n",
       "      <th>lang</th>\n",
       "    </tr>\n",
       "  </thead>\n",
       "  <tbody>\n",
       "    <tr>\n",
       "      <th>0</th>\n",
       "      <td>0</td>\n",
       "      <td>Comments by Yves Mersch at Financial Services ...</td>\n",
       "      <td>Yves Mersch</td>\n",
       "      <td>Comments by Yves Mersch at Financial Service...</td>\n",
       "      <td>comment yves mersch financial service summit c...</td>\n",
       "      <td>en</td>\n",
       "    </tr>\n",
       "    <tr>\n",
       "      <th>1</th>\n",
       "      <td>1</td>\n",
       "      <td>Securing sustained economic growth in the euro...</td>\n",
       "      <td>Vítor Constâncio</td>\n",
       "      <td>Securing sustained economic growth in the eu...</td>\n",
       "      <td>secure sustained economic growth euro area spe...</td>\n",
       "      <td>en</td>\n",
       "    </tr>\n",
       "    <tr>\n",
       "      <th>2</th>\n",
       "      <td>2</td>\n",
       "      <td>The role of monetary policy in addressing the ...</td>\n",
       "      <td>Mario Draghi</td>\n",
       "      <td>The role of monetary policy in addressing th...</td>\n",
       "      <td>role monetary policy address crisis euro area ...</td>\n",
       "      <td>en</td>\n",
       "    </tr>\n",
       "    <tr>\n",
       "      <th>3</th>\n",
       "      <td>3</td>\n",
       "      <td>The pandemic emergency: the three challenges f...</td>\n",
       "      <td>Philip R. Lane</td>\n",
       "      <td>SPEECH  The pandemic emergency: the three c...</td>\n",
       "      <td>speech pandemic emergency three challenge ecb ...</td>\n",
       "      <td>en</td>\n",
       "    </tr>\n",
       "    <tr>\n",
       "      <th>4</th>\n",
       "      <td>4</td>\n",
       "      <td>Transmission channels of monetary policy in th...</td>\n",
       "      <td>Peter Praet</td>\n",
       "      <td>Transmission channels of monetary policy in ...</td>\n",
       "      <td>transmission channel monetary policy current e...</td>\n",
       "      <td>en</td>\n",
       "    </tr>\n",
       "    <tr>\n",
       "      <th>...</th>\n",
       "      <td>...</td>\n",
       "      <td>...</td>\n",
       "      <td>...</td>\n",
       "      <td>...</td>\n",
       "      <td>...</td>\n",
       "      <td>...</td>\n",
       "    </tr>\n",
       "    <tr>\n",
       "      <th>1767</th>\n",
       "      <td>1767</td>\n",
       "      <td>Navigating uncertainty - governance, risk mana...</td>\n",
       "      <td>Sabine Lautenschläger</td>\n",
       "      <td>Navigating uncertainty – governance, risk ma...</td>\n",
       "      <td>navigate uncertainty governance risk managemen...</td>\n",
       "      <td>en</td>\n",
       "    </tr>\n",
       "    <tr>\n",
       "      <th>1768</th>\n",
       "      <td>1768</td>\n",
       "      <td>3-6-3: Banks and change</td>\n",
       "      <td>Sabine Lautenschläger</td>\n",
       "      <td>3-6-3: Banks and change   Speech by Sabine L...</td>\n",
       "      <td>bank change speech sabine lautenschläger membe...</td>\n",
       "      <td>en</td>\n",
       "    </tr>\n",
       "    <tr>\n",
       "      <th>1769</th>\n",
       "      <td>1769</td>\n",
       "      <td>Europe's pursuit of ‘a more perfect Union'</td>\n",
       "      <td>Mario Draghi</td>\n",
       "      <td>Europe’s pursuit of ‘a more perfect Union’  ...</td>\n",
       "      <td>europe pursuit perfect union lecture mario dra...</td>\n",
       "      <td>en</td>\n",
       "    </tr>\n",
       "    <tr>\n",
       "      <th>1770</th>\n",
       "      <td>1770</td>\n",
       "      <td>Monetary policy in the euro area - a brief ass...</td>\n",
       "      <td>Yves Mersch</td>\n",
       "      <td>Monetary policy in the euro area - a brief a...</td>\n",
       "      <td>monetary policy euro area brief assessment spe...</td>\n",
       "      <td>en</td>\n",
       "    </tr>\n",
       "    <tr>\n",
       "      <th>1771</th>\n",
       "      <td>1771</td>\n",
       "      <td>The ECB and its role as lender of last resort ...</td>\n",
       "      <td>Peter Praet</td>\n",
       "      <td>The ECB and its role as lender of last resor...</td>\n",
       "      <td>ecb role lender last resort crisis speech pete...</td>\n",
       "      <td>en</td>\n",
       "    </tr>\n",
       "  </tbody>\n",
       "</table>\n",
       "<p>1772 rows × 6 columns</p>\n",
       "</div>"
      ],
      "text/plain": [
       "      id_ecb                                              title  \\\n",
       "0          0  Comments by Yves Mersch at Financial Services ...   \n",
       "1          1  Securing sustained economic growth in the euro...   \n",
       "2          2  The role of monetary policy in addressing the ...   \n",
       "3          3  The pandemic emergency: the three challenges f...   \n",
       "4          4  Transmission channels of monetary policy in th...   \n",
       "...      ...                                                ...   \n",
       "1767    1767  Navigating uncertainty - governance, risk mana...   \n",
       "1768    1768                            3-6-3: Banks and change   \n",
       "1769    1769         Europe's pursuit of ‘a more perfect Union'   \n",
       "1770    1770  Monetary policy in the euro area - a brief ass...   \n",
       "1771    1771  The ECB and its role as lender of last resort ...   \n",
       "\n",
       "                    speaker  \\\n",
       "0               Yves Mersch   \n",
       "1          Vítor Constâncio   \n",
       "2              Mario Draghi   \n",
       "3            Philip R. Lane   \n",
       "4               Peter Praet   \n",
       "...                     ...   \n",
       "1767  Sabine Lautenschläger   \n",
       "1768  Sabine Lautenschläger   \n",
       "1769           Mario Draghi   \n",
       "1770            Yves Mersch   \n",
       "1771            Peter Praet   \n",
       "\n",
       "                                                   text  \\\n",
       "0       Comments by Yves Mersch at Financial Service...   \n",
       "1       Securing sustained economic growth in the eu...   \n",
       "2       The role of monetary policy in addressing th...   \n",
       "3        SPEECH  The pandemic emergency: the three c...   \n",
       "4       Transmission channels of monetary policy in ...   \n",
       "...                                                 ...   \n",
       "1767    Navigating uncertainty – governance, risk ma...   \n",
       "1768    3-6-3: Banks and change   Speech by Sabine L...   \n",
       "1769    Europe’s pursuit of ‘a more perfect Union’  ...   \n",
       "1770    Monetary policy in the euro area - a brief a...   \n",
       "1771    The ECB and its role as lender of last resor...   \n",
       "\n",
       "                                           text_process lang  \n",
       "0     comment yves mersch financial service summit c...   en  \n",
       "1     secure sustained economic growth euro area spe...   en  \n",
       "2     role monetary policy address crisis euro area ...   en  \n",
       "3     speech pandemic emergency three challenge ecb ...   en  \n",
       "4     transmission channel monetary policy current e...   en  \n",
       "...                                                 ...  ...  \n",
       "1767  navigate uncertainty governance risk managemen...   en  \n",
       "1768  bank change speech sabine lautenschläger membe...   en  \n",
       "1769  europe pursuit perfect union lecture mario dra...   en  \n",
       "1770  monetary policy euro area brief assessment spe...   en  \n",
       "1771  ecb role lender last resort crisis speech pete...   en  \n",
       "\n",
       "[1772 rows x 6 columns]"
      ]
     },
     "execution_count": 8,
     "metadata": {},
     "output_type": "execute_result"
    }
   ],
   "source": [
    "df_ecb"
   ]
  },
  {
   "cell_type": "code",
   "execution_count": null,
   "metadata": {},
   "outputs": [],
   "source": [
    "from nlp_dauphine.dataset import TextClassificationDataset\n",
    "\n",
    "a = TextClassificationDataset(df_ecb.text_process,)"
   ]
  }
 ],
 "metadata": {
  "kernelspec": {
   "display_name": "nlp_dauph_env",
   "language": "python",
   "name": "python3"
  },
  "language_info": {
   "codemirror_mode": {
    "name": "ipython",
    "version": 3
   },
   "file_extension": ".py",
   "mimetype": "text/x-python",
   "name": "python",
   "nbconvert_exporter": "python",
   "pygments_lexer": "ipython3",
   "version": "3.9.16"
  },
  "orig_nbformat": 4
 },
 "nbformat": 4,
 "nbformat_minor": 2
}
