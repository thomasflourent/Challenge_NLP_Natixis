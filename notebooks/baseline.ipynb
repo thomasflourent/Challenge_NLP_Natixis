{
 "cells": [
  {
   "cell_type": "code",
   "execution_count": 1,
   "id": "6a543d86",
   "metadata": {},
   "outputs": [],
   "source": [
    "import pandas as pd"
   ]
  },
  {
   "cell_type": "code",
   "execution_count": 2,
   "id": "e0e53aaa",
   "metadata": {},
   "outputs": [],
   "source": [
    "FILENAME = \"./starting_kit/train_series.csv\"\n",
    "# FILENAME = \"test_series.csv\"\n",
    "# Demonstration of the baseline on train series. \n",
    "#Once the test set will be available, you just have to rename FILENAME to correspond to the test returns csv file."
   ]
  },
  {
   "cell_type": "code",
   "execution_count": 3,
   "id": "1380e6b6",
   "metadata": {},
   "outputs": [],
   "source": [
    "returns = pd.read_csv(FILENAME, index_col=0)"
   ]
  },
  {
   "cell_type": "code",
   "execution_count": 4,
   "id": "9d2476dc",
   "metadata": {},
   "outputs": [],
   "source": [
    "returns.drop(\"Index Name\", axis=1, inplace=True)\n",
    "returns.drop(\"index ecb\", axis=1, inplace=True)\n",
    "returns.drop(\"index fed\", axis=1, inplace=True)\n",
    "returns.drop(\"Index + 1\", axis=1, inplace=True)"
   ]
  },
  {
   "cell_type": "code",
   "execution_count": 5,
   "id": "c0dab1ba",
   "metadata": {},
   "outputs": [],
   "source": [
    "res = pd.DataFrame()\n",
    "prediction = returns.ewm(axis=1, span=9).mean()[\"Index - 0\"]\n",
    "res[\"regression\"] = prediction\n",
    "res[\"classification\"] = (prediction > 0).astype(int)"
   ]
  },
  {
   "cell_type": "code",
   "execution_count": 6,
   "id": "093b8196",
   "metadata": {},
   "outputs": [],
   "source": [
    "res.to_csv(\"res_baseline.csv\")"
   ]
  },
  {
   "cell_type": "code",
   "execution_count": null,
   "id": "adf0f26f",
   "metadata": {},
   "outputs": [],
   "source": []
  }
 ],
 "metadata": {
  "kernelspec": {
   "display_name": "env_torch_gpu",
   "language": "python",
   "name": "python3"
  },
  "language_info": {
   "codemirror_mode": {
    "name": "ipython",
    "version": 3
   },
   "file_extension": ".py",
   "mimetype": "text/x-python",
   "name": "python",
   "nbconvert_exporter": "python",
   "pygments_lexer": "ipython3",
   "version": "3.9.16"
  },
  "vscode": {
   "interpreter": {
    "hash": "6107e02889f43988fb335c5b120e0fdb53e7308258efbd1d925b079fab9cfc9b"
   }
  }
 },
 "nbformat": 4,
 "nbformat_minor": 5
}
