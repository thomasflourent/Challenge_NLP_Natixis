{
 "cells": [
  {
   "cell_type": "code",
   "execution_count": 53,
   "metadata": {},
   "outputs": [],
   "source": [
    "%reload_ext autoreload\n",
    "%autoreload 2"
   ]
  },
  {
   "cell_type": "code",
   "execution_count": 59,
   "metadata": {},
   "outputs": [],
   "source": [
    "from pathlib import Path\n",
    "from nlp_dauphine.preprocess_data import load_data, text_cleaning, link_texts_series, suppr_footnotes\n",
    "from nlp_dauphine.embeddings import vocabulary\n",
    "from nlp_dauphine.utils import set_working_dir\n",
    "import matplotlib.pyplot as plt\n",
    "from sklearn.model_selection import train_test_split\n",
    "import numpy as np"
   ]
  },
  {
   "cell_type": "code",
   "execution_count": 3,
   "metadata": {},
   "outputs": [
    {
     "name": "stdout",
     "output_type": "stream",
     "text": [
      "Current working dir: c:/Users/Hugo/Documents/Travail/A5/Dauphine_challenge/nlp_dauphine/notebooks\n",
      "New working dir: c:/Users/Hugo/Documents/Travail/A5/Dauphine_challenge/nlp_dauphine\n"
     ]
    }
   ],
   "source": [
    "set_working_dir()"
   ]
  },
  {
   "attachments": {},
   "cell_type": "markdown",
   "metadata": {},
   "source": [
    "# Load Data"
   ]
  },
  {
   "cell_type": "code",
   "execution_count": 4,
   "metadata": {},
   "outputs": [],
   "source": [
    "path = Path(\"data\")\n",
    "files_path = {\n",
    "    \"ecb\": Path(path,\"ecb_data.csv\"),\n",
    "    \"fed\": Path(path,\"fed_data.csv\"),\n",
    "    \"train_series\": Path(path,\"train_series.csv\"),\n",
    "}"
   ]
  },
  {
   "cell_type": "code",
   "execution_count": 5,
   "metadata": {},
   "outputs": [
    {
     "name": "stdout",
     "output_type": "stream",
     "text": [
      "(1772, 3) (739, 3) (8946, 14)\n"
     ]
    }
   ],
   "source": [
    "# LOAD TEXT DATA\n",
    "df_ecb, df_fed, df_train_series = load_data(files_path)\n",
    "print(df_ecb.shape, df_fed.shape, df_train_series.shape)"
   ]
  },
  {
   "attachments": {},
   "cell_type": "markdown",
   "metadata": {},
   "source": [
    "# Text Cleaning"
   ]
  },
  {
   "attachments": {},
   "cell_type": "markdown",
   "metadata": {},
   "source": [
    "## Link Texts to Series\n",
    "\n",
    "Create some indices"
   ]
  },
  {
   "cell_type": "code",
   "execution_count": 6,
   "metadata": {},
   "outputs": [],
   "source": [
    "df_ecb.reset_index(inplace=True, names=\"id_ecb\")\n",
    "df_fed.reset_index(inplace=True, names=\"id_fed\")\n",
    "df_train_series.reset_index(inplace=True, names=\"id_series\")"
   ]
  },
  {
   "attachments": {},
   "cell_type": "markdown",
   "metadata": {},
   "source": [
    "Create a list rather than a string with a comma separator"
   ]
  },
  {
   "cell_type": "code",
   "execution_count": 7,
   "metadata": {},
   "outputs": [],
   "source": [
    "df_train_series[\"id_ecb\"] = [x.split(\",\") for x in df_train_series['index ecb']]\n",
    "df_train_series[\"id_fed\"] = [x.split(\",\") for x in df_train_series['index fed']]\n",
    "del df_train_series['index ecb']\n",
    "del df_train_series['index fed']"
   ]
  },
  {
   "attachments": {},
   "cell_type": "markdown",
   "metadata": {},
   "source": [
    "## Remove Footnotes"
   ]
  },
  {
   "cell_type": "code",
   "execution_count": 8,
   "metadata": {},
   "outputs": [],
   "source": [
    "df_ecb[\"text_process\"] = df_ecb.text.apply(lambda x: suppr_footnotes(x))\n",
    "df_fed[\"text_process\"] = df_fed.text.apply(lambda x: suppr_footnotes(x))"
   ]
  },
  {
   "attachments": {},
   "cell_type": "markdown",
   "metadata": {},
   "source": [
    "## Deal with Null Values"
   ]
  },
  {
   "cell_type": "code",
   "execution_count": 9,
   "metadata": {},
   "outputs": [],
   "source": [
    "# REPLACE NULL TEXTS BY TITLE\n",
    "index_no_texts = df_ecb[df_ecb[\"text_process\"].isnull()].index.values\n",
    "df_ecb.loc[index_no_texts, \"text_process\"] = df_ecb.loc[index_no_texts, \"title\"].values"
   ]
  },
  {
   "attachments": {},
   "cell_type": "markdown",
   "metadata": {},
   "source": [
    "## Remove special characters, stop words, Lemmatization..."
   ]
  },
  {
   "cell_type": "code",
   "execution_count": 10,
   "metadata": {},
   "outputs": [],
   "source": [
    "# CLEAN TEXTS\n",
    "negation_words = [\"no\", \"not\"]\n",
    "df_fed.text_process = df_fed.text_process.apply(\n",
    "    lambda x: text_cleaning(\n",
    "        x,\n",
    "        negation_set=negation_words,\n",
    "        fg_no_numbers=True,\n",
    "        fg_stop_words=True,\n",
    "        fg_lemmatization=True,\n",
    "    )\n",
    ")\n",
    "df_ecb.text_process = df_ecb.text_process.apply(\n",
    "    lambda x: text_cleaning(\n",
    "        x,\n",
    "        negation_set=negation_words,\n",
    "        fg_no_numbers=True,\n",
    "        fg_stop_words=True,\n",
    "        fg_lemmatization=True,\n",
    "    )\n",
    ")"
   ]
  },
  {
   "attachments": {},
   "cell_type": "markdown",
   "metadata": {},
   "source": [
    "Length of the texts"
   ]
  },
  {
   "cell_type": "code",
   "execution_count": 14,
   "metadata": {},
   "outputs": [
    {
     "data": {
      "image/png": "[encoded data removed]",
      "text/plain": [
       "<Figure size 640x480 with 2 Axes>"
      ]
     },
     "metadata": {},
     "output_type": "display_data"
    }
   ],
   "source": [
    "lenght_texts_ecb = [len(str(x).split(\" \")) for x in df_ecb.text_process]\n",
    "lenght_texts_fed = [len(str(x).split(\" \")) for x in df_fed.text_process]\n",
    "fig, ax = plt.subplots(1,2)\n",
    "ax[0].hist(lenght_texts_ecb, bins=50)\n",
    "ax[0].set_title(\"ECB\")\n",
    "ax[1].hist(lenght_texts_fed, bins=50)\n",
    "ax[1].set_title(\"FED\")\n",
    "plt.show()"
   ]
  },
  {
   "cell_type": "code",
   "execution_count": null,
   "metadata": {},
   "outputs": [],
   "source": [
    "np.where(np.array(lenght_texts_ecb).astype('int64')<200)"
   ]
  },
  {
   "attachments": {},
   "cell_type": "markdown",
   "metadata": {},
   "source": [
    "# Text Concatenation"
   ]
  },
  {
   "cell_type": "code",
   "execution_count": 55,
   "metadata": {},
   "outputs": [],
   "source": [
    "df_series_ecb_process = link_texts_series(df_train_series, df_ecb, \"id_series\", \"id_ecb\")\n",
    "df_series_fed_process = link_texts_series(df_train_series, df_fed, \"id_series\", \"id_fed\")"
   ]
  },
  {
   "cell_type": "code",
   "execution_count": 58,
   "metadata": {},
   "outputs": [
    {
     "data": {
      "text/html": [
       "<div>\n",
       "<style scoped>\n",
       "    .dataframe tbody tr th:only-of-type {\n",
       "        vertical-align: middle;\n",
       "    }\n",
       "\n",
       "    .dataframe tbody tr th {\n",
       "        vertical-align: top;\n",
       "    }\n",
       "\n",
       "    .dataframe thead th {\n",
       "        text-align: right;\n",
       "    }\n",
       "</style>\n",
       "<table border=\"1\" class=\"dataframe\">\n",
       "  <thead>\n",
       "    <tr style=\"text-align: right;\">\n",
       "      <th></th>\n",
       "      <th>id_series</th>\n",
       "      <th>Index Name</th>\n",
       "      <th>Index - 9</th>\n",
       "      <th>Index - 8</th>\n",
       "      <th>Index - 7</th>\n",
       "      <th>Index - 6</th>\n",
       "      <th>Index - 5</th>\n",
       "      <th>Index - 4</th>\n",
       "      <th>Index - 3</th>\n",
       "      <th>Index - 2</th>\n",
       "      <th>...</th>\n",
       "      <th>id_ecb</th>\n",
       "      <th>id_fed</th>\n",
       "      <th>text_concat_ecb_x</th>\n",
       "      <th>list_speakers_ecb_x</th>\n",
       "      <th>text_concat_fed_x</th>\n",
       "      <th>list_speakers_fed_x</th>\n",
       "      <th>text_concat_ecb_y</th>\n",
       "      <th>list_speakers_ecb_y</th>\n",
       "      <th>text_concat_fed_y</th>\n",
       "      <th>list_speakers_fed_y</th>\n",
       "    </tr>\n",
       "  </thead>\n",
       "  <tbody>\n",
       "    <tr>\n",
       "      <th>0</th>\n",
       "      <td>0</td>\n",
       "      <td>V2X Index</td>\n",
       "      <td>0.001045</td>\n",
       "      <td>0.005841</td>\n",
       "      <td>0.003832</td>\n",
       "      <td>-0.027519</td>\n",
       "      <td>-0.103565</td>\n",
       "      <td>-0.045086</td>\n",
       "      <td>-0.011265</td>\n",
       "      <td>0.005164</td>\n",
       "      <td>...</td>\n",
       "      <td>[1126, 1471]</td>\n",
       "      <td>[96]</td>\n",
       "      <td>Welcome address   Welcome remarks by Philip ...</td>\n",
       "      <td>[Philip R. Lane, Luis de Guindos]</td>\n",
       "      <td>I am delighted to be in Helsinki at this impo...</td>\n",
       "      <td>[Vice Chairman Richard H. Clarida]</td>\n",
       "      <td>Welcome address   Welcome remarks by Philip ...</td>\n",
       "      <td>[Philip R. Lane, Luis de Guindos]</td>\n",
       "      <td>I am delighted to be in Helsinki at this impo...</td>\n",
       "      <td>[Vice Chairman Richard H. Clarida]</td>\n",
       "    </tr>\n",
       "    <tr>\n",
       "      <th>1</th>\n",
       "      <td>1</td>\n",
       "      <td>MOVE Index</td>\n",
       "      <td>-0.021497</td>\n",
       "      <td>0.007891</td>\n",
       "      <td>-0.013175</td>\n",
       "      <td>-0.008436</td>\n",
       "      <td>0.000000</td>\n",
       "      <td>0.026303</td>\n",
       "      <td>0.000556</td>\n",
       "      <td>0.001455</td>\n",
       "      <td>...</td>\n",
       "      <td>[975]</td>\n",
       "      <td>[568]</td>\n",
       "      <td>Monetary policy and structural reforms in th...</td>\n",
       "      <td>[Mario Draghi]</td>\n",
       "      <td>Watch live  I would like to thank the Federa...</td>\n",
       "      <td>[Vice Chairman Stanley Fischer]</td>\n",
       "      <td>Monetary policy and structural reforms in th...</td>\n",
       "      <td>[Mario Draghi]</td>\n",
       "      <td>Watch live  I would like to thank the Federa...</td>\n",
       "      <td>[Vice Chairman Stanley Fischer]</td>\n",
       "    </tr>\n",
       "    <tr>\n",
       "      <th>2</th>\n",
       "      <td>2</td>\n",
       "      <td>SPX Index</td>\n",
       "      <td>-0.001872</td>\n",
       "      <td>-0.008154</td>\n",
       "      <td>0.023588</td>\n",
       "      <td>0.004086</td>\n",
       "      <td>0.003493</td>\n",
       "      <td>0.003300</td>\n",
       "      <td>0.000885</td>\n",
       "      <td>-0.011304</td>\n",
       "      <td>...</td>\n",
       "      <td>[78, 806]</td>\n",
       "      <td>[328, 695]</td>\n",
       "      <td>From challenges to opportunities: rebooting ...</td>\n",
       "      <td>[Benoît Cœuré, Benoît Cœuré]</td>\n",
       "      <td>I am grateful to the National Association for...</td>\n",
       "      <td>[Vice Chairman Stanley Fischer, Governor Lael ...</td>\n",
       "      <td>From challenges to opportunities: rebooting ...</td>\n",
       "      <td>[Benoît Cœuré, Benoît Cœuré]</td>\n",
       "      <td>I am grateful to the National Association for...</td>\n",
       "      <td>[Vice Chairman Stanley Fischer, Governor Lael ...</td>\n",
       "    </tr>\n",
       "    <tr>\n",
       "      <th>3</th>\n",
       "      <td>3</td>\n",
       "      <td>SPX Index</td>\n",
       "      <td>0.004980</td>\n",
       "      <td>-0.000864</td>\n",
       "      <td>0.001677</td>\n",
       "      <td>0.000000</td>\n",
       "      <td>0.006030</td>\n",
       "      <td>-0.001083</td>\n",
       "      <td>0.000419</td>\n",
       "      <td>0.001492</td>\n",
       "      <td>...</td>\n",
       "      <td>[560, 1405]</td>\n",
       "      <td>[118]</td>\n",
       "      <td>Creating stability in an uncertain world   S...</td>\n",
       "      <td>[Peter Praet, Peter Praet]</td>\n",
       "      <td>Thank you for this invitation to speak here t...</td>\n",
       "      <td>[Governor Jerome H. Powell]</td>\n",
       "      <td>Creating stability in an uncertain world   S...</td>\n",
       "      <td>[Peter Praet, Peter Praet]</td>\n",
       "      <td>Thank you for this invitation to speak here t...</td>\n",
       "      <td>[Governor Jerome H. Powell]</td>\n",
       "    </tr>\n",
       "    <tr>\n",
       "      <th>4</th>\n",
       "      <td>4</td>\n",
       "      <td>EURUSD Curncy</td>\n",
       "      <td>0.000360</td>\n",
       "      <td>-0.001893</td>\n",
       "      <td>0.005579</td>\n",
       "      <td>-0.003056</td>\n",
       "      <td>-0.001171</td>\n",
       "      <td>-0.001623</td>\n",
       "      <td>-0.002350</td>\n",
       "      <td>-0.006444</td>\n",
       "      <td>...</td>\n",
       "      <td>[404]</td>\n",
       "      <td>[261]</td>\n",
       "      <td>Money and private currencies: reflections on...</td>\n",
       "      <td>[Yves Mersch]</td>\n",
       "      <td>This year's symposium topic is \"Challenges fo...</td>\n",
       "      <td>[Chairman Jerome H. Powell]</td>\n",
       "      <td>Money and private currencies: reflections on...</td>\n",
       "      <td>[Yves Mersch]</td>\n",
       "      <td>This year's symposium topic is \"Challenges fo...</td>\n",
       "      <td>[Chairman Jerome H. Powell]</td>\n",
       "    </tr>\n",
       "  </tbody>\n",
       "</table>\n",
       "<p>5 rows × 23 columns</p>\n",
       "</div>"
      ],
      "text/plain": [
       "   id_series     Index Name  Index - 9  Index - 8  Index - 7  Index - 6  \\\n",
       "0          0      V2X Index   0.001045   0.005841   0.003832  -0.027519   \n",
       "1          1     MOVE Index  -0.021497   0.007891  -0.013175  -0.008436   \n",
       "2          2      SPX Index  -0.001872  -0.008154   0.023588   0.004086   \n",
       "3          3      SPX Index   0.004980  -0.000864   0.001677   0.000000   \n",
       "4          4  EURUSD Curncy   0.000360  -0.001893   0.005579  -0.003056   \n",
       "\n",
       "   Index - 5  Index - 4  Index - 3  Index - 2  ...        id_ecb      id_fed  \\\n",
       "0  -0.103565  -0.045086  -0.011265   0.005164  ...  [1126, 1471]        [96]   \n",
       "1   0.000000   0.026303   0.000556   0.001455  ...         [975]       [568]   \n",
       "2   0.003493   0.003300   0.000885  -0.011304  ...     [78, 806]  [328, 695]   \n",
       "3   0.006030  -0.001083   0.000419   0.001492  ...   [560, 1405]       [118]   \n",
       "4  -0.001171  -0.001623  -0.002350  -0.006444  ...         [404]       [261]   \n",
       "\n",
       "                                   text_concat_ecb_x  \\\n",
       "0    Welcome address   Welcome remarks by Philip ...   \n",
       "1    Monetary policy and structural reforms in th...   \n",
       "2    From challenges to opportunities: rebooting ...   \n",
       "3    Creating stability in an uncertain world   S...   \n",
       "4    Money and private currencies: reflections on...   \n",
       "\n",
       "                 list_speakers_ecb_x  \\\n",
       "0  [Philip R. Lane, Luis de Guindos]   \n",
       "1                     [Mario Draghi]   \n",
       "2       [Benoît Cœuré, Benoît Cœuré]   \n",
       "3         [Peter Praet, Peter Praet]   \n",
       "4                      [Yves Mersch]   \n",
       "\n",
       "                                   text_concat_fed_x  \\\n",
       "0   I am delighted to be in Helsinki at this impo...   \n",
       "1    Watch live  I would like to thank the Federa...   \n",
       "2   I am grateful to the National Association for...   \n",
       "3   Thank you for this invitation to speak here t...   \n",
       "4   This year's symposium topic is \"Challenges fo...   \n",
       "\n",
       "                                 list_speakers_fed_x  \\\n",
       "0                 [Vice Chairman Richard H. Clarida]   \n",
       "1                    [Vice Chairman Stanley Fischer]   \n",
       "2  [Vice Chairman Stanley Fischer, Governor Lael ...   \n",
       "3                        [Governor Jerome H. Powell]   \n",
       "4                        [Chairman Jerome H. Powell]   \n",
       "\n",
       "                                   text_concat_ecb_y  \\\n",
       "0    Welcome address   Welcome remarks by Philip ...   \n",
       "1    Monetary policy and structural reforms in th...   \n",
       "2    From challenges to opportunities: rebooting ...   \n",
       "3    Creating stability in an uncertain world   S...   \n",
       "4    Money and private currencies: reflections on...   \n",
       "\n",
       "                 list_speakers_ecb_y  \\\n",
       "0  [Philip R. Lane, Luis de Guindos]   \n",
       "1                     [Mario Draghi]   \n",
       "2       [Benoît Cœuré, Benoît Cœuré]   \n",
       "3         [Peter Praet, Peter Praet]   \n",
       "4                      [Yves Mersch]   \n",
       "\n",
       "                                   text_concat_fed_y  \\\n",
       "0   I am delighted to be in Helsinki at this impo...   \n",
       "1    Watch live  I would like to thank the Federa...   \n",
       "2   I am grateful to the National Association for...   \n",
       "3   Thank you for this invitation to speak here t...   \n",
       "4   This year's symposium topic is \"Challenges fo...   \n",
       "\n",
       "                                 list_speakers_fed_y  \n",
       "0                 [Vice Chairman Richard H. Clarida]  \n",
       "1                    [Vice Chairman Stanley Fischer]  \n",
       "2  [Vice Chairman Stanley Fischer, Governor Lael ...  \n",
       "3                        [Governor Jerome H. Powell]  \n",
       "4                        [Chairman Jerome H. Powell]  \n",
       "\n",
       "[5 rows x 23 columns]"
      ]
     },
     "execution_count": 58,
     "metadata": {},
     "output_type": "execute_result"
    }
   ],
   "source": [
    "df_train_series = df_train_series.merge(df_series_ecb_process,on='id_series',how='left')\n",
    "df_train_series = df_train_series.merge(df_series_fed_process,on='id_series',how='left')\n",
    "df_train_series.head()"
   ]
  },
  {
   "attachments": {},
   "cell_type": "markdown",
   "metadata": {},
   "source": [
    "# Train Test Split"
   ]
  },
  {
   "cell_type": "code",
   "execution_count": 60,
   "metadata": {},
   "outputs": [
    {
     "name": "stdout",
     "output_type": "stream",
     "text": [
      "(7156, 22) (7156, 1)\n"
     ]
    }
   ],
   "source": [
    "# Train test split \n",
    "X=df_train_series.loc[:,df_train_series.columns!=\"Index + 1\"]\n",
    "y=df_train_series[[\"Index + 1\"]]\n",
    "\n",
    "X_train, X_test, y_train, y_test = train_test_split(X,y,test_size=.2)\n",
    "print(X_train.shape,y_train.shape)"
   ]
  },
  {
   "attachments": {},
   "cell_type": "markdown",
   "metadata": {},
   "source": [
    "# Embeddings"
   ]
  },
  {
   "attachments": {},
   "cell_type": "markdown",
   "metadata": {},
   "source": [
    "## Build a vocabulary"
   ]
  },
  {
   "cell_type": "code",
   "execution_count": null,
   "metadata": {},
   "outputs": [],
   "source": []
  },
  {
   "attachments": {},
   "cell_type": "markdown",
   "metadata": {},
   "source": [
    "## Create the co-occurence Matrix"
   ]
  },
  {
   "cell_type": "code",
   "execution_count": null,
   "metadata": {},
   "outputs": [],
   "source": []
  },
  {
   "attachments": {},
   "cell_type": "markdown",
   "metadata": {},
   "source": [
    "## Embeddings from the co-occurence Matrix\n",
    "\n",
    "### SVD"
   ]
  },
  {
   "cell_type": "code",
   "execution_count": null,
   "metadata": {},
   "outputs": [],
   "source": []
  },
  {
   "attachments": {},
   "cell_type": "markdown",
   "metadata": {},
   "source": [
    "## Sentence Representations"
   ]
  },
  {
   "cell_type": "code",
   "execution_count": null,
   "metadata": {},
   "outputs": [],
   "source": []
  },
  {
   "attachments": {},
   "cell_type": "markdown",
   "metadata": {},
   "source": [
    "# Save Data"
   ]
  },
  {
   "cell_type": "code",
   "execution_count": null,
   "metadata": {},
   "outputs": [],
   "source": []
  }
 ],
 "metadata": {
  "kernelspec": {
   "display_name": "nlp_dauph_env",
   "language": "python",
   "name": "python3"
  },
  "language_info": {
   "codemirror_mode": {
    "name": "ipython",
    "version": 3
   },
   "file_extension": ".py",
   "mimetype": "text/x-python",
   "name": "python",
   "nbconvert_exporter": "python",
   "pygments_lexer": "ipython3",
   "version": "3.9.16"
  },
  "orig_nbformat": 4,
  "vscode": {
   "interpreter": {
    "hash": "19e1fba33c11e86ebf73adee9f1e3fa74d02f2f28a5835ec272b267c2e20a98d"
   }
  }
 },
 "nbformat": 4,
 "nbformat_minor": 2
}
