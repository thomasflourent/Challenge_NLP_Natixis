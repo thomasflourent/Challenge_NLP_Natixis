{
  "cells": [
    {
      "cell_type": "code",
      "source": [
        "import pandas as pd\n",
        "print(pd.__version__)\n",
        "#!pip install --upgrade pandas"
      ],
      "metadata": {
        "id": "lsbG0LyatfnW",
        "colab": {
          "base_uri": "https://localhost:8080/"
        },
        "outputId": "66385d42-4119-41c2-cb54-c17496b10797"
      },
      "execution_count": null,
      "outputs": [
        {
          "output_type": "stream",
          "name": "stdout",
          "text": [
            "1.5.3\n"
          ]
        }
      ]
    },
    {
      "cell_type": "code",
      "execution_count": null,
      "metadata": {
        "id": "RuVtYk5AnSqS"
      },
      "outputs": [],
      "source": [
        "%reload_ext autoreload\n",
        "%autoreload 2"
      ]
    },
    {
      "cell_type": "code",
      "source": [
        "from collections import Counter, OrderedDict\n",
        "from nltk.tokenize import word_tokenize\n",
        "import numpy as np\n",
        "from tqdm import tqdm\n",
        "\n",
        "\n",
        "def vocabulary(corpus, voc_threshold=0):\n",
        "    \"\"\"\n",
        "    Function using word counts to build a vocabulary - can be improved with a second parameter for\n",
        "    setting a frequency threshold\n",
        "    Params:\n",
        "        corpus (list of list of strings): corpus of sentences\n",
        "        voc_threshold (int): maximum size of the vocabulary (0 means no limit !)\n",
        "    Returns:\n",
        "        vocabulary (dictionary): keys: list of distinct words across the corpus\n",
        "                                 values: indexes corresponding to each word sorted by frequency\n",
        "    \"\"\"\n",
        "    # Setting limits\n",
        "    voc_threshold = voc_threshold if voc_threshold else int(10e5)\n",
        "\n",
        "    # Count each words of our corpus\n",
        "    word_counts = dict(Counter(word_tokenize(\" \".join(corpus))))\n",
        "\n",
        "    # Sort them decreasingly\n",
        "    sorted_word_counts = OrderedDict(\n",
        "        sorted(word_counts.items(), key=lambda item: item[1], reverse=True)\n",
        "    )\n",
        "\n",
        "    # Create our vocabulary (no more than the parameter voc_threshold)\n",
        "    vocabulary_word_counts = dict(list(sorted_word_counts.items())[:voc_threshold])\n",
        "\n",
        "    vocabulary = {\n",
        "        list(vocabulary_word_counts.keys())[i]: i\n",
        "        for i in range(len(vocabulary_word_counts))\n",
        "    }\n",
        "\n",
        "    # Add 'Unknown' word\n",
        "    vocabulary = {**vocabulary, \"UNK\": len(vocabulary_word_counts)}\n",
        "    vocabulary_word_counts = {**vocabulary_word_counts, \"UNK\": 0}\n",
        "\n",
        "    return vocabulary, vocabulary_word_counts\n",
        "\n",
        "\n",
        "def co_occurence_matrix(corpus, vocabulary, window=0, distance_weighting=False):\n",
        "    \"\"\"\n",
        "    Params:\n",
        "        corpus (list of list of strings): corpus of sentences\n",
        "        vocabulary (dictionary): words to use in the matrix\n",
        "        window (int): size of the context window; when 0, the context is the whole sentence\n",
        "        distance_weighting (bool): indicates if we use a weight depending on the distance between words for co-oc counts\n",
        "    Returns:\n",
        "        matrix (array of size (len(vocabulary), len(vocabulary))): the co-oc matrix, using the same ordering as the vocabulary given in input\n",
        "    \"\"\"\n",
        "    l = len(vocabulary)\n",
        "    M = np.zeros((l, l))\n",
        "    for sent in tqdm(corpus, desc=\"co-occurence matrix\"):\n",
        "        # Get the sentence as a list of words\n",
        "        sent = word_tokenize(sent)\n",
        "        # Obtain the indexes of the words in the sentence from the vocabulary\n",
        "        sent_idx = [vocabulary[word] if word in vocabulary else -1 for word in sent]\n",
        "        # Go through the indexes and add 1 / dist(i,j) to M[i,j] if words of index i and j appear in the same window\n",
        "        for i, idx in enumerate(sent_idx):\n",
        "            # If we consider a limited context:\n",
        "            if window > 0:\n",
        "                # Create a list containing the indexes that are on the left of the current index 'idx_i'\n",
        "                l_ctx_idx = sent_idx[max(i - window, 0) : i]\n",
        "            # If the context = ... is the entire document:\n",
        "            else:\n",
        "                # The list containing the left context is easier to create\n",
        "                l_ctx_idx = sent_idx[:i]\n",
        "            # Go through the list and update M[i,j]:\n",
        "            for j, idx_j in enumerate(l_ctx_idx):\n",
        "                # We know the word is in the vocabulary\n",
        "                if j > -1:\n",
        "                    weight = 1.0\n",
        "                    if distance_weighting:\n",
        "                        weight /= abs(i - j)\n",
        "                    M[idx, idx_j] += weight * 1.0\n",
        "                    M[idx_j, idx] += weight * 1.0\n",
        "                # Unkwnown word\n",
        "                else:\n",
        "                    weight = 1.0\n",
        "                    if distance_weighting:\n",
        "                        weight /= abs(i - j)\n",
        "                    M[idx, l] += weight * 1.0\n",
        "                    M[l, idx] += weight * 1.0\n",
        "    return M\n",
        "\n",
        "\n",
        "def euclidean(u, v):\n",
        "    return np.linalg.norm(u - v)\n",
        "\n",
        "\n",
        "def length_norm(u):\n",
        "    return u / np.sqrt(u.dot(u))\n",
        "\n",
        "\n",
        "def cosine(u, v):\n",
        "    return 1.0 - length_norm(u).dot(length_norm(v))\n",
        "\n",
        "\n",
        "def sentence_representations(texts, vocabulary, embeddings, np_func=np.mean):\n",
        "    \"\"\"\n",
        "    Represent the sentences as a combination of the vector of its words.\n",
        "    Parameters\n",
        "    ----------\n",
        "    texts : a list of sentences\n",
        "    vocabulary : dict\n",
        "        From words to indexes of vector.\n",
        "    embeddings : Matrix containing word representations\n",
        "    np_func : function (default: np.sum)\n",
        "        A numpy matrix operation that can be applied columnwise,\n",
        "        like `np.mean`, `np.sum`, or `np.prod`.\n",
        "    Returns\n",
        "    -------\n",
        "    np.array, dimension `(len(texts), embeddings.shape[1])`\n",
        "    \"\"\"\n",
        "    representations = np.zeros((len(texts), embeddings.shape[1]))\n",
        "    count = 0\n",
        "    for text in tqdm(texts):\n",
        "        vec_rep = list(\n",
        "            map(\n",
        "                lambda x: embeddings[vocabulary[x]]\n",
        "                if (x in vocabulary.keys())\n",
        "                else embeddings[vocabulary[\"UNK\"]],\n",
        "                text.split(),\n",
        "            )\n",
        "        )\n",
        "        vec_rep_2D = np.stack(vec_rep, axis=0)\n",
        "        transform_vec = np_func(vec_rep_2D, axis=0)\n",
        "        representations[count] = transform_vec\n",
        "        count += 1\n",
        "    return representations"
      ],
      "metadata": {
        "id": "oj1JcnagoSed"
      },
      "execution_count": null,
      "outputs": []
    },
    {
      "cell_type": "code",
      "source": [
        "\"\"\"NLP Challenge utils.\"\"\"\n",
        "\n",
        "import os\n",
        "from pathlib import Path\n",
        "\n",
        "\n",
        "def set_working_dir():\n",
        "    \"\"\"Set working dir for Jupyter.\"\"\"\n",
        "    cwd = Path(os.getcwd())\n",
        "    print(f\"Current working dir: {cwd.as_posix()}\")\n",
        "    if Path(cwd).name == \"notebooks\":\n",
        "        new_cwd = Path(cwd).parent\n",
        "        os.chdir(new_cwd)\n",
        "        print(f\"New working dir: {new_cwd.as_posix()}\")\n"
      ],
      "metadata": {
        "id": "ooSHduFpqfYD"
      },
      "execution_count": null,
      "outputs": []
    },
    {
      "cell_type": "code",
      "source": [
        "import re\n",
        "!pip install contractions\n",
        "import contractions\n",
        "import nltk\n",
        "import pandas as pd\n",
        "\n",
        "from nltk.corpus import stopwords, wordnet\n",
        "from nltk.stem import WordNetLemmatizer\n",
        "from nltk.tokenize import word_tokenize\n",
        "\n",
        "\n",
        "def load_data(dict_path):\n",
        "    df_ecb = pd.read_csv(dict_path[\"ecb\"], index_col=0)\n",
        "    df_fed = pd.read_csv(dict_path[\"fed\"], index_col=0)\n",
        "    df_train_series = pd.read_csv(dict_path[\"train_series\"], index_col=0)\n",
        "    return df_ecb, df_fed, df_train_series\n",
        "\n",
        "\n",
        "def get_wordnet_pos(tag: str) -> str:\n",
        "    \"\"\"_summary_\n",
        "    TODO docstring\n",
        "\n",
        "    Parameters\n",
        "    ----------\n",
        "    tag : str\n",
        "        _description_\n",
        "\n",
        "    Returns\n",
        "    -------\n",
        "    str\n",
        "        _description_\n",
        "    \"\"\"\n",
        "    if tag.startswith(\"J\"):\n",
        "        return wordnet.ADJ\n",
        "    elif tag.startswith(\"V\"):\n",
        "        return wordnet.VERB\n",
        "    elif tag.startswith(\"N\"):\n",
        "        return wordnet.NOUN\n",
        "    elif tag.startswith(\"R\"):\n",
        "        return wordnet.ADV\n",
        "    else:\n",
        "        return wordnet.NOUN\n",
        "\n",
        "\n",
        "def text_cleaning(\n",
        "    corpus: str,\n",
        "    negation_set,\n",
        "    fg_no_numbers: bool = False,\n",
        "    fg_stop_words: bool = False,\n",
        "    fg_lemmatization: bool = False,\n",
        "):\n",
        "    \"\"\"Text cleaning of a corpus and extraction of mentions and hashtags\n",
        "\n",
        "    Parameters\n",
        "    ----------\n",
        "    corpus : str\n",
        "        String to clean\n",
        "    negation_set : set[str]\n",
        "        Negation words\n",
        "    fg_no_numbers: bool, optional\n",
        "        Remove the numbers\n",
        "    fg_stop_words : bool, optional\n",
        "        Remove or not stop words, by default False\n",
        "    fg_lemmatization : bool, optional\n",
        "        Apply or not lemmatization, by default False\n",
        "\n",
        "    Returns\n",
        "    -------\n",
        "    tuple[str, list[str], list[str]]\n",
        "        corpus : Cleaned string\n",
        "        mentions : List of mentionned users in the corpus (@'s)\n",
        "        hashtags : List of hashtags in the corpuss (#'s)\n",
        "    \"\"\"\n",
        "\n",
        "    # lowercase\n",
        "    corpus = corpus.lower()\n",
        "\n",
        "    # remove extra newlines\n",
        "    corpus = re.sub(r\"[\\r|\\n|\\r\\n]+\", \" \", corpus)\n",
        "\n",
        "    # remove URL\n",
        "    corpus = re.sub(r\"https?://[\\S]+\", \"\", corpus)\n",
        "\n",
        "    # remove contractions\n",
        "    corpus = \" \".join([contractions.fix(x) for x in corpus.split()])\n",
        "\n",
        "    # Remove @ # and any special chars\n",
        "    corpus = re.sub(r\"[\\W_]+\", \" \", corpus)\n",
        "\n",
        "    # remove numbers\n",
        "    if fg_no_numbers:\n",
        "        corpus = re.sub(r\" \\d+\", \" \", corpus)\n",
        "\n",
        "    # tokenization\n",
        "    corpus_words = word_tokenize(corpus)\n",
        "\n",
        "    if fg_stop_words:\n",
        "        # remove stop words\n",
        "        stop_words = set(stopwords.words(\"english\")).difference(negation_set)\n",
        "        corpus_words = [word for word in corpus_words if word not in stop_words]\n",
        "\n",
        "    if fg_lemmatization:\n",
        "        # lemmatization\n",
        "        corpus_pos_tag = nltk.tag.pos_tag(corpus_words)\n",
        "        corpus_pos_tag = [\n",
        "            (word, get_wordnet_pos(pos_tag)) for (word, pos_tag) in corpus_pos_tag\n",
        "        ]\n",
        "        wordnet_lemmatizer = WordNetLemmatizer()\n",
        "        corpus_words = [\n",
        "            wordnet_lemmatizer.lemmatize(word, tag) for (word, tag) in corpus_pos_tag\n",
        "        ]\n",
        "\n",
        "    return \" \".join(corpus_words)\n",
        "\n",
        "\n",
        "def categorical_other(df_cat_column, threshold=0.02, name_cat_rare=\"other\"):\n",
        "    \"\"\"\n",
        "    Map the rare categorical variable to 'Other' based on their frequency\n",
        "\n",
        "    Arguments\n",
        "    ---------\n",
        "        df_cat_colum: pd.Series\n",
        "            Categorical column\n",
        "        threshold: float32\n",
        "            Threshold of frequency to map to the rare category\n",
        "        name_cat_rare: str\n",
        "            Name of the rare category\n",
        "    Returns\n",
        "    -------\n",
        "        df_cat_other: pd.Series\n",
        "            Modified categorical column\n",
        "    \"\"\"\n",
        "    # Frequency of categorical category\n",
        "    df_freq = df_cat_column.value_counts(normalize=True)\n",
        "    # Replace cat by its frequency\n",
        "    df_map = df_cat_column.map(df_freq)\n",
        "    # If inferior to threshold -> replace it\n",
        "    df_cat_other = df_cat_column.mask(df_map < threshold, name_cat_rare)\n",
        "    return df_cat_other\n",
        "\n",
        "\n",
        "def link_texts_series(df_train_series, df_text, id_series, id_text):\n",
        "    \"\"\"\n",
        "    Using the text indices of a time series, concatenate the text\n",
        "\n",
        "    Arguments\n",
        "    ---------\n",
        "        df_train_series: pd.DataFrame\n",
        "            Times Series with a text index column\n",
        "        df_text: pd.DataFrame\n",
        "            Dataframe storing the texts\n",
        "        id_series: str\n",
        "            Name of the column of the Unique identifier of the series\n",
        "        id_text: str\n",
        "            Name of the column of the Unique identifier of the texts\n",
        "    Returns\n",
        "    -------\n",
        "        df_conc: pd.DataFrame\n",
        "            Dataframe containing the time series and the concatenated text\n",
        "    \"\"\"\n",
        "    # Copy our dataframe\n",
        "    df_temp = df_text.copy()\n",
        "    suff = id_text.split(\"_\")[1]\n",
        "    # Unnest the list of texts for each times series\n",
        "    df_temp = df_train_series.explode(id_text)\n",
        "    # Convert the Id to Int\n",
        "    df_temp[id_text] = df_temp[id_text].astype(\"int64\")\n",
        "    # Join the list and series on the id_texts (previously unnested)\n",
        "    df_temp = df_temp.merge(df_text, on=id_text, how=\"left\")\n",
        "    # Group By the series and aggregate on specific features (concatenate the text, list of the speakers)\n",
        "    df_temp = (\n",
        "        df_temp.groupby(id_series)\n",
        "        .agg({\"text_process\": lambda x: \" \".join(x), \"speaker\": lambda x: list(x)})\n",
        "        .reset_index()\n",
        "        .rename(\n",
        "            columns={\n",
        "                \"text_process\": \"text_concat_\" + suff,\n",
        "                \"speaker\": \"list_speakers_\" + suff,\n",
        "            }\n",
        "        )\n",
        "    )\n",
        "    return df_temp\n",
        "\n",
        "\n",
        "def suppr_footnotes(text):\n",
        "    \"\"\"\n",
        "    Description : fonction pour supprimer les footnotes d'un texte (références biblio, etc)  (à vérifier si permet de supprimer toutes les footnotes)\n",
        "    - input : colonne 'text'\n",
        "    - output : colonne 'text' modifiée afin de supprimer les footnotes / citations\n",
        "\n",
        "    \"\"\"\n",
        "\n",
        "    txt = text\n",
        "    #\n",
        "    try:\n",
        "\n",
        "        txt_list = txt.split(\"References\", maxsplit=1)\n",
        "        if len(txt) > 1:\n",
        "            txt = txt_list[0]\n",
        "        else:\n",
        "            1 / 0\n",
        "    except:\n",
        "        pass\n",
        "\n",
        "    try:\n",
        "        txt_list = txt.split(\"Footnotes\", maxsplit=1)\n",
        "        if len(txt) > 1:\n",
        "            txt = txt_list[0]\n",
        "        else:\n",
        "            1 / 0\n",
        "    except:\n",
        "        pass\n",
        "\n",
        "    try:\n",
        "        txt_list = txt.split(\"      [1]\", maxsplit=1)\n",
        "        if len(txt) > 1:\n",
        "            txt = txt_list[0]\n",
        "        else:\n",
        "            1 / 0\n",
        "    except:\n",
        "        pass\n",
        "\n",
        "    try:\n",
        "        txt_list = txt.split(\"See also footnotes\", maxsplit=1)\n",
        "        if len(txt) > 1:\n",
        "            txt = txt_list[0]\n",
        "        else:\n",
        "            1 / 0\n",
        "    except:\n",
        "        pass\n",
        "\n",
        "    try:\n",
        "        txt_list = txt.split(\" References \", maxsplit=1)\n",
        "        if len(txt) > 1:\n",
        "            txt = txt_list[0]\n",
        "        else:\n",
        "            1 / 0\n",
        "    except:\n",
        "        pass\n",
        "\n",
        "    ##\n",
        "    \"\"\"try:\n",
        "        txt_list = txt.split(\" 1. \", maxsplit=1)\n",
        "        if len(txt) > 1:\n",
        "            txt = txt_list[0]\n",
        "        else:\n",
        "            1 / 0\n",
        "    except:\n",
        "        pass\"\"\"\n",
        "\n",
        "    try:\n",
        "        txt_list = txt.split(\"SEE ALSO\", maxsplit=1)\n",
        "        if len(txt) > 1:\n",
        "            txt = txt_list[0]\n",
        "        else:\n",
        "            1 / 0\n",
        "    except:\n",
        "        pass\n",
        "\n",
        "    #\n",
        "    \"\"\"try:\n",
        "        txt_list = txt.split(\"See also\", maxsplit=1)\n",
        "        if len(txt) > 1:\n",
        "            txt = txt_list[0]\n",
        "        else:\n",
        "            1 / 0\n",
        "    except:\n",
        "        pass\"\"\"\n",
        "\n",
        "    try:\n",
        "        txt_list = txt.split(\"Thank you. \", maxsplit=1)\n",
        "        if len(txt) > 1:\n",
        "            txt = txt_list[0]\n",
        "        else:\n",
        "            1 / 0\n",
        "    except:\n",
        "        pass\n",
        "\n",
        "    try:\n",
        "        txt_list = txt.split(\"Thank you for your attention.  \", maxsplit=1)\n",
        "        if len(txt) > 1:\n",
        "            txt = txt_list[0]\n",
        "        else:\n",
        "            1 / 0\n",
        "    except:\n",
        "        pass\n",
        "\n",
        "    return txt\n"
      ],
      "metadata": {
        "colab": {
          "base_uri": "https://localhost:8080/"
        },
        "id": "2DP089eWoZQW",
        "outputId": "ba9a14f2-0454-4b8d-c2ce-1c28c417f6f2"
      },
      "execution_count": null,
      "outputs": [
        {
          "output_type": "stream",
          "name": "stdout",
          "text": [
            "Looking in indexes: https://pypi.org/simple, https://us-python.pkg.dev/colab-wheels/public/simple/\n",
            "Requirement already satisfied: contractions in /usr/local/lib/python3.8/dist-packages (0.1.73)\n",
            "Requirement already satisfied: textsearch>=0.0.21 in /usr/local/lib/python3.8/dist-packages (from contractions) (0.0.24)\n",
            "Requirement already satisfied: anyascii in /usr/local/lib/python3.8/dist-packages (from textsearch>=0.0.21->contractions) (0.3.1)\n",
            "Requirement already satisfied: pyahocorasick in /usr/local/lib/python3.8/dist-packages (from textsearch>=0.0.21->contractions) (2.0.0)\n"
          ]
        }
      ]
    },
    {
      "cell_type": "code",
      "execution_count": null,
      "metadata": {
        "id": "2mATN7EqnSqU"
      },
      "outputs": [],
      "source": [
        "from pathlib import Path\n",
        "\n",
        "\n",
        "import matplotlib.pyplot as plt\n",
        "from sklearn.model_selection import train_test_split\n",
        "import numpy as np\n",
        "import pandas as pd\n",
        "#from category_encoders import WOEEncoder"
      ]
    },
    {
      "cell_type": "code",
      "source": [
        "from google.colab import drive\n",
        "drive.mount('/content/drive')"
      ],
      "metadata": {
        "colab": {
          "base_uri": "https://localhost:8080/"
        },
        "id": "aV5KY3PRrfmG",
        "outputId": "2e65ec18-9858-4a55-9759-b6f813542a63"
      },
      "execution_count": null,
      "outputs": [
        {
          "output_type": "stream",
          "name": "stdout",
          "text": [
            "Mounted at /content/drive\n"
          ]
        }
      ]
    },
    {
      "cell_type": "code",
      "execution_count": null,
      "metadata": {
        "colab": {
          "base_uri": "https://localhost:8080/"
        },
        "id": "kCxxYh3YnSqV",
        "outputId": "51d58c26-472a-4e0d-9ebb-4700b51587bf"
      },
      "outputs": [
        {
          "output_type": "stream",
          "name": "stdout",
          "text": [
            "Current working dir: /content\n"
          ]
        }
      ],
      "source": [
        "set_working_dir()"
      ]
    },
    {
      "cell_type": "markdown",
      "metadata": {
        "id": "FviatDXBnSqW"
      },
      "source": [
        "# Load Data"
      ]
    },
    {
      "cell_type": "code",
      "execution_count": null,
      "metadata": {
        "id": "JxbfL7U_nSqY"
      },
      "outputs": [],
      "source": [
        "path = Path(\"data\")\n",
        "files_path = {\n",
        "    \"ecb\": '/content/drive/MyDrive/DATA CHALLENGE/ecb_data.csv',\n",
        "    \"fed\": '/content/drive/MyDrive/DATA CHALLENGE/fed_data.csv',\n",
        "    \"train_series\": '/content/drive/MyDrive/DATA CHALLENGE/train_series.csv',\n",
        "}"
      ]
    },
    {
      "cell_type": "code",
      "execution_count": null,
      "metadata": {
        "colab": {
          "base_uri": "https://localhost:8080/"
        },
        "id": "bLaqadxdnSqY",
        "outputId": "e9410806-9e1f-46f6-d08f-f31d3b9782ae"
      },
      "outputs": [
        {
          "output_type": "stream",
          "name": "stdout",
          "text": [
            "(1772, 3) (739, 3) (8946, 14)\n"
          ]
        }
      ],
      "source": [
        "# LOAD TEXT DATA\n",
        "df_ecb, df_fed, df_train_series = load_data(files_path)\n",
        "print(df_ecb.shape, df_fed.shape, df_train_series.shape)"
      ]
    },
    {
      "cell_type": "markdown",
      "metadata": {
        "id": "aBW53wmYnSqZ"
      },
      "source": [
        "# Text Cleaning"
      ]
    },
    {
      "cell_type": "markdown",
      "metadata": {
        "id": "zOafxoZZnSqZ"
      },
      "source": [
        "## Link Texts to Series\n",
        "\n",
        "Create some indices"
      ]
    },
    {
      "cell_type": "code",
      "execution_count": null,
      "metadata": {
        "id": "c5U3VFOMnSqa"
      },
      "outputs": [],
      "source": [
        "df_ecb.reset_index(inplace=True, names=\"id_ecb\")\n",
        "df_fed.reset_index(inplace=True, names=\"id_fed\")  \n",
        "df_train_series.reset_index(inplace=True, names=\"id_series\")\n"
      ]
    },
    {
      "cell_type": "markdown",
      "metadata": {
        "id": "dTt_-5hUnSqa"
      },
      "source": [
        "Create a list rather than a string with a comma separator"
      ]
    },
    {
      "cell_type": "code",
      "execution_count": null,
      "metadata": {
        "id": "La6YkiLPnSqa"
      },
      "outputs": [],
      "source": [
        "df_train_series[\"id_ecb\"] = [x.split(\",\") for x in df_train_series['index ecb']]\n",
        "df_train_series[\"id_fed\"] = [x.split(\",\") for x in df_train_series['index fed']]\n",
        "del df_train_series['index ecb']\n",
        "del df_train_series['index fed']"
      ]
    },
    {
      "cell_type": "markdown",
      "metadata": {
        "id": "T4IRkDJynSqb"
      },
      "source": [
        "## Remove Footnotes"
      ]
    },
    {
      "cell_type": "code",
      "execution_count": null,
      "metadata": {
        "id": "vbCGfoR4nSqb"
      },
      "outputs": [],
      "source": [
        "df_ecb[\"text_process\"] = df_ecb.text.apply(lambda x: suppr_footnotes(x))\n",
        "df_fed[\"text_process\"] = df_fed.text.apply(lambda x: suppr_footnotes(x))"
      ]
    },
    {
      "cell_type": "markdown",
      "metadata": {
        "id": "H3CH1XFqnSqc"
      },
      "source": [
        "## Deal with Null Values"
      ]
    },
    {
      "cell_type": "code",
      "execution_count": null,
      "metadata": {
        "id": "K5X8uH4pnSqc"
      },
      "outputs": [],
      "source": [
        "# REPLACE NULL TEXTS BY TITLE\n",
        "index_no_texts = df_ecb[df_ecb[\"text_process\"].isnull()].index.values\n",
        "df_ecb.loc[index_no_texts, \"text_process\"] = df_ecb.loc[index_no_texts, \"title\"].values"
      ]
    },
    {
      "cell_type": "markdown",
      "metadata": {
        "id": "kwHyuF5KnSqd"
      },
      "source": [
        "## Remove special characters, stop words, Lemmatization..."
      ]
    },
    {
      "cell_type": "code",
      "source": [
        "import nltk\n",
        "nltk.download('punkt')\n",
        "nltk.download('stopwords')\n",
        "nltk.download('averaged_perceptron_tagger')\n",
        "nltk.download('wordnet')\n",
        "nltk.download('omw-1.4')"
      ],
      "metadata": {
        "colab": {
          "base_uri": "https://localhost:8080/"
        },
        "id": "dCk2V0AGuicq",
        "outputId": "6325ab96-8eb2-46e6-9d72-8e4f55a68706"
      },
      "execution_count": null,
      "outputs": [
        {
          "output_type": "stream",
          "name": "stderr",
          "text": [
            "[nltk_data] Downloading package punkt to /root/nltk_data...\n",
            "[nltk_data]   Unzipping tokenizers/punkt.zip.\n",
            "[nltk_data] Downloading package stopwords to /root/nltk_data...\n",
            "[nltk_data]   Unzipping corpora/stopwords.zip.\n",
            "[nltk_data] Downloading package averaged_perceptron_tagger to\n",
            "[nltk_data]     /root/nltk_data...\n",
            "[nltk_data]   Unzipping taggers/averaged_perceptron_tagger.zip.\n",
            "[nltk_data] Downloading package wordnet to /root/nltk_data...\n",
            "[nltk_data] Downloading package omw-1.4 to /root/nltk_data...\n"
          ]
        },
        {
          "output_type": "execute_result",
          "data": {
            "text/plain": [
              "True"
            ]
          },
          "metadata": {},
          "execution_count": 20
        }
      ]
    },
    {
      "cell_type": "code",
      "execution_count": null,
      "metadata": {
        "id": "gp3DaPIanSqe"
      },
      "outputs": [],
      "source": [
        "# Clean Data\n",
        "\n",
        "\n",
        "\n",
        "negation_words = [\"no\", \"not\"]\n",
        "df_fed.text_process = [text_cleaning(\n",
        "        x,\n",
        "        negation_set=negation_words,\n",
        "        fg_no_numbers=True,\n",
        "        fg_stop_words=True,\n",
        "        fg_lemmatization=True,\n",
        "    ) for x in df_fed.text_process]\n",
        "df_ecb.text_process = [text_cleaning(\n",
        "        x,\n",
        "        negation_set=negation_words,\n",
        "        fg_no_numbers=True,\n",
        "        fg_stop_words=True,\n",
        "        fg_lemmatization=True,\n",
        "    ) for x in df_ecb.text_process]"
      ]
    },
    {
      "cell_type": "markdown",
      "metadata": {
        "id": "6UzEXo-lnSqe"
      },
      "source": [
        "Less efficient "
      ]
    },
    {
      "cell_type": "code",
      "execution_count": null,
      "metadata": {
        "colab": {
          "base_uri": "https://localhost:8080/",
          "height": 105
        },
        "id": "3h71UyllnSqe",
        "outputId": "f251e56f-a031-4e77-8a8a-2dccc1bd7258"
      },
      "outputs": [
        {
          "output_type": "execute_result",
          "data": {
            "text/plain": [
              "'# CLEAN TEXTS\\nnegation_words = [\"no\", \"not\"]\\ndf_fed.text_process = df_fed.text_process.apply(\\n    lambda x: text_cleaning(\\n        x,\\n        negation_set=negation_words,\\n        fg_no_numbers=True,\\n        fg_stop_words=True,\\n        fg_lemmatization=True,\\n    )\\n)\\ndf_ecb.text_process = df_ecb.text_process.apply(\\n    lambda x: text_cleaning(\\n        x,\\n        negation_set=negation_words,\\n        fg_no_numbers=True,\\n        fg_stop_words=True,\\n        fg_lemmatization=True,\\n    )\\n)'"
            ],
            "application/vnd.google.colaboratory.intrinsic+json": {
              "type": "string"
            }
          },
          "metadata": {},
          "execution_count": 22
        }
      ],
      "source": [
        "\"\"\"# CLEAN TEXTS\n",
        "negation_words = [\"no\", \"not\"]\n",
        "df_fed.text_process = df_fed.text_process.apply(\n",
        "    lambda x: text_cleaning(\n",
        "        x,\n",
        "        negation_set=negation_words,\n",
        "        fg_no_numbers=True,\n",
        "        fg_stop_words=True,\n",
        "        fg_lemmatization=True,\n",
        "    )\n",
        ")\n",
        "df_ecb.text_process = df_ecb.text_process.apply(\n",
        "    lambda x: text_cleaning(\n",
        "        x,\n",
        "        negation_set=negation_words,\n",
        "        fg_no_numbers=True,\n",
        "        fg_stop_words=True,\n",
        "        fg_lemmatization=True,\n",
        "    )\n",
        ")\"\"\""
      ]
    },
    {
      "cell_type": "code",
      "execution_count": null,
      "metadata": {
        "id": "j5t8V822nSqf"
      },
      "outputs": [],
      "source": [
        "#df_fed.text_process = a \n",
        "#df_ecb.text_process = b"
      ]
    },
    {
      "cell_type": "markdown",
      "metadata": {
        "id": "OzGIrsNEnSqf"
      },
      "source": [
        "Length of the texts"
      ]
    },
    {
      "cell_type": "code",
      "execution_count": null,
      "metadata": {
        "colab": {
          "base_uri": "https://localhost:8080/",
          "height": 281
        },
        "id": "OiFrVWlDnSqf",
        "outputId": "3b429244-64eb-4f06-bbef-d2019b93a081"
      },
      "outputs": [
        {
          "output_type": "display_data",
          "data": {
            "text/plain": [
              "<Figure size 432x288 with 2 Axes>"
            ],
            "image/png": "[encoded data removed]"
          },
          "metadata": {
            "needs_background": "light"
          }
        }
      ],
      "source": [
        "lenght_texts_ecb = [len(str(x).split(\" \")) for x in df_ecb.text]\n",
        "lenght_texts_fed = [len(str(x).split(\" \")) for x in df_fed.text]\n",
        "fig, ax = plt.subplots(1,2)\n",
        "ax[0].hist(lenght_texts_ecb, bins=50)\n",
        "ax[0].set_title(\"ECB\")\n",
        "ax[1].hist(lenght_texts_fed, bins=50)\n",
        "ax[1].set_title(\"FED\")\n",
        "plt.show()"
      ]
    },
    {
      "cell_type": "code",
      "execution_count": null,
      "metadata": {
        "colab": {
          "base_uri": "https://localhost:8080/",
          "height": 281
        },
        "id": "WODiwFXRnSqg",
        "outputId": "b6a42560-ceaa-4cc9-cec7-d1c8df8d676e"
      },
      "outputs": [
        {
          "output_type": "display_data",
          "data": {
            "text/plain": [
              "<Figure size 432x288 with 2 Axes>"
            ],
            "image/png": "[encoded data removed]"
          },
          "metadata": {
            "needs_background": "light"
          }
        }
      ],
      "source": [
        "lenght_texts_ecb = [len(str(x).split(\" \")) for x in df_ecb.text_process]\n",
        "lenght_texts_fed = [len(str(x).split(\" \")) for x in df_fed.text_process]\n",
        "fig, ax = plt.subplots(1,2)\n",
        "ax[0].hist(lenght_texts_ecb, bins=50)\n",
        "ax[0].set_title(\"ECB\")\n",
        "ax[1].hist(lenght_texts_fed, bins=50)\n",
        "ax[1].set_title(\"FED\")\n",
        "plt.show()"
      ]
    },
    {
      "cell_type": "code",
      "execution_count": null,
      "metadata": {
        "id": "70RzSrG7nSqg"
      },
      "outputs": [],
      "source": [
        "#np.where(np.array(lenght_texts_ecb).astype('int64')<200)"
      ]
    },
    {
      "cell_type": "markdown",
      "metadata": {
        "id": "9vN8-acxnSqh"
      },
      "source": [
        "# Categorical Variable: Speakers"
      ]
    },
    {
      "cell_type": "code",
      "execution_count": null,
      "metadata": {
        "colab": {
          "base_uri": "https://localhost:8080/"
        },
        "id": "BH2gWA0jnSqh",
        "outputId": "86bd99e1-feca-46c6-cbf6-3be3ae7a77b0"
      },
      "outputs": [
        {
          "output_type": "execute_result",
          "data": {
            "text/plain": [
              "Chairman Ben S. Bernanke                        145\n",
              "Governor Lael Brainard                           68\n",
              "Governor Daniel K. Tarullo                       54\n",
              "Governor Jerome H. Powell                        50\n",
              "Vice Chairman Stanley Fischer                    45\n",
              "Governor Elizabeth A. Duke                       44\n",
              "Chair Janet L. Yellen                            44\n",
              "Vice Chairman Donald L. Kohn                     41\n",
              "Vice Chair for Supervision Randal K. Quarles     39\n",
              "Governor Randall S. Kroszner                     36\n",
              "Chairman Jerome H. Powell                        32\n",
              "Governor Frederic S. Mishkin                     26\n",
              "Vice Chairman Richard H. Clarida                 26\n",
              "Vice Chair Janet L. Yellen                       22\n",
              "Governor Sarah Bloom Raskin                      17\n",
              "Governor Kevin Warsh                             16\n",
              "Governor Jeremy C. Stein                         16\n",
              "Governor Michelle W. Bowman                      13\n",
              "Governor Susan S. Bies                            3\n",
              "Name: speaker, dtype: int64"
            ]
          },
          "metadata": {},
          "execution_count": 27
        }
      ],
      "source": [
        "df_fed.speaker.value_counts()"
      ]
    },
    {
      "cell_type": "code",
      "execution_count": null,
      "metadata": {
        "id": "mqz4_0yPnSqh"
      },
      "outputs": [],
      "source": [
        "df_ecb.speaker = categorical_other(df_ecb.speaker)\n",
        "df_fed.speaker = categorical_other(df_fed.speaker, threshold=0.025)"
      ]
    },
    {
      "cell_type": "markdown",
      "metadata": {
        "id": "4haoeBEDnSqh"
      },
      "source": [
        "# Text Concatenation"
      ]
    },
    {
      "cell_type": "code",
      "execution_count": null,
      "metadata": {
        "colab": {
          "base_uri": "https://localhost:8080/",
          "height": 374
        },
        "id": "dasvVmIBnSqh",
        "outputId": "4819f3f1-b814-469d-de75-78c35baf9740"
      },
      "outputs": [
        {
          "output_type": "execute_result",
          "data": {
            "text/plain": [
              "   id_series     Index Name  Index - 9  Index - 8  Index - 7  Index - 6  \\\n",
              "0          0      V2X Index   0.001045   0.005841   0.003832  -0.027519   \n",
              "1          1     MOVE Index  -0.021497   0.007891  -0.013175  -0.008436   \n",
              "2          2      SPX Index  -0.001872  -0.008154   0.023588   0.004086   \n",
              "3          3      SPX Index   0.004980  -0.000864   0.001677   0.000000   \n",
              "4          4  EURUSD Curncy   0.000360  -0.001893   0.005579  -0.003056   \n",
              "\n",
              "   Index - 5  Index - 4  Index - 3  Index - 2  Index - 1  Index - 0  \\\n",
              "0  -0.103565  -0.045086  -0.011265   0.005164   0.054050   0.015779   \n",
              "1   0.000000   0.026303   0.000556   0.001455   0.007422   0.000000   \n",
              "2   0.003493   0.003300   0.000885  -0.011304   0.005040   0.000156   \n",
              "3   0.006030  -0.001083   0.000419   0.001492   0.001018  -0.002582   \n",
              "4  -0.001171  -0.001623  -0.002350  -0.006444  -0.000729  -0.000365   \n",
              "\n",
              "   Index + 1        id_ecb      id_fed  \n",
              "0   0.010597  [1126, 1471]        [96]  \n",
              "1   0.014492         [975]       [568]  \n",
              "2   0.016263     [78, 806]  [328, 695]  \n",
              "3   0.013581   [560, 1405]       [118]  \n",
              "4   0.005092         [404]       [261]  "
            ],
            "text/html": [
              "\n",
              "  <div id=\"df-a192ffe6-3908-4e05-9ff3-1337c9141fb7\">\n",
              "    <div class=\"colab-df-container\">\n",
              "      <div>\n",
              "<style scoped>\n",
              "    .dataframe tbody tr th:only-of-type {\n",
              "        vertical-align: middle;\n",
              "    }\n",
              "\n",
              "    .dataframe tbody tr th {\n",
              "        vertical-align: top;\n",
              "    }\n",
              "\n",
              "    .dataframe thead th {\n",
              "        text-align: right;\n",
              "    }\n",
              "</style>\n",
              "<table border=\"1\" class=\"dataframe\">\n",
              "  <thead>\n",
              "    <tr style=\"text-align: right;\">\n",
              "      <th></th>\n",
              "      <th>id_series</th>\n",
              "      <th>Index Name</th>\n",
              "      <th>Index - 9</th>\n",
              "      <th>Index - 8</th>\n",
              "      <th>Index - 7</th>\n",
              "      <th>Index - 6</th>\n",
              "      <th>Index - 5</th>\n",
              "      <th>Index - 4</th>\n",
              "      <th>Index - 3</th>\n",
              "      <th>Index - 2</th>\n",
              "      <th>Index - 1</th>\n",
              "      <th>Index - 0</th>\n",
              "      <th>Index + 1</th>\n",
              "      <th>id_ecb</th>\n",
              "      <th>id_fed</th>\n",
              "    </tr>\n",
              "  </thead>\n",
              "  <tbody>\n",
              "    <tr>\n",
              "      <th>0</th>\n",
              "      <td>0</td>\n",
              "      <td>V2X Index</td>\n",
              "      <td>0.001045</td>\n",
              "      <td>0.005841</td>\n",
              "      <td>0.003832</td>\n",
              "      <td>-0.027519</td>\n",
              "      <td>-0.103565</td>\n",
              "      <td>-0.045086</td>\n",
              "      <td>-0.011265</td>\n",
              "      <td>0.005164</td>\n",
              "      <td>0.054050</td>\n",
              "      <td>0.015779</td>\n",
              "      <td>0.010597</td>\n",
              "      <td>[1126, 1471]</td>\n",
              "      <td>[96]</td>\n",
              "    </tr>\n",
              "    <tr>\n",
              "      <th>1</th>\n",
              "      <td>1</td>\n",
              "      <td>MOVE Index</td>\n",
              "      <td>-0.021497</td>\n",
              "      <td>0.007891</td>\n",
              "      <td>-0.013175</td>\n",
              "      <td>-0.008436</td>\n",
              "      <td>0.000000</td>\n",
              "      <td>0.026303</td>\n",
              "      <td>0.000556</td>\n",
              "      <td>0.001455</td>\n",
              "      <td>0.007422</td>\n",
              "      <td>0.000000</td>\n",
              "      <td>0.014492</td>\n",
              "      <td>[975]</td>\n",
              "      <td>[568]</td>\n",
              "    </tr>\n",
              "    <tr>\n",
              "      <th>2</th>\n",
              "      <td>2</td>\n",
              "      <td>SPX Index</td>\n",
              "      <td>-0.001872</td>\n",
              "      <td>-0.008154</td>\n",
              "      <td>0.023588</td>\n",
              "      <td>0.004086</td>\n",
              "      <td>0.003493</td>\n",
              "      <td>0.003300</td>\n",
              "      <td>0.000885</td>\n",
              "      <td>-0.011304</td>\n",
              "      <td>0.005040</td>\n",
              "      <td>0.000156</td>\n",
              "      <td>0.016263</td>\n",
              "      <td>[78, 806]</td>\n",
              "      <td>[328, 695]</td>\n",
              "    </tr>\n",
              "    <tr>\n",
              "      <th>3</th>\n",
              "      <td>3</td>\n",
              "      <td>SPX Index</td>\n",
              "      <td>0.004980</td>\n",
              "      <td>-0.000864</td>\n",
              "      <td>0.001677</td>\n",
              "      <td>0.000000</td>\n",
              "      <td>0.006030</td>\n",
              "      <td>-0.001083</td>\n",
              "      <td>0.000419</td>\n",
              "      <td>0.001492</td>\n",
              "      <td>0.001018</td>\n",
              "      <td>-0.002582</td>\n",
              "      <td>0.013581</td>\n",
              "      <td>[560, 1405]</td>\n",
              "      <td>[118]</td>\n",
              "    </tr>\n",
              "    <tr>\n",
              "      <th>4</th>\n",
              "      <td>4</td>\n",
              "      <td>EURUSD Curncy</td>\n",
              "      <td>0.000360</td>\n",
              "      <td>-0.001893</td>\n",
              "      <td>0.005579</td>\n",
              "      <td>-0.003056</td>\n",
              "      <td>-0.001171</td>\n",
              "      <td>-0.001623</td>\n",
              "      <td>-0.002350</td>\n",
              "      <td>-0.006444</td>\n",
              "      <td>-0.000729</td>\n",
              "      <td>-0.000365</td>\n",
              "      <td>0.005092</td>\n",
              "      <td>[404]</td>\n",
              "      <td>[261]</td>\n",
              "    </tr>\n",
              "  </tbody>\n",
              "</table>\n",
              "</div>\n",
              "      <button class=\"colab-df-convert\" onclick=\"convertToInteractive('df-a192ffe6-3908-4e05-9ff3-1337c9141fb7')\"\n",
              "              title=\"Convert this dataframe to an interactive table.\"\n",
              "              style=\"display:none;\">\n",
              "        \n",
              "  <svg xmlns=\"http://www.w3.org/2000/svg\" height=\"24px\"viewBox=\"0 0 24 24\"\n",
              "       width=\"24px\">\n",
              "    <path d=\"M0 0h24v24H0V0z\" fill=\"none\"/>\n",
              "    <path d=\"M18.56 5.44l.94 2.06.94-2.06 2.06-.94-2.06-.94-.94-2.06-.94 2.06-2.06.94zm-11 1L8.5 8.5l.94-2.06 2.06-.94-2.06-.94L8.5 2.5l-.94 2.06-2.06.94zm10 10l.94 2.06.94-2.06 2.06-.94-2.06-.94-.94-2.06-.94 2.06-2.06.94z\"/><path d=\"M17.41 7.96l-1.37-1.37c-.4-.4-.92-.59-1.43-.59-.52 0-1.04.2-1.43.59L10.3 9.45l-7.72 7.72c-.78.78-.78 2.05 0 2.83L4 21.41c.39.39.9.59 1.41.59.51 0 1.02-.2 1.41-.59l7.78-7.78 2.81-2.81c.8-.78.8-2.07 0-2.86zM5.41 20L4 18.59l7.72-7.72 1.47 1.35L5.41 20z\"/>\n",
              "  </svg>\n",
              "      </button>\n",
              "      \n",
              "  <style>\n",
              "    .colab-df-container {\n",
              "      display:flex;\n",
              "      flex-wrap:wrap;\n",
              "      gap: 12px;\n",
              "    }\n",
              "\n",
              "    .colab-df-convert {\n",
              "      background-color: #E8F0FE;\n",
              "      border: none;\n",
              "      border-radius: 50%;\n",
              "      cursor: pointer;\n",
              "      display: none;\n",
              "      fill: #1967D2;\n",
              "      height: 32px;\n",
              "      padding: 0 0 0 0;\n",
              "      width: 32px;\n",
              "    }\n",
              "\n",
              "    .colab-df-convert:hover {\n",
              "      background-color: #E2EBFA;\n",
              "      box-shadow: 0px 1px 2px rgba(60, 64, 67, 0.3), 0px 1px 3px 1px rgba(60, 64, 67, 0.15);\n",
              "      fill: #174EA6;\n",
              "    }\n",
              "\n",
              "    [theme=dark] .colab-df-convert {\n",
              "      background-color: #3B4455;\n",
              "      fill: #D2E3FC;\n",
              "    }\n",
              "\n",
              "    [theme=dark] .colab-df-convert:hover {\n",
              "      background-color: #434B5C;\n",
              "      box-shadow: 0px 1px 3px 1px rgba(0, 0, 0, 0.15);\n",
              "      filter: drop-shadow(0px 1px 2px rgba(0, 0, 0, 0.3));\n",
              "      fill: #FFFFFF;\n",
              "    }\n",
              "  </style>\n",
              "\n",
              "      <script>\n",
              "        const buttonEl =\n",
              "          document.querySelector('#df-a192ffe6-3908-4e05-9ff3-1337c9141fb7 button.colab-df-convert');\n",
              "        buttonEl.style.display =\n",
              "          google.colab.kernel.accessAllowed ? 'block' : 'none';\n",
              "\n",
              "        async function convertToInteractive(key) {\n",
              "          const element = document.querySelector('#df-a192ffe6-3908-4e05-9ff3-1337c9141fb7');\n",
              "          const dataTable =\n",
              "            await google.colab.kernel.invokeFunction('convertToInteractive',\n",
              "                                                     [key], {});\n",
              "          if (!dataTable) return;\n",
              "\n",
              "          const docLinkHtml = 'Like what you see? Visit the ' +\n",
              "            '<a target=\"_blank\" href=https://colab.research.google.com/notebooks/data_table.ipynb>data table notebook</a>'\n",
              "            + ' to learn more about interactive tables.';\n",
              "          element.innerHTML = '';\n",
              "          dataTable['output_type'] = 'display_data';\n",
              "          await google.colab.output.renderOutput(dataTable, element);\n",
              "          const docLink = document.createElement('div');\n",
              "          docLink.innerHTML = docLinkHtml;\n",
              "          element.appendChild(docLink);\n",
              "        }\n",
              "      </script>\n",
              "    </div>\n",
              "  </div>\n",
              "  "
            ]
          },
          "metadata": {},
          "execution_count": 29
        }
      ],
      "source": [
        "df_train_series.head()"
      ]
    },
    {
      "cell_type": "code",
      "execution_count": null,
      "metadata": {
        "id": "7lE5EED5nSqi"
      },
      "outputs": [],
      "source": [
        "df_series_ecb_process = link_texts_series(df_train_series, df_ecb, \"id_series\", \"id_ecb\")\n",
        "df_series_fed_process = link_texts_series(df_train_series, df_fed, \"id_series\", \"id_fed\")"
      ]
    },
    {
      "cell_type": "code",
      "execution_count": null,
      "metadata": {
        "colab": {
          "base_uri": "https://localhost:8080/",
          "height": 478
        },
        "id": "mdfWSlNbnSqi",
        "outputId": "1254b651-221b-4e84-e352-feeb29ed2bc6"
      },
      "outputs": [
        {
          "output_type": "execute_result",
          "data": {
            "text/plain": [
              "   id_series     Index Name  Index - 9  Index - 8  Index - 7  Index - 6  \\\n",
              "0          0      V2X Index   0.001045   0.005841   0.003832  -0.027519   \n",
              "1          1     MOVE Index  -0.021497   0.007891  -0.013175  -0.008436   \n",
              "2          2      SPX Index  -0.001872  -0.008154   0.023588   0.004086   \n",
              "3          3      SPX Index   0.004980  -0.000864   0.001677   0.000000   \n",
              "4          4  EURUSD Curncy   0.000360  -0.001893   0.005579  -0.003056   \n",
              "\n",
              "   Index - 5  Index - 4  Index - 3  Index - 2  Index - 1  Index - 0  \\\n",
              "0  -0.103565  -0.045086  -0.011265   0.005164   0.054050   0.015779   \n",
              "1   0.000000   0.026303   0.000556   0.001455   0.007422   0.000000   \n",
              "2   0.003493   0.003300   0.000885  -0.011304   0.005040   0.000156   \n",
              "3   0.006030  -0.001083   0.000419   0.001492   0.001018  -0.002582   \n",
              "4  -0.001171  -0.001623  -0.002350  -0.006444  -0.000729  -0.000365   \n",
              "\n",
              "   Index + 1        id_ecb      id_fed  \\\n",
              "0   0.010597  [1126, 1471]        [96]   \n",
              "1   0.014492         [975]       [568]   \n",
              "2   0.016263     [78, 806]  [328, 695]   \n",
              "3   0.013581   [560, 1405]       [118]   \n",
              "4   0.005092         [404]       [261]   \n",
              "\n",
              "                                     text_concat_ecb  \\\n",
              "0  welcome address welcome remark philip r lane m...   \n",
              "1  monetary policy structural reform euro area sp...   \n",
              "2  challenge opportunity reboot european financia...   \n",
              "3  create stability uncertain world speech peter ...   \n",
              "4  money private currency reflection libra speech...   \n",
              "\n",
              "                   list_speakers_ecb  \\\n",
              "0  [Philip R. Lane, Luis de Guindos]   \n",
              "1                     [Mario Draghi]   \n",
              "2       [Benoît Cœuré, Benoît Cœuré]   \n",
              "3         [Peter Praet, Peter Praet]   \n",
              "4                      [Yves Mersch]   \n",
              "\n",
              "                                     text_concat_fed  \\\n",
              "0  delighted helsinki important conference moneta...   \n",
              "1  watch live would like thank federal reserve ba...   \n",
              "2  grateful national association business economi...   \n",
              "3  thank invitation speak today begin take stock ...   \n",
              "4  year symposium topic challenge monetary policy...   \n",
              "\n",
              "                                   list_speakers_fed  \n",
              "0                 [Vice Chairman Richard H. Clarida]  \n",
              "1                    [Vice Chairman Stanley Fischer]  \n",
              "2  [Vice Chairman Stanley Fischer, Governor Lael ...  \n",
              "3                        [Governor Jerome H. Powell]  \n",
              "4                        [Chairman Jerome H. Powell]  "
            ],
            "text/html": [
              "\n",
              "  <div id=\"df-c8ea3928-32f4-489a-a1c2-e21f184123b4\">\n",
              "    <div class=\"colab-df-container\">\n",
              "      <div>\n",
              "<style scoped>\n",
              "    .dataframe tbody tr th:only-of-type {\n",
              "        vertical-align: middle;\n",
              "    }\n",
              "\n",
              "    .dataframe tbody tr th {\n",
              "        vertical-align: top;\n",
              "    }\n",
              "\n",
              "    .dataframe thead th {\n",
              "        text-align: right;\n",
              "    }\n",
              "</style>\n",
              "<table border=\"1\" class=\"dataframe\">\n",
              "  <thead>\n",
              "    <tr style=\"text-align: right;\">\n",
              "      <th></th>\n",
              "      <th>id_series</th>\n",
              "      <th>Index Name</th>\n",
              "      <th>Index - 9</th>\n",
              "      <th>Index - 8</th>\n",
              "      <th>Index - 7</th>\n",
              "      <th>Index - 6</th>\n",
              "      <th>Index - 5</th>\n",
              "      <th>Index - 4</th>\n",
              "      <th>Index - 3</th>\n",
              "      <th>Index - 2</th>\n",
              "      <th>Index - 1</th>\n",
              "      <th>Index - 0</th>\n",
              "      <th>Index + 1</th>\n",
              "      <th>id_ecb</th>\n",
              "      <th>id_fed</th>\n",
              "      <th>text_concat_ecb</th>\n",
              "      <th>list_speakers_ecb</th>\n",
              "      <th>text_concat_fed</th>\n",
              "      <th>list_speakers_fed</th>\n",
              "    </tr>\n",
              "  </thead>\n",
              "  <tbody>\n",
              "    <tr>\n",
              "      <th>0</th>\n",
              "      <td>0</td>\n",
              "      <td>V2X Index</td>\n",
              "      <td>0.001045</td>\n",
              "      <td>0.005841</td>\n",
              "      <td>0.003832</td>\n",
              "      <td>-0.027519</td>\n",
              "      <td>-0.103565</td>\n",
              "      <td>-0.045086</td>\n",
              "      <td>-0.011265</td>\n",
              "      <td>0.005164</td>\n",
              "      <td>0.054050</td>\n",
              "      <td>0.015779</td>\n",
              "      <td>0.010597</td>\n",
              "      <td>[1126, 1471]</td>\n",
              "      <td>[96]</td>\n",
              "      <td>welcome address welcome remark philip r lane m...</td>\n",
              "      <td>[Philip R. Lane, Luis de Guindos]</td>\n",
              "      <td>delighted helsinki important conference moneta...</td>\n",
              "      <td>[Vice Chairman Richard H. Clarida]</td>\n",
              "    </tr>\n",
              "    <tr>\n",
              "      <th>1</th>\n",
              "      <td>1</td>\n",
              "      <td>MOVE Index</td>\n",
              "      <td>-0.021497</td>\n",
              "      <td>0.007891</td>\n",
              "      <td>-0.013175</td>\n",
              "      <td>-0.008436</td>\n",
              "      <td>0.000000</td>\n",
              "      <td>0.026303</td>\n",
              "      <td>0.000556</td>\n",
              "      <td>0.001455</td>\n",
              "      <td>0.007422</td>\n",
              "      <td>0.000000</td>\n",
              "      <td>0.014492</td>\n",
              "      <td>[975]</td>\n",
              "      <td>[568]</td>\n",
              "      <td>monetary policy structural reform euro area sp...</td>\n",
              "      <td>[Mario Draghi]</td>\n",
              "      <td>watch live would like thank federal reserve ba...</td>\n",
              "      <td>[Vice Chairman Stanley Fischer]</td>\n",
              "    </tr>\n",
              "    <tr>\n",
              "      <th>2</th>\n",
              "      <td>2</td>\n",
              "      <td>SPX Index</td>\n",
              "      <td>-0.001872</td>\n",
              "      <td>-0.008154</td>\n",
              "      <td>0.023588</td>\n",
              "      <td>0.004086</td>\n",
              "      <td>0.003493</td>\n",
              "      <td>0.003300</td>\n",
              "      <td>0.000885</td>\n",
              "      <td>-0.011304</td>\n",
              "      <td>0.005040</td>\n",
              "      <td>0.000156</td>\n",
              "      <td>0.016263</td>\n",
              "      <td>[78, 806]</td>\n",
              "      <td>[328, 695]</td>\n",
              "      <td>challenge opportunity reboot european financia...</td>\n",
              "      <td>[Benoît Cœuré, Benoît Cœuré]</td>\n",
              "      <td>grateful national association business economi...</td>\n",
              "      <td>[Vice Chairman Stanley Fischer, Governor Lael ...</td>\n",
              "    </tr>\n",
              "    <tr>\n",
              "      <th>3</th>\n",
              "      <td>3</td>\n",
              "      <td>SPX Index</td>\n",
              "      <td>0.004980</td>\n",
              "      <td>-0.000864</td>\n",
              "      <td>0.001677</td>\n",
              "      <td>0.000000</td>\n",
              "      <td>0.006030</td>\n",
              "      <td>-0.001083</td>\n",
              "      <td>0.000419</td>\n",
              "      <td>0.001492</td>\n",
              "      <td>0.001018</td>\n",
              "      <td>-0.002582</td>\n",
              "      <td>0.013581</td>\n",
              "      <td>[560, 1405]</td>\n",
              "      <td>[118]</td>\n",
              "      <td>create stability uncertain world speech peter ...</td>\n",
              "      <td>[Peter Praet, Peter Praet]</td>\n",
              "      <td>thank invitation speak today begin take stock ...</td>\n",
              "      <td>[Governor Jerome H. Powell]</td>\n",
              "    </tr>\n",
              "    <tr>\n",
              "      <th>4</th>\n",
              "      <td>4</td>\n",
              "      <td>EURUSD Curncy</td>\n",
              "      <td>0.000360</td>\n",
              "      <td>-0.001893</td>\n",
              "      <td>0.005579</td>\n",
              "      <td>-0.003056</td>\n",
              "      <td>-0.001171</td>\n",
              "      <td>-0.001623</td>\n",
              "      <td>-0.002350</td>\n",
              "      <td>-0.006444</td>\n",
              "      <td>-0.000729</td>\n",
              "      <td>-0.000365</td>\n",
              "      <td>0.005092</td>\n",
              "      <td>[404]</td>\n",
              "      <td>[261]</td>\n",
              "      <td>money private currency reflection libra speech...</td>\n",
              "      <td>[Yves Mersch]</td>\n",
              "      <td>year symposium topic challenge monetary policy...</td>\n",
              "      <td>[Chairman Jerome H. Powell]</td>\n",
              "    </tr>\n",
              "  </tbody>\n",
              "</table>\n",
              "</div>\n",
              "      <button class=\"colab-df-convert\" onclick=\"convertToInteractive('df-c8ea3928-32f4-489a-a1c2-e21f184123b4')\"\n",
              "              title=\"Convert this dataframe to an interactive table.\"\n",
              "              style=\"display:none;\">\n",
              "        \n",
              "  <svg xmlns=\"http://www.w3.org/2000/svg\" height=\"24px\"viewBox=\"0 0 24 24\"\n",
              "       width=\"24px\">\n",
              "    <path d=\"M0 0h24v24H0V0z\" fill=\"none\"/>\n",
              "    <path d=\"M18.56 5.44l.94 2.06.94-2.06 2.06-.94-2.06-.94-.94-2.06-.94 2.06-2.06.94zm-11 1L8.5 8.5l.94-2.06 2.06-.94-2.06-.94L8.5 2.5l-.94 2.06-2.06.94zm10 10l.94 2.06.94-2.06 2.06-.94-2.06-.94-.94-2.06-.94 2.06-2.06.94z\"/><path d=\"M17.41 7.96l-1.37-1.37c-.4-.4-.92-.59-1.43-.59-.52 0-1.04.2-1.43.59L10.3 9.45l-7.72 7.72c-.78.78-.78 2.05 0 2.83L4 21.41c.39.39.9.59 1.41.59.51 0 1.02-.2 1.41-.59l7.78-7.78 2.81-2.81c.8-.78.8-2.07 0-2.86zM5.41 20L4 18.59l7.72-7.72 1.47 1.35L5.41 20z\"/>\n",
              "  </svg>\n",
              "      </button>\n",
              "      \n",
              "  <style>\n",
              "    .colab-df-container {\n",
              "      display:flex;\n",
              "      flex-wrap:wrap;\n",
              "      gap: 12px;\n",
              "    }\n",
              "\n",
              "    .colab-df-convert {\n",
              "      background-color: #E8F0FE;\n",
              "      border: none;\n",
              "      border-radius: 50%;\n",
              "      cursor: pointer;\n",
              "      display: none;\n",
              "      fill: #1967D2;\n",
              "      height: 32px;\n",
              "      padding: 0 0 0 0;\n",
              "      width: 32px;\n",
              "    }\n",
              "\n",
              "    .colab-df-convert:hover {\n",
              "      background-color: #E2EBFA;\n",
              "      box-shadow: 0px 1px 2px rgba(60, 64, 67, 0.3), 0px 1px 3px 1px rgba(60, 64, 67, 0.15);\n",
              "      fill: #174EA6;\n",
              "    }\n",
              "\n",
              "    [theme=dark] .colab-df-convert {\n",
              "      background-color: #3B4455;\n",
              "      fill: #D2E3FC;\n",
              "    }\n",
              "\n",
              "    [theme=dark] .colab-df-convert:hover {\n",
              "      background-color: #434B5C;\n",
              "      box-shadow: 0px 1px 3px 1px rgba(0, 0, 0, 0.15);\n",
              "      filter: drop-shadow(0px 1px 2px rgba(0, 0, 0, 0.3));\n",
              "      fill: #FFFFFF;\n",
              "    }\n",
              "  </style>\n",
              "\n",
              "      <script>\n",
              "        const buttonEl =\n",
              "          document.querySelector('#df-c8ea3928-32f4-489a-a1c2-e21f184123b4 button.colab-df-convert');\n",
              "        buttonEl.style.display =\n",
              "          google.colab.kernel.accessAllowed ? 'block' : 'none';\n",
              "\n",
              "        async function convertToInteractive(key) {\n",
              "          const element = document.querySelector('#df-c8ea3928-32f4-489a-a1c2-e21f184123b4');\n",
              "          const dataTable =\n",
              "            await google.colab.kernel.invokeFunction('convertToInteractive',\n",
              "                                                     [key], {});\n",
              "          if (!dataTable) return;\n",
              "\n",
              "          const docLinkHtml = 'Like what you see? Visit the ' +\n",
              "            '<a target=\"_blank\" href=https://colab.research.google.com/notebooks/data_table.ipynb>data table notebook</a>'\n",
              "            + ' to learn more about interactive tables.';\n",
              "          element.innerHTML = '';\n",
              "          dataTable['output_type'] = 'display_data';\n",
              "          await google.colab.output.renderOutput(dataTable, element);\n",
              "          const docLink = document.createElement('div');\n",
              "          docLink.innerHTML = docLinkHtml;\n",
              "          element.appendChild(docLink);\n",
              "        }\n",
              "      </script>\n",
              "    </div>\n",
              "  </div>\n",
              "  "
            ]
          },
          "metadata": {},
          "execution_count": 31
        }
      ],
      "source": [
        "df_train_series = df_train_series.merge(df_series_ecb_process,on='id_series',how='left')\n",
        "df_train_series = df_train_series.merge(df_series_fed_process,on='id_series',how='left')\n",
        "df_train_series.head()"
      ]
    },
    {
      "cell_type": "markdown",
      "metadata": {
        "id": "iRYohLifnSqi"
      },
      "source": [
        "# Removal Zero value Time series\n",
        "\n",
        "Probably due to a score approximation \n",
        "\n",
        "Some times all indices are null"
      ]
    },
    {
      "cell_type": "code",
      "execution_count": null,
      "metadata": {
        "colab": {
          "base_uri": "https://localhost:8080/"
        },
        "id": "lXV1mA5FnSqj",
        "outputId": "7e76f240-10fc-4faa-dc88-81d1616e1446"
      },
      "outputs": [
        {
          "output_type": "execute_result",
          "data": {
            "text/plain": [
              "SRVIX Index         428\n",
              "CVIX Index           70\n",
              "MOVE Index           50\n",
              "VIX Index            41\n",
              "V2X Index            36\n",
              "SPX Index            36\n",
              "SX5E Index           25\n",
              "EURUSDV1M Curncy     13\n",
              "EURUSD Curncy         7\n",
              "Name: Index Name, dtype: int64"
            ]
          },
          "metadata": {},
          "execution_count": 32
        }
      ],
      "source": [
        "df_train_series.loc[df_train_series['Index + 1']==0.0]['Index Name'].value_counts()"
      ]
    },
    {
      "cell_type": "code",
      "execution_count": null,
      "metadata": {
        "colab": {
          "base_uri": "https://localhost:8080/",
          "height": 478
        },
        "id": "iTU9mofnnSqj",
        "outputId": "56eed98f-a8ea-4ad4-a6a9-813334048372"
      },
      "outputs": [
        {
          "output_type": "execute_result",
          "data": {
            "text/plain": [
              "   id_series     Index Name  Index - 9  Index - 8  Index - 7  Index - 6  \\\n",
              "0          0      V2X Index   0.001045   0.005841   0.003832  -0.027519   \n",
              "1          1     MOVE Index  -0.021497   0.007891  -0.013175  -0.008436   \n",
              "2          2      SPX Index  -0.001872  -0.008154   0.023588   0.004086   \n",
              "3          3      SPX Index   0.004980  -0.000864   0.001677   0.000000   \n",
              "4          4  EURUSD Curncy   0.000360  -0.001893   0.005579  -0.003056   \n",
              "\n",
              "   Index - 5  Index - 4  Index - 3  Index - 2  Index - 1  Index - 0  \\\n",
              "0  -0.103565  -0.045086  -0.011265   0.005164   0.054050   0.015779   \n",
              "1   0.000000   0.026303   0.000556   0.001455   0.007422   0.000000   \n",
              "2   0.003493   0.003300   0.000885  -0.011304   0.005040   0.000156   \n",
              "3   0.006030  -0.001083   0.000419   0.001492   0.001018  -0.002582   \n",
              "4  -0.001171  -0.001623  -0.002350  -0.006444  -0.000729  -0.000365   \n",
              "\n",
              "   Index + 1        id_ecb      id_fed  \\\n",
              "0   0.010597  [1126, 1471]        [96]   \n",
              "1   0.014492         [975]       [568]   \n",
              "2   0.016263     [78, 806]  [328, 695]   \n",
              "3   0.013581   [560, 1405]       [118]   \n",
              "4   0.005092         [404]       [261]   \n",
              "\n",
              "                                     text_concat_ecb  \\\n",
              "0  welcome address welcome remark philip r lane m...   \n",
              "1  monetary policy structural reform euro area sp...   \n",
              "2  challenge opportunity reboot european financia...   \n",
              "3  create stability uncertain world speech peter ...   \n",
              "4  money private currency reflection libra speech...   \n",
              "\n",
              "                   list_speakers_ecb  \\\n",
              "0  [Philip R. Lane, Luis de Guindos]   \n",
              "1                     [Mario Draghi]   \n",
              "2       [Benoît Cœuré, Benoît Cœuré]   \n",
              "3         [Peter Praet, Peter Praet]   \n",
              "4                      [Yves Mersch]   \n",
              "\n",
              "                                     text_concat_fed  \\\n",
              "0  delighted helsinki important conference moneta...   \n",
              "1  watch live would like thank federal reserve ba...   \n",
              "2  grateful national association business economi...   \n",
              "3  thank invitation speak today begin take stock ...   \n",
              "4  year symposium topic challenge monetary policy...   \n",
              "\n",
              "                                   list_speakers_fed  \n",
              "0                 [Vice Chairman Richard H. Clarida]  \n",
              "1                    [Vice Chairman Stanley Fischer]  \n",
              "2  [Vice Chairman Stanley Fischer, Governor Lael ...  \n",
              "3                        [Governor Jerome H. Powell]  \n",
              "4                        [Chairman Jerome H. Powell]  "
            ],
            "text/html": [
              "\n",
              "  <div id=\"df-144ac2ee-d456-41a5-8059-e62457b0decd\">\n",
              "    <div class=\"colab-df-container\">\n",
              "      <div>\n",
              "<style scoped>\n",
              "    .dataframe tbody tr th:only-of-type {\n",
              "        vertical-align: middle;\n",
              "    }\n",
              "\n",
              "    .dataframe tbody tr th {\n",
              "        vertical-align: top;\n",
              "    }\n",
              "\n",
              "    .dataframe thead th {\n",
              "        text-align: right;\n",
              "    }\n",
              "</style>\n",
              "<table border=\"1\" class=\"dataframe\">\n",
              "  <thead>\n",
              "    <tr style=\"text-align: right;\">\n",
              "      <th></th>\n",
              "      <th>id_series</th>\n",
              "      <th>Index Name</th>\n",
              "      <th>Index - 9</th>\n",
              "      <th>Index - 8</th>\n",
              "      <th>Index - 7</th>\n",
              "      <th>Index - 6</th>\n",
              "      <th>Index - 5</th>\n",
              "      <th>Index - 4</th>\n",
              "      <th>Index - 3</th>\n",
              "      <th>Index - 2</th>\n",
              "      <th>Index - 1</th>\n",
              "      <th>Index - 0</th>\n",
              "      <th>Index + 1</th>\n",
              "      <th>id_ecb</th>\n",
              "      <th>id_fed</th>\n",
              "      <th>text_concat_ecb</th>\n",
              "      <th>list_speakers_ecb</th>\n",
              "      <th>text_concat_fed</th>\n",
              "      <th>list_speakers_fed</th>\n",
              "    </tr>\n",
              "  </thead>\n",
              "  <tbody>\n",
              "    <tr>\n",
              "      <th>0</th>\n",
              "      <td>0</td>\n",
              "      <td>V2X Index</td>\n",
              "      <td>0.001045</td>\n",
              "      <td>0.005841</td>\n",
              "      <td>0.003832</td>\n",
              "      <td>-0.027519</td>\n",
              "      <td>-0.103565</td>\n",
              "      <td>-0.045086</td>\n",
              "      <td>-0.011265</td>\n",
              "      <td>0.005164</td>\n",
              "      <td>0.054050</td>\n",
              "      <td>0.015779</td>\n",
              "      <td>0.010597</td>\n",
              "      <td>[1126, 1471]</td>\n",
              "      <td>[96]</td>\n",
              "      <td>welcome address welcome remark philip r lane m...</td>\n",
              "      <td>[Philip R. Lane, Luis de Guindos]</td>\n",
              "      <td>delighted helsinki important conference moneta...</td>\n",
              "      <td>[Vice Chairman Richard H. Clarida]</td>\n",
              "    </tr>\n",
              "    <tr>\n",
              "      <th>1</th>\n",
              "      <td>1</td>\n",
              "      <td>MOVE Index</td>\n",
              "      <td>-0.021497</td>\n",
              "      <td>0.007891</td>\n",
              "      <td>-0.013175</td>\n",
              "      <td>-0.008436</td>\n",
              "      <td>0.000000</td>\n",
              "      <td>0.026303</td>\n",
              "      <td>0.000556</td>\n",
              "      <td>0.001455</td>\n",
              "      <td>0.007422</td>\n",
              "      <td>0.000000</td>\n",
              "      <td>0.014492</td>\n",
              "      <td>[975]</td>\n",
              "      <td>[568]</td>\n",
              "      <td>monetary policy structural reform euro area sp...</td>\n",
              "      <td>[Mario Draghi]</td>\n",
              "      <td>watch live would like thank federal reserve ba...</td>\n",
              "      <td>[Vice Chairman Stanley Fischer]</td>\n",
              "    </tr>\n",
              "    <tr>\n",
              "      <th>2</th>\n",
              "      <td>2</td>\n",
              "      <td>SPX Index</td>\n",
              "      <td>-0.001872</td>\n",
              "      <td>-0.008154</td>\n",
              "      <td>0.023588</td>\n",
              "      <td>0.004086</td>\n",
              "      <td>0.003493</td>\n",
              "      <td>0.003300</td>\n",
              "      <td>0.000885</td>\n",
              "      <td>-0.011304</td>\n",
              "      <td>0.005040</td>\n",
              "      <td>0.000156</td>\n",
              "      <td>0.016263</td>\n",
              "      <td>[78, 806]</td>\n",
              "      <td>[328, 695]</td>\n",
              "      <td>challenge opportunity reboot european financia...</td>\n",
              "      <td>[Benoît Cœuré, Benoît Cœuré]</td>\n",
              "      <td>grateful national association business economi...</td>\n",
              "      <td>[Vice Chairman Stanley Fischer, Governor Lael ...</td>\n",
              "    </tr>\n",
              "    <tr>\n",
              "      <th>3</th>\n",
              "      <td>3</td>\n",
              "      <td>SPX Index</td>\n",
              "      <td>0.004980</td>\n",
              "      <td>-0.000864</td>\n",
              "      <td>0.001677</td>\n",
              "      <td>0.000000</td>\n",
              "      <td>0.006030</td>\n",
              "      <td>-0.001083</td>\n",
              "      <td>0.000419</td>\n",
              "      <td>0.001492</td>\n",
              "      <td>0.001018</td>\n",
              "      <td>-0.002582</td>\n",
              "      <td>0.013581</td>\n",
              "      <td>[560, 1405]</td>\n",
              "      <td>[118]</td>\n",
              "      <td>create stability uncertain world speech peter ...</td>\n",
              "      <td>[Peter Praet, Peter Praet]</td>\n",
              "      <td>thank invitation speak today begin take stock ...</td>\n",
              "      <td>[Governor Jerome H. Powell]</td>\n",
              "    </tr>\n",
              "    <tr>\n",
              "      <th>4</th>\n",
              "      <td>4</td>\n",
              "      <td>EURUSD Curncy</td>\n",
              "      <td>0.000360</td>\n",
              "      <td>-0.001893</td>\n",
              "      <td>0.005579</td>\n",
              "      <td>-0.003056</td>\n",
              "      <td>-0.001171</td>\n",
              "      <td>-0.001623</td>\n",
              "      <td>-0.002350</td>\n",
              "      <td>-0.006444</td>\n",
              "      <td>-0.000729</td>\n",
              "      <td>-0.000365</td>\n",
              "      <td>0.005092</td>\n",
              "      <td>[404]</td>\n",
              "      <td>[261]</td>\n",
              "      <td>money private currency reflection libra speech...</td>\n",
              "      <td>[Yves Mersch]</td>\n",
              "      <td>year symposium topic challenge monetary policy...</td>\n",
              "      <td>[Chairman Jerome H. Powell]</td>\n",
              "    </tr>\n",
              "  </tbody>\n",
              "</table>\n",
              "</div>\n",
              "      <button class=\"colab-df-convert\" onclick=\"convertToInteractive('df-144ac2ee-d456-41a5-8059-e62457b0decd')\"\n",
              "              title=\"Convert this dataframe to an interactive table.\"\n",
              "              style=\"display:none;\">\n",
              "        \n",
              "  <svg xmlns=\"http://www.w3.org/2000/svg\" height=\"24px\"viewBox=\"0 0 24 24\"\n",
              "       width=\"24px\">\n",
              "    <path d=\"M0 0h24v24H0V0z\" fill=\"none\"/>\n",
              "    <path d=\"M18.56 5.44l.94 2.06.94-2.06 2.06-.94-2.06-.94-.94-2.06-.94 2.06-2.06.94zm-11 1L8.5 8.5l.94-2.06 2.06-.94-2.06-.94L8.5 2.5l-.94 2.06-2.06.94zm10 10l.94 2.06.94-2.06 2.06-.94-2.06-.94-.94-2.06-.94 2.06-2.06.94z\"/><path d=\"M17.41 7.96l-1.37-1.37c-.4-.4-.92-.59-1.43-.59-.52 0-1.04.2-1.43.59L10.3 9.45l-7.72 7.72c-.78.78-.78 2.05 0 2.83L4 21.41c.39.39.9.59 1.41.59.51 0 1.02-.2 1.41-.59l7.78-7.78 2.81-2.81c.8-.78.8-2.07 0-2.86zM5.41 20L4 18.59l7.72-7.72 1.47 1.35L5.41 20z\"/>\n",
              "  </svg>\n",
              "      </button>\n",
              "      \n",
              "  <style>\n",
              "    .colab-df-container {\n",
              "      display:flex;\n",
              "      flex-wrap:wrap;\n",
              "      gap: 12px;\n",
              "    }\n",
              "\n",
              "    .colab-df-convert {\n",
              "      background-color: #E8F0FE;\n",
              "      border: none;\n",
              "      border-radius: 50%;\n",
              "      cursor: pointer;\n",
              "      display: none;\n",
              "      fill: #1967D2;\n",
              "      height: 32px;\n",
              "      padding: 0 0 0 0;\n",
              "      width: 32px;\n",
              "    }\n",
              "\n",
              "    .colab-df-convert:hover {\n",
              "      background-color: #E2EBFA;\n",
              "      box-shadow: 0px 1px 2px rgba(60, 64, 67, 0.3), 0px 1px 3px 1px rgba(60, 64, 67, 0.15);\n",
              "      fill: #174EA6;\n",
              "    }\n",
              "\n",
              "    [theme=dark] .colab-df-convert {\n",
              "      background-color: #3B4455;\n",
              "      fill: #D2E3FC;\n",
              "    }\n",
              "\n",
              "    [theme=dark] .colab-df-convert:hover {\n",
              "      background-color: #434B5C;\n",
              "      box-shadow: 0px 1px 3px 1px rgba(0, 0, 0, 0.15);\n",
              "      filter: drop-shadow(0px 1px 2px rgba(0, 0, 0, 0.3));\n",
              "      fill: #FFFFFF;\n",
              "    }\n",
              "  </style>\n",
              "\n",
              "      <script>\n",
              "        const buttonEl =\n",
              "          document.querySelector('#df-144ac2ee-d456-41a5-8059-e62457b0decd button.colab-df-convert');\n",
              "        buttonEl.style.display =\n",
              "          google.colab.kernel.accessAllowed ? 'block' : 'none';\n",
              "\n",
              "        async function convertToInteractive(key) {\n",
              "          const element = document.querySelector('#df-144ac2ee-d456-41a5-8059-e62457b0decd');\n",
              "          const dataTable =\n",
              "            await google.colab.kernel.invokeFunction('convertToInteractive',\n",
              "                                                     [key], {});\n",
              "          if (!dataTable) return;\n",
              "\n",
              "          const docLinkHtml = 'Like what you see? Visit the ' +\n",
              "            '<a target=\"_blank\" href=https://colab.research.google.com/notebooks/data_table.ipynb>data table notebook</a>'\n",
              "            + ' to learn more about interactive tables.';\n",
              "          element.innerHTML = '';\n",
              "          dataTable['output_type'] = 'display_data';\n",
              "          await google.colab.output.renderOutput(dataTable, element);\n",
              "          const docLink = document.createElement('div');\n",
              "          docLink.innerHTML = docLinkHtml;\n",
              "          element.appendChild(docLink);\n",
              "        }\n",
              "      </script>\n",
              "    </div>\n",
              "  </div>\n",
              "  "
            ]
          },
          "metadata": {},
          "execution_count": 33
        }
      ],
      "source": [
        "sup = df_train_series.loc[df_train_series['Index + 1']==0.0].index\n",
        "df_train_series.drop(sup,inplace=True)\n",
        "df_train_series.head()"
      ]
    },
    {
      "cell_type": "code",
      "execution_count": null,
      "metadata": {
        "id": "yX8h6ExAnSqj"
      },
      "outputs": [],
      "source": [
        "#df_train_series.to_csv(\"./data/train_series_clean_no_0.csv\")"
      ]
    },
    {
      "cell_type": "code",
      "source": [
        "df_train_series.columns "
      ],
      "metadata": {
        "colab": {
          "base_uri": "https://localhost:8080/"
        },
        "id": "qlbxtMrSug2Z",
        "outputId": "5c2d401c-c805-450a-a3d2-8b4ce2f551a4"
      },
      "execution_count": null,
      "outputs": [
        {
          "output_type": "execute_result",
          "data": {
            "text/plain": [
              "Index(['id_series', 'Index Name', 'Index - 9', 'Index - 8', 'Index - 7',\n",
              "       'Index - 6', 'Index - 5', 'Index - 4', 'Index - 3', 'Index - 2',\n",
              "       'Index - 1', 'Index - 0', 'Index + 1', 'id_ecb', 'id_fed',\n",
              "       'text_concat_ecb', 'list_speakers_ecb', 'text_concat_fed',\n",
              "       'list_speakers_fed'],\n",
              "      dtype='object')"
            ]
          },
          "metadata": {},
          "execution_count": 35
        }
      ]
    },
    {
      "cell_type": "markdown",
      "source": [
        "# Tokenisation\n"
      ],
      "metadata": {
        "id": "ql3gJq5-JxMQ"
      }
    },
    {
      "cell_type": "markdown",
      "source": [
        "On va désormais procéder à l'étape de tokenisation de notre texte. La tokenization permet de transformer le texte brut en une liste de tokens, qui peuvent être analysés par la suite lors de l'analyse des sentiments. En divisant le texte en unités de sens plus petites, la tokenization permet également de réduire la complexité du texte et de faciliter son analyse."
      ],
      "metadata": {
        "id": "bqELFt5suFjC"
      }
    },
    {
      "cell_type": "code",
      "source": [
        "import nltk\n",
        "from nltk.tokenize import word_tokenize\n",
        "\n",
        "nltk.download('punkt')\n",
        "\n",
        "# Création d'une fonction de tokenisation\n",
        "def tokenize_text(text):\n",
        "    tokens = word_tokenize(text)\n",
        "    return tokens\n",
        "\n",
        "# Appliquer la fonction de tokenisation à chaque ligne de la colonne \"\n",
        "df_train_series['text_concat_ecb_tokenisé'] = df_train_series['text_concat_ecb'].apply(tokenize_text)\n",
        "df_train_series['text_concat_fed_tokenisé'] = df_train_series['text_concat_fed'].apply(tokenize_text)\n",
        "\n"
      ],
      "metadata": {
        "colab": {
          "base_uri": "https://localhost:8080/"
        },
        "id": "AXFHnU8bKesi",
        "outputId": "fe3e4834-a247-4e8e-fa30-32164eb9e4a3"
      },
      "execution_count": null,
      "outputs": [
        {
          "output_type": "stream",
          "name": "stderr",
          "text": [
            "[nltk_data] Downloading package punkt to /root/nltk_data...\n",
            "[nltk_data]   Package punkt is already up-to-date!\n"
          ]
        }
      ]
    },
    {
      "cell_type": "code",
      "source": [
        "df_train_series['text_concat_fed_tokenisé'].head()"
      ],
      "metadata": {
        "colab": {
          "base_uri": "https://localhost:8080/"
        },
        "id": "7XZQ3oxYxOPr",
        "outputId": "acf763f9-f443-476b-fe95-c85d06d6042a"
      },
      "execution_count": null,
      "outputs": [
        {
          "output_type": "execute_result",
          "data": {
            "text/plain": [
              "0    [delighted, helsinki, important, conference, m...\n",
              "1    [watch, live, would, like, thank, federal, res...\n",
              "2    [grateful, national, association, business, ec...\n",
              "3    [thank, invitation, speak, today, begin, take,...\n",
              "4    [year, symposium, topic, challenge, monetary, ...\n",
              "Name: text_concat_fed_tokenisé, dtype: object"
            ]
          },
          "metadata": {},
          "execution_count": 37
        }
      ]
    },
    {
      "cell_type": "code",
      "source": [
        "# On crée une nouvelle colonne appelé 'V_Cible_categ', rendant catégorielle notre variable cible (pour la classification)\n",
        "\n",
        "df_train_series['V_Cible_categ'] = df_train_series['Index + 1'].apply(lambda x: 'Hausse' if x > 0 else 'Baisse')\n",
        "df_train_series['V_Cible_categ']"
      ],
      "metadata": {
        "id": "OafIFskLKev6",
        "colab": {
          "base_uri": "https://localhost:8080/"
        },
        "outputId": "fe2b75c6-ecf3-456c-8f6d-371e35756c36"
      },
      "execution_count": null,
      "outputs": [
        {
          "output_type": "execute_result",
          "data": {
            "text/plain": [
              "0       Hausse\n",
              "1       Hausse\n",
              "2       Hausse\n",
              "3       Hausse\n",
              "4       Hausse\n",
              "         ...  \n",
              "8941    Baisse\n",
              "8942    Baisse\n",
              "8943    Hausse\n",
              "8944    Baisse\n",
              "8945    Hausse\n",
              "Name: V_Cible_categ, Length: 8240, dtype: object"
            ]
          },
          "metadata": {},
          "execution_count": 38
        }
      ]
    },
    {
      "cell_type": "markdown",
      "source": [
        "# Sentiment Analysis\n"
      ],
      "metadata": {
        "id": "KQ1ByK6EwP8G"
      }
    },
    {
      "cell_type": "markdown",
      "source": [
        "## TextBlob"
      ],
      "metadata": {
        "id": "zKWm6DYUcswt"
      }
    },
    {
      "cell_type": "markdown",
      "source": [
        "Tout d'abord, rappelons qu'il est important de réaliser l'analyse de sentiment avec des algorithmes différents, afin de déterminer lequel est le plus adapté à nos données.\n",
        "Nous faisons ici l'analyse de sentiment avec TextBlob et Vader, les deux algorithmes les plus connus et utilisés, mais qui ne sont pas particulièrement adaptés à la finance"
      ],
      "metadata": {
        "id": "9K0ECrOpkSzR"
      }
    },
    {
      "cell_type": "markdown",
      "source": [
        "1/ Analyse de sentiment avec TextBlob"
      ],
      "metadata": {
        "id": "SbCdmI6SjpgC"
      }
    },
    {
      "cell_type": "code",
      "source": [
        "from textblob import TextBlob\n",
        "\n",
        "\n",
        "# Ajouter une colonne pour le score de polarité\n",
        "df_train_series['polarity_score_ecb_TB'] = df_train_series['text_concat_ecb_tokenisé'].apply(lambda x: TextBlob(' '.join(x)).sentiment.polarity)\n",
        "df_train_series['polarity_score_fed_TB'] = df_train_series['text_concat_fed_tokenisé'].apply(lambda x: TextBlob(' '.join(x)).sentiment.polarity)\n",
        "\n",
        "# Ajouter une colonne pour le score de subjectivité\n",
        "df_train_series['subjectivity_score_ecb_TB'] = df_train_series['text_concat_ecb_tokenisé'].apply(lambda x: TextBlob(' '.join(x)).sentiment.subjectivity)\n",
        "df_train_series['subjectivity_score_fed_TB'] = df_train_series['text_concat_fed_tokenisé'].apply(lambda x: TextBlob(' '.join(x)).sentiment.subjectivity)\n"
      ],
      "metadata": {
        "id": "DSirBsn2wUyA"
      },
      "execution_count": null,
      "outputs": []
    },
    {
      "cell_type": "code",
      "source": [
        "# Ajouter une colonne pour l'étiquetage des sentiments\n",
        "\n",
        "\n",
        "df_train_series['sentiment_label_ecb_TB'] = df_train_series['polarity_score_ecb_TB'].apply(lambda x: 'positive' if x > 0.1 else 'negative' if x < -0.1 else 'neutral')\n",
        "df_train_series['sentiment_label_fed_TB'] = df_train_series['polarity_score_fed_TB'].apply(lambda x: 'positive' if x > 0.1 else 'negative' if x < -0.1 else 'neutral')\n",
        "\n",
        "def ma_fonction(a, b):\n",
        "  if a+b > 0.1:\n",
        "    return 'positive'\n",
        "  elif a+b< 0.1:\n",
        "    return 'negative'\n",
        "  else:\n",
        "    return 'neutral'\n",
        " \n",
        "\n",
        "\n",
        "df_train_series['sentiment_label_TB'] = df_train_series.apply(lambda row: ma_fonction(row['polarity_score_ecb_TB'],row['polarity_score_fed_TB']),axis=1)\n"
      ],
      "metadata": {
        "id": "i0LbLoT3GsGX"
      },
      "execution_count": null,
      "outputs": []
    },
    {
      "cell_type": "markdown",
      "source": [
        "On fait la somme des scores de polarités de fed et ecb. On associe l'étiquette 'positive' si le score de polarité est >0.1, 'négative' si <-0.1 et 'neutral' sinon."
      ],
      "metadata": {
        "id": "opqkFvkIGLXJ"
      }
    },
    {
      "cell_type": "code",
      "source": [
        "df_train_series.head(7)"
      ],
      "metadata": {
        "colab": {
          "base_uri": "https://localhost:8080/",
          "height": 501
        },
        "id": "hh3x2Q3RibbU",
        "outputId": "d302ec13-59f8-4386-dfa8-6409e843501e"
      },
      "execution_count": null,
      "outputs": [
        {
          "output_type": "execute_result",
          "data": {
            "text/plain": [
              "   id_series     Index Name  Index - 9  Index - 8  Index - 7  Index - 6  \\\n",
              "0          0      V2X Index   0.001045   0.005841   0.003832  -0.027519   \n",
              "1          1     MOVE Index  -0.021497   0.007891  -0.013175  -0.008436   \n",
              "2          2      SPX Index  -0.001872  -0.008154   0.023588   0.004086   \n",
              "3          3      SPX Index   0.004980  -0.000864   0.001677   0.000000   \n",
              "4          4  EURUSD Curncy   0.000360  -0.001893   0.005579  -0.003056   \n",
              "5          5      SPX Index   0.001815  -0.003185  -0.011381  -0.003778   \n",
              "7          7     CVIX Index  -0.035118   0.006281   0.001287   0.007914   \n",
              "\n",
              "   Index - 5  Index - 4  Index - 3  Index - 2  ...  \\\n",
              "0  -0.103565  -0.045086  -0.011265   0.005164  ...   \n",
              "1   0.000000   0.026303   0.000556   0.001455  ...   \n",
              "2   0.003493   0.003300   0.000885  -0.011304  ...   \n",
              "3   0.006030  -0.001083   0.000419   0.001492  ...   \n",
              "4  -0.001171  -0.001623  -0.002350  -0.006444  ...   \n",
              "5  -0.000101   0.006300  -0.003106   0.016511  ...   \n",
              "7  -0.031893  -0.018767  -0.009505  -0.010522  ...   \n",
              "\n",
              "                            text_concat_ecb_tokenisé  \\\n",
              "0  [welcome, address, welcome, remark, philip, r,...   \n",
              "1  [monetary, policy, structural, reform, euro, a...   \n",
              "2  [challenge, opportunity, reboot, european, fin...   \n",
              "3  [create, stability, uncertain, world, speech, ...   \n",
              "4  [money, private, currency, reflection, libra, ...   \n",
              "5  [hear, committee, economic, monetary, affair, ...   \n",
              "7  [international, monetary, system, towards, new...   \n",
              "\n",
              "                            text_concat_fed_tokenisé  V_Cible_categ  \\\n",
              "0  [delighted, helsinki, important, conference, m...         Hausse   \n",
              "1  [watch, live, would, like, thank, federal, res...         Hausse   \n",
              "2  [grateful, national, association, business, ec...         Hausse   \n",
              "3  [thank, invitation, speak, today, begin, take,...         Hausse   \n",
              "4  [year, symposium, topic, challenge, monetary, ...         Hausse   \n",
              "5  [paul, alan, disadvantage, u, ask, reflect, te...         Hausse   \n",
              "7  [delighted, participate, brimmer, policy, foru...         Baisse   \n",
              "\n",
              "  polarity_score_ecb_TB polarity_score_fed_TB sentiment_label_ecb_TB  \\\n",
              "0              0.058804              0.083488                neutral   \n",
              "1              0.075094              0.064017                neutral   \n",
              "2              0.075828              0.065152                neutral   \n",
              "3              0.085738              0.076183                neutral   \n",
              "4              0.061226              0.124564                neutral   \n",
              "5              0.070573              0.078779                neutral   \n",
              "7              0.074694              0.049604                neutral   \n",
              "\n",
              "  sentiment_label_fed_TB subjectivity_score_ecb_TB subjectivity_score_fed_TB  \\\n",
              "0                neutral                  0.333255                  0.406072   \n",
              "1                neutral                  0.442873                  0.388628   \n",
              "2                neutral                  0.374899                  0.417488   \n",
              "3                neutral                  0.393368                  0.393578   \n",
              "4               positive                  0.342816                  0.396657   \n",
              "5                neutral                  0.378880                  0.414213   \n",
              "7                neutral                  0.344159                  0.374191   \n",
              "\n",
              "  sentiment_label_TB  \n",
              "0           positive  \n",
              "1           positive  \n",
              "2           positive  \n",
              "3           positive  \n",
              "4           positive  \n",
              "5           positive  \n",
              "7           positive  \n",
              "\n",
              "[7 rows x 29 columns]"
            ],
            "text/html": [
              "\n",
              "  <div id=\"df-4ed65d3e-4b6c-4cf6-a562-128ac20870ed\">\n",
              "    <div class=\"colab-df-container\">\n",
              "      <div>\n",
              "<style scoped>\n",
              "    .dataframe tbody tr th:only-of-type {\n",
              "        vertical-align: middle;\n",
              "    }\n",
              "\n",
              "    .dataframe tbody tr th {\n",
              "        vertical-align: top;\n",
              "    }\n",
              "\n",
              "    .dataframe thead th {\n",
              "        text-align: right;\n",
              "    }\n",
              "</style>\n",
              "<table border=\"1\" class=\"dataframe\">\n",
              "  <thead>\n",
              "    <tr style=\"text-align: right;\">\n",
              "      <th></th>\n",
              "      <th>id_series</th>\n",
              "      <th>Index Name</th>\n",
              "      <th>Index - 9</th>\n",
              "      <th>Index - 8</th>\n",
              "      <th>Index - 7</th>\n",
              "      <th>Index - 6</th>\n",
              "      <th>Index - 5</th>\n",
              "      <th>Index - 4</th>\n",
              "      <th>Index - 3</th>\n",
              "      <th>Index - 2</th>\n",
              "      <th>...</th>\n",
              "      <th>text_concat_ecb_tokenisé</th>\n",
              "      <th>text_concat_fed_tokenisé</th>\n",
              "      <th>V_Cible_categ</th>\n",
              "      <th>polarity_score_ecb_TB</th>\n",
              "      <th>polarity_score_fed_TB</th>\n",
              "      <th>sentiment_label_ecb_TB</th>\n",
              "      <th>sentiment_label_fed_TB</th>\n",
              "      <th>subjectivity_score_ecb_TB</th>\n",
              "      <th>subjectivity_score_fed_TB</th>\n",
              "      <th>sentiment_label_TB</th>\n",
              "    </tr>\n",
              "  </thead>\n",
              "  <tbody>\n",
              "    <tr>\n",
              "      <th>0</th>\n",
              "      <td>0</td>\n",
              "      <td>V2X Index</td>\n",
              "      <td>0.001045</td>\n",
              "      <td>0.005841</td>\n",
              "      <td>0.003832</td>\n",
              "      <td>-0.027519</td>\n",
              "      <td>-0.103565</td>\n",
              "      <td>-0.045086</td>\n",
              "      <td>-0.011265</td>\n",
              "      <td>0.005164</td>\n",
              "      <td>...</td>\n",
              "      <td>[welcome, address, welcome, remark, philip, r,...</td>\n",
              "      <td>[delighted, helsinki, important, conference, m...</td>\n",
              "      <td>Hausse</td>\n",
              "      <td>0.058804</td>\n",
              "      <td>0.083488</td>\n",
              "      <td>neutral</td>\n",
              "      <td>neutral</td>\n",
              "      <td>0.333255</td>\n",
              "      <td>0.406072</td>\n",
              "      <td>positive</td>\n",
              "    </tr>\n",
              "    <tr>\n",
              "      <th>1</th>\n",
              "      <td>1</td>\n",
              "      <td>MOVE Index</td>\n",
              "      <td>-0.021497</td>\n",
              "      <td>0.007891</td>\n",
              "      <td>-0.013175</td>\n",
              "      <td>-0.008436</td>\n",
              "      <td>0.000000</td>\n",
              "      <td>0.026303</td>\n",
              "      <td>0.000556</td>\n",
              "      <td>0.001455</td>\n",
              "      <td>...</td>\n",
              "      <td>[monetary, policy, structural, reform, euro, a...</td>\n",
              "      <td>[watch, live, would, like, thank, federal, res...</td>\n",
              "      <td>Hausse</td>\n",
              "      <td>0.075094</td>\n",
              "      <td>0.064017</td>\n",
              "      <td>neutral</td>\n",
              "      <td>neutral</td>\n",
              "      <td>0.442873</td>\n",
              "      <td>0.388628</td>\n",
              "      <td>positive</td>\n",
              "    </tr>\n",
              "    <tr>\n",
              "      <th>2</th>\n",
              "      <td>2</td>\n",
              "      <td>SPX Index</td>\n",
              "      <td>-0.001872</td>\n",
              "      <td>-0.008154</td>\n",
              "      <td>0.023588</td>\n",
              "      <td>0.004086</td>\n",
              "      <td>0.003493</td>\n",
              "      <td>0.003300</td>\n",
              "      <td>0.000885</td>\n",
              "      <td>-0.011304</td>\n",
              "      <td>...</td>\n",
              "      <td>[challenge, opportunity, reboot, european, fin...</td>\n",
              "      <td>[grateful, national, association, business, ec...</td>\n",
              "      <td>Hausse</td>\n",
              "      <td>0.075828</td>\n",
              "      <td>0.065152</td>\n",
              "      <td>neutral</td>\n",
              "      <td>neutral</td>\n",
              "      <td>0.374899</td>\n",
              "      <td>0.417488</td>\n",
              "      <td>positive</td>\n",
              "    </tr>\n",
              "    <tr>\n",
              "      <th>3</th>\n",
              "      <td>3</td>\n",
              "      <td>SPX Index</td>\n",
              "      <td>0.004980</td>\n",
              "      <td>-0.000864</td>\n",
              "      <td>0.001677</td>\n",
              "      <td>0.000000</td>\n",
              "      <td>0.006030</td>\n",
              "      <td>-0.001083</td>\n",
              "      <td>0.000419</td>\n",
              "      <td>0.001492</td>\n",
              "      <td>...</td>\n",
              "      <td>[create, stability, uncertain, world, speech, ...</td>\n",
              "      <td>[thank, invitation, speak, today, begin, take,...</td>\n",
              "      <td>Hausse</td>\n",
              "      <td>0.085738</td>\n",
              "      <td>0.076183</td>\n",
              "      <td>neutral</td>\n",
              "      <td>neutral</td>\n",
              "      <td>0.393368</td>\n",
              "      <td>0.393578</td>\n",
              "      <td>positive</td>\n",
              "    </tr>\n",
              "    <tr>\n",
              "      <th>4</th>\n",
              "      <td>4</td>\n",
              "      <td>EURUSD Curncy</td>\n",
              "      <td>0.000360</td>\n",
              "      <td>-0.001893</td>\n",
              "      <td>0.005579</td>\n",
              "      <td>-0.003056</td>\n",
              "      <td>-0.001171</td>\n",
              "      <td>-0.001623</td>\n",
              "      <td>-0.002350</td>\n",
              "      <td>-0.006444</td>\n",
              "      <td>...</td>\n",
              "      <td>[money, private, currency, reflection, libra, ...</td>\n",
              "      <td>[year, symposium, topic, challenge, monetary, ...</td>\n",
              "      <td>Hausse</td>\n",
              "      <td>0.061226</td>\n",
              "      <td>0.124564</td>\n",
              "      <td>neutral</td>\n",
              "      <td>positive</td>\n",
              "      <td>0.342816</td>\n",
              "      <td>0.396657</td>\n",
              "      <td>positive</td>\n",
              "    </tr>\n",
              "    <tr>\n",
              "      <th>5</th>\n",
              "      <td>5</td>\n",
              "      <td>SPX Index</td>\n",
              "      <td>0.001815</td>\n",
              "      <td>-0.003185</td>\n",
              "      <td>-0.011381</td>\n",
              "      <td>-0.003778</td>\n",
              "      <td>-0.000101</td>\n",
              "      <td>0.006300</td>\n",
              "      <td>-0.003106</td>\n",
              "      <td>0.016511</td>\n",
              "      <td>...</td>\n",
              "      <td>[hear, committee, economic, monetary, affair, ...</td>\n",
              "      <td>[paul, alan, disadvantage, u, ask, reflect, te...</td>\n",
              "      <td>Hausse</td>\n",
              "      <td>0.070573</td>\n",
              "      <td>0.078779</td>\n",
              "      <td>neutral</td>\n",
              "      <td>neutral</td>\n",
              "      <td>0.378880</td>\n",
              "      <td>0.414213</td>\n",
              "      <td>positive</td>\n",
              "    </tr>\n",
              "    <tr>\n",
              "      <th>7</th>\n",
              "      <td>7</td>\n",
              "      <td>CVIX Index</td>\n",
              "      <td>-0.035118</td>\n",
              "      <td>0.006281</td>\n",
              "      <td>0.001287</td>\n",
              "      <td>0.007914</td>\n",
              "      <td>-0.031893</td>\n",
              "      <td>-0.018767</td>\n",
              "      <td>-0.009505</td>\n",
              "      <td>-0.010522</td>\n",
              "      <td>...</td>\n",
              "      <td>[international, monetary, system, towards, new...</td>\n",
              "      <td>[delighted, participate, brimmer, policy, foru...</td>\n",
              "      <td>Baisse</td>\n",
              "      <td>0.074694</td>\n",
              "      <td>0.049604</td>\n",
              "      <td>neutral</td>\n",
              "      <td>neutral</td>\n",
              "      <td>0.344159</td>\n",
              "      <td>0.374191</td>\n",
              "      <td>positive</td>\n",
              "    </tr>\n",
              "  </tbody>\n",
              "</table>\n",
              "<p>7 rows × 29 columns</p>\n",
              "</div>\n",
              "      <button class=\"colab-df-convert\" onclick=\"convertToInteractive('df-4ed65d3e-4b6c-4cf6-a562-128ac20870ed')\"\n",
              "              title=\"Convert this dataframe to an interactive table.\"\n",
              "              style=\"display:none;\">\n",
              "        \n",
              "  <svg xmlns=\"http://www.w3.org/2000/svg\" height=\"24px\"viewBox=\"0 0 24 24\"\n",
              "       width=\"24px\">\n",
              "    <path d=\"M0 0h24v24H0V0z\" fill=\"none\"/>\n",
              "    <path d=\"M18.56 5.44l.94 2.06.94-2.06 2.06-.94-2.06-.94-.94-2.06-.94 2.06-2.06.94zm-11 1L8.5 8.5l.94-2.06 2.06-.94-2.06-.94L8.5 2.5l-.94 2.06-2.06.94zm10 10l.94 2.06.94-2.06 2.06-.94-2.06-.94-.94-2.06-.94 2.06-2.06.94z\"/><path d=\"M17.41 7.96l-1.37-1.37c-.4-.4-.92-.59-1.43-.59-.52 0-1.04.2-1.43.59L10.3 9.45l-7.72 7.72c-.78.78-.78 2.05 0 2.83L4 21.41c.39.39.9.59 1.41.59.51 0 1.02-.2 1.41-.59l7.78-7.78 2.81-2.81c.8-.78.8-2.07 0-2.86zM5.41 20L4 18.59l7.72-7.72 1.47 1.35L5.41 20z\"/>\n",
              "  </svg>\n",
              "      </button>\n",
              "      \n",
              "  <style>\n",
              "    .colab-df-container {\n",
              "      display:flex;\n",
              "      flex-wrap:wrap;\n",
              "      gap: 12px;\n",
              "    }\n",
              "\n",
              "    .colab-df-convert {\n",
              "      background-color: #E8F0FE;\n",
              "      border: none;\n",
              "      border-radius: 50%;\n",
              "      cursor: pointer;\n",
              "      display: none;\n",
              "      fill: #1967D2;\n",
              "      height: 32px;\n",
              "      padding: 0 0 0 0;\n",
              "      width: 32px;\n",
              "    }\n",
              "\n",
              "    .colab-df-convert:hover {\n",
              "      background-color: #E2EBFA;\n",
              "      box-shadow: 0px 1px 2px rgba(60, 64, 67, 0.3), 0px 1px 3px 1px rgba(60, 64, 67, 0.15);\n",
              "      fill: #174EA6;\n",
              "    }\n",
              "\n",
              "    [theme=dark] .colab-df-convert {\n",
              "      background-color: #3B4455;\n",
              "      fill: #D2E3FC;\n",
              "    }\n",
              "\n",
              "    [theme=dark] .colab-df-convert:hover {\n",
              "      background-color: #434B5C;\n",
              "      box-shadow: 0px 1px 3px 1px rgba(0, 0, 0, 0.15);\n",
              "      filter: drop-shadow(0px 1px 2px rgba(0, 0, 0, 0.3));\n",
              "      fill: #FFFFFF;\n",
              "    }\n",
              "  </style>\n",
              "\n",
              "      <script>\n",
              "        const buttonEl =\n",
              "          document.querySelector('#df-4ed65d3e-4b6c-4cf6-a562-128ac20870ed button.colab-df-convert');\n",
              "        buttonEl.style.display =\n",
              "          google.colab.kernel.accessAllowed ? 'block' : 'none';\n",
              "\n",
              "        async function convertToInteractive(key) {\n",
              "          const element = document.querySelector('#df-4ed65d3e-4b6c-4cf6-a562-128ac20870ed');\n",
              "          const dataTable =\n",
              "            await google.colab.kernel.invokeFunction('convertToInteractive',\n",
              "                                                     [key], {});\n",
              "          if (!dataTable) return;\n",
              "\n",
              "          const docLinkHtml = 'Like what you see? Visit the ' +\n",
              "            '<a target=\"_blank\" href=https://colab.research.google.com/notebooks/data_table.ipynb>data table notebook</a>'\n",
              "            + ' to learn more about interactive tables.';\n",
              "          element.innerHTML = '';\n",
              "          dataTable['output_type'] = 'display_data';\n",
              "          await google.colab.output.renderOutput(dataTable, element);\n",
              "          const docLink = document.createElement('div');\n",
              "          docLink.innerHTML = docLinkHtml;\n",
              "          element.appendChild(docLink);\n",
              "        }\n",
              "      </script>\n",
              "    </div>\n",
              "  </div>\n",
              "  "
            ]
          },
          "metadata": {},
          "execution_count": 61
        }
      ]
    },
    {
      "cell_type": "code",
      "source": [
        "# On trace une représentation graphique de la répartition des scores de polarité\n",
        "\n",
        "fig, (ax1, ax2) = plt.subplots(ncols=2, figsize=(10, 5))\n",
        "\n",
        "ax1.hist(df_train_series['polarity_score_ecb_TB'], color='blue', alpha=0.5)\n",
        "ax1.set(title='polarity_score_ecb_TB', xlabel='indice de polarité', ylabel='Nombre dobservations')\n",
        "\n",
        "ax2.hist(df_train_series['polarity_score_fed_TB'], color='green', alpha=0.5)\n",
        "ax2.set(title='polarity_score_fed_TB', xlabel='indice de polarité', ylabel='Nombre dobservations')\n",
        "\n",
        "plt.show()"
      ],
      "metadata": {
        "colab": {
          "base_uri": "https://localhost:8080/",
          "height": 350
        },
        "id": "Rx5GbfV-obOD",
        "outputId": "06ad9b80-2a64-4003-8613-6fde35d942d8"
      },
      "execution_count": null,
      "outputs": [
        {
          "output_type": "display_data",
          "data": {
            "text/plain": [
              "<Figure size 720x360 with 2 Axes>"
            ],
            "image/png": "[encoded data removed]"
          },
          "metadata": {
            "needs_background": "light"
          }
        }
      ]
    },
    {
      "cell_type": "code",
      "source": [
        "# On trace une représentation graphique de la répartition des labels\n",
        "\n",
        "\n",
        "import matplotlib.pyplot as plt\n",
        "import seaborn as sns\n",
        "\n",
        "\n",
        "fig, axs = plt.subplots(ncols=2, figsize=(10, 5))\n",
        "\n",
        "sns.countplot(x='sentiment_label_ecb_TB', data=df_train_series, ax=axs[0])\n",
        "sns.countplot(x='sentiment_label_fed_TB', data=df_train_series, ax=axs[1])\n",
        "\n",
        "plt.show()"
      ],
      "metadata": {
        "colab": {
          "base_uri": "https://localhost:8080/",
          "height": 335
        },
        "id": "eGh4aff4tpgf",
        "outputId": "686e8648-0f24-4dae-faca-ee6e3ee02a9f"
      },
      "execution_count": null,
      "outputs": [
        {
          "output_type": "display_data",
          "data": {
            "text/plain": [
              "<Figure size 720x360 with 2 Axes>"
            ],
            "image/png": "[encoded data removed]"
          },
          "metadata": {
            "needs_background": "light"
          }
        }
      ]
    },
    {
      "cell_type": "markdown",
      "source": [
        "Comme on peut le voir, la méthode TextBlob est peu efficace. Une grande majorité des textes sont étiquetté \"neutral\".\n",
        "Quasiment aucun texte n'est étiqueté \"négatif\""
      ],
      "metadata": {
        "id": "GUF7KzHnr4jz"
      }
    },
    {
      "cell_type": "code",
      "source": [
        "# On trace une représentation graphique de la répartition des scores de subjectivité\n",
        "\n",
        "fig, (ax1, ax2) = plt.subplots(ncols=2, figsize=(10, 5))\n",
        "\n",
        "ax1.hist(df_train_series['subjectivity_score_ecb_TB'], color='blue', alpha=0.5)\n",
        "ax1.set(title='subjectivity_score_ecb_TB', xlabel='indice de subjectivité', ylabel='Nombre dobservations')\n",
        "\n",
        "ax2.hist(df_train_series['subjectivity_score_fed_TB'], color='green', alpha=0.5)\n",
        "ax2.set(title='subjectivity_score_ecb_TB', xlabel='indice de subjectivité', ylabel='Nombre dobservations')\n",
        "\n",
        "plt.show()\n"
      ],
      "metadata": {
        "colab": {
          "base_uri": "https://localhost:8080/",
          "height": 350
        },
        "id": "B0jpMCSBl8k8",
        "outputId": "952b4acf-0c7d-44ba-d4ae-4b439877edc7"
      },
      "execution_count": null,
      "outputs": [
        {
          "output_type": "display_data",
          "data": {
            "text/plain": [
              "<Figure size 720x360 with 2 Axes>"
            ],
            "image/png": "[encoded data removed]"
          },
          "metadata": {
            "needs_background": "light"
          }
        }
      ]
    },
    {
      "cell_type": "markdown",
      "source": [
        "On effectue maintenant une analyse de la corrélation entre 'sentiment_label_TB' et 'V_Cible_categ'"
      ],
      "metadata": {
        "id": "hA5qqeqBFUF5"
      }
    },
    {
      "cell_type": "code",
      "source": [
        "# Analyse de la corrélation entre chacun des indices et 'V_Cible_categ'\n",
        "\n",
        "\n",
        "#On crée un nouveau tableau ne contenant que les indices\n",
        "\n",
        "df_indice = df_train_series.loc[:, [\"Index - 9\", \"Index - 8\", \"Index - 7\",\"Index - 6\", \"Index - 5\", \"Index - 4\",\"Index - 3\", \"Index - 2\", \"Index - 1\",\"Index - 0\",\"Index + 1\"]]\n",
        "df_indice.head()\n",
        "\n",
        "# Sélectionner la colonne à analyser\n",
        "col1 = df_train_series['sentiment_label_TB']\n",
        "\n",
        "# Calculer la corrélation avec les autres colonnes\n",
        "corr = df_indice.corrwith(df_train_series['polarity_score_ecb_TB'])\n",
        "\n",
        "# Créer un graphique en barres\n",
        "plt.bar(corr.index, corr.values)\n",
        "\n",
        "# Ajouter une légende et un titre\n",
        "plt.xlabel(\"Nom de la colonne\")\n",
        "plt.ylabel(\"Corrélation avec la colonne 'polarity_score_ecb_TB'\")\n",
        "plt.title(\"Corrélation entre la colonne 'polarity_score_ecb_TB' et les autres colonnes\")\n",
        "\n",
        "# Afficher le graphique\n",
        "plt.show()"
      ],
      "metadata": {
        "colab": {
          "base_uri": "https://localhost:8080/",
          "height": 298
        },
        "id": "lYUDvb1rotPK",
        "outputId": "2188011e-c927-415f-af77-2bd6aa8b7c04"
      },
      "execution_count": null,
      "outputs": [
        {
          "output_type": "display_data",
          "data": {
            "text/plain": [
              "<Figure size 432x288 with 1 Axes>"
            ],
            "image/png": "[encoded data removed]"
          },
          "metadata": {
            "needs_background": "light"
          }
        }
      ]
    },
    {
      "cell_type": "code",
      "source": [
        "#On trace les différentes matrice de confusion\n",
        "\n",
        "tableau_croise_ecb = pd.crosstab(df_train_series['V_Cible_categ'], df_train_series['sentiment_label_ecb_TB'])\n",
        "tableau_croise_fed = pd.crosstab(df_train_series['V_Cible_categ'], df_train_series['sentiment_label_fed_TB'])\n",
        "tableau_croise = pd.crosstab(df_train_series['V_Cible_categ'], df_train_series['sentiment_label_TB'])\n",
        "\n",
        "print('La matrice de confusion pour ecb est:')\n",
        "print(tableau_croise_ecb)\n",
        "\n",
        "print('La matrice de confusion pour fed est:')\n",
        "print(tableau_croise_fed)\n",
        "\n",
        "print('La matrice de confusion pour notre sentiment final est:')\n",
        "print(tableau_croise)"
      ],
      "metadata": {
        "colab": {
          "base_uri": "https://localhost:8080/"
        },
        "id": "e_XjPXfS1zvf",
        "outputId": "7a17228e-ac18-4218-f7c7-29a9af2a8d2d"
      },
      "execution_count": null,
      "outputs": [
        {
          "output_type": "stream",
          "name": "stdout",
          "text": [
            "La matrice de confusion pour ecb est:\n",
            "sentiment_label_ecb_TB  negative  neutral  positive\n",
            "V_Cible_categ                                      \n",
            "Baisse                        17     3497       710\n",
            "Hausse                        15     3364       637\n",
            "La matrice de confusion pour fed est:\n",
            "sentiment_label_fed_TB  neutral  positive\n",
            "V_Cible_categ                            \n",
            "Baisse                     3329       895\n",
            "Hausse                     3156       860\n",
            "La matrice de confusion pour notre sentiment final est:\n",
            "sentiment_label_TB  negative  positive\n",
            "V_Cible_categ                         \n",
            "Baisse                   525      3699\n",
            "Hausse                   479      3537\n"
          ]
        }
      ]
    },
    {
      "cell_type": "markdown",
      "source": [
        "Comme on peut le voir, la corrélation est inexistante. En gros l'analyse de sentiment ne sert à rien."
      ],
      "metadata": {
        "id": "GV5ny7lkTPfl"
      }
    },
    {
      "cell_type": "markdown",
      "source": [
        "## Vader"
      ],
      "metadata": {
        "id": "Tw5GQoDTcwjC"
      }
    },
    {
      "cell_type": "markdown",
      "source": [
        "2/ On fait l'analyse de sentiment avec Vader"
      ],
      "metadata": {
        "id": "3CsA_6lhkMx3"
      }
    },
    {
      "cell_type": "code",
      "source": [
        "# import des bibliothèques nécessaires\n",
        "import nltk\n",
        "nltk.download('vader_lexicon')\n",
        "from nltk.sentiment.vader import SentimentIntensityAnalyzer\n",
        "\n",
        "# instantiation de l'analyseur de sentiment VADER\n",
        "vader = SentimentIntensityAnalyzer()\n",
        "\n",
        "# définition d'une fonction pour obtenir le score de polarité de sentiment en utilisant VADER\n",
        "def get_sentiment_score(text):\n",
        "    return vader.polarity_scores(text)['compound']\n",
        "\n",
        "# ajout de colonnes pour le score de polarité\n",
        "df_train_series['polarity_score_ecb_Vader'] = df_train_series['text_concat_ecb_tokenisé'].apply(lambda x: get_sentiment_score(' '.join(x)))\n",
        "df_train_series['polarity_score_fed_Vader'] = df_train_series['text_concat_fed_tokenisé'].apply(lambda x: get_sentiment_score(' '.join(x)))\n",
        "\n",
        "# ajout de colonnes pour l'étiquetage des sentiments\n",
        "df_train_series['sentiment_label_ecb_Vader'] = df_train_series['polarity_score_ecb_Vader'].apply(lambda x: 'positive' if x > 0 else 'negative' if x < 0 else 'neutral')\n",
        "df_train_series['sentiment_label_fed_Vader'] = df_train_series['polarity_score_fed_Vader'].apply(lambda x: 'positive' if x > 0 else 'negative' if x < 0 else 'neutral')\n",
        "\n"
      ],
      "metadata": {
        "colab": {
          "base_uri": "https://localhost:8080/"
        },
        "id": "YYr-kvE23rfK",
        "outputId": "eec96c79-1df6-4c5e-e965-5c9f493b3ed3"
      },
      "execution_count": null,
      "outputs": [
        {
          "output_type": "stream",
          "name": "stderr",
          "text": [
            "[nltk_data] Downloading package vader_lexicon to /root/nltk_data...\n"
          ]
        }
      ]
    },
    {
      "cell_type": "code",
      "source": [
        "# ajout de colonnes pour l'étiquetage des sentiments\n",
        "df_train_series['sentiment_label_ecb_Vader'] = df_train_series['polarity_score_ecb_Vader'].apply(lambda x: 'positive' if x > 0.2 else 'negative' if x < -0.2 else 'neutral')\n",
        "df_train_series['sentiment_label_fed_Vader'] = df_train_series['polarity_score_fed_Vader'].apply(lambda x: 'positive' if x > 0.2 else 'negative' if x < -0.2 else 'neutral')\n",
        "\n",
        "def ma_fonction(a, b):\n",
        "  if a+b > 0.1:\n",
        "    return 'positive'\n",
        "  elif a+b< 0.1:\n",
        "    return 'negative'\n",
        "  else:\n",
        "    return 'neutral'\n",
        " \n",
        "\n",
        "\n",
        "df_train_series['sentiment_label_Vader'] = df_train_series.apply(lambda row: ma_fonction(row['polarity_score_ecb_Vader'],row['polarity_score_fed_Vader']),axis=1)\n"
      ],
      "metadata": {
        "id": "qmmTueX85e0E"
      },
      "execution_count": null,
      "outputs": []
    },
    {
      "cell_type": "code",
      "source": [
        "# On trace une représentation graphique de la répartition des scores de polarité\n",
        "\n",
        "fig, (ax1, ax2) = plt.subplots(ncols=2, figsize=(10, 5))\n",
        "\n",
        "ax1.hist(df_train_series['polarity_score_ecb_Vader'], color='blue', alpha=0.5)\n",
        "ax1.set(title='polarity_score_ecb_Vader', xlabel='indice de polarité', ylabel='Nombre dobservations')\n",
        "\n",
        "ax2.hist(df_train_series['polarity_score_fed_Vader'], color='green', alpha=0.5)\n",
        "ax2.set(title='polarity_score_fed_Vader', xlabel='indice de polarité', ylabel='Nombre dobservations')\n",
        "\n",
        "plt.show()"
      ],
      "metadata": {
        "colab": {
          "base_uri": "https://localhost:8080/",
          "height": 350
        },
        "id": "yv5uoQw35iOg",
        "outputId": "6634dba5-51d9-4230-cb64-61e75272c8bb"
      },
      "execution_count": null,
      "outputs": [
        {
          "output_type": "display_data",
          "data": {
            "text/plain": [
              "<Figure size 720x360 with 2 Axes>"
            ],
            "image/png": "[encoded data removed]"
          },
          "metadata": {
            "needs_background": "light"
          }
        }
      ]
    },
    {
      "cell_type": "markdown",
      "source": [
        "Les scores de polarités sont beaucoup plus polarisés"
      ],
      "metadata": {
        "id": "-x_0FfCW4Y_4"
      }
    },
    {
      "cell_type": "code",
      "source": [
        "import matplotlib.pyplot as plt\n",
        "import seaborn as sns\n",
        "\n",
        "# On trace une représentation graphique de la répartition des labels\n",
        "\n",
        "fig, axs = plt.subplots(ncols=2, figsize=(10, 5))\n",
        "\n",
        "sns.countplot(x='sentiment_label_ecb_Vader', data=df_train_series, ax=axs[0])\n",
        "sns.countplot(x='sentiment_label_fed_Vader', data=df_train_series, ax=axs[1])\n",
        "\n",
        "plt.show()"
      ],
      "metadata": {
        "id": "plZ9YNAHwU5V",
        "colab": {
          "base_uri": "https://localhost:8080/",
          "height": 336
        },
        "outputId": "3c84ade8-2e77-4a3d-ac8c-66dc5b5e3fba"
      },
      "execution_count": null,
      "outputs": [
        {
          "output_type": "display_data",
          "data": {
            "text/plain": [
              "<Figure size 720x360 with 2 Axes>"
            ],
            "image/png": "[encoded data removed]"
          },
          "metadata": {
            "needs_background": "light"
          }
        }
      ]
    },
    {
      "cell_type": "code",
      "source": [
        "# Analyse de la corrélation\n",
        "\n",
        "fig, (ax1, ax2) = plt.subplots(ncols=2, figsize=(10, 5))\n",
        "\n",
        "ax1.hist(df_train_series['subjectivity_score_ecb_TB'], color='blue', alpha=0.5)\n",
        "ax1.set(title='subjectivity_score_ecb_TB', xlabel='indice de subjectivité', ylabel='Nombre dobservations')\n",
        "\n",
        "ax2.hist(df_train_series['subjectivity_score_fed_TB'], color='green', alpha=0.5)\n",
        "ax2.set(title='subjectivity_score_ecb_TB', xlabel='indice de subjectivité', ylabel='Nombre dobservations')\n",
        "\n",
        "plt.show()"
      ],
      "metadata": {
        "colab": {
          "base_uri": "https://localhost:8080/",
          "height": 350
        },
        "id": "rO5YitZhuyQu",
        "outputId": "17954ff2-b42f-424a-b07c-2d98614464fe"
      },
      "execution_count": null,
      "outputs": [
        {
          "output_type": "display_data",
          "data": {
            "text/plain": [
              "<Figure size 720x360 with 2 Axes>"
            ],
            "image/png": "[encoded data removed]"
          },
          "metadata": {
            "needs_background": "light"
          }
        }
      ]
    },
    {
      "cell_type": "code",
      "source": [
        "# Analyse de la corrélation\n",
        "\n",
        "import pandas as pd\n",
        "\n",
        "\n",
        "\n",
        "\n",
        "# Créer une table de contingence\n",
        "table_ecb = pd.crosstab(df_train_series['V_Cible_categ'], df_train_series['sentiment_label_ecb_Vader'])\n",
        "print(table_ecb)\n",
        "table_fed = pd.crosstab(df_train_series['V_Cible_categ'], df_train_series['sentiment_label_fed_Vader'])\n",
        "print(table_fed)\n",
        "table= pd.crosstab(df_train_series['V_Cible_categ'], df_train_series['sentiment_label_Vader'])\n",
        "print(table)\n"
      ],
      "metadata": {
        "colab": {
          "base_uri": "https://localhost:8080/"
        },
        "id": "wSu1mbMyuyT6",
        "outputId": "5b6d4451-b637-4032-f28d-b5db1ed22bc9"
      },
      "execution_count": null,
      "outputs": [
        {
          "output_type": "stream",
          "name": "stdout",
          "text": [
            "sentiment_label_ecb_Vader  negative  positive\n",
            "V_Cible_categ                                \n",
            "Baisse                          529      3695\n",
            "Hausse                          502      3514\n",
            "sentiment_label_fed_Vader  negative  neutral  positive\n",
            "V_Cible_categ                                         \n",
            "Baisse                          224       78      3922\n",
            "Hausse                          201       56      3759\n",
            "sentiment_label_Vader  negative  positive\n",
            "V_Cible_categ                            \n",
            "Baisse                      627      3597\n",
            "Hausse                      581      3435\n"
          ]
        }
      ]
    },
    {
      "cell_type": "markdown",
      "source": [
        "On voit ici aussi que lanalyse de sentiments ne nous donne pas de résultats pertinents."
      ],
      "metadata": {
        "id": "LYXlcEG4sg_D"
      }
    },
    {
      "cell_type": "markdown",
      "source": [
        "Désormais, nous allons réaliser notre analyse de sentiments avec HIV4 et LLoughan and McDonald, deux languages adaptés à la finance."
      ],
      "metadata": {
        "id": "7Zg4h98FAZTf"
      }
    },
    {
      "cell_type": "markdown",
      "source": [
        "## HIV4"
      ],
      "metadata": {
        "id": "agr9Z1wwc5G9"
      }
    },
    {
      "cell_type": "code",
      "source": [
        "# Analyse de sentiment avec des lexiques financiers\n",
        "\n",
        "!pip install pysentiment2\n",
        "\n",
        "import pysentiment2 as ps\n",
        "hiv4 = ps.HIV4()\n",
        "\n",
        "\n",
        "def get_sentiment_score(text):\n",
        "    tokens = hiv4.tokenize(text)                                 \n",
        "    score = hiv4.get_score(tokens)\n",
        "    return score\n",
        "\n",
        "# ajout de colonnes pour le score de polarité\n",
        "df_train_series['polarity_score_ecb_Harvard'] = df_train_series['text_concat_ecb_tokenisé'].apply(lambda x: get_sentiment_score(' '.join(x)))\n",
        "df_train_series['polarity_score_fed_Harvard'] = df_train_series['text_concat_fed_tokenisé'].apply(lambda x: get_sentiment_score(' '.join(x)))\n",
        "\n"
      ],
      "metadata": {
        "id": "eTvE952uOdH2",
        "colab": {
          "base_uri": "https://localhost:8080/",
          "height": 1000
        },
        "outputId": "22f62991-56c4-4869-c7ed-d287d6619691"
      },
      "execution_count": null,
      "outputs": [
        {
          "output_type": "stream",
          "name": "stdout",
          "text": [
            "Looking in indexes: https://pypi.org/simple, https://us-python.pkg.dev/colab-wheels/public/simple/\n",
            "Requirement already satisfied: pysentiment2 in /usr/local/lib/python3.8/dist-packages (0.1.1)\n",
            "Requirement already satisfied: nltk>=2.0 in /usr/local/lib/python3.8/dist-packages (from pysentiment2) (3.7)\n",
            "Requirement already satisfied: pandas in /usr/local/lib/python3.8/dist-packages (from pysentiment2) (1.5.3)\n",
            "Requirement already satisfied: tqdm in /usr/local/lib/python3.8/dist-packages (from nltk>=2.0->pysentiment2) (4.64.1)\n",
            "Requirement already satisfied: joblib in /usr/local/lib/python3.8/dist-packages (from nltk>=2.0->pysentiment2) (1.2.0)\n",
            "Requirement already satisfied: regex>=2021.8.3 in /usr/local/lib/python3.8/dist-packages (from nltk>=2.0->pysentiment2) (2022.6.2)\n",
            "Requirement already satisfied: click in /usr/local/lib/python3.8/dist-packages (from nltk>=2.0->pysentiment2) (7.1.2)\n",
            "Requirement already satisfied: python-dateutil>=2.8.1 in /usr/local/lib/python3.8/dist-packages (from pandas->pysentiment2) (2.8.2)\n",
            "Requirement already satisfied: pytz>=2020.1 in /usr/local/lib/python3.8/dist-packages (from pandas->pysentiment2) (2022.7.1)\n",
            "Requirement already satisfied: numpy>=1.20.3 in /usr/local/lib/python3.8/dist-packages (from pandas->pysentiment2) (1.22.4)\n",
            "Requirement already satisfied: six>=1.5 in /usr/local/lib/python3.8/dist-packages (from python-dateutil>=2.8.1->pandas->pysentiment2) (1.15.0)\n",
            "Traceback (most recent call last):\n",
            "  File \"/usr/local/lib/python3.8/dist-packages/pip/_vendor/pkg_resources/__init__.py\", line 3021, in _dep_map\n",
            "    return self.__dep_map\n",
            "  File \"/usr/local/lib/python3.8/dist-packages/pip/_vendor/pkg_resources/__init__.py\", line 2815, in __getattr__\n",
            "    raise AttributeError(attr)\n",
            "AttributeError: _DistInfoDistribution__dep_map\n",
            "\n",
            "During handling of the above exception, another exception occurred:\n",
            "\n",
            "Traceback (most recent call last):\n",
            "  File \"/usr/local/lib/python3.8/dist-packages/pip/_internal/cli/base_command.py\", line 167, in exc_logging_wrapper\n",
            "    status = run_func(*args)\n",
            "  File \"/usr/local/lib/python3.8/dist-packages/pip/_internal/cli/req_command.py\", line 199, in wrapper\n",
            "    return func(self, options, args)\n",
            "  File \"/usr/local/lib/python3.8/dist-packages/pip/_internal/commands/install.py\", line 397, in run\n",
            "    conflicts = self._determine_conflicts(to_install)\n",
            "  File \"/usr/local/lib/python3.8/dist-packages/pip/_internal/commands/install.py\", line 529, in _determine_conflicts\n",
            "    return check_install_conflicts(to_install)\n",
            "  File \"/usr/local/lib/python3.8/dist-packages/pip/_internal/operations/check.py\", line 101, in check_install_conflicts\n",
            "    package_set, _ = create_package_set_from_installed()\n",
            "  File \"/usr/local/lib/python3.8/dist-packages/pip/_internal/operations/check.py\", line 42, in create_package_set_from_installed\n",
            "    dependencies = list(dist.iter_dependencies())\n",
            "  File \"/usr/local/lib/python3.8/dist-packages/pip/_internal/metadata/pkg_resources.py\", line 202, in iter_dependencies\n",
            "    return self._dist.requires(extras)\n",
            "  File \"/usr/local/lib/python3.8/dist-packages/pip/_vendor/pkg_resources/__init__.py\", line 2736, in requires\n",
            "    dm = self._dep_map\n",
            "  File \"/usr/local/lib/python3.8/dist-packages/pip/_vendor/pkg_resources/__init__.py\", line 3023, in _dep_map\n",
            "    self.__dep_map = self._compute_dependencies()\n",
            "  File \"/usr/local/lib/python3.8/dist-packages/pip/_vendor/pkg_resources/__init__.py\", line 3033, in _compute_dependencies\n",
            "    reqs.extend(parse_requirements(req))\n",
            "  File \"/usr/local/lib/python3.8/dist-packages/pip/_vendor/pkg_resources/__init__.py\", line 3094, in parse_requirements\n",
            "    yield Requirement(line)\n",
            "  File \"/usr/local/lib/python3.8/dist-packages/pip/_vendor/pkg_resources/__init__.py\", line 3101, in __init__\n",
            "    super(Requirement, self).__init__(requirement_string)\n",
            "  File \"/usr/local/lib/python3.8/dist-packages/pip/_vendor/packaging/requirements.py\", line 102, in __init__\n",
            "    req = REQUIREMENT.parseString(requirement_string)\n",
            "  File \"/usr/local/lib/python3.8/dist-packages/pip/_vendor/pyparsing/core.py\", line 1124, in parse_string\n",
            "    loc, tokens = self._parse(instring, 0)\n",
            "  File \"/usr/local/lib/python3.8/dist-packages/pip/_vendor/pyparsing/core.py\", line 810, in _parseNoCache\n",
            "    loc, tokens = self.parseImpl(instring, pre_loc, doActions)\n",
            "  File \"/usr/local/lib/python3.8/dist-packages/pip/_vendor/pyparsing/core.py\", line 3863, in parseImpl\n",
            "    loc, exprtokens = e._parse(instring, loc, doActions)\n",
            "  File \"/usr/local/lib/python3.8/dist-packages/pip/_vendor/pyparsing/core.py\", line 810, in _parseNoCache\n",
            "    loc, tokens = self.parseImpl(instring, pre_loc, doActions)\n",
            "  File \"/usr/local/lib/python3.8/dist-packages/pip/_vendor/pyparsing/core.py\", line 4091, in parseImpl\n",
            "    return e._parse(\n",
            "  File \"/usr/local/lib/python3.8/dist-packages/pip/_vendor/pyparsing/core.py\", line 810, in _parseNoCache\n",
            "    loc, tokens = self.parseImpl(instring, pre_loc, doActions)\n",
            "  File \"/usr/local/lib/python3.8/dist-packages/pip/_vendor/pyparsing/core.py\", line 3863, in parseImpl\n",
            "    loc, exprtokens = e._parse(instring, loc, doActions)\n",
            "  File \"/usr/local/lib/python3.8/dist-packages/pip/_vendor/pyparsing/core.py\", line 810, in _parseNoCache\n",
            "    loc, tokens = self.parseImpl(instring, pre_loc, doActions)\n",
            "  File \"/usr/local/lib/python3.8/dist-packages/pip/_vendor/pyparsing/core.py\", line 4936, in parseImpl\n",
            "    loc, tokens = self_expr._parse(instring, loc, doActions, callPreParse=False)\n",
            "  File \"/usr/local/lib/python3.8/dist-packages/pip/_vendor/pyparsing/core.py\", line 810, in _parseNoCache\n",
            "    loc, tokens = self.parseImpl(instring, pre_loc, doActions)\n",
            "  File \"/usr/local/lib/python3.8/dist-packages/pip/_vendor/pyparsing/core.py\", line 3863, in parseImpl\n",
            "    loc, exprtokens = e._parse(instring, loc, doActions)\n",
            "  File \"/usr/local/lib/python3.8/dist-packages/pip/_vendor/pyparsing/core.py\", line 855, in _parseNoCache\n",
            "    ret_tokens = ParseResults(\n",
            "  File \"/usr/local/lib/python3.8/dist-packages/pip/_vendor/pyparsing/results.py\", line 142, in __new__\n",
            "    self._all_names = set()\n",
            "KeyboardInterrupt\n",
            "\n",
            "During handling of the above exception, another exception occurred:\n",
            "\n",
            "Traceback (most recent call last):\n",
            "  File \"/usr/lib/python3.8/logging/__init__.py\", line 1697, in isEnabledFor\n",
            "    return self._cache[level]\n",
            "KeyError: 50\n",
            "\n",
            "During handling of the above exception, another exception occurred:\n",
            "\n",
            "Traceback (most recent call last):\n",
            "  File \"/usr/local/bin/pip3\", line 8, in <module>\n",
            "    sys.exit(main())\n",
            "  File \"/usr/local/lib/python3.8/dist-packages/pip/_internal/cli/main.py\", line 70, in main\n",
            "    return command.main(cmd_args)\n",
            "  File \"/usr/local/lib/python3.8/dist-packages/pip/_internal/cli/base_command.py\", line 101, in main\n",
            "    return self._main(args)\n",
            "  File \"/usr/local/lib/python3.8/dist-packages/pip/_internal/cli/base_command.py\", line 221, in _main\n",
            "    return run(options, args)\n",
            "  File \"/usr/local/lib/python3.8/dist-packages/pip/_internal/cli/base_command.py\", line 204, in exc_logging_wrapper\n",
            "    logger.critical(\"Operation cancelled by user\")\n",
            "  File \"/usr/lib/python3.8/logging/__init__.py\", line 1492, in critical\n",
            "    if self.isEnabledFor(CRITICAL):\n",
            "  File \"/usr/lib/python3.8/logging/__init__.py\", line 1705, in isEnabledFor\n",
            "    level >= self.getEffectiveLevel()\n",
            "  File \"/usr/lib/python3.8/logging/__init__.py\", line 1684, in getEffectiveLevel\n",
            "    if logger.level:\n",
            "KeyboardInterrupt\n",
            "^C\n"
          ]
        },
        {
          "output_type": "error",
          "ename": "KeyboardInterrupt",
          "evalue": "ignored",
          "traceback": [
            "\u001b[0;31m---------------------------------------------------------------------------\u001b[0m",
            "\u001b[0;31mKeyboardInterrupt\u001b[0m                         Traceback (most recent call last)",
            "\u001b[0;32m<ipython-input-100-49794925faf2>\u001b[0m in \u001b[0;36m<module>\u001b[0;34m\u001b[0m\n\u001b[1;32m      4\u001b[0m \u001b[0;34m\u001b[0m\u001b[0m\n\u001b[1;32m      5\u001b[0m \u001b[0;32mimport\u001b[0m \u001b[0mpysentiment2\u001b[0m \u001b[0;32mas\u001b[0m \u001b[0mps\u001b[0m\u001b[0;34m\u001b[0m\u001b[0;34m\u001b[0m\u001b[0m\n\u001b[0;32m----> 6\u001b[0;31m \u001b[0mhiv4\u001b[0m \u001b[0;34m=\u001b[0m \u001b[0mps\u001b[0m\u001b[0;34m.\u001b[0m\u001b[0mHIV4\u001b[0m\u001b[0;34m(\u001b[0m\u001b[0;34m)\u001b[0m\u001b[0;34m\u001b[0m\u001b[0;34m\u001b[0m\u001b[0m\n\u001b[0m\u001b[1;32m      7\u001b[0m \u001b[0;34m\u001b[0m\u001b[0m\n\u001b[1;32m      8\u001b[0m \u001b[0;34m\u001b[0m\u001b[0m\n",
            "\u001b[0;32m/usr/local/lib/python3.8/dist-packages/pysentiment2/base.py\u001b[0m in \u001b[0;36m__init__\u001b[0;34m(self, tokenizer)\u001b[0m\n\u001b[1;32m     56\u001b[0m         \u001b[0;32melse\u001b[0m\u001b[0;34m:\u001b[0m\u001b[0;34m\u001b[0m\u001b[0;34m\u001b[0m\u001b[0m\n\u001b[1;32m     57\u001b[0m             \u001b[0mself\u001b[0m\u001b[0;34m.\u001b[0m\u001b[0m_tokenizer\u001b[0m \u001b[0;34m=\u001b[0m \u001b[0mtokenizer\u001b[0m\u001b[0;34m\u001b[0m\u001b[0;34m\u001b[0m\u001b[0m\n\u001b[0;32m---> 58\u001b[0;31m         \u001b[0mself\u001b[0m\u001b[0;34m.\u001b[0m\u001b[0minit_dict\u001b[0m\u001b[0;34m(\u001b[0m\u001b[0;34m)\u001b[0m\u001b[0;34m\u001b[0m\u001b[0;34m\u001b[0m\u001b[0m\n\u001b[0m\u001b[1;32m     59\u001b[0m \u001b[0;34m\u001b[0m\u001b[0m\n\u001b[1;32m     60\u001b[0m         \u001b[0;32massert\u001b[0m \u001b[0mlen\u001b[0m\u001b[0;34m(\u001b[0m\u001b[0mself\u001b[0m\u001b[0;34m.\u001b[0m\u001b[0m_posset\u001b[0m\u001b[0;34m)\u001b[0m \u001b[0;34m>\u001b[0m \u001b[0;36m0\u001b[0m \u001b[0;32mand\u001b[0m \u001b[0mlen\u001b[0m\u001b[0;34m(\u001b[0m\u001b[0mself\u001b[0m\u001b[0;34m.\u001b[0m\u001b[0m_negset\u001b[0m\u001b[0;34m)\u001b[0m \u001b[0;34m>\u001b[0m \u001b[0;36m0\u001b[0m\u001b[0;34m\u001b[0m\u001b[0;34m\u001b[0m\u001b[0m\n",
            "\u001b[0;32m/usr/local/lib/python3.8/dist-packages/pysentiment2/hiv4.py\u001b[0m in \u001b[0;36minit_dict\u001b[0;34m(self)\u001b[0m\n\u001b[1;32m     15\u001b[0m     \u001b[0;32mdef\u001b[0m \u001b[0minit_dict\u001b[0m\u001b[0;34m(\u001b[0m\u001b[0mself\u001b[0m\u001b[0;34m)\u001b[0m\u001b[0;34m:\u001b[0m\u001b[0;34m\u001b[0m\u001b[0;34m\u001b[0m\u001b[0m\n\u001b[1;32m     16\u001b[0m         \u001b[0mdata\u001b[0m \u001b[0;34m=\u001b[0m \u001b[0mpd\u001b[0m\u001b[0;34m.\u001b[0m\u001b[0mread_csv\u001b[0m\u001b[0;34m(\u001b[0m\u001b[0mself\u001b[0m\u001b[0;34m.\u001b[0m\u001b[0mPATH\u001b[0m\u001b[0;34m,\u001b[0m \u001b[0mdtype\u001b[0m\u001b[0;34m=\u001b[0m\u001b[0;34m'category'\u001b[0m\u001b[0;34m)\u001b[0m\u001b[0;34m\u001b[0m\u001b[0;34m\u001b[0m\u001b[0m\n\u001b[0;32m---> 17\u001b[0;31m         \u001b[0mself\u001b[0m\u001b[0;34m.\u001b[0m\u001b[0m_posset\u001b[0m \u001b[0;34m=\u001b[0m \u001b[0mset\u001b[0m\u001b[0;34m(\u001b[0m\u001b[0mdata\u001b[0m\u001b[0;34m.\u001b[0m\u001b[0mquery\u001b[0m\u001b[0;34m(\u001b[0m\u001b[0;34m'Positiv == \"Positiv\"'\u001b[0m\u001b[0;34m)\u001b[0m\u001b[0;34m[\u001b[0m\u001b[0;34m'Entry'\u001b[0m\u001b[0;34m]\u001b[0m\u001b[0;34m.\u001b[0m\u001b[0mapply\u001b[0m\u001b[0;34m(\u001b[0m\u001b[0mself\u001b[0m\u001b[0;34m.\u001b[0m\u001b[0mtokenize_first\u001b[0m\u001b[0;34m)\u001b[0m\u001b[0;34m.\u001b[0m\u001b[0mdropna\u001b[0m\u001b[0;34m(\u001b[0m\u001b[0;34m)\u001b[0m\u001b[0;34m)\u001b[0m\u001b[0;34m\u001b[0m\u001b[0;34m\u001b[0m\u001b[0m\n\u001b[0m\u001b[1;32m     18\u001b[0m         \u001b[0mself\u001b[0m\u001b[0;34m.\u001b[0m\u001b[0m_negset\u001b[0m \u001b[0;34m=\u001b[0m \u001b[0mset\u001b[0m\u001b[0;34m(\u001b[0m\u001b[0mdata\u001b[0m\u001b[0;34m.\u001b[0m\u001b[0mquery\u001b[0m\u001b[0;34m(\u001b[0m\u001b[0;34m'Negativ == \"Negativ\"'\u001b[0m\u001b[0;34m)\u001b[0m\u001b[0;34m[\u001b[0m\u001b[0;34m'Entry'\u001b[0m\u001b[0;34m]\u001b[0m\u001b[0;34m.\u001b[0m\u001b[0mapply\u001b[0m\u001b[0;34m(\u001b[0m\u001b[0mself\u001b[0m\u001b[0;34m.\u001b[0m\u001b[0mtokenize_first\u001b[0m\u001b[0;34m)\u001b[0m\u001b[0;34m.\u001b[0m\u001b[0mdropna\u001b[0m\u001b[0;34m(\u001b[0m\u001b[0;34m)\u001b[0m\u001b[0;34m)\u001b[0m\u001b[0;34m\u001b[0m\u001b[0;34m\u001b[0m\u001b[0m\n",
            "\u001b[0;32m/usr/local/lib/python3.8/dist-packages/pandas/util/_decorators.py\u001b[0m in \u001b[0;36mwrapper\u001b[0;34m(*args, **kwargs)\u001b[0m\n\u001b[1;32m    329\u001b[0m                     \u001b[0mstacklevel\u001b[0m\u001b[0;34m=\u001b[0m\u001b[0mfind_stack_level\u001b[0m\u001b[0;34m(\u001b[0m\u001b[0;34m)\u001b[0m\u001b[0;34m,\u001b[0m\u001b[0;34m\u001b[0m\u001b[0;34m\u001b[0m\u001b[0m\n\u001b[1;32m    330\u001b[0m                 )\n\u001b[0;32m--> 331\u001b[0;31m             \u001b[0;32mreturn\u001b[0m \u001b[0mfunc\u001b[0m\u001b[0;34m(\u001b[0m\u001b[0;34m*\u001b[0m\u001b[0margs\u001b[0m\u001b[0;34m,\u001b[0m \u001b[0;34m**\u001b[0m\u001b[0mkwargs\u001b[0m\u001b[0;34m)\u001b[0m\u001b[0;34m\u001b[0m\u001b[0;34m\u001b[0m\u001b[0m\n\u001b[0m\u001b[1;32m    332\u001b[0m \u001b[0;34m\u001b[0m\u001b[0m\n\u001b[1;32m    333\u001b[0m         \u001b[0;31m# error: \"Callable[[VarArg(Any), KwArg(Any)], Any]\" has no\u001b[0m\u001b[0;34m\u001b[0m\u001b[0;34m\u001b[0m\u001b[0;34m\u001b[0m\u001b[0m\n",
            "\u001b[0;32m/usr/local/lib/python3.8/dist-packages/pandas/core/frame.py\u001b[0m in \u001b[0;36mquery\u001b[0;34m(self, expr, inplace, **kwargs)\u001b[0m\n\u001b[1;32m   4475\u001b[0m \u001b[0;34m\u001b[0m\u001b[0m\n\u001b[1;32m   4476\u001b[0m         \u001b[0;32mtry\u001b[0m\u001b[0;34m:\u001b[0m\u001b[0;34m\u001b[0m\u001b[0;34m\u001b[0m\u001b[0m\n\u001b[0;32m-> 4477\u001b[0;31m             \u001b[0mresult\u001b[0m \u001b[0;34m=\u001b[0m \u001b[0mself\u001b[0m\u001b[0;34m.\u001b[0m\u001b[0mloc\u001b[0m\u001b[0;34m[\u001b[0m\u001b[0mres\u001b[0m\u001b[0;34m]\u001b[0m\u001b[0;34m\u001b[0m\u001b[0;34m\u001b[0m\u001b[0m\n\u001b[0m\u001b[1;32m   4478\u001b[0m         \u001b[0;32mexcept\u001b[0m \u001b[0mValueError\u001b[0m\u001b[0;34m:\u001b[0m\u001b[0;34m\u001b[0m\u001b[0;34m\u001b[0m\u001b[0m\n\u001b[1;32m   4479\u001b[0m             \u001b[0;31m# when res is multi-dimensional loc raises, but this is sometimes a\u001b[0m\u001b[0;34m\u001b[0m\u001b[0;34m\u001b[0m\u001b[0;34m\u001b[0m\u001b[0m\n",
            "\u001b[0;32m/usr/local/lib/python3.8/dist-packages/pandas/core/indexing.py\u001b[0m in \u001b[0;36m__getitem__\u001b[0;34m(self, key)\u001b[0m\n\u001b[1;32m   1071\u001b[0m \u001b[0;34m\u001b[0m\u001b[0m\n\u001b[1;32m   1072\u001b[0m             \u001b[0mmaybe_callable\u001b[0m \u001b[0;34m=\u001b[0m \u001b[0mcom\u001b[0m\u001b[0;34m.\u001b[0m\u001b[0mapply_if_callable\u001b[0m\u001b[0;34m(\u001b[0m\u001b[0mkey\u001b[0m\u001b[0;34m,\u001b[0m \u001b[0mself\u001b[0m\u001b[0;34m.\u001b[0m\u001b[0mobj\u001b[0m\u001b[0;34m)\u001b[0m\u001b[0;34m\u001b[0m\u001b[0;34m\u001b[0m\u001b[0m\n\u001b[0;32m-> 1073\u001b[0;31m             \u001b[0;32mreturn\u001b[0m \u001b[0mself\u001b[0m\u001b[0;34m.\u001b[0m\u001b[0m_getitem_axis\u001b[0m\u001b[0;34m(\u001b[0m\u001b[0mmaybe_callable\u001b[0m\u001b[0;34m,\u001b[0m \u001b[0maxis\u001b[0m\u001b[0;34m=\u001b[0m\u001b[0maxis\u001b[0m\u001b[0;34m)\u001b[0m\u001b[0;34m\u001b[0m\u001b[0;34m\u001b[0m\u001b[0m\n\u001b[0m\u001b[1;32m   1074\u001b[0m \u001b[0;34m\u001b[0m\u001b[0m\n\u001b[1;32m   1075\u001b[0m     \u001b[0;32mdef\u001b[0m \u001b[0m_is_scalar_access\u001b[0m\u001b[0;34m(\u001b[0m\u001b[0mself\u001b[0m\u001b[0;34m,\u001b[0m \u001b[0mkey\u001b[0m\u001b[0;34m:\u001b[0m \u001b[0mtuple\u001b[0m\u001b[0;34m)\u001b[0m\u001b[0;34m:\u001b[0m\u001b[0;34m\u001b[0m\u001b[0;34m\u001b[0m\u001b[0m\n",
            "\u001b[0;32m/usr/local/lib/python3.8/dist-packages/pandas/core/indexing.py\u001b[0m in \u001b[0;36m_getitem_axis\u001b[0;34m(self, key, axis)\u001b[0m\n\u001b[1;32m   1290\u001b[0m             \u001b[0;32mreturn\u001b[0m \u001b[0mself\u001b[0m\u001b[0;34m.\u001b[0m\u001b[0m_get_slice_axis\u001b[0m\u001b[0;34m(\u001b[0m\u001b[0mkey\u001b[0m\u001b[0;34m,\u001b[0m \u001b[0maxis\u001b[0m\u001b[0;34m=\u001b[0m\u001b[0maxis\u001b[0m\u001b[0;34m)\u001b[0m\u001b[0;34m\u001b[0m\u001b[0;34m\u001b[0m\u001b[0m\n\u001b[1;32m   1291\u001b[0m         \u001b[0;32melif\u001b[0m \u001b[0mcom\u001b[0m\u001b[0;34m.\u001b[0m\u001b[0mis_bool_indexer\u001b[0m\u001b[0;34m(\u001b[0m\u001b[0mkey\u001b[0m\u001b[0;34m)\u001b[0m\u001b[0;34m:\u001b[0m\u001b[0;34m\u001b[0m\u001b[0;34m\u001b[0m\u001b[0m\n\u001b[0;32m-> 1292\u001b[0;31m             \u001b[0;32mreturn\u001b[0m \u001b[0mself\u001b[0m\u001b[0;34m.\u001b[0m\u001b[0m_getbool_axis\u001b[0m\u001b[0;34m(\u001b[0m\u001b[0mkey\u001b[0m\u001b[0;34m,\u001b[0m \u001b[0maxis\u001b[0m\u001b[0;34m=\u001b[0m\u001b[0maxis\u001b[0m\u001b[0;34m)\u001b[0m\u001b[0;34m\u001b[0m\u001b[0;34m\u001b[0m\u001b[0m\n\u001b[0m\u001b[1;32m   1293\u001b[0m         \u001b[0;32melif\u001b[0m \u001b[0mis_list_like_indexer\u001b[0m\u001b[0;34m(\u001b[0m\u001b[0mkey\u001b[0m\u001b[0;34m)\u001b[0m\u001b[0;34m:\u001b[0m\u001b[0;34m\u001b[0m\u001b[0;34m\u001b[0m\u001b[0m\n\u001b[1;32m   1294\u001b[0m \u001b[0;34m\u001b[0m\u001b[0m\n",
            "\u001b[0;32m/usr/local/lib/python3.8/dist-packages/pandas/core/indexing.py\u001b[0m in \u001b[0;36m_getbool_axis\u001b[0;34m(self, key, axis)\u001b[0m\n\u001b[1;32m   1091\u001b[0m         \u001b[0mkey\u001b[0m \u001b[0;34m=\u001b[0m \u001b[0mcheck_bool_indexer\u001b[0m\u001b[0;34m(\u001b[0m\u001b[0mlabels\u001b[0m\u001b[0;34m,\u001b[0m \u001b[0mkey\u001b[0m\u001b[0;34m)\u001b[0m\u001b[0;34m\u001b[0m\u001b[0;34m\u001b[0m\u001b[0m\n\u001b[1;32m   1092\u001b[0m         \u001b[0minds\u001b[0m \u001b[0;34m=\u001b[0m \u001b[0mkey\u001b[0m\u001b[0;34m.\u001b[0m\u001b[0mnonzero\u001b[0m\u001b[0;34m(\u001b[0m\u001b[0;34m)\u001b[0m\u001b[0;34m[\u001b[0m\u001b[0;36m0\u001b[0m\u001b[0;34m]\u001b[0m\u001b[0;34m\u001b[0m\u001b[0;34m\u001b[0m\u001b[0m\n\u001b[0;32m-> 1093\u001b[0;31m         \u001b[0;32mreturn\u001b[0m \u001b[0mself\u001b[0m\u001b[0;34m.\u001b[0m\u001b[0mobj\u001b[0m\u001b[0;34m.\u001b[0m\u001b[0m_take_with_is_copy\u001b[0m\u001b[0;34m(\u001b[0m\u001b[0minds\u001b[0m\u001b[0;34m,\u001b[0m \u001b[0maxis\u001b[0m\u001b[0;34m=\u001b[0m\u001b[0maxis\u001b[0m\u001b[0;34m)\u001b[0m\u001b[0;34m\u001b[0m\u001b[0;34m\u001b[0m\u001b[0m\n\u001b[0m\u001b[1;32m   1094\u001b[0m \u001b[0;34m\u001b[0m\u001b[0m\n\u001b[1;32m   1095\u001b[0m \u001b[0;34m\u001b[0m\u001b[0m\n",
            "\u001b[0;32m/usr/local/lib/python3.8/dist-packages/pandas/core/generic.py\u001b[0m in \u001b[0;36m_take_with_is_copy\u001b[0;34m(self, indices, axis)\u001b[0m\n\u001b[1;32m   3900\u001b[0m         \u001b[0mSee\u001b[0m \u001b[0mthe\u001b[0m \u001b[0mdocstring\u001b[0m \u001b[0mof\u001b[0m\u001b[0;31m \u001b[0m\u001b[0;31m`\u001b[0m\u001b[0mtake\u001b[0m\u001b[0;31m`\u001b[0m \u001b[0;32mfor\u001b[0m \u001b[0mfull\u001b[0m \u001b[0mexplanation\u001b[0m \u001b[0mof\u001b[0m \u001b[0mthe\u001b[0m \u001b[0mparameters\u001b[0m\u001b[0;34m.\u001b[0m\u001b[0;34m\u001b[0m\u001b[0;34m\u001b[0m\u001b[0m\n\u001b[1;32m   3901\u001b[0m         \"\"\"\n\u001b[0;32m-> 3902\u001b[0;31m         \u001b[0mresult\u001b[0m \u001b[0;34m=\u001b[0m \u001b[0mself\u001b[0m\u001b[0;34m.\u001b[0m\u001b[0m_take\u001b[0m\u001b[0;34m(\u001b[0m\u001b[0mindices\u001b[0m\u001b[0;34m=\u001b[0m\u001b[0mindices\u001b[0m\u001b[0;34m,\u001b[0m \u001b[0maxis\u001b[0m\u001b[0;34m=\u001b[0m\u001b[0maxis\u001b[0m\u001b[0;34m)\u001b[0m\u001b[0;34m\u001b[0m\u001b[0;34m\u001b[0m\u001b[0m\n\u001b[0m\u001b[1;32m   3903\u001b[0m         \u001b[0;31m# Maybe set copy if we didn't actually change the index.\u001b[0m\u001b[0;34m\u001b[0m\u001b[0;34m\u001b[0m\u001b[0;34m\u001b[0m\u001b[0m\n\u001b[1;32m   3904\u001b[0m         \u001b[0;32mif\u001b[0m \u001b[0;32mnot\u001b[0m \u001b[0mresult\u001b[0m\u001b[0;34m.\u001b[0m\u001b[0m_get_axis\u001b[0m\u001b[0;34m(\u001b[0m\u001b[0maxis\u001b[0m\u001b[0;34m)\u001b[0m\u001b[0;34m.\u001b[0m\u001b[0mequals\u001b[0m\u001b[0;34m(\u001b[0m\u001b[0mself\u001b[0m\u001b[0;34m.\u001b[0m\u001b[0m_get_axis\u001b[0m\u001b[0;34m(\u001b[0m\u001b[0maxis\u001b[0m\u001b[0;34m)\u001b[0m\u001b[0;34m)\u001b[0m\u001b[0;34m:\u001b[0m\u001b[0;34m\u001b[0m\u001b[0;34m\u001b[0m\u001b[0m\n",
            "\u001b[0;32m/usr/local/lib/python3.8/dist-packages/pandas/core/generic.py\u001b[0m in \u001b[0;36m_take\u001b[0;34m(self, indices, axis, convert_indices)\u001b[0m\n\u001b[1;32m   3884\u001b[0m         \u001b[0mself\u001b[0m\u001b[0;34m.\u001b[0m\u001b[0m_consolidate_inplace\u001b[0m\u001b[0;34m(\u001b[0m\u001b[0;34m)\u001b[0m\u001b[0;34m\u001b[0m\u001b[0;34m\u001b[0m\u001b[0m\n\u001b[1;32m   3885\u001b[0m \u001b[0;34m\u001b[0m\u001b[0m\n\u001b[0;32m-> 3886\u001b[0;31m         new_data = self._mgr.take(\n\u001b[0m\u001b[1;32m   3887\u001b[0m             \u001b[0mindices\u001b[0m\u001b[0;34m,\u001b[0m\u001b[0;34m\u001b[0m\u001b[0;34m\u001b[0m\u001b[0m\n\u001b[1;32m   3888\u001b[0m             \u001b[0maxis\u001b[0m\u001b[0;34m=\u001b[0m\u001b[0mself\u001b[0m\u001b[0;34m.\u001b[0m\u001b[0m_get_block_manager_axis\u001b[0m\u001b[0;34m(\u001b[0m\u001b[0maxis\u001b[0m\u001b[0;34m)\u001b[0m\u001b[0;34m,\u001b[0m\u001b[0;34m\u001b[0m\u001b[0;34m\u001b[0m\u001b[0m\n",
            "\u001b[0;32m/usr/local/lib/python3.8/dist-packages/pandas/core/internals/managers.py\u001b[0m in \u001b[0;36mtake\u001b[0;34m(self, indexer, axis, verify, convert_indices)\u001b[0m\n\u001b[1;32m    976\u001b[0m \u001b[0;34m\u001b[0m\u001b[0m\n\u001b[1;32m    977\u001b[0m         \u001b[0mnew_labels\u001b[0m \u001b[0;34m=\u001b[0m \u001b[0mself\u001b[0m\u001b[0;34m.\u001b[0m\u001b[0maxes\u001b[0m\u001b[0;34m[\u001b[0m\u001b[0maxis\u001b[0m\u001b[0;34m]\u001b[0m\u001b[0;34m.\u001b[0m\u001b[0mtake\u001b[0m\u001b[0;34m(\u001b[0m\u001b[0mindexer\u001b[0m\u001b[0;34m)\u001b[0m\u001b[0;34m\u001b[0m\u001b[0;34m\u001b[0m\u001b[0m\n\u001b[0;32m--> 978\u001b[0;31m         return self.reindex_indexer(\n\u001b[0m\u001b[1;32m    979\u001b[0m             \u001b[0mnew_axis\u001b[0m\u001b[0;34m=\u001b[0m\u001b[0mnew_labels\u001b[0m\u001b[0;34m,\u001b[0m\u001b[0;34m\u001b[0m\u001b[0;34m\u001b[0m\u001b[0m\n\u001b[1;32m    980\u001b[0m             \u001b[0mindexer\u001b[0m\u001b[0;34m=\u001b[0m\u001b[0mindexer\u001b[0m\u001b[0;34m,\u001b[0m\u001b[0;34m\u001b[0m\u001b[0;34m\u001b[0m\u001b[0m\n",
            "\u001b[0;32m/usr/local/lib/python3.8/dist-packages/pandas/core/internals/managers.py\u001b[0m in \u001b[0;36mreindex_indexer\u001b[0;34m(self, new_axis, indexer, axis, fill_value, allow_dups, copy, only_slice, use_na_proxy)\u001b[0m\n\u001b[1;32m    749\u001b[0m             \u001b[0mparent\u001b[0m \u001b[0;34m=\u001b[0m \u001b[0;32mNone\u001b[0m \u001b[0;32mif\u001b[0m \u001b[0mcom\u001b[0m\u001b[0;34m.\u001b[0m\u001b[0mall_none\u001b[0m\u001b[0;34m(\u001b[0m\u001b[0;34m*\u001b[0m\u001b[0mnew_refs\u001b[0m\u001b[0;34m)\u001b[0m \u001b[0;32melse\u001b[0m \u001b[0mself\u001b[0m\u001b[0;34m\u001b[0m\u001b[0;34m\u001b[0m\u001b[0m\n\u001b[1;32m    750\u001b[0m         \u001b[0;32melse\u001b[0m\u001b[0;34m:\u001b[0m\u001b[0;34m\u001b[0m\u001b[0;34m\u001b[0m\u001b[0m\n\u001b[0;32m--> 751\u001b[0;31m             new_blocks = [\n\u001b[0m\u001b[1;32m    752\u001b[0m                 blk.take_nd(\n\u001b[1;32m    753\u001b[0m                     \u001b[0mindexer\u001b[0m\u001b[0;34m,\u001b[0m\u001b[0;34m\u001b[0m\u001b[0;34m\u001b[0m\u001b[0m\n",
            "\u001b[0;32m/usr/local/lib/python3.8/dist-packages/pandas/core/internals/managers.py\u001b[0m in \u001b[0;36m<listcomp>\u001b[0;34m(.0)\u001b[0m\n\u001b[1;32m    750\u001b[0m         \u001b[0;32melse\u001b[0m\u001b[0;34m:\u001b[0m\u001b[0;34m\u001b[0m\u001b[0;34m\u001b[0m\u001b[0m\n\u001b[1;32m    751\u001b[0m             new_blocks = [\n\u001b[0;32m--> 752\u001b[0;31m                 blk.take_nd(\n\u001b[0m\u001b[1;32m    753\u001b[0m                     \u001b[0mindexer\u001b[0m\u001b[0;34m,\u001b[0m\u001b[0;34m\u001b[0m\u001b[0;34m\u001b[0m\u001b[0m\n\u001b[1;32m    754\u001b[0m                     \u001b[0maxis\u001b[0m\u001b[0;34m=\u001b[0m\u001b[0;36m1\u001b[0m\u001b[0;34m,\u001b[0m\u001b[0;34m\u001b[0m\u001b[0;34m\u001b[0m\u001b[0m\n",
            "\u001b[0;32m/usr/local/lib/python3.8/dist-packages/pandas/core/internals/blocks.py\u001b[0m in \u001b[0;36mtake_nd\u001b[0;34m(self, indexer, axis, new_mgr_locs, fill_value)\u001b[0m\n\u001b[1;32m   1773\u001b[0m         \u001b[0;31m# but are passed the axis depending on the calling routing\u001b[0m\u001b[0;34m\u001b[0m\u001b[0;34m\u001b[0m\u001b[0;34m\u001b[0m\u001b[0m\n\u001b[1;32m   1774\u001b[0m         \u001b[0;31m# if its REALLY axis 0, then this will be a reindex and not a take\u001b[0m\u001b[0;34m\u001b[0m\u001b[0;34m\u001b[0m\u001b[0;34m\u001b[0m\u001b[0m\n\u001b[0;32m-> 1775\u001b[0;31m         \u001b[0mnew_values\u001b[0m \u001b[0;34m=\u001b[0m \u001b[0mself\u001b[0m\u001b[0;34m.\u001b[0m\u001b[0mvalues\u001b[0m\u001b[0;34m.\u001b[0m\u001b[0mtake\u001b[0m\u001b[0;34m(\u001b[0m\u001b[0mindexer\u001b[0m\u001b[0;34m,\u001b[0m \u001b[0mfill_value\u001b[0m\u001b[0;34m=\u001b[0m\u001b[0mfill_value\u001b[0m\u001b[0;34m,\u001b[0m \u001b[0mallow_fill\u001b[0m\u001b[0;34m=\u001b[0m\u001b[0;32mTrue\u001b[0m\u001b[0;34m)\u001b[0m\u001b[0;34m\u001b[0m\u001b[0;34m\u001b[0m\u001b[0m\n\u001b[0m\u001b[1;32m   1776\u001b[0m \u001b[0;34m\u001b[0m\u001b[0m\n\u001b[1;32m   1777\u001b[0m         \u001b[0;31m# Called from three places in managers, all of which satisfy\u001b[0m\u001b[0;34m\u001b[0m\u001b[0;34m\u001b[0m\u001b[0;34m\u001b[0m\u001b[0m\n",
            "\u001b[0;32m/usr/local/lib/python3.8/dist-packages/pandas/core/arrays/_mixins.py\u001b[0m in \u001b[0;36mtake\u001b[0;34m(self, indices, allow_fill, fill_value, axis)\u001b[0m\n\u001b[1;32m    163\u001b[0m             \u001b[0mfill_value\u001b[0m \u001b[0;34m=\u001b[0m \u001b[0mself\u001b[0m\u001b[0;34m.\u001b[0m\u001b[0m_validate_scalar\u001b[0m\u001b[0;34m(\u001b[0m\u001b[0mfill_value\u001b[0m\u001b[0;34m)\u001b[0m\u001b[0;34m\u001b[0m\u001b[0;34m\u001b[0m\u001b[0m\n\u001b[1;32m    164\u001b[0m \u001b[0;34m\u001b[0m\u001b[0m\n\u001b[0;32m--> 165\u001b[0;31m         new_data = take(\n\u001b[0m\u001b[1;32m    166\u001b[0m             \u001b[0mself\u001b[0m\u001b[0;34m.\u001b[0m\u001b[0m_ndarray\u001b[0m\u001b[0;34m,\u001b[0m\u001b[0;34m\u001b[0m\u001b[0;34m\u001b[0m\u001b[0m\n\u001b[1;32m    167\u001b[0m             \u001b[0mindices\u001b[0m\u001b[0;34m,\u001b[0m\u001b[0;34m\u001b[0m\u001b[0;34m\u001b[0m\u001b[0m\n",
            "\u001b[0;32m/usr/local/lib/python3.8/dist-packages/pandas/core/algorithms.py\u001b[0m in \u001b[0;36mtake\u001b[0;34m(arr, indices, axis, allow_fill, fill_value)\u001b[0m\n\u001b[1;32m   1570\u001b[0m         \u001b[0;31m# Pandas style, -1 means NA\u001b[0m\u001b[0;34m\u001b[0m\u001b[0;34m\u001b[0m\u001b[0;34m\u001b[0m\u001b[0m\n\u001b[1;32m   1571\u001b[0m         \u001b[0mvalidate_indices\u001b[0m\u001b[0;34m(\u001b[0m\u001b[0mindices\u001b[0m\u001b[0;34m,\u001b[0m \u001b[0marr\u001b[0m\u001b[0;34m.\u001b[0m\u001b[0mshape\u001b[0m\u001b[0;34m[\u001b[0m\u001b[0maxis\u001b[0m\u001b[0;34m]\u001b[0m\u001b[0;34m)\u001b[0m\u001b[0;34m\u001b[0m\u001b[0;34m\u001b[0m\u001b[0m\n\u001b[0;32m-> 1572\u001b[0;31m         result = take_nd(\n\u001b[0m\u001b[1;32m   1573\u001b[0m             \u001b[0marr\u001b[0m\u001b[0;34m,\u001b[0m \u001b[0mindices\u001b[0m\u001b[0;34m,\u001b[0m \u001b[0maxis\u001b[0m\u001b[0;34m=\u001b[0m\u001b[0maxis\u001b[0m\u001b[0;34m,\u001b[0m \u001b[0mallow_fill\u001b[0m\u001b[0;34m=\u001b[0m\u001b[0;32mTrue\u001b[0m\u001b[0;34m,\u001b[0m \u001b[0mfill_value\u001b[0m\u001b[0;34m=\u001b[0m\u001b[0mfill_value\u001b[0m\u001b[0;34m\u001b[0m\u001b[0;34m\u001b[0m\u001b[0m\n\u001b[1;32m   1574\u001b[0m         )\n",
            "\u001b[0;32m/usr/local/lib/python3.8/dist-packages/pandas/core/array_algos/take.py\u001b[0m in \u001b[0;36mtake_nd\u001b[0;34m(arr, indexer, axis, fill_value, allow_fill)\u001b[0m\n\u001b[1;32m    115\u001b[0m \u001b[0;34m\u001b[0m\u001b[0m\n\u001b[1;32m    116\u001b[0m     \u001b[0marr\u001b[0m \u001b[0;34m=\u001b[0m \u001b[0mnp\u001b[0m\u001b[0;34m.\u001b[0m\u001b[0masarray\u001b[0m\u001b[0;34m(\u001b[0m\u001b[0marr\u001b[0m\u001b[0;34m)\u001b[0m\u001b[0;34m\u001b[0m\u001b[0;34m\u001b[0m\u001b[0m\n\u001b[0;32m--> 117\u001b[0;31m     \u001b[0;32mreturn\u001b[0m \u001b[0m_take_nd_ndarray\u001b[0m\u001b[0;34m(\u001b[0m\u001b[0marr\u001b[0m\u001b[0;34m,\u001b[0m \u001b[0mindexer\u001b[0m\u001b[0;34m,\u001b[0m \u001b[0maxis\u001b[0m\u001b[0;34m,\u001b[0m \u001b[0mfill_value\u001b[0m\u001b[0;34m,\u001b[0m \u001b[0mallow_fill\u001b[0m\u001b[0;34m)\u001b[0m\u001b[0;34m\u001b[0m\u001b[0;34m\u001b[0m\u001b[0m\n\u001b[0m\u001b[1;32m    118\u001b[0m \u001b[0;34m\u001b[0m\u001b[0m\n\u001b[1;32m    119\u001b[0m \u001b[0;34m\u001b[0m\u001b[0m\n",
            "\u001b[0;32m/usr/local/lib/python3.8/dist-packages/pandas/core/array_algos/take.py\u001b[0m in \u001b[0;36m_take_nd_ndarray\u001b[0;34m(arr, indexer, axis, fill_value, allow_fill)\u001b[0m\n\u001b[1;32m    161\u001b[0m         \u001b[0marr\u001b[0m\u001b[0;34m.\u001b[0m\u001b[0mndim\u001b[0m\u001b[0;34m,\u001b[0m \u001b[0marr\u001b[0m\u001b[0;34m.\u001b[0m\u001b[0mdtype\u001b[0m\u001b[0;34m,\u001b[0m \u001b[0mout\u001b[0m\u001b[0;34m.\u001b[0m\u001b[0mdtype\u001b[0m\u001b[0;34m,\u001b[0m \u001b[0maxis\u001b[0m\u001b[0;34m=\u001b[0m\u001b[0maxis\u001b[0m\u001b[0;34m,\u001b[0m \u001b[0mmask_info\u001b[0m\u001b[0;34m=\u001b[0m\u001b[0mmask_info\u001b[0m\u001b[0;34m\u001b[0m\u001b[0;34m\u001b[0m\u001b[0m\n\u001b[1;32m    162\u001b[0m     )\n\u001b[0;32m--> 163\u001b[0;31m     \u001b[0mfunc\u001b[0m\u001b[0;34m(\u001b[0m\u001b[0marr\u001b[0m\u001b[0;34m,\u001b[0m \u001b[0mindexer\u001b[0m\u001b[0;34m,\u001b[0m \u001b[0mout\u001b[0m\u001b[0;34m,\u001b[0m \u001b[0mfill_value\u001b[0m\u001b[0;34m)\u001b[0m\u001b[0;34m\u001b[0m\u001b[0;34m\u001b[0m\u001b[0m\n\u001b[0m\u001b[1;32m    164\u001b[0m \u001b[0;34m\u001b[0m\u001b[0m\n\u001b[1;32m    165\u001b[0m     \u001b[0;32mif\u001b[0m \u001b[0mflip_order\u001b[0m\u001b[0;34m:\u001b[0m\u001b[0;34m\u001b[0m\u001b[0;34m\u001b[0m\u001b[0m\n",
            "\u001b[0;31mKeyboardInterrupt\u001b[0m: "
          ]
        }
      ]
    },
    {
      "cell_type": "code",
      "source": [
        "# On affiche unniquement la polarité\n",
        "\n",
        "df_train_series['polarity_fed_Harvard'] = df_train_series['polarity_score_fed_Harvard'].apply(lambda x: x['Polarity'])\n",
        "df_train_series['polarity_ecb_Harvard'] = df_train_series['polarity_score_ecb_Harvard'].apply(lambda x: x['Polarity'])\n",
        "\n"
      ],
      "metadata": {
        "id": "jiMQj_Hr8nuR"
      },
      "execution_count": null,
      "outputs": []
    },
    {
      "cell_type": "code",
      "source": [
        "# ajout de colonnes pour l'étiquetage des sentiments\n",
        "df_train_series['sentiment_label_ecb_Harvard'] = df_train_series['polarity_ecb_Harvard'].apply(lambda x: 'positive' if x > 0.1 else 'negative' if x < -0.1 else 'neutral')\n",
        "df_train_series['sentiment_label_fed_Harvard'] = df_train_series['polarity_fed_Harvard'].apply(lambda x: 'positive' if x > 0.1 else 'negative' if x < -0.1 else 'neutral')\n",
        "def ma_fonction(a, b):\n",
        "  if a+b > 0.1:\n",
        "    return 'positive'\n",
        "  elif a+b< 0.1:\n",
        "    return 'negative'\n",
        "  else:\n",
        "    return 'neutral'\n",
        " \n",
        "\n",
        "\n",
        "df_train_series['sentiment_label_Harvard'] = df_train_series.apply(lambda row: ma_fonction(row['polarity_ecb_Harvard'],row['polarity_fed_Harvard']),axis=1)\n",
        "\n"
      ],
      "metadata": {
        "id": "8W0Jsea9tlpt"
      },
      "execution_count": null,
      "outputs": []
    },
    {
      "cell_type": "code",
      "source": [
        "# On trace une représentation graphique de la répartition des scores de polarité\n",
        "\n",
        "fig, (ax1, ax2) = plt.subplots(ncols=2, figsize=(10, 5))\n",
        "\n",
        "ax1.hist(df_train_series['polarity_ecb_Harvard'], color='blue', alpha=0.5)\n",
        "ax1.set(title='polarity_score_ecb_Harvard', xlabel='indice de polarité', ylabel='Nombre dobservations')\n",
        "\n",
        "ax2.hist(df_train_series['polarity_fed_Harvard'], color='green', alpha=0.5)\n",
        "ax2.set(title='polarity_score_fed_Harvard', xlabel='indice de polarité', ylabel='Nombre dobservations')\n",
        "\n",
        "plt.show()"
      ],
      "metadata": {
        "colab": {
          "base_uri": "https://localhost:8080/",
          "height": 350
        },
        "id": "RSOPEZ1R8PlK",
        "outputId": "a78dde1f-b286-4390-dbcf-3d0de8b06a11"
      },
      "execution_count": null,
      "outputs": [
        {
          "output_type": "display_data",
          "data": {
            "text/plain": [
              "<Figure size 720x360 with 2 Axes>"
            ],
            "image/png": "[encoded data removed]"
          },
          "metadata": {
            "needs_background": "light"
          }
        }
      ]
    },
    {
      "cell_type": "markdown",
      "source": [],
      "metadata": {
        "id": "eT2dfA8TeJIF"
      }
    },
    {
      "cell_type": "code",
      "source": [
        "# Matrice de confusion\n",
        "\n",
        "table_fed = pd.crosstab(df_train_series['V_Cible_categ'], df_train_series['sentiment_label_fed_Harvard'])\n",
        "print(table_fed)\n",
        "table_ecb = pd.crosstab(df_train_series['V_Cible_categ'], df_train_series['sentiment_label_ecb_Harvard'])\n",
        "print(table_ecb)\n",
        "table = pd.crosstab(df_train_series['V_Cible_categ'], df_train_series['sentiment_label_Harvard'])\n",
        "print(table)\n",
        "\n"
      ],
      "metadata": {
        "colab": {
          "base_uri": "https://localhost:8080/"
        },
        "id": "y2yNAQXYGPXo",
        "outputId": "5080a85e-56c0-4110-e4df-b72abe41709c"
      },
      "execution_count": null,
      "outputs": [
        {
          "output_type": "stream",
          "name": "stdout",
          "text": [
            "sentiment_label_fed_Harvard  neutral  positive\n",
            "V_Cible_categ                                 \n",
            "Baisse                            37      4187\n",
            "Hausse                            34      3982\n",
            "sentiment_label_ecb_Harvard  negative  neutral  positive\n",
            "V_Cible_categ                                           \n",
            "Baisse                            111       74      4039\n",
            "Hausse                             94       85      3837\n",
            "sentiment_label_Harvard  negative  positive\n",
            "V_Cible_categ                              \n",
            "Baisse                         95      4129\n",
            "Hausse                         78      3938\n"
          ]
        }
      ]
    },
    {
      "cell_type": "markdown",
      "source": [
        "ca n'a pas l'air très pertinent non plus"
      ],
      "metadata": {
        "id": "EqraE4dfvVLl"
      }
    },
    {
      "cell_type": "markdown",
      "source": [
        "## Loughan and McDonald"
      ],
      "metadata": {
        "id": "zNWW_RdMc8YU"
      }
    },
    {
      "cell_type": "code",
      "source": [
        "# Loughan and McDonald Dictionnary\n",
        "\n",
        "import pysentiment2 as ps\n",
        "lm = ps.LM()\n",
        "def get_sentiment_score(text):\n",
        "  tokens = lm.tokenize(text)\n",
        "  score = lm.get_score(tokens)\n",
        "  return score\n",
        "\n",
        "\n",
        "# ajout de colonnes pour le score de polarité\n",
        "df_train_series['polarity_score_ecb_LM'] = df_train_series['text_concat_ecb_tokenisé'].apply(lambda x: get_sentiment_score(' '.join(x)))\n",
        "df_train_series['polarity_score_fed_LM'] = df_train_series['text_concat_fed_tokenisé'].apply(lambda x: get_sentiment_score(' '.join(x)))\n",
        "\n"
      ],
      "metadata": {
        "id": "NvCTL6LEHaLW"
      },
      "execution_count": null,
      "outputs": []
    },
    {
      "cell_type": "code",
      "source": [
        "df_train_series['polarity_score_fed_LM']"
      ],
      "metadata": {
        "colab": {
          "base_uri": "https://localhost:8080/"
        },
        "id": "ifR2zJmbLrrf",
        "outputId": "b67b8783-0867-4121-87cc-43b220a0e94e"
      },
      "execution_count": null,
      "outputs": [
        {
          "output_type": "execute_result",
          "data": {
            "text/plain": [
              "0       {'Positive': 57, 'Negative': 84, 'Polarity': -...\n",
              "1       {'Positive': 40, 'Negative': 96, 'Polarity': -...\n",
              "2       {'Positive': 114, 'Negative': 255, 'Polarity':...\n",
              "3       {'Positive': 71, 'Negative': 132, 'Polarity': ...\n",
              "4       {'Positive': 69, 'Negative': 140, 'Polarity': ...\n",
              "                              ...                        \n",
              "8941    {'Positive': 60, 'Negative': 170, 'Polarity': ...\n",
              "8942    {'Positive': 100, 'Negative': 198, 'Polarity':...\n",
              "8943    {'Positive': 83, 'Negative': 158, 'Polarity': ...\n",
              "8944    {'Positive': 127, 'Negative': 252, 'Polarity':...\n",
              "8945    {'Positive': 8, 'Negative': 22, 'Polarity': -0...\n",
              "Name: polarity_score_fed_LM, Length: 8240, dtype: object"
            ]
          },
          "metadata": {},
          "execution_count": 80
        }
      ]
    },
    {
      "cell_type": "code",
      "source": [
        "df_train_series['polarity_fed_LM'] = df_train_series['polarity_score_fed_LM'].apply(lambda x: x['Polarity'])\n",
        "df_train_series['polarity_ecb_LM'] = df_train_series['polarity_score_ecb_LM'].apply(lambda x: x['Polarity'])\n",
        "df_train_series['polarity_ecb_LM'].head()"
      ],
      "metadata": {
        "colab": {
          "base_uri": "https://localhost:8080/"
        },
        "id": "bWBG-AECHaOl",
        "outputId": "a21d4d25-953e-443c-9c98-fdc3714299c9"
      },
      "execution_count": null,
      "outputs": [
        {
          "output_type": "execute_result",
          "data": {
            "text/plain": [
              "0   -0.079545\n",
              "1    0.019608\n",
              "2   -0.213675\n",
              "3    0.000000\n",
              "4   -0.264368\n",
              "Name: polarity_ecb_LM, dtype: float64"
            ]
          },
          "metadata": {},
          "execution_count": 81
        }
      ]
    },
    {
      "cell_type": "code",
      "source": [
        "# On trace une représentation graphique de la répartition des scores de polarité\n",
        "\n",
        "fig, (ax1, ax2) = plt.subplots(ncols=2, figsize=(10, 5))\n",
        "\n",
        "ax1.hist(df_train_series['polarity_fed_LM'], color='blue', alpha=0.5)\n",
        "ax1.set(title='polarity_fed_LM', xlabel='indice de polarité', ylabel='Nombre dobservations')\n",
        "\n",
        "ax2.hist(df_train_series['polarity_ecb_LM'], color='green', alpha=0.5)\n",
        "ax2.set(title='polarity_ecb_LM', xlabel='indice de polarité', ylabel='Nombre dobservations')\n",
        "\n",
        "plt.show()"
      ],
      "metadata": {
        "colab": {
          "base_uri": "https://localhost:8080/",
          "height": 350
        },
        "id": "oEur_iGwHaRC",
        "outputId": "84252261-caf9-4a23-93d2-897c410cd01a"
      },
      "execution_count": null,
      "outputs": [
        {
          "output_type": "display_data",
          "data": {
            "text/plain": [
              "<Figure size 720x360 with 2 Axes>"
            ],
            "image/png": "[encoded data removed]"
          },
          "metadata": {
            "needs_background": "light"
          }
        }
      ]
    },
    {
      "cell_type": "code",
      "source": [
        "# ajout de colonnes pour l'étiquetage des sentiments\n",
        "df_train_series['sentiment_label_ecb_LM'] = df_train_series['polarity_ecb_LM'].apply(lambda x: 'positive' if x > 0.1 else 'negative' if x < -0.1 else 'neutral')\n",
        "df_train_series['sentiment_label_fed_LM'] = df_train_series['polarity_fed_LM'].apply(lambda x: 'positive' if x > 0.1 else 'negative' if x < -0.1 else 'neutral')\n",
        "def ma_fonction(a, b):\n",
        "  if a+b > 0.1:\n",
        "    return 'positive'\n",
        "  elif a+b< 0.1:\n",
        "    return 'negative'\n",
        "  else:\n",
        "    return 'neutral'\n",
        " \n",
        "\n",
        "\n",
        "df_train_series['sentiment_label_LM'] = df_train_series.apply(lambda row: ma_fonction(row['polarity_ecb_LM'],row['polarity_fed_LM']),axis=1)\n",
        "\n"
      ],
      "metadata": {
        "id": "6ankZNahHaUZ"
      },
      "execution_count": null,
      "outputs": []
    },
    {
      "cell_type": "code",
      "source": [
        "df_train_series['sentiment_label_LM'].value_counts()"
      ],
      "metadata": {
        "colab": {
          "base_uri": "https://localhost:8080/"
        },
        "id": "HTnzz5WzMP3C",
        "outputId": "0dd56b4a-5c62-41f5-d9c2-1e0e6724548d"
      },
      "execution_count": null,
      "outputs": [
        {
          "output_type": "execute_result",
          "data": {
            "text/plain": [
              "negative    6634\n",
              "positive    1606\n",
              "Name: sentiment_label_LM, dtype: int64"
            ]
          },
          "metadata": {},
          "execution_count": 85
        }
      ]
    },
    {
      "cell_type": "code",
      "source": [
        "# Matrice de confusion\n",
        "print('Matrice de confusion pour text fed')\n",
        "table_fed = pd.crosstab(df_train_series['V_Cible_categ'], df_train_series['sentiment_label_ecb_LM'])\n",
        "print(table_fed)\n",
        "print('Matrice de confusion pour text ecb')\n",
        "table_ecb = pd.crosstab(df_train_series['V_Cible_categ'], df_train_series['sentiment_label_fed_LM'])\n",
        "print(table_ecb)\n",
        "print('Matrice de confusion pour text ecb+fed')\n",
        "table = pd.crosstab(df_train_series['V_Cible_categ'], df_train_series['sentiment_label_LM'])\n",
        "print(table)"
      ],
      "metadata": {
        "colab": {
          "base_uri": "https://localhost:8080/"
        },
        "id": "DMr7fmEdIO66",
        "outputId": "6c439de4-5512-425c-c764-f8fbdf84f115"
      },
      "execution_count": null,
      "outputs": [
        {
          "output_type": "stream",
          "name": "stdout",
          "text": [
            "Matrice de confusion pour text fed\n",
            "sentiment_label_ecb_LM  negative  neutral  positive\n",
            "V_Cible_categ                                      \n",
            "Baisse                      2421     1032       771\n",
            "Hausse                      2293     1023       700\n",
            "Matrice de confusion pour text ecb\n",
            "sentiment_label_fed_LM  negative  neutral  positive\n",
            "V_Cible_categ                                      \n",
            "Baisse                      3199      625       400\n",
            "Hausse                      3017      587       412\n",
            "Matrice de confusion pour text ecb+fed\n",
            "sentiment_label_LM  negative  positive\n",
            "V_Cible_categ                         \n",
            "Baisse                  3716       508\n",
            "Hausse                  3476       540\n"
          ]
        }
      ]
    },
    {
      "cell_type": "markdown",
      "source": [
        "On voit clairement que l'analyse des sentiment est efficace ici ! Un texte étiqueté 'positive' aura tendance à être associé à une hausse la ou un texte étiqueté 'négative' aura tendance à être associé à une baisse."
      ],
      "metadata": {
        "id": "5wpfFUWJw14O"
      }
    },
    {
      "cell_type": "markdown",
      "metadata": {
        "id": "TDPgMQIinSqk"
      },
      "source": [
        "# Train Test Split"
      ]
    },
    {
      "cell_type": "code",
      "execution_count": null,
      "metadata": {
        "id": "ktkmWslwnSqk"
      },
      "outputs": [],
      "source": [
        "# Train test split \n",
        "X=df_train_series.loc[:,df_train_series.columns!=\"Index + 1\"]\n",
        "y=df_train_series[[\"Index + 1\"]]\n",
        "\n",
        "X_train, X_test, y_train, y_test = train_test_split(X,y,test_size=.2)\n",
        "print(X_train.shape,y_train.shape)"
      ]
    },
    {
      "cell_type": "markdown",
      "metadata": {
        "id": "9mBYzFiwnSqk"
      },
      "source": [
        "Binary Classification"
      ]
    },
    {
      "cell_type": "code",
      "execution_count": null,
      "metadata": {
        "id": "XL4facySnSql"
      },
      "outputs": [],
      "source": [
        "y_t = np.sign(y_train)\n",
        "y_t.value_counts()"
      ]
    },
    {
      "cell_type": "code",
      "execution_count": null,
      "metadata": {
        "id": "X1alzRQlnSql"
      },
      "outputs": [],
      "source": [
        "from pandas.plotting import lag_plot\n",
        "lag_plot(series)\n",
        "pyplot.show()"
      ]
    },
    {
      "cell_type": "markdown",
      "metadata": {
        "id": "SidtxFdBnSqm"
      },
      "source": [
        "# Categorical Encoding "
      ]
    },
    {
      "cell_type": "code",
      "execution_count": null,
      "metadata": {
        "id": "RougqJepnSqm"
      },
      "outputs": [],
      "source": [
        "col_speakers = [\"speaker_\"+str(i+1) for i in range(4)]\n",
        "test_conc = pd.concat([X_train, X_train['list_speakers_ecb'].apply(pd.Series)], axis=1)\n",
        "test_conc.rename({i:col for i, col in enumerate(col_speakers)},axis=1,inplace=True)\n",
        "enc = WOEEncoder(cols=col_speakers)\n",
        "tr = enc.fit_transform(test_conc, y_t)\n",
        "tr.fillna(0,inplace=True)"
      ]
    },
    {
      "cell_type": "code",
      "execution_count": null,
      "metadata": {
        "id": "d2aqqnr8nSqn"
      },
      "outputs": [],
      "source": [
        "tr.head()"
      ]
    },
    {
      "cell_type": "code",
      "execution_count": null,
      "metadata": {
        "id": "Lz1VS5zxnSqn"
      },
      "outputs": [],
      "source": []
    },
    {
      "cell_type": "markdown",
      "metadata": {
        "id": "emP8o-sUnSqn"
      },
      "source": [
        "# Embeddings"
      ]
    },
    {
      "cell_type": "markdown",
      "metadata": {
        "id": "iFxWiEtCnSqn"
      },
      "source": [
        "## Build a vocabulary"
      ]
    },
    {
      "cell_type": "code",
      "execution_count": null,
      "metadata": {
        "id": "wWxCaqKenSqn"
      },
      "outputs": [],
      "source": []
    },
    {
      "cell_type": "markdown",
      "metadata": {
        "id": "F8jPcx5CnSqn"
      },
      "source": [
        "## Create the co-occurence Matrix"
      ]
    },
    {
      "cell_type": "code",
      "execution_count": null,
      "metadata": {
        "id": "KuStyxlWnSqo"
      },
      "outputs": [],
      "source": []
    },
    {
      "cell_type": "markdown",
      "metadata": {
        "id": "mv6ohKannSqo"
      },
      "source": [
        "## Embeddings from the co-occurence Matrix\n",
        "\n",
        "### SVD"
      ]
    },
    {
      "cell_type": "code",
      "execution_count": null,
      "metadata": {
        "id": "PTK8eNrPnSqo"
      },
      "outputs": [],
      "source": []
    },
    {
      "cell_type": "markdown",
      "metadata": {
        "id": "I7tTih7YnSqo"
      },
      "source": [
        "## Sentence Representations"
      ]
    },
    {
      "cell_type": "code",
      "execution_count": null,
      "metadata": {
        "id": "kBlE6_86nSqo"
      },
      "outputs": [],
      "source": []
    },
    {
      "cell_type": "markdown",
      "metadata": {
        "id": "jtg_C08wnSqo"
      },
      "source": [
        "# Save Data"
      ]
    },
    {
      "cell_type": "code",
      "execution_count": null,
      "metadata": {
        "id": "PiNFt2NNnSqo"
      },
      "outputs": [],
      "source": []
    }
  ],
  "metadata": {
    "kernelspec": {
      "display_name": "nlp_dauph_env",
      "language": "python",
      "name": "python3"
    },
    "language_info": {
      "codemirror_mode": {
        "name": "ipython",
        "version": 3
      },
      "file_extension": ".py",
      "mimetype": "text/x-python",
      "name": "python",
      "nbconvert_exporter": "python",
      "pygments_lexer": "ipython3",
      "version": "3.9.16"
    },
    "orig_nbformat": 4,
    "vscode": {
      "interpreter": {
        "hash": "19e1fba33c11e86ebf73adee9f1e3fa74d02f2f28a5835ec272b267c2e20a98d"
      }
    },
    "colab": {
      "provenance": [],
      "toc_visible": true
    }
  },
  "nbformat": 4,
  "nbformat_minor": 0
}