{
 "cells": [
  {
   "cell_type": "code",
   "execution_count": 1,
   "metadata": {},
   "outputs": [],
   "source": [
    "%reload_ext autoreload\n",
    "%autoreload 2"
   ]
  },
  {
   "cell_type": "code",
   "execution_count": 2,
   "metadata": {},
   "outputs": [],
   "source": [
    "from pathlib import Path\n",
    "from nlp_dauphine.preprocess_data import (\n",
    "        load_data, \n",
    "        text_cleaning, \n",
    "        link_texts_series, \n",
    "        suppr_footnotes, \n",
    "        categorical_other\n",
    "        )\n",
    "from nlp_dauphine.embeddings import vocabulary\n",
    "from nlp_dauphine.utils import set_working_dir\n",
    "import matplotlib.pyplot as plt\n",
    "from sklearn.model_selection import train_test_split\n",
    "import numpy as np\n",
    "import pandas as pd\n",
    "from category_encoders import WOEEncoder"
   ]
  },
  {
   "cell_type": "code",
   "execution_count": 3,
   "metadata": {},
   "outputs": [
    {
     "name": "stdout",
     "output_type": "stream",
     "text": [
      "Current working dir: c:/Users/Hugo/Documents/Travail/A5/Dauphine_challenge/nlp_dauphine/notebooks\n",
      "New working dir: c:/Users/Hugo/Documents/Travail/A5/Dauphine_challenge/nlp_dauphine\n"
     ]
    }
   ],
   "source": [
    "set_working_dir()"
   ]
  },
  {
   "attachments": {},
   "cell_type": "markdown",
   "metadata": {},
   "source": [
    "# Load Data"
   ]
  },
  {
   "cell_type": "code",
   "execution_count": 4,
   "metadata": {},
   "outputs": [],
   "source": [
    "path = Path(\"data\")\n",
    "files_path = {\n",
    "    \"ecb\": Path(path,\"ecb_data.csv\"),\n",
    "    \"fed\": Path(path,\"fed_data.csv\"),\n",
    "    \"train_series\": Path(path,\"train_series.csv\"),\n",
    "}"
   ]
  },
  {
   "cell_type": "code",
   "execution_count": 6,
   "metadata": {},
   "outputs": [
    {
     "name": "stdout",
     "output_type": "stream",
     "text": [
      "(1772, 3) (739, 3) (8946, 14)\n"
     ]
    }
   ],
   "source": [
    "# LOAD TEXT DATA\n",
    "df_ecb, df_fed, df_train_series = load_data(files_path)\n",
    "print(df_ecb.shape, df_fed.shape, df_train_series.shape)"
   ]
  },
  {
   "attachments": {},
   "cell_type": "markdown",
   "metadata": {},
   "source": [
    "# Text Cleaning"
   ]
  },
  {
   "attachments": {},
   "cell_type": "markdown",
   "metadata": {},
   "source": [
    "## Link Texts to Series\n",
    "\n",
    "Create some indices"
   ]
  },
  {
   "cell_type": "code",
   "execution_count": 7,
   "metadata": {},
   "outputs": [],
   "source": [
    "df_ecb.reset_index(inplace=True, names=\"id_ecb\")\n",
    "df_fed.reset_index(inplace=True, names=\"id_fed\")\n",
    "df_train_series.reset_index(inplace=True, names=\"id_series\")"
   ]
  },
  {
   "attachments": {},
   "cell_type": "markdown",
   "metadata": {},
   "source": [
    "Create a list rather than a string with a comma separator"
   ]
  },
  {
   "cell_type": "code",
   "execution_count": 8,
   "metadata": {},
   "outputs": [],
   "source": [
    "df_train_series[\"id_ecb\"] = [x.split(\",\") for x in df_train_series['index ecb']]\n",
    "df_train_series[\"id_fed\"] = [x.split(\",\") for x in df_train_series['index fed']]\n",
    "del df_train_series['index ecb']\n",
    "del df_train_series['index fed']"
   ]
  },
  {
   "attachments": {},
   "cell_type": "markdown",
   "metadata": {},
   "source": [
    "## Remove Footnotes"
   ]
  },
  {
   "cell_type": "code",
   "execution_count": 9,
   "metadata": {},
   "outputs": [],
   "source": [
    "df_ecb[\"text_process\"] = df_ecb.text.apply(lambda x: suppr_footnotes(x))\n",
    "df_fed[\"text_process\"] = df_fed.text.apply(lambda x: suppr_footnotes(x))"
   ]
  },
  {
   "attachments": {},
   "cell_type": "markdown",
   "metadata": {},
   "source": [
    "## Deal with Null Values"
   ]
  },
  {
   "cell_type": "code",
   "execution_count": 10,
   "metadata": {},
   "outputs": [],
   "source": [
    "# REPLACE NULL TEXTS BY TITLE\n",
    "index_no_texts = df_ecb[df_ecb[\"text_process\"].isnull()].index.values\n",
    "df_ecb.loc[index_no_texts, \"text_process\"] = df_ecb.loc[index_no_texts, \"title\"].values"
   ]
  },
  {
   "attachments": {},
   "cell_type": "markdown",
   "metadata": {},
   "source": [
    "## Remove special characters, stop words, Lemmatization..."
   ]
  },
  {
   "cell_type": "code",
   "execution_count": 27,
   "metadata": {},
   "outputs": [
    {
     "name": "stdout",
     "output_type": "stream",
     "text": [
      "done\n"
     ]
    }
   ],
   "source": [
    "# Clean Data\n",
    "negation_words = [\"no\", \"not\"]\n",
    "df_fed.text_process = [text_cleaning(\n",
    "        x,\n",
    "        negation_set=negation_words,\n",
    "        fg_no_numbers=True,\n",
    "        fg_stop_words=True,\n",
    "        fg_lemmatization=True,\n",
    "    ) for x in df_fed.text_process]\n",
    "df_ecb.text_process = [text_cleaning(\n",
    "        x,\n",
    "        negation_set=negation_words,\n",
    "        fg_no_numbers=True,\n",
    "        fg_stop_words=True,\n",
    "        fg_lemmatization=True,\n",
    "    ) for x in df_ecb.text_process]"
   ]
  },
  {
   "attachments": {},
   "cell_type": "markdown",
   "metadata": {},
   "source": [
    "Less efficient "
   ]
  },
  {
   "cell_type": "code",
   "execution_count": null,
   "metadata": {},
   "outputs": [],
   "source": [
    "\"\"\"# CLEAN TEXTS\n",
    "negation_words = [\"no\", \"not\"]\n",
    "df_fed.text_process = df_fed.text_process.apply(\n",
    "    lambda x: text_cleaning(\n",
    "        x,\n",
    "        negation_set=negation_words,\n",
    "        fg_no_numbers=True,\n",
    "        fg_stop_words=True,\n",
    "        fg_lemmatization=True,\n",
    "    )\n",
    ")\n",
    "df_ecb.text_process = df_ecb.text_process.apply(\n",
    "    lambda x: text_cleaning(\n",
    "        x,\n",
    "        negation_set=negation_words,\n",
    "        fg_no_numbers=True,\n",
    "        fg_stop_words=True,\n",
    "        fg_lemmatization=True,\n",
    "    )\n",
    ")\"\"\""
   ]
  },
  {
   "cell_type": "code",
   "execution_count": 70,
   "metadata": {},
   "outputs": [],
   "source": [
    "df_fed.text_process = a \n",
    "df_ecb.text_process = b"
   ]
  },
  {
   "attachments": {},
   "cell_type": "markdown",
   "metadata": {},
   "source": [
    "Length of the texts"
   ]
  },
  {
   "cell_type": "code",
   "execution_count": 13,
   "metadata": {},
   "outputs": [
    {
     "data": {
      "image/png": "[encoded data removed]",
      "text/plain": [
       "<Figure size 640x480 with 2 Axes>"
      ]
     },
     "metadata": {},
     "output_type": "display_data"
    }
   ],
   "source": [
    "lenght_texts_ecb = [len(str(x).split(\" \")) for x in df_ecb.text]\n",
    "lenght_texts_fed = [len(str(x).split(\" \")) for x in df_fed.text]\n",
    "fig, ax = plt.subplots(1,2)\n",
    "ax[0].hist(lenght_texts_ecb, bins=50)\n",
    "ax[0].set_title(\"ECB\")\n",
    "ax[1].hist(lenght_texts_fed, bins=50)\n",
    "ax[1].set_title(\"FED\")\n",
    "plt.show()"
   ]
  },
  {
   "cell_type": "code",
   "execution_count": 61,
   "metadata": {},
   "outputs": [
    {
     "data": {
      "image/png": "[encoded data removed]",
      "text/plain": [
       "<Figure size 640x480 with 2 Axes>"
      ]
     },
     "metadata": {},
     "output_type": "display_data"
    }
   ],
   "source": [
    "lenght_texts_ecb = [len(str(x).split(\" \")) for x in df_ecb.text_process]\n",
    "lenght_texts_fed = [len(str(x).split(\" \")) for x in df_fed.text_process]\n",
    "fig, ax = plt.subplots(1,2)\n",
    "ax[0].hist(lenght_texts_ecb, bins=50)\n",
    "ax[0].set_title(\"ECB\")\n",
    "ax[1].hist(lenght_texts_fed, bins=50)\n",
    "ax[1].set_title(\"FED\")\n",
    "plt.show()"
   ]
  },
  {
   "cell_type": "code",
   "execution_count": null,
   "metadata": {},
   "outputs": [],
   "source": [
    "#np.where(np.array(lenght_texts_ecb).astype('int64')<200)"
   ]
  },
  {
   "attachments": {},
   "cell_type": "markdown",
   "metadata": {},
   "source": [
    "# Categorical Variable: Speakers"
   ]
  },
  {
   "cell_type": "code",
   "execution_count": 12,
   "metadata": {},
   "outputs": [
    {
     "data": {
      "text/plain": [
       "Chairman Ben S. Bernanke                        145\n",
       "Governor Lael Brainard                           68\n",
       "Governor Daniel K. Tarullo                       54\n",
       "Governor Jerome H. Powell                        50\n",
       "Vice Chairman Stanley Fischer                    45\n",
       "Governor Elizabeth A. Duke                       44\n",
       "Chair Janet L. Yellen                            44\n",
       "Vice Chairman Donald L. Kohn                     41\n",
       "Vice Chair for Supervision Randal K. Quarles     39\n",
       "Governor Randall S. Kroszner                     36\n",
       "Chairman Jerome H. Powell                        32\n",
       "Governor Frederic S. Mishkin                     26\n",
       "Vice Chairman Richard H. Clarida                 26\n",
       "Vice Chair Janet L. Yellen                       22\n",
       "Governor Sarah Bloom Raskin                      17\n",
       "Governor Kevin Warsh                             16\n",
       "Governor Jeremy C. Stein                         16\n",
       "Governor Michelle W. Bowman                      13\n",
       "Governor Susan S. Bies                            3\n",
       "Name: speaker, dtype: int64"
      ]
     },
     "execution_count": 12,
     "metadata": {},
     "output_type": "execute_result"
    }
   ],
   "source": [
    "df_fed.speaker.value_counts()"
   ]
  },
  {
   "cell_type": "code",
   "execution_count": 71,
   "metadata": {},
   "outputs": [],
   "source": [
    "df_ecb.speaker = categorical_other(df_ecb.speaker)\n",
    "df_fed.speaker = categorical_other(df_fed.speaker, threshold=0.025)"
   ]
  },
  {
   "attachments": {},
   "cell_type": "markdown",
   "metadata": {},
   "source": [
    "# Text Concatenation"
   ]
  },
  {
   "cell_type": "code",
   "execution_count": 13,
   "metadata": {},
   "outputs": [
    {
     "data": {
      "text/html": [
       "<div>\n",
       "<style scoped>\n",
       "    .dataframe tbody tr th:only-of-type {\n",
       "        vertical-align: middle;\n",
       "    }\n",
       "\n",
       "    .dataframe tbody tr th {\n",
       "        vertical-align: top;\n",
       "    }\n",
       "\n",
       "    .dataframe thead th {\n",
       "        text-align: right;\n",
       "    }\n",
       "</style>\n",
       "<table border=\"1\" class=\"dataframe\">\n",
       "  <thead>\n",
       "    <tr style=\"text-align: right;\">\n",
       "      <th></th>\n",
       "      <th>id_series</th>\n",
       "      <th>Index Name</th>\n",
       "      <th>Index - 9</th>\n",
       "      <th>Index - 8</th>\n",
       "      <th>Index - 7</th>\n",
       "      <th>Index - 6</th>\n",
       "      <th>Index - 5</th>\n",
       "      <th>Index - 4</th>\n",
       "      <th>Index - 3</th>\n",
       "      <th>Index - 2</th>\n",
       "      <th>Index - 1</th>\n",
       "      <th>Index - 0</th>\n",
       "      <th>Index + 1</th>\n",
       "      <th>id_ecb</th>\n",
       "      <th>id_fed</th>\n",
       "    </tr>\n",
       "  </thead>\n",
       "  <tbody>\n",
       "    <tr>\n",
       "      <th>0</th>\n",
       "      <td>0</td>\n",
       "      <td>V2X Index</td>\n",
       "      <td>0.001045</td>\n",
       "      <td>0.005841</td>\n",
       "      <td>0.003832</td>\n",
       "      <td>-0.027519</td>\n",
       "      <td>-0.103565</td>\n",
       "      <td>-0.045086</td>\n",
       "      <td>-0.011265</td>\n",
       "      <td>0.005164</td>\n",
       "      <td>0.054050</td>\n",
       "      <td>0.015779</td>\n",
       "      <td>0.010597</td>\n",
       "      <td>[1126, 1471]</td>\n",
       "      <td>[96]</td>\n",
       "    </tr>\n",
       "    <tr>\n",
       "      <th>1</th>\n",
       "      <td>1</td>\n",
       "      <td>MOVE Index</td>\n",
       "      <td>-0.021497</td>\n",
       "      <td>0.007891</td>\n",
       "      <td>-0.013175</td>\n",
       "      <td>-0.008436</td>\n",
       "      <td>0.000000</td>\n",
       "      <td>0.026303</td>\n",
       "      <td>0.000556</td>\n",
       "      <td>0.001455</td>\n",
       "      <td>0.007422</td>\n",
       "      <td>0.000000</td>\n",
       "      <td>0.014492</td>\n",
       "      <td>[975]</td>\n",
       "      <td>[568]</td>\n",
       "    </tr>\n",
       "    <tr>\n",
       "      <th>2</th>\n",
       "      <td>2</td>\n",
       "      <td>SPX Index</td>\n",
       "      <td>-0.001872</td>\n",
       "      <td>-0.008154</td>\n",
       "      <td>0.023588</td>\n",
       "      <td>0.004086</td>\n",
       "      <td>0.003493</td>\n",
       "      <td>0.003300</td>\n",
       "      <td>0.000885</td>\n",
       "      <td>-0.011304</td>\n",
       "      <td>0.005040</td>\n",
       "      <td>0.000156</td>\n",
       "      <td>0.016263</td>\n",
       "      <td>[78, 806]</td>\n",
       "      <td>[328, 695]</td>\n",
       "    </tr>\n",
       "    <tr>\n",
       "      <th>3</th>\n",
       "      <td>3</td>\n",
       "      <td>SPX Index</td>\n",
       "      <td>0.004980</td>\n",
       "      <td>-0.000864</td>\n",
       "      <td>0.001677</td>\n",
       "      <td>0.000000</td>\n",
       "      <td>0.006030</td>\n",
       "      <td>-0.001083</td>\n",
       "      <td>0.000419</td>\n",
       "      <td>0.001492</td>\n",
       "      <td>0.001018</td>\n",
       "      <td>-0.002582</td>\n",
       "      <td>0.013581</td>\n",
       "      <td>[560, 1405]</td>\n",
       "      <td>[118]</td>\n",
       "    </tr>\n",
       "    <tr>\n",
       "      <th>4</th>\n",
       "      <td>4</td>\n",
       "      <td>EURUSD Curncy</td>\n",
       "      <td>0.000360</td>\n",
       "      <td>-0.001893</td>\n",
       "      <td>0.005579</td>\n",
       "      <td>-0.003056</td>\n",
       "      <td>-0.001171</td>\n",
       "      <td>-0.001623</td>\n",
       "      <td>-0.002350</td>\n",
       "      <td>-0.006444</td>\n",
       "      <td>-0.000729</td>\n",
       "      <td>-0.000365</td>\n",
       "      <td>0.005092</td>\n",
       "      <td>[404]</td>\n",
       "      <td>[261]</td>\n",
       "    </tr>\n",
       "  </tbody>\n",
       "</table>\n",
       "</div>"
      ],
      "text/plain": [
       "   id_series     Index Name  Index - 9  Index - 8  Index - 7  Index - 6  \\\n",
       "0          0      V2X Index   0.001045   0.005841   0.003832  -0.027519   \n",
       "1          1     MOVE Index  -0.021497   0.007891  -0.013175  -0.008436   \n",
       "2          2      SPX Index  -0.001872  -0.008154   0.023588   0.004086   \n",
       "3          3      SPX Index   0.004980  -0.000864   0.001677   0.000000   \n",
       "4          4  EURUSD Curncy   0.000360  -0.001893   0.005579  -0.003056   \n",
       "\n",
       "   Index - 5  Index - 4  Index - 3  Index - 2  Index - 1  Index - 0  \\\n",
       "0  -0.103565  -0.045086  -0.011265   0.005164   0.054050   0.015779   \n",
       "1   0.000000   0.026303   0.000556   0.001455   0.007422   0.000000   \n",
       "2   0.003493   0.003300   0.000885  -0.011304   0.005040   0.000156   \n",
       "3   0.006030  -0.001083   0.000419   0.001492   0.001018  -0.002582   \n",
       "4  -0.001171  -0.001623  -0.002350  -0.006444  -0.000729  -0.000365   \n",
       "\n",
       "   Index + 1        id_ecb      id_fed  \n",
       "0   0.010597  [1126, 1471]        [96]  \n",
       "1   0.014492         [975]       [568]  \n",
       "2   0.016263     [78, 806]  [328, 695]  \n",
       "3   0.013581   [560, 1405]       [118]  \n",
       "4   0.005092         [404]       [261]  "
      ]
     },
     "execution_count": 13,
     "metadata": {},
     "output_type": "execute_result"
    }
   ],
   "source": [
    "df_train_series.head()"
   ]
  },
  {
   "cell_type": "code",
   "execution_count": 72,
   "metadata": {},
   "outputs": [],
   "source": [
    "df_series_ecb_process = link_texts_series(df_train_series, df_ecb, \"id_series\", \"id_ecb\")\n",
    "df_series_fed_process = link_texts_series(df_train_series, df_fed, \"id_series\", \"id_fed\")"
   ]
  },
  {
   "cell_type": "code",
   "execution_count": 73,
   "metadata": {},
   "outputs": [
    {
     "data": {
      "text/html": [
       "<div>\n",
       "<style scoped>\n",
       "    .dataframe tbody tr th:only-of-type {\n",
       "        vertical-align: middle;\n",
       "    }\n",
       "\n",
       "    .dataframe tbody tr th {\n",
       "        vertical-align: top;\n",
       "    }\n",
       "\n",
       "    .dataframe thead th {\n",
       "        text-align: right;\n",
       "    }\n",
       "</style>\n",
       "<table border=\"1\" class=\"dataframe\">\n",
       "  <thead>\n",
       "    <tr style=\"text-align: right;\">\n",
       "      <th></th>\n",
       "      <th>id_series</th>\n",
       "      <th>Index Name</th>\n",
       "      <th>Index - 9</th>\n",
       "      <th>Index - 8</th>\n",
       "      <th>Index - 7</th>\n",
       "      <th>Index - 6</th>\n",
       "      <th>Index - 5</th>\n",
       "      <th>Index - 4</th>\n",
       "      <th>Index - 3</th>\n",
       "      <th>Index - 2</th>\n",
       "      <th>Index - 1</th>\n",
       "      <th>Index - 0</th>\n",
       "      <th>Index + 1</th>\n",
       "      <th>id_ecb</th>\n",
       "      <th>id_fed</th>\n",
       "      <th>text_concat_ecb</th>\n",
       "      <th>list_speakers_ecb</th>\n",
       "      <th>text_concat_fed</th>\n",
       "      <th>list_speakers_fed</th>\n",
       "    </tr>\n",
       "  </thead>\n",
       "  <tbody>\n",
       "    <tr>\n",
       "      <th>0</th>\n",
       "      <td>0</td>\n",
       "      <td>V2X Index</td>\n",
       "      <td>0.001045</td>\n",
       "      <td>0.005841</td>\n",
       "      <td>0.003832</td>\n",
       "      <td>-0.027519</td>\n",
       "      <td>-0.103565</td>\n",
       "      <td>-0.045086</td>\n",
       "      <td>-0.011265</td>\n",
       "      <td>0.005164</td>\n",
       "      <td>0.054050</td>\n",
       "      <td>0.015779</td>\n",
       "      <td>0.010597</td>\n",
       "      <td>[1126, 1471]</td>\n",
       "      <td>[96]</td>\n",
       "      <td>welcome address welcome remark philip r lane m...</td>\n",
       "      <td>[Philip R. Lane, Luis de Guindos]</td>\n",
       "      <td>delighted helsinki important conference moneta...</td>\n",
       "      <td>[Vice Chairman Richard H. Clarida]</td>\n",
       "    </tr>\n",
       "    <tr>\n",
       "      <th>1</th>\n",
       "      <td>1</td>\n",
       "      <td>MOVE Index</td>\n",
       "      <td>-0.021497</td>\n",
       "      <td>0.007891</td>\n",
       "      <td>-0.013175</td>\n",
       "      <td>-0.008436</td>\n",
       "      <td>0.000000</td>\n",
       "      <td>0.026303</td>\n",
       "      <td>0.000556</td>\n",
       "      <td>0.001455</td>\n",
       "      <td>0.007422</td>\n",
       "      <td>0.000000</td>\n",
       "      <td>0.014492</td>\n",
       "      <td>[975]</td>\n",
       "      <td>[568]</td>\n",
       "      <td>monetary policy structural reform euro area sp...</td>\n",
       "      <td>[Mario Draghi]</td>\n",
       "      <td>watch live would like thank federal reserve ba...</td>\n",
       "      <td>[Vice Chairman Stanley Fischer]</td>\n",
       "    </tr>\n",
       "    <tr>\n",
       "      <th>2</th>\n",
       "      <td>2</td>\n",
       "      <td>SPX Index</td>\n",
       "      <td>-0.001872</td>\n",
       "      <td>-0.008154</td>\n",
       "      <td>0.023588</td>\n",
       "      <td>0.004086</td>\n",
       "      <td>0.003493</td>\n",
       "      <td>0.003300</td>\n",
       "      <td>0.000885</td>\n",
       "      <td>-0.011304</td>\n",
       "      <td>0.005040</td>\n",
       "      <td>0.000156</td>\n",
       "      <td>0.016263</td>\n",
       "      <td>[78, 806]</td>\n",
       "      <td>[328, 695]</td>\n",
       "      <td>challenge opportunity reboot european financia...</td>\n",
       "      <td>[Benoît Cœuré, Benoît Cœuré]</td>\n",
       "      <td>grateful national association business economi...</td>\n",
       "      <td>[Vice Chairman Stanley Fischer, Governor Lael ...</td>\n",
       "    </tr>\n",
       "    <tr>\n",
       "      <th>3</th>\n",
       "      <td>3</td>\n",
       "      <td>SPX Index</td>\n",
       "      <td>0.004980</td>\n",
       "      <td>-0.000864</td>\n",
       "      <td>0.001677</td>\n",
       "      <td>0.000000</td>\n",
       "      <td>0.006030</td>\n",
       "      <td>-0.001083</td>\n",
       "      <td>0.000419</td>\n",
       "      <td>0.001492</td>\n",
       "      <td>0.001018</td>\n",
       "      <td>-0.002582</td>\n",
       "      <td>0.013581</td>\n",
       "      <td>[560, 1405]</td>\n",
       "      <td>[118]</td>\n",
       "      <td>create stability uncertain world speech peter ...</td>\n",
       "      <td>[Peter Praet, Peter Praet]</td>\n",
       "      <td>thank invitation speak today begin take stock ...</td>\n",
       "      <td>[Governor Jerome H. Powell]</td>\n",
       "    </tr>\n",
       "    <tr>\n",
       "      <th>4</th>\n",
       "      <td>4</td>\n",
       "      <td>EURUSD Curncy</td>\n",
       "      <td>0.000360</td>\n",
       "      <td>-0.001893</td>\n",
       "      <td>0.005579</td>\n",
       "      <td>-0.003056</td>\n",
       "      <td>-0.001171</td>\n",
       "      <td>-0.001623</td>\n",
       "      <td>-0.002350</td>\n",
       "      <td>-0.006444</td>\n",
       "      <td>-0.000729</td>\n",
       "      <td>-0.000365</td>\n",
       "      <td>0.005092</td>\n",
       "      <td>[404]</td>\n",
       "      <td>[261]</td>\n",
       "      <td>money private currency reflection libra speech...</td>\n",
       "      <td>[Yves Mersch]</td>\n",
       "      <td>year symposium topic challenge monetary policy...</td>\n",
       "      <td>[Chairman Jerome H. Powell]</td>\n",
       "    </tr>\n",
       "  </tbody>\n",
       "</table>\n",
       "</div>"
      ],
      "text/plain": [
       "   id_series     Index Name  Index - 9  Index - 8  Index - 7  Index - 6  \\\n",
       "0          0      V2X Index   0.001045   0.005841   0.003832  -0.027519   \n",
       "1          1     MOVE Index  -0.021497   0.007891  -0.013175  -0.008436   \n",
       "2          2      SPX Index  -0.001872  -0.008154   0.023588   0.004086   \n",
       "3          3      SPX Index   0.004980  -0.000864   0.001677   0.000000   \n",
       "4          4  EURUSD Curncy   0.000360  -0.001893   0.005579  -0.003056   \n",
       "\n",
       "   Index - 5  Index - 4  Index - 3  Index - 2  Index - 1  Index - 0  \\\n",
       "0  -0.103565  -0.045086  -0.011265   0.005164   0.054050   0.015779   \n",
       "1   0.000000   0.026303   0.000556   0.001455   0.007422   0.000000   \n",
       "2   0.003493   0.003300   0.000885  -0.011304   0.005040   0.000156   \n",
       "3   0.006030  -0.001083   0.000419   0.001492   0.001018  -0.002582   \n",
       "4  -0.001171  -0.001623  -0.002350  -0.006444  -0.000729  -0.000365   \n",
       "\n",
       "   Index + 1        id_ecb      id_fed  \\\n",
       "0   0.010597  [1126, 1471]        [96]   \n",
       "1   0.014492         [975]       [568]   \n",
       "2   0.016263     [78, 806]  [328, 695]   \n",
       "3   0.013581   [560, 1405]       [118]   \n",
       "4   0.005092         [404]       [261]   \n",
       "\n",
       "                                     text_concat_ecb  \\\n",
       "0  welcome address welcome remark philip r lane m...   \n",
       "1  monetary policy structural reform euro area sp...   \n",
       "2  challenge opportunity reboot european financia...   \n",
       "3  create stability uncertain world speech peter ...   \n",
       "4  money private currency reflection libra speech...   \n",
       "\n",
       "                   list_speakers_ecb  \\\n",
       "0  [Philip R. Lane, Luis de Guindos]   \n",
       "1                     [Mario Draghi]   \n",
       "2       [Benoît Cœuré, Benoît Cœuré]   \n",
       "3         [Peter Praet, Peter Praet]   \n",
       "4                      [Yves Mersch]   \n",
       "\n",
       "                                     text_concat_fed  \\\n",
       "0  delighted helsinki important conference moneta...   \n",
       "1  watch live would like thank federal reserve ba...   \n",
       "2  grateful national association business economi...   \n",
       "3  thank invitation speak today begin take stock ...   \n",
       "4  year symposium topic challenge monetary policy...   \n",
       "\n",
       "                                   list_speakers_fed  \n",
       "0                 [Vice Chairman Richard H. Clarida]  \n",
       "1                    [Vice Chairman Stanley Fischer]  \n",
       "2  [Vice Chairman Stanley Fischer, Governor Lael ...  \n",
       "3                        [Governor Jerome H. Powell]  \n",
       "4                        [Chairman Jerome H. Powell]  "
      ]
     },
     "execution_count": 73,
     "metadata": {},
     "output_type": "execute_result"
    }
   ],
   "source": [
    "df_train_series = df_train_series.merge(df_series_ecb_process,on='id_series',how='left')\n",
    "df_train_series = df_train_series.merge(df_series_fed_process,on='id_series',how='left')\n",
    "df_train_series.head()"
   ]
  },
  {
   "attachments": {},
   "cell_type": "markdown",
   "metadata": {},
   "source": [
    "# Removal Zero value Time series\n",
    "\n",
    "Probably due to a score approximation \n",
    "\n",
    "Some times all indices are null"
   ]
  },
  {
   "cell_type": "code",
   "execution_count": 118,
   "metadata": {},
   "outputs": [
    {
     "data": {
      "text/plain": [
       "SRVIX Index         428\n",
       "CVIX Index           70\n",
       "MOVE Index           50\n",
       "VIX Index            41\n",
       "V2X Index            36\n",
       "SPX Index            36\n",
       "SX5E Index           25\n",
       "EURUSDV1M Curncy     13\n",
       "EURUSD Curncy         7\n",
       "Name: Index Name, dtype: int64"
      ]
     },
     "execution_count": 118,
     "metadata": {},
     "output_type": "execute_result"
    }
   ],
   "source": [
    "df_train_series.loc[df_train_series['Index + 1']==0.0]['Index Name'].value_counts()"
   ]
  },
  {
   "cell_type": "code",
   "execution_count": 123,
   "metadata": {},
   "outputs": [],
   "source": [
    "sup = df_train_series.loc[df_train_series['Index + 1']==0.0].index\n",
    "df_train_series.drop(sup,inplace=True)"
   ]
  },
  {
   "cell_type": "code",
   "execution_count": 144,
   "metadata": {},
   "outputs": [],
   "source": [
    "df_train_series.to_csv(\"./data/train_series_clean_no_0.csv\")"
   ]
  },
  {
   "attachments": {},
   "cell_type": "markdown",
   "metadata": {},
   "source": [
    "# Train Test Split"
   ]
  },
  {
   "cell_type": "code",
   "execution_count": 124,
   "metadata": {},
   "outputs": [
    {
     "name": "stdout",
     "output_type": "stream",
     "text": [
      "(6592, 18) (6592, 1)\n"
     ]
    }
   ],
   "source": [
    "# Train test split \n",
    "X=df_train_series.loc[:,df_train_series.columns!=\"Index + 1\"]\n",
    "y=df_train_series[[\"Index + 1\"]]\n",
    "\n",
    "X_train, X_test, y_train, y_test = train_test_split(X,y,test_size=.2)\n",
    "print(X_train.shape,y_train.shape)"
   ]
  },
  {
   "attachments": {},
   "cell_type": "markdown",
   "metadata": {},
   "source": [
    "Binary Classification"
   ]
  },
  {
   "cell_type": "code",
   "execution_count": 125,
   "metadata": {},
   "outputs": [
    {
     "data": {
      "text/plain": [
       "Index + 1\n",
       "-1.0         3364\n",
       " 1.0         3228\n",
       "dtype: int64"
      ]
     },
     "execution_count": 125,
     "metadata": {},
     "output_type": "execute_result"
    }
   ],
   "source": [
    "y_t = np.sign(y_train)\n",
    "y_t.value_counts()"
   ]
  },
  {
   "cell_type": "code",
   "execution_count": null,
   "metadata": {},
   "outputs": [],
   "source": [
    "from pandas.plotting import lag_plot\n",
    "lag_plot(series)\n",
    "pyplot.show()"
   ]
  },
  {
   "attachments": {},
   "cell_type": "markdown",
   "metadata": {},
   "source": [
    "# Categorical Encoding "
   ]
  },
  {
   "cell_type": "code",
   "execution_count": 142,
   "metadata": {},
   "outputs": [
    {
     "name": "stderr",
     "output_type": "stream",
     "text": [
      "c:\\Users\\Hugo\\anaconda3\\envs\\nlp_dauph_env\\lib\\site-packages\\pandas\\core\\arraylike.py:402: RuntimeWarning: invalid value encountered in log\n",
      "  result = getattr(ufunc, method)(*inputs, **kwargs)\n",
      "c:\\Users\\Hugo\\anaconda3\\envs\\nlp_dauph_env\\lib\\site-packages\\pandas\\core\\arraylike.py:402: RuntimeWarning: divide by zero encountered in log\n",
      "  result = getattr(ufunc, method)(*inputs, **kwargs)\n",
      "c:\\Users\\Hugo\\anaconda3\\envs\\nlp_dauph_env\\lib\\site-packages\\pandas\\core\\arraylike.py:402: RuntimeWarning: invalid value encountered in log\n",
      "  result = getattr(ufunc, method)(*inputs, **kwargs)\n",
      "c:\\Users\\Hugo\\anaconda3\\envs\\nlp_dauph_env\\lib\\site-packages\\pandas\\core\\arraylike.py:402: RuntimeWarning: invalid value encountered in log\n",
      "  result = getattr(ufunc, method)(*inputs, **kwargs)\n",
      "c:\\Users\\Hugo\\anaconda3\\envs\\nlp_dauph_env\\lib\\site-packages\\pandas\\core\\arraylike.py:402: RuntimeWarning: invalid value encountered in log\n",
      "  result = getattr(ufunc, method)(*inputs, **kwargs)\n"
     ]
    }
   ],
   "source": [
    "col_speakers = [\"speaker_\"+str(i+1) for i in range(4)]\n",
    "test_conc = pd.concat([X_train, X_train['list_speakers_ecb'].apply(pd.Series)], axis=1)\n",
    "test_conc.rename({i:col for i, col in enumerate(col_speakers)},axis=1,inplace=True)\n",
    "enc = WOEEncoder(cols=col_speakers)\n",
    "tr = enc.fit_transform(test_conc, y_t)\n",
    "tr.fillna(0,inplace=True)"
   ]
  },
  {
   "cell_type": "code",
   "execution_count": 143,
   "metadata": {},
   "outputs": [
    {
     "data": {
      "text/html": [
       "<div>\n",
       "<style scoped>\n",
       "    .dataframe tbody tr th:only-of-type {\n",
       "        vertical-align: middle;\n",
       "    }\n",
       "\n",
       "    .dataframe tbody tr th {\n",
       "        vertical-align: top;\n",
       "    }\n",
       "\n",
       "    .dataframe thead th {\n",
       "        text-align: right;\n",
       "    }\n",
       "</style>\n",
       "<table border=\"1\" class=\"dataframe\">\n",
       "  <thead>\n",
       "    <tr style=\"text-align: right;\">\n",
       "      <th></th>\n",
       "      <th>id_series</th>\n",
       "      <th>Index Name</th>\n",
       "      <th>Index - 9</th>\n",
       "      <th>Index - 8</th>\n",
       "      <th>Index - 7</th>\n",
       "      <th>Index - 6</th>\n",
       "      <th>Index - 5</th>\n",
       "      <th>Index - 4</th>\n",
       "      <th>Index - 3</th>\n",
       "      <th>Index - 2</th>\n",
       "      <th>...</th>\n",
       "      <th>id_ecb</th>\n",
       "      <th>id_fed</th>\n",
       "      <th>text_concat_ecb</th>\n",
       "      <th>list_speakers_ecb</th>\n",
       "      <th>text_concat_fed</th>\n",
       "      <th>list_speakers_fed</th>\n",
       "      <th>speaker_1</th>\n",
       "      <th>speaker_2</th>\n",
       "      <th>speaker_3</th>\n",
       "      <th>speaker_4</th>\n",
       "    </tr>\n",
       "  </thead>\n",
       "  <tbody>\n",
       "    <tr>\n",
       "      <th>5885</th>\n",
       "      <td>5885</td>\n",
       "      <td>EURUSDV1M Curncy</td>\n",
       "      <td>-0.020409</td>\n",
       "      <td>-0.010363</td>\n",
       "      <td>0.058171</td>\n",
       "      <td>-0.012361</td>\n",
       "      <td>-0.004988</td>\n",
       "      <td>-0.043430</td>\n",
       "      <td>-0.064713</td>\n",
       "      <td>0.022039</td>\n",
       "      <td>...</td>\n",
       "      <td>[782]</td>\n",
       "      <td>[300]</td>\n",
       "      <td>sepa go live speech gertrude tumpel gugerell m...</td>\n",
       "      <td>[Gertrude Tumpel-Gugerell]</td>\n",
       "      <td>remark today would like consider rationale gre...</td>\n",
       "      <td>[Governor Frederic S. Mishkin]</td>\n",
       "      <td>0.996021</td>\n",
       "      <td>-0.707162</td>\n",
       "      <td>-0.121054</td>\n",
       "      <td>0.056732</td>\n",
       "    </tr>\n",
       "    <tr>\n",
       "      <th>7271</th>\n",
       "      <td>7271</td>\n",
       "      <td>EURUSD Curncy</td>\n",
       "      <td>-0.000897</td>\n",
       "      <td>-0.001797</td>\n",
       "      <td>-0.001260</td>\n",
       "      <td>-0.002434</td>\n",
       "      <td>0.001984</td>\n",
       "      <td>0.000540</td>\n",
       "      <td>0.000810</td>\n",
       "      <td>0.002605</td>\n",
       "      <td>...</td>\n",
       "      <td>[1678]</td>\n",
       "      <td>[356, 456]</td>\n",
       "      <td>laudatory speech laudatory speech christine la...</td>\n",
       "      <td>[Christine Lagarde]</td>\n",
       "      <td>delight back new particularly company many stu...</td>\n",
       "      <td>[Vice Chair for Supervision Randal K. Quarles,...</td>\n",
       "      <td>1.541585</td>\n",
       "      <td>-0.707162</td>\n",
       "      <td>-0.121054</td>\n",
       "      <td>0.056732</td>\n",
       "    </tr>\n",
       "    <tr>\n",
       "      <th>1391</th>\n",
       "      <td>1391</td>\n",
       "      <td>SPX Index</td>\n",
       "      <td>0.009359</td>\n",
       "      <td>0.007187</td>\n",
       "      <td>0.000733</td>\n",
       "      <td>0.015262</td>\n",
       "      <td>-0.000155</td>\n",
       "      <td>0.001195</td>\n",
       "      <td>-0.029243</td>\n",
       "      <td>0.005964</td>\n",
       "      <td>...</td>\n",
       "      <td>[1090, 1739, 749, 637]</td>\n",
       "      <td>[314]</td>\n",
       "      <td>imbalance sustainability euro area slide prese...</td>\n",
       "      <td>[Lorenzo Bini Smaghi, Vítor Constâncio, Jürgen...</td>\n",
       "      <td>behalf board governors federal reserve system ...</td>\n",
       "      <td>[Governor Elizabeth A. Duke]</td>\n",
       "      <td>0.368791</td>\n",
       "      <td>1.035421</td>\n",
       "      <td>0.000000</td>\n",
       "      <td>0.000000</td>\n",
       "    </tr>\n",
       "    <tr>\n",
       "      <th>1274</th>\n",
       "      <td>1274</td>\n",
       "      <td>EURUSDV1M Curncy</td>\n",
       "      <td>0.010245</td>\n",
       "      <td>0.029922</td>\n",
       "      <td>0.011670</td>\n",
       "      <td>-0.044995</td>\n",
       "      <td>-0.011429</td>\n",
       "      <td>-0.007499</td>\n",
       "      <td>0.095468</td>\n",
       "      <td>-0.002107</td>\n",
       "      <td>...</td>\n",
       "      <td>[277]</td>\n",
       "      <td>[199, 372]</td>\n",
       "      <td>restart market case interbank market speech lo...</td>\n",
       "      <td>[Lorenzo Bini Smaghi]</td>\n",
       "      <td>financial system turmoil past month credit con...</td>\n",
       "      <td>[Chairman Ben S. Bernanke, Governor Randall S....</td>\n",
       "      <td>0.368791</td>\n",
       "      <td>-0.707162</td>\n",
       "      <td>-0.121054</td>\n",
       "      <td>0.056732</td>\n",
       "    </tr>\n",
       "    <tr>\n",
       "      <th>2189</th>\n",
       "      <td>2189</td>\n",
       "      <td>SX5E Index</td>\n",
       "      <td>0.008022</td>\n",
       "      <td>0.000849</td>\n",
       "      <td>0.004068</td>\n",
       "      <td>0.002454</td>\n",
       "      <td>-0.014174</td>\n",
       "      <td>0.014222</td>\n",
       "      <td>0.010770</td>\n",
       "      <td>0.001143</td>\n",
       "      <td>...</td>\n",
       "      <td>[176]</td>\n",
       "      <td>[147]</td>\n",
       "      <td>know unknowns central clear speech benoît cœyo...</td>\n",
       "      <td>[Benoît Cœuré]</td>\n",
       "      <td>today talk federal reserve help nation recover...</td>\n",
       "      <td>[Chair Janet L. Yellen]</td>\n",
       "      <td>0.228748</td>\n",
       "      <td>-0.707162</td>\n",
       "      <td>-0.121054</td>\n",
       "      <td>0.056732</td>\n",
       "    </tr>\n",
       "  </tbody>\n",
       "</table>\n",
       "<p>5 rows × 22 columns</p>\n",
       "</div>"
      ],
      "text/plain": [
       "      id_series        Index Name  Index - 9  Index - 8  Index - 7  Index - 6  \\\n",
       "5885       5885  EURUSDV1M Curncy  -0.020409  -0.010363   0.058171  -0.012361   \n",
       "7271       7271     EURUSD Curncy  -0.000897  -0.001797  -0.001260  -0.002434   \n",
       "1391       1391         SPX Index   0.009359   0.007187   0.000733   0.015262   \n",
       "1274       1274  EURUSDV1M Curncy   0.010245   0.029922   0.011670  -0.044995   \n",
       "2189       2189        SX5E Index   0.008022   0.000849   0.004068   0.002454   \n",
       "\n",
       "      Index - 5  Index - 4  Index - 3  Index - 2  ...                  id_ecb  \\\n",
       "5885  -0.004988  -0.043430  -0.064713   0.022039  ...                   [782]   \n",
       "7271   0.001984   0.000540   0.000810   0.002605  ...                  [1678]   \n",
       "1391  -0.000155   0.001195  -0.029243   0.005964  ...  [1090, 1739, 749, 637]   \n",
       "1274  -0.011429  -0.007499   0.095468  -0.002107  ...                   [277]   \n",
       "2189  -0.014174   0.014222   0.010770   0.001143  ...                   [176]   \n",
       "\n",
       "          id_fed                                    text_concat_ecb  \\\n",
       "5885       [300]  sepa go live speech gertrude tumpel gugerell m...   \n",
       "7271  [356, 456]  laudatory speech laudatory speech christine la...   \n",
       "1391       [314]  imbalance sustainability euro area slide prese...   \n",
       "1274  [199, 372]  restart market case interbank market speech lo...   \n",
       "2189       [147]  know unknowns central clear speech benoît cœyo...   \n",
       "\n",
       "                                      list_speakers_ecb  \\\n",
       "5885                         [Gertrude Tumpel-Gugerell]   \n",
       "7271                                [Christine Lagarde]   \n",
       "1391  [Lorenzo Bini Smaghi, Vítor Constâncio, Jürgen...   \n",
       "1274                              [Lorenzo Bini Smaghi]   \n",
       "2189                                     [Benoît Cœuré]   \n",
       "\n",
       "                                        text_concat_fed  \\\n",
       "5885  remark today would like consider rationale gre...   \n",
       "7271  delight back new particularly company many stu...   \n",
       "1391  behalf board governors federal reserve system ...   \n",
       "1274  financial system turmoil past month credit con...   \n",
       "2189  today talk federal reserve help nation recover...   \n",
       "\n",
       "                                      list_speakers_fed speaker_1 speaker_2  \\\n",
       "5885                     [Governor Frederic S. Mishkin]  0.996021 -0.707162   \n",
       "7271  [Vice Chair for Supervision Randal K. Quarles,...  1.541585 -0.707162   \n",
       "1391                       [Governor Elizabeth A. Duke]  0.368791  1.035421   \n",
       "1274  [Chairman Ben S. Bernanke, Governor Randall S....  0.368791 -0.707162   \n",
       "2189                            [Chair Janet L. Yellen]  0.228748 -0.707162   \n",
       "\n",
       "      speaker_3  speaker_4  \n",
       "5885  -0.121054   0.056732  \n",
       "7271  -0.121054   0.056732  \n",
       "1391   0.000000   0.000000  \n",
       "1274  -0.121054   0.056732  \n",
       "2189  -0.121054   0.056732  \n",
       "\n",
       "[5 rows x 22 columns]"
      ]
     },
     "execution_count": 143,
     "metadata": {},
     "output_type": "execute_result"
    }
   ],
   "source": [
    "tr.head()"
   ]
  },
  {
   "cell_type": "code",
   "execution_count": null,
   "metadata": {},
   "outputs": [],
   "source": []
  },
  {
   "attachments": {},
   "cell_type": "markdown",
   "metadata": {},
   "source": [
    "# Embeddings"
   ]
  },
  {
   "attachments": {},
   "cell_type": "markdown",
   "metadata": {},
   "source": [
    "## Build a vocabulary"
   ]
  },
  {
   "cell_type": "code",
   "execution_count": null,
   "metadata": {},
   "outputs": [],
   "source": []
  },
  {
   "attachments": {},
   "cell_type": "markdown",
   "metadata": {},
   "source": [
    "## Create the co-occurence Matrix"
   ]
  },
  {
   "cell_type": "code",
   "execution_count": null,
   "metadata": {},
   "outputs": [],
   "source": []
  },
  {
   "attachments": {},
   "cell_type": "markdown",
   "metadata": {},
   "source": [
    "## Embeddings from the co-occurence Matrix\n",
    "\n",
    "### SVD"
   ]
  },
  {
   "cell_type": "code",
   "execution_count": null,
   "metadata": {},
   "outputs": [],
   "source": []
  },
  {
   "attachments": {},
   "cell_type": "markdown",
   "metadata": {},
   "source": [
    "## Sentence Representations"
   ]
  },
  {
   "cell_type": "code",
   "execution_count": null,
   "metadata": {},
   "outputs": [],
   "source": []
  },
  {
   "attachments": {},
   "cell_type": "markdown",
   "metadata": {},
   "source": [
    "# Save Data"
   ]
  },
  {
   "cell_type": "code",
   "execution_count": null,
   "metadata": {},
   "outputs": [],
   "source": []
  }
 ],
 "metadata": {
  "kernelspec": {
   "display_name": "nlp_dauph_env",
   "language": "python",
   "name": "python3"
  },
  "language_info": {
   "codemirror_mode": {
    "name": "ipython",
    "version": 3
   },
   "file_extension": ".py",
   "mimetype": "text/x-python",
   "name": "python",
   "nbconvert_exporter": "python",
   "pygments_lexer": "ipython3",
   "version": "3.9.16"
  },
  "orig_nbformat": 4,
  "vscode": {
   "interpreter": {
    "hash": "19e1fba33c11e86ebf73adee9f1e3fa74d02f2f28a5835ec272b267c2e20a98d"
   }
  }
 },
 "nbformat": 4,
 "nbformat_minor": 2
}
