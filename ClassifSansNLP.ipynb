{
 "cells": [
  {
   "cell_type": "code",
   "execution_count": 20,
   "metadata": {},
   "outputs": [],
   "source": [
    "import pandas as pd\n",
    "import numpy as np\n",
    "from catboost import CatBoostClassifier\n",
    "from sklearn.metrics import accuracy_score, f1_score, recall_score, roc_auc_score"
   ]
  },
  {
   "cell_type": "code",
   "execution_count": 21,
   "metadata": {},
   "outputs": [],
   "source": [
    "ytrue = pd.read_csv('./data/res_baseline.csv', sep=\",\", index_col=0)"
   ]
  },
  {
   "cell_type": "code",
   "execution_count": 22,
   "metadata": {},
   "outputs": [],
   "source": [
    "ytruec = ytrue['classification']\n",
    "ytruer = ytrue['regression']"
   ]
  },
  {
   "cell_type": "code",
   "execution_count": 23,
   "metadata": {},
   "outputs": [
    {
     "name": "stderr",
     "output_type": "stream",
     "text": [
      "C:\\Users\\lucas\\AppData\\Local\\Temp\\ipykernel_8380\\604869430.py:2: SettingWithCopyWarning: \n",
      "A value is trying to be set on a copy of a slice from a DataFrame\n",
      "\n",
      "See the caveats in the documentation: https://pandas.pydata.org/pandas-docs/stable/user_guide/indexing.html#returning-a-view-versus-a-copy\n",
      "  data['Index + 1'][data['Index + 1'] >= 0] = 1\n",
      "C:\\Users\\lucas\\AppData\\Local\\Temp\\ipykernel_8380\\604869430.py:3: SettingWithCopyWarning: \n",
      "A value is trying to be set on a copy of a slice from a DataFrame\n",
      "\n",
      "See the caveats in the documentation: https://pandas.pydata.org/pandas-docs/stable/user_guide/indexing.html#returning-a-view-versus-a-copy\n",
      "  data['Index + 1'][data['Index + 1'] < 0] = 0\n"
     ]
    }
   ],
   "source": [
    "data = pd.read_csv('./data/train_series.csv', sep=\",\", index_col=0)\n",
    "data['Index + 1'][data['Index + 1'] >= 0] = 1\n",
    "data['Index + 1'][data['Index + 1'] < 0] = 0"
   ]
  },
  {
   "cell_type": "code",
   "execution_count": 24,
   "metadata": {},
   "outputs": [
    {
     "data": {
      "text/html": [
       "<div>\n",
       "<style scoped>\n",
       "    .dataframe tbody tr th:only-of-type {\n",
       "        vertical-align: middle;\n",
       "    }\n",
       "\n",
       "    .dataframe tbody tr th {\n",
       "        vertical-align: top;\n",
       "    }\n",
       "\n",
       "    .dataframe thead th {\n",
       "        text-align: right;\n",
       "    }\n",
       "</style>\n",
       "<table border=\"1\" class=\"dataframe\">\n",
       "  <thead>\n",
       "    <tr style=\"text-align: right;\">\n",
       "      <th></th>\n",
       "      <th>Index Name</th>\n",
       "      <th>Index - 9</th>\n",
       "      <th>Index - 8</th>\n",
       "      <th>Index - 7</th>\n",
       "      <th>Index - 6</th>\n",
       "      <th>Index - 5</th>\n",
       "      <th>Index - 4</th>\n",
       "      <th>Index - 3</th>\n",
       "      <th>Index - 2</th>\n",
       "      <th>Index - 1</th>\n",
       "      <th>Index - 0</th>\n",
       "      <th>index ecb</th>\n",
       "      <th>index fed</th>\n",
       "      <th>Index + 1</th>\n",
       "    </tr>\n",
       "  </thead>\n",
       "  <tbody>\n",
       "    <tr>\n",
       "      <th>0</th>\n",
       "      <td>V2X Index</td>\n",
       "      <td>0.001045</td>\n",
       "      <td>0.005841</td>\n",
       "      <td>0.003832</td>\n",
       "      <td>-0.027519</td>\n",
       "      <td>-0.103565</td>\n",
       "      <td>-0.045086</td>\n",
       "      <td>-0.011265</td>\n",
       "      <td>0.005164</td>\n",
       "      <td>0.054050</td>\n",
       "      <td>0.015779</td>\n",
       "      <td>1126,1471</td>\n",
       "      <td>96</td>\n",
       "      <td>1.0</td>\n",
       "    </tr>\n",
       "    <tr>\n",
       "      <th>1</th>\n",
       "      <td>MOVE Index</td>\n",
       "      <td>-0.021497</td>\n",
       "      <td>0.007891</td>\n",
       "      <td>-0.013175</td>\n",
       "      <td>-0.008436</td>\n",
       "      <td>0.000000</td>\n",
       "      <td>0.026303</td>\n",
       "      <td>0.000556</td>\n",
       "      <td>0.001455</td>\n",
       "      <td>0.007422</td>\n",
       "      <td>0.000000</td>\n",
       "      <td>975</td>\n",
       "      <td>568</td>\n",
       "      <td>1.0</td>\n",
       "    </tr>\n",
       "    <tr>\n",
       "      <th>2</th>\n",
       "      <td>SPX Index</td>\n",
       "      <td>-0.001872</td>\n",
       "      <td>-0.008154</td>\n",
       "      <td>0.023588</td>\n",
       "      <td>0.004086</td>\n",
       "      <td>0.003493</td>\n",
       "      <td>0.003300</td>\n",
       "      <td>0.000885</td>\n",
       "      <td>-0.011304</td>\n",
       "      <td>0.005040</td>\n",
       "      <td>0.000156</td>\n",
       "      <td>78,806</td>\n",
       "      <td>328,695</td>\n",
       "      <td>1.0</td>\n",
       "    </tr>\n",
       "    <tr>\n",
       "      <th>3</th>\n",
       "      <td>SPX Index</td>\n",
       "      <td>0.004980</td>\n",
       "      <td>-0.000864</td>\n",
       "      <td>0.001677</td>\n",
       "      <td>0.000000</td>\n",
       "      <td>0.006030</td>\n",
       "      <td>-0.001083</td>\n",
       "      <td>0.000419</td>\n",
       "      <td>0.001492</td>\n",
       "      <td>0.001018</td>\n",
       "      <td>-0.002582</td>\n",
       "      <td>560,1405</td>\n",
       "      <td>118</td>\n",
       "      <td>1.0</td>\n",
       "    </tr>\n",
       "    <tr>\n",
       "      <th>4</th>\n",
       "      <td>EURUSD Curncy</td>\n",
       "      <td>0.000360</td>\n",
       "      <td>-0.001893</td>\n",
       "      <td>0.005579</td>\n",
       "      <td>-0.003056</td>\n",
       "      <td>-0.001171</td>\n",
       "      <td>-0.001623</td>\n",
       "      <td>-0.002350</td>\n",
       "      <td>-0.006444</td>\n",
       "      <td>-0.000729</td>\n",
       "      <td>-0.000365</td>\n",
       "      <td>404</td>\n",
       "      <td>261</td>\n",
       "      <td>1.0</td>\n",
       "    </tr>\n",
       "    <tr>\n",
       "      <th>...</th>\n",
       "      <td>...</td>\n",
       "      <td>...</td>\n",
       "      <td>...</td>\n",
       "      <td>...</td>\n",
       "      <td>...</td>\n",
       "      <td>...</td>\n",
       "      <td>...</td>\n",
       "      <td>...</td>\n",
       "      <td>...</td>\n",
       "      <td>...</td>\n",
       "      <td>...</td>\n",
       "      <td>...</td>\n",
       "      <td>...</td>\n",
       "      <td>...</td>\n",
       "    </tr>\n",
       "    <tr>\n",
       "      <th>8941</th>\n",
       "      <td>SPX Index</td>\n",
       "      <td>-0.002045</td>\n",
       "      <td>-0.003642</td>\n",
       "      <td>0.008096</td>\n",
       "      <td>0.004949</td>\n",
       "      <td>-0.001264</td>\n",
       "      <td>0.000150</td>\n",
       "      <td>0.002482</td>\n",
       "      <td>0.000000</td>\n",
       "      <td>-0.000786</td>\n",
       "      <td>-0.002723</td>\n",
       "      <td>294</td>\n",
       "      <td>195</td>\n",
       "      <td>0.0</td>\n",
       "    </tr>\n",
       "    <tr>\n",
       "      <th>8942</th>\n",
       "      <td>SX5E Index</td>\n",
       "      <td>-0.027361</td>\n",
       "      <td>0.094386</td>\n",
       "      <td>0.002350</td>\n",
       "      <td>-0.005076</td>\n",
       "      <td>0.022555</td>\n",
       "      <td>0.000963</td>\n",
       "      <td>-0.060170</td>\n",
       "      <td>0.028323</td>\n",
       "      <td>0.006516</td>\n",
       "      <td>-0.000338</td>\n",
       "      <td>277</td>\n",
       "      <td>199,372</td>\n",
       "      <td>0.0</td>\n",
       "    </tr>\n",
       "    <tr>\n",
       "      <th>8943</th>\n",
       "      <td>SX5E Index</td>\n",
       "      <td>-0.008359</td>\n",
       "      <td>0.021658</td>\n",
       "      <td>-0.015986</td>\n",
       "      <td>-0.023528</td>\n",
       "      <td>0.020072</td>\n",
       "      <td>0.017822</td>\n",
       "      <td>0.005648</td>\n",
       "      <td>0.017045</td>\n",
       "      <td>0.008557</td>\n",
       "      <td>-0.003072</td>\n",
       "      <td>78,806</td>\n",
       "      <td>99,625</td>\n",
       "      <td>1.0</td>\n",
       "    </tr>\n",
       "    <tr>\n",
       "      <th>8944</th>\n",
       "      <td>SRVIX Index</td>\n",
       "      <td>0.011945</td>\n",
       "      <td>0.002567</td>\n",
       "      <td>0.000000</td>\n",
       "      <td>0.005115</td>\n",
       "      <td>0.000364</td>\n",
       "      <td>0.003999</td>\n",
       "      <td>0.012978</td>\n",
       "      <td>0.012458</td>\n",
       "      <td>-0.006032</td>\n",
       "      <td>0.005088</td>\n",
       "      <td>1660,20</td>\n",
       "      <td>79</td>\n",
       "      <td>0.0</td>\n",
       "    </tr>\n",
       "    <tr>\n",
       "      <th>8945</th>\n",
       "      <td>EURUSD Curncy</td>\n",
       "      <td>-0.001393</td>\n",
       "      <td>-0.001085</td>\n",
       "      <td>0.002864</td>\n",
       "      <td>0.001853</td>\n",
       "      <td>-0.002394</td>\n",
       "      <td>0.002549</td>\n",
       "      <td>-0.001080</td>\n",
       "      <td>-0.002164</td>\n",
       "      <td>-0.007300</td>\n",
       "      <td>0.000234</td>\n",
       "      <td>755</td>\n",
       "      <td>255</td>\n",
       "      <td>1.0</td>\n",
       "    </tr>\n",
       "  </tbody>\n",
       "</table>\n",
       "<p>8946 rows × 14 columns</p>\n",
       "</div>"
      ],
      "text/plain": [
       "         Index Name  Index - 9  Index - 8  Index - 7  Index - 6  Index - 5  \\\n",
       "0         V2X Index   0.001045   0.005841   0.003832  -0.027519  -0.103565   \n",
       "1        MOVE Index  -0.021497   0.007891  -0.013175  -0.008436   0.000000   \n",
       "2         SPX Index  -0.001872  -0.008154   0.023588   0.004086   0.003493   \n",
       "3         SPX Index   0.004980  -0.000864   0.001677   0.000000   0.006030   \n",
       "4     EURUSD Curncy   0.000360  -0.001893   0.005579  -0.003056  -0.001171   \n",
       "...             ...        ...        ...        ...        ...        ...   \n",
       "8941      SPX Index  -0.002045  -0.003642   0.008096   0.004949  -0.001264   \n",
       "8942     SX5E Index  -0.027361   0.094386   0.002350  -0.005076   0.022555   \n",
       "8943     SX5E Index  -0.008359   0.021658  -0.015986  -0.023528   0.020072   \n",
       "8944    SRVIX Index   0.011945   0.002567   0.000000   0.005115   0.000364   \n",
       "8945  EURUSD Curncy  -0.001393  -0.001085   0.002864   0.001853  -0.002394   \n",
       "\n",
       "      Index - 4  Index - 3  Index - 2  Index - 1  Index - 0  index ecb  \\\n",
       "0     -0.045086  -0.011265   0.005164   0.054050   0.015779  1126,1471   \n",
       "1      0.026303   0.000556   0.001455   0.007422   0.000000        975   \n",
       "2      0.003300   0.000885  -0.011304   0.005040   0.000156     78,806   \n",
       "3     -0.001083   0.000419   0.001492   0.001018  -0.002582   560,1405   \n",
       "4     -0.001623  -0.002350  -0.006444  -0.000729  -0.000365        404   \n",
       "...         ...        ...        ...        ...        ...        ...   \n",
       "8941   0.000150   0.002482   0.000000  -0.000786  -0.002723        294   \n",
       "8942   0.000963  -0.060170   0.028323   0.006516  -0.000338        277   \n",
       "8943   0.017822   0.005648   0.017045   0.008557  -0.003072     78,806   \n",
       "8944   0.003999   0.012978   0.012458  -0.006032   0.005088    1660,20   \n",
       "8945   0.002549  -0.001080  -0.002164  -0.007300   0.000234        755   \n",
       "\n",
       "     index fed  Index + 1  \n",
       "0           96        1.0  \n",
       "1          568        1.0  \n",
       "2      328,695        1.0  \n",
       "3          118        1.0  \n",
       "4          261        1.0  \n",
       "...        ...        ...  \n",
       "8941       195        0.0  \n",
       "8942   199,372        0.0  \n",
       "8943    99,625        1.0  \n",
       "8944        79        0.0  \n",
       "8945       255        1.0  \n",
       "\n",
       "[8946 rows x 14 columns]"
      ]
     },
     "execution_count": 24,
     "metadata": {},
     "output_type": "execute_result"
    }
   ],
   "source": [
    "data"
   ]
  },
  {
   "cell_type": "code",
   "execution_count": 25,
   "metadata": {},
   "outputs": [
    {
     "data": {
      "text/plain": [
       "1.0    4722\n",
       "0.0    4224\n",
       "Name: Index + 1, dtype: int64"
      ]
     },
     "execution_count": 25,
     "metadata": {},
     "output_type": "execute_result"
    }
   ],
   "source": [
    "X = data.drop(columns=['Index + 1', 'index ecb', 'index fed'])\n",
    "y = data['Index + 1']\n",
    "y.value_counts()\n"
   ]
  },
  {
   "cell_type": "code",
   "execution_count": 26,
   "metadata": {},
   "outputs": [],
   "source": [
    "X_train = X.iloc[0:5000]\n",
    "X_test = X.iloc[5000:X.shape[0]]\n",
    "y_train = y.iloc[0:5000]\n",
    "y_test = y.iloc[5000:X.shape[0]]"
   ]
  },
  {
   "cell_type": "code",
   "execution_count": 27,
   "metadata": {},
   "outputs": [
    {
     "data": {
      "text/plain": [
       "5000    1\n",
       "5001    1\n",
       "5002    0\n",
       "5003    1\n",
       "5004    1\n",
       "       ..\n",
       "8941    0\n",
       "8942    1\n",
       "8943    1\n",
       "8944    1\n",
       "8945    0\n",
       "Name: classification, Length: 3946, dtype: int64"
      ]
     },
     "execution_count": 27,
     "metadata": {},
     "output_type": "execute_result"
    }
   ],
   "source": [
    "ytruer = ytruec.iloc[5000: X.shape[0]]\n",
    "ytruer"
   ]
  },
  {
   "cell_type": "code",
   "execution_count": 28,
   "metadata": {},
   "outputs": [
    {
     "name": "stdout",
     "output_type": "stream",
     "text": [
      "<class 'pandas.core.frame.DataFrame'>\n",
      "Int64Index: 5000 entries, 0 to 4999\n",
      "Data columns (total 11 columns):\n",
      " #   Column      Non-Null Count  Dtype  \n",
      "---  ------      --------------  -----  \n",
      " 0   Index Name  5000 non-null   object \n",
      " 1   Index - 9   5000 non-null   float64\n",
      " 2   Index - 8   5000 non-null   float64\n",
      " 3   Index - 7   5000 non-null   float64\n",
      " 4   Index - 6   5000 non-null   float64\n",
      " 5   Index - 5   5000 non-null   float64\n",
      " 6   Index - 4   5000 non-null   float64\n",
      " 7   Index - 3   5000 non-null   float64\n",
      " 8   Index - 2   5000 non-null   float64\n",
      " 9   Index - 1   5000 non-null   float64\n",
      " 10  Index - 0   5000 non-null   float64\n",
      "dtypes: float64(10), object(1)\n",
      "memory usage: 468.8+ KB\n"
     ]
    }
   ],
   "source": [
    "X_train.info()"
   ]
  },
  {
   "cell_type": "code",
   "execution_count": 29,
   "metadata": {},
   "outputs": [
    {
     "name": "stdout",
     "output_type": "stream",
     "text": [
      "0:\tlearn: 0.6891289\ttest: 0.6903531\tbest: 0.6903531 (0)\ttotal: 7.12ms\tremaining: 705ms\n",
      "10:\tlearn: 0.6673433\ttest: 0.6755285\tbest: 0.6755285 (10)\ttotal: 65.9ms\tremaining: 533ms\n",
      "20:\tlearn: 0.6568319\ttest: 0.6722385\tbest: 0.6722385 (20)\ttotal: 127ms\tremaining: 476ms\n",
      "30:\tlearn: 0.6491438\ttest: 0.6709239\tbest: 0.6709239 (30)\ttotal: 185ms\tremaining: 412ms\n",
      "40:\tlearn: 0.6445570\ttest: 0.6707942\tbest: 0.6705729 (35)\ttotal: 252ms\tremaining: 363ms\n",
      "50:\tlearn: 0.6394253\ttest: 0.6704481\tbest: 0.6704083 (48)\ttotal: 320ms\tremaining: 307ms\n",
      "60:\tlearn: 0.6346275\ttest: 0.6706601\tbest: 0.6702575 (56)\ttotal: 384ms\tremaining: 246ms\n",
      "70:\tlearn: 0.6276653\ttest: 0.6703310\tbest: 0.6701832 (69)\ttotal: 459ms\tremaining: 187ms\n",
      "80:\tlearn: 0.6237361\ttest: 0.6700700\tbest: 0.6698843 (76)\ttotal: 528ms\tremaining: 124ms\n",
      "90:\tlearn: 0.6194039\ttest: 0.6701243\tbest: 0.6698843 (76)\ttotal: 595ms\tremaining: 58.8ms\n",
      "99:\tlearn: 0.6151795\ttest: 0.6705688\tbest: 0.6698843 (76)\ttotal: 648ms\tremaining: 0us\n",
      "\n",
      "bestTest = 0.6698842905\n",
      "bestIteration = 76\n",
      "\n",
      "Shrink model to first 77 iterations.\n"
     ]
    },
    {
     "data": {
      "text/plain": [
       "<catboost.core.CatBoostClassifier at 0x1ffa33dd040>"
      ]
     },
     "execution_count": 29,
     "metadata": {},
     "output_type": "execute_result"
    }
   ],
   "source": [
    "cat = CatBoostClassifier(\n",
    "    iterations=100,\n",
    "    learning_rate=0.1,\n",
    "    cat_features=['Index Name'],\n",
    "    loss_function='Logloss',\n",
    "    logging_level='Verbose',\n",
    "    allow_writing_files=False\n",
    ")\n",
    "cat.fit(\n",
    "    X=X_train,\n",
    "    y=y_train,\n",
    "    eval_set=(X_test,y_test),\n",
    "    verbose = 10\n",
    ")"
   ]
  },
  {
   "cell_type": "code",
   "execution_count": 30,
   "metadata": {},
   "outputs": [],
   "source": [
    "yp = cat.predict(X_test)"
   ]
  },
  {
   "cell_type": "code",
   "execution_count": 31,
   "metadata": {},
   "outputs": [
    {
     "data": {
      "text/plain": [
       "0       1.0\n",
       "1       1.0\n",
       "2       1.0\n",
       "3       1.0\n",
       "4       1.0\n",
       "       ... \n",
       "3941    1.0\n",
       "3942    1.0\n",
       "3943    1.0\n",
       "3944    1.0\n",
       "3945    1.0\n",
       "Length: 3946, dtype: float64"
      ]
     },
     "execution_count": 31,
     "metadata": {},
     "output_type": "execute_result"
    }
   ],
   "source": [
    "yp = pd.Series(yp)\n",
    "yp"
   ]
  },
  {
   "cell_type": "code",
   "execution_count": 32,
   "metadata": {},
   "outputs": [
    {
     "data": {
      "text/plain": [
       "5000    1\n",
       "5001    1\n",
       "5002    0\n",
       "5003    1\n",
       "5004    1\n",
       "       ..\n",
       "8941    0\n",
       "8942    1\n",
       "8943    1\n",
       "8944    1\n",
       "8945    0\n",
       "Name: classification, Length: 3946, dtype: int64"
      ]
     },
     "execution_count": 32,
     "metadata": {},
     "output_type": "execute_result"
    }
   ],
   "source": [
    "ytruer"
   ]
  },
  {
   "cell_type": "code",
   "execution_count": 33,
   "metadata": {},
   "outputs": [],
   "source": [
    "a = accuracy_score(yp, y_test)\n",
    "b = accuracy_score(ytruer, y_test)\n",
    "c = f1_score(yp, y_test)\n",
    "d = f1_score(ytruer, y_test)\n",
    "e = recall_score(yp, y_test)\n",
    "f = recall_score(ytruer, y_test)\n",
    "g = roc_auc_score(yp, y_test)\n",
    "h = roc_auc_score(ytruer, y_test)"
   ]
  },
  {
   "cell_type": "code",
   "execution_count": 34,
   "metadata": {},
   "outputs": [
    {
     "data": {
      "text/html": [
       "<div>\n",
       "<style scoped>\n",
       "    .dataframe tbody tr th:only-of-type {\n",
       "        vertical-align: middle;\n",
       "    }\n",
       "\n",
       "    .dataframe tbody tr th {\n",
       "        vertical-align: top;\n",
       "    }\n",
       "\n",
       "    .dataframe thead th {\n",
       "        text-align: right;\n",
       "    }\n",
       "</style>\n",
       "<table border=\"1\" class=\"dataframe\">\n",
       "  <thead>\n",
       "    <tr style=\"text-align: right;\">\n",
       "      <th></th>\n",
       "      <th>0</th>\n",
       "      <th>1</th>\n",
       "    </tr>\n",
       "  </thead>\n",
       "  <tbody>\n",
       "    <tr>\n",
       "      <th>0</th>\n",
       "      <td>0.534719</td>\n",
       "      <td>0.467816</td>\n",
       "    </tr>\n",
       "    <tr>\n",
       "      <th>1</th>\n",
       "      <td>0.618612</td>\n",
       "      <td>0.471033</td>\n",
       "    </tr>\n",
       "    <tr>\n",
       "      <th>2</th>\n",
       "      <td>0.534458</td>\n",
       "      <td>0.481462</td>\n",
       "    </tr>\n",
       "    <tr>\n",
       "      <th>3</th>\n",
       "      <td>0.534901</td>\n",
       "      <td>0.468027</td>\n",
       "    </tr>\n",
       "  </tbody>\n",
       "</table>\n",
       "</div>"
      ],
      "text/plain": [
       "          0         1\n",
       "0  0.534719  0.467816\n",
       "1  0.618612  0.471033\n",
       "2  0.534458  0.481462\n",
       "3  0.534901  0.468027"
      ]
     },
     "execution_count": 34,
     "metadata": {},
     "output_type": "execute_result"
    }
   ],
   "source": [
    "res = np.array([[a,b],[c,d],[e,f],[g,h]])\n",
    "resd = pd.DataFrame(res)\n",
    "resd"
   ]
  },
  {
   "cell_type": "code",
   "execution_count": null,
   "metadata": {},
   "outputs": [],
   "source": []
  }
 ],
 "metadata": {
  "kernelspec": {
   "display_name": "NDC39",
   "language": "python",
   "name": "python3"
  },
  "language_info": {
   "codemirror_mode": {
    "name": "ipython",
    "version": 3
   },
   "file_extension": ".py",
   "mimetype": "text/x-python",
   "name": "python",
   "nbconvert_exporter": "python",
   "pygments_lexer": "ipython3",
   "version": "3.9.16"
  },
  "orig_nbformat": 4
 },
 "nbformat": 4,
 "nbformat_minor": 2
}
