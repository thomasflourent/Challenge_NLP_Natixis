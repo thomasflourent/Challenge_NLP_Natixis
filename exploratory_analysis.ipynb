{
 "cells": [
  {
   "cell_type": "code",
   "execution_count": null,
   "metadata": {},
   "outputs": [],
   "source": [
    "df_fed = pd.read_csv('./starting_kit/fed_data.csv')"
   ]
  }
 ],
 "metadata": {
  "kernelspec": {
   "display_name": "env_dc",
   "language": "python",
   "name": "python3"
  },
  "language_info": {
   "name": "python",
   "version": "3.11.0"
  },
  "orig_nbformat": 4,
  "vscode": {
   "interpreter": {
    "hash": "fa8c4fdaac521a74b01638d41b1cba2aa0f67f9d72e5b2375bfecff2eda660fa"
   }
  }
 },
 "nbformat": 4,
 "nbformat_minor": 2
}
